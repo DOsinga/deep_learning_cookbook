{
 "metadata": {
  "kernelspec": {
   "display_name": "Python 3",
   "language": "python",
   "name": "python3"
  },
  "language_info": {
   "codemirror_mode": {
    "name": "ipython",
    "version": 3
   },
   "file_extension": ".py",
   "mimetype": "text/x-python",
   "name": "python",
   "nbconvert_exporter": "python",
   "pygments_lexer": "ipython3",
   "version": "3.5.2"
  },
  "name": ""
 },
 "nbformat": 3,
 "nbformat_minor": 0,
 "worksheets": [
  {
   "cells": [
    {
     "cell_type": "code",
     "collapsed": false,
     "input": [
      "import plyvel\n",
      "from svglib.svglib import svg2rlg\n",
      "from reportlab.graphics import renderPM\n",
      "import re\n",
      "from io import BytesIO\n",
      "import shutil\n",
      "from PIL import Image\n",
      "import os\n",
      "import json\n",
      "import unicodedata"
     ],
     "language": "python",
     "metadata": {},
     "outputs": [
      {
       "ename": "ModuleNotFoundError",
       "evalue": "No module named 'svglib'",
       "output_type": "pyerr",
       "traceback": [
        "\u001b[0;31m---------------------------------------------------------------------------\u001b[0m",
        "\u001b[0;31mModuleNotFoundError\u001b[0m                       Traceback (most recent call last)",
        "\u001b[0;32m<ipython-input-1-6ee39b6011e7>\u001b[0m in \u001b[0;36m<module>\u001b[0;34m()\u001b[0m\n\u001b[1;32m      1\u001b[0m \u001b[0;32mimport\u001b[0m \u001b[0mplyvel\u001b[0m\u001b[0;34m\u001b[0m\u001b[0;34m\u001b[0m\u001b[0m\n\u001b[0;32m----> 2\u001b[0;31m \u001b[0;32mfrom\u001b[0m \u001b[0msvglib\u001b[0m\u001b[0;34m.\u001b[0m\u001b[0msvglib\u001b[0m \u001b[0;32mimport\u001b[0m \u001b[0msvg2rlg\u001b[0m\u001b[0;34m\u001b[0m\u001b[0;34m\u001b[0m\u001b[0m\n\u001b[0m\u001b[1;32m      3\u001b[0m \u001b[0;32mfrom\u001b[0m \u001b[0mreportlab\u001b[0m\u001b[0;34m.\u001b[0m\u001b[0mgraphics\u001b[0m \u001b[0;32mimport\u001b[0m \u001b[0mrenderPM\u001b[0m\u001b[0;34m\u001b[0m\u001b[0;34m\u001b[0m\u001b[0m\n\u001b[1;32m      4\u001b[0m \u001b[0;32mimport\u001b[0m \u001b[0mre\u001b[0m\u001b[0;34m\u001b[0m\u001b[0;34m\u001b[0m\u001b[0m\n\u001b[1;32m      5\u001b[0m \u001b[0;32mfrom\u001b[0m \u001b[0mio\u001b[0m \u001b[0;32mimport\u001b[0m \u001b[0mBytesIO\u001b[0m\u001b[0;34m\u001b[0m\u001b[0;34m\u001b[0m\u001b[0m\n",
        "\u001b[0;31mModuleNotFoundError\u001b[0m: No module named 'svglib'"
       ]
      }
     ],
     "prompt_number": 1
    },
    {
     "cell_type": "code",
     "collapsed": false,
     "input": [
      "# Adjust to your local path:\n",
      "path = '/Users/douwe/Downloads/Icons8 v5.6.3/icons'\n",
      "db = plyvel.DB(path)"
     ],
     "language": "python",
     "metadata": {},
     "outputs": [
      {
       "ename": "IOError",
       "evalue": "b'IO error: lock /Users/douwe/Downloads/Icons8 v5.6.3/icons/LOCK: already held by process'",
       "output_type": "pyerr",
       "traceback": [
        "\u001b[0;31m---------------------------------------------------------------------------\u001b[0m",
        "\u001b[0;31mIOError\u001b[0m                                   Traceback (most recent call last)",
        "\u001b[0;32m<ipython-input-10-cd08a81ffbe0>\u001b[0m in \u001b[0;36m<module>\u001b[0;34m()\u001b[0m\n\u001b[1;32m      1\u001b[0m \u001b[0;31m# Adjust to your local path:\u001b[0m\u001b[0;34m\u001b[0m\u001b[0;34m\u001b[0m\u001b[0m\n\u001b[1;32m      2\u001b[0m \u001b[0mpath\u001b[0m \u001b[0;34m=\u001b[0m \u001b[0;34m'/Users/douwe/Downloads/Icons8 v5.6.3/icons'\u001b[0m\u001b[0;34m\u001b[0m\u001b[0m\n\u001b[0;32m----> 3\u001b[0;31m \u001b[0mdb\u001b[0m \u001b[0;34m=\u001b[0m \u001b[0mplyvel\u001b[0m\u001b[0;34m.\u001b[0m\u001b[0mDB\u001b[0m\u001b[0;34m(\u001b[0m\u001b[0mpath\u001b[0m\u001b[0;34m)\u001b[0m\u001b[0;34m\u001b[0m\u001b[0m\n\u001b[0m",
        "\u001b[0;32mplyvel/_plyvel.pyx\u001b[0m in \u001b[0;36mplyvel._plyvel.DB.__init__\u001b[0;34m()\u001b[0m\n",
        "\u001b[0;32mplyvel/_plyvel.pyx\u001b[0m in \u001b[0;36mplyvel._plyvel.raise_for_status\u001b[0;34m()\u001b[0m\n",
        "\u001b[0;31mIOError\u001b[0m: b'IO error: lock /Users/douwe/Downloads/Icons8 v5.6.3/icons/LOCK: already held by process'"
       ]
      }
     ],
     "prompt_number": 10
    },
    {
     "cell_type": "code",
     "collapsed": false,
     "input": [],
     "language": "python",
     "metadata": {},
     "outputs": [
      {
       "metadata": {},
       "output_type": "pyout",
       "prompt_number": 64,
       "text": [
        "'FULL STOP'"
       ]
      }
     ],
     "prompt_number": 64
    },
    {
     "cell_type": "code",
     "collapsed": false,
     "input": [
      "splitter = re.compile(b'[\\x00-\\x08]')\n",
      "\n",
      "def parse_value(value):\n",
      "    res = {}\n",
      "    prev = ''\n",
      "    for elem in splitter.split(value):\n",
      "        if not elem:\n",
      "            continue\n",
      "        try:\n",
      "            elem = elem.decode('utf8')\n",
      "        except UnicodeDecodeError:\n",
      "            continue\n",
      "        if elem in ('category', 'name', 'platform', 'canonical_name', 'svg'):\n",
      "            if elem == 'name' and len(prev) == 1:\n",
      "                prev = 'u_' + unicodedata.name(prev).lower().replace(' ', '_')\n",
      "            res[elem] = prev\n",
      "        prev = elem\n",
      "    return res\n",
      "\n",
      "for _, value in db:\n",
      "    res = parse_value(value)\n",
      "    break\n",
      "res"
     ],
     "language": "python",
     "metadata": {},
     "outputs": [
      {
       "metadata": {},
       "output_type": "pyout",
       "prompt_number": 68,
       "text": [
        "{'canonical_name': 'Address Book',\n",
        " 'category': 'Messaging',\n",
        " 'name': 'address_book',\n",
        " 'platform': 'windows',\n",
        " 'svg': '<?xml version=\"1.0\" encoding=\"utf-8\"?>\\n<!-- Generator: Adobe Illustrator 15.0.0, SVG Export Plug-In . SVG Version: 6.00 Build 0)  -->\\n<!DOCTYPE svg PUBLIC \"-//W3C//DTD SVG 1.1//EN\" \"http://www.w3.org/Graphics/SVG/1.1/DTD/svg11.dtd\">\\n<svg xmlns=\"http://www.w3.org/2000/svg\" xmlns:xlink=\"http://www.w3.org/1999/xlink\" version=\"1.1\" id=\"Layer_1\" x=\"0px\" y=\"0px\" width=\"26px\" height=\"26px\" viewBox=\"0 0 26 26\" enable-background=\"new 0 0 26 26\" xml:space=\"preserve\">\\n\\n<path fill=\"#000000\" d=\"M12.792,9.803c-0.221,0-0.423,0.053-0.618,0.166c-0.2,0.111-0.399,0.302-0.594,0.562  c-0.198,0.266-0.359,0.593-0.48,0.977c-0.121,0.385-0.184,0.741-0.184,1.061c0,0.488,0.115,0.867,0.34,1.126  c0.371,0.428,0.811,0.485,1.343,0.205c0.225-0.121,0.444-0.304,0.653-0.543c0.207-0.241,0.382-0.553,0.517-0.929  c0.136-0.378,0.206-0.759,0.206-1.137c0-0.481-0.119-0.855-0.354-1.112C13.393,9.926,13.12,9.803,12.792,9.803z\"/>\\n<path fill=\"#000000\" d=\"M2.787,7.02C1.658,6.822,1.139,5,2.066,5c0.955,0,1.715,0,1.715,0c0.653,0,1.182-0.333,1.182-1  c0-0.666-0.528-1-1.182-1H1.948C1.295,3,0,3.364,0,5.01C0,6.656,1.32,7.02,2.787,7.02z\"/>\\n<path fill=\"#000000\" d=\"M2.787,12.02C1.658,11.822,1.139,10,2.066,10c0.955,0,1.715,0,1.715,0c0.653,0,1.182-0.333,1.182-1  c0-0.666-0.528-1-1.182-1H1.948C1.295,8,0,8.364,0,10.01C0,11.656,1.32,12.02,2.787,12.02z\"/>\\n<path fill=\"#000000\" d=\"M2.787,17.02C1.658,16.822,1.139,15,2.066,15c0.955,0,1.715,0,1.715,0c0.653,0,1.182-0.333,1.182-1  c0-0.666-0.528-1-1.182-1H1.948C1.295,13,0,13.364,0,15.01C0,16.656,1.32,17.02,2.787,17.02z\"/>\\n<path fill=\"#000000\" d=\"M2.787,22.02C1.658,21.822,1.139,20,2.066,20c0.955,0,1.715,0,1.715,0c0.653,0,1.182-0.333,1.182-1  c0-0.666-0.528-1-1.182-1H1.948C1.295,18,0,18.364,0,20.01C0,21.656,1.32,22.02,2.787,22.02z\"/>\\n<path fill=\"#000000\" d=\"M22,2h-0.184C21.402,0.838,20.305,0,19,0H7C5.685,0,4.578,0.854,4.174,2.032  C5.244,2.184,5.963,2.947,5.963,4c0,1.107-0.799,1.893-1.963,1.982v1.035C5.164,7.107,5.963,7.893,5.963,9  c0,1.108-0.799,1.893-1.963,1.982v1.035c1.164,0.09,1.963,0.874,1.963,1.982S5.164,15.893,4,15.982v1.035  c1.164,0.09,1.963,0.874,1.963,1.982S5.164,20.893,4,20.982V22c0,2.016,2,4,4,4h14c1.654,0,3-1.346,3-3V5C25,3.346,23.654,2,22,2z   M7.693,9.507c0.504-1.105,1.234-1.968,2.17-2.559c0.934-0.589,2.077-0.89,3.398-0.89c1.027,0,1.965,0.211,2.785,0.628  c0.828,0.42,1.49,1.053,1.967,1.88c0.408,0.719,0.613,1.506,0.613,2.343c0,1.198-0.432,2.277-1.285,3.204  c-0.771,0.845-1.633,1.271-2.561,1.271c-0.314,0-0.565-0.049-0.769-0.148c-0.212-0.104-0.372-0.256-0.474-0.451  c-0.023-0.044-0.044-0.096-0.063-0.158c-0.195,0.178-0.406,0.329-0.629,0.454c-0.743,0.413-1.526,0.388-2.238-0.045  c-0.372-0.227-0.676-0.577-0.902-1.038c-0.226-0.457-0.34-0.961-0.34-1.503c0-0.662,0.174-1.332,0.516-1.989  c0.344-0.663,0.779-1.168,1.295-1.505c0.92-0.602,1.842-0.666,2.645-0.212c0.221,0.124,0.422,0.292,0.604,0.498l0.102-0.458  c0.021-0.099,0.109-0.167,0.211-0.167h1.08c0.064,0,0.127,0.029,0.168,0.079s0.057,0.116,0.044,0.179l-0.868,3.989  c-0.148,0.684-0.174,0.844-0.176,0.881c0,0.043,0.016,0.08,0.057,0.117c0.042,0.038,0.088,0.057,0.148,0.057  c0.113,0,0.33-0.056,0.713-0.324c0.427-0.294,0.77-0.697,1.019-1.194c0.251-0.5,0.379-1.023,0.379-1.555  c0-0.619-0.163-1.207-0.485-1.746c-0.322-0.537-0.809-0.973-1.449-1.297c-0.647-0.328-1.375-0.494-2.16-0.494  c-0.897,0-1.729,0.211-2.471,0.625C10,8.388,9.421,8.986,9.014,9.756c-0.41,0.776-0.617,1.62-0.617,2.508  c0,0.928,0.205,1.734,0.611,2.397c0.402,0.658,0.992,1.152,1.755,1.467c0.778,0.323,1.655,0.486,2.608,0.486  c1.015,0,1.872-0.168,2.549-0.5c0.676-0.332,1.186-0.735,1.517-1.203c0.041-0.058,0.106-0.092,0.178-0.092h1.093  c0.074,0,0.144,0.038,0.183,0.101c0.04,0.063,0.044,0.141,0.011,0.206c-0.217,0.441-0.589,0.893-1.106,1.339  c-0.517,0.448-1.137,0.807-1.847,1.066c-0.708,0.26-1.57,0.391-2.559,0.391c-0.91,0-1.762-0.116-2.531-0.348  c-0.779-0.232-1.453-0.591-2.006-1.063c-0.552-0.471-0.975-1.023-1.255-1.641c-0.35-0.773-0.526-1.618-0.526-2.513  C7.07,11.363,7.28,10.405,7.693,9.507z M23,23c0,0.552-0.449,1-1,1H8.266c-0.75,0-1.172-0.594-1.242-1H19c1.656,0,3-1.344,3-3V4  c0.551,0,1,0.448,1,1V23z\"/>\\n</svg>\\n'}"
       ]
      }
     ],
     "prompt_number": 68
    },
    {
     "cell_type": "code",
     "collapsed": false,
     "input": [
      "icons = {}\n",
      "\n",
      "for key, value in db:\n",
      "    try:\n",
      "        res = parse_value(value)\n",
      "    except ValueError:\n",
      "        continue\n",
      "    if res.get('platform') == 'ios':\n",
      "        name = res.get('name')\n",
      "        if not name:\n",
      "            name = res.get('canonical_name')\n",
      "            if not name:\n",
      "                continue\n",
      "            name = name.lower().replace(' ', '_')\n",
      "        icons[name] = res\n",
      "len(icons)"
     ],
     "language": "python",
     "metadata": {},
     "outputs": [
      {
       "metadata": {},
       "output_type": "pyout",
       "prompt_number": 70,
       "text": [
        "9942"
       ]
      }
     ],
     "prompt_number": 70
    },
    {
     "cell_type": "code",
     "collapsed": false,
     "input": [
      "SIZES = (16, 28, 32, 50)\n",
      "\n",
      "if os.path.isdir('icons'):\n",
      "    shutil.rmtree('icons')\n",
      "os.mkdir('icons')\n",
      "for size in SIZES:\n",
      "    os.mkdir('icons/png%s' % size)\n",
      "os.mkdir('icons/svg')"
     ],
     "language": "python",
     "metadata": {},
     "outputs": [],
     "prompt_number": 71
    },
    {
     "cell_type": "code",
     "collapsed": false,
     "input": [
      "saved = []\n",
      "for icon in icons.values():\n",
      "    icon = dict(icon)\n",
      "    if not 'svg' in icon:\n",
      "        continue\n",
      "    svg = icon.pop('svg')\n",
      "    try:\n",
      "        drawing = svg2rlg(BytesIO(svg.encode('utf8')))\n",
      "    except ValueError:\n",
      "        continue\n",
      "    except AttributeError:\n",
      "        continue\n",
      "    open('icons/svg/%s.svg' % icon['name'], 'w').write(svg)\n",
      "    p = renderPM.drawToPIL(drawing)\n",
      "    for size in SIZES:\n",
      "        resized = p.resize((size, size), Image.ANTIALIAS)\n",
      "        resized.save('icons/png%s/%s.png' % (size, icon['name']))\n",
      "    saved.append(icon)\n",
      "json.dump(saved, open('icons/index.json', 'w'), indent=2)\n",
      "len(saved)\n",
      "    "
     ],
     "language": "python",
     "metadata": {},
     "outputs": [
      {
       "output_type": "stream",
       "stream": "stderr",
       "text": [
        "Adding box instead of image.\n",
        "Adding box instead of image.\n",
        "Adding box instead of image.\n",
        "Adding box instead of image.\n",
        "Adding box instead of image.\n",
        "Adding box instead of image.\n",
        "Adding box instead of image.\n",
        "Adding box instead of image.\n",
        "Adding box instead of image.\n",
        "Adding box instead of image.\n",
        "Adding box instead of image.\n",
        "Adding box instead of image.\n",
        "Adding box instead of image.\n",
        "Adding box instead of image.\n",
        "Adding box instead of image.\n",
        "Adding box instead of image.\n",
        "Adding box instead of image.\n"
       ]
      },
      {
       "metadata": {},
       "output_type": "pyout",
       "prompt_number": 72,
       "text": [
        "9900"
       ]
      }
     ],
     "prompt_number": 72
    },
    {
     "cell_type": "code",
     "collapsed": false,
     "input": [
      "icon['name']"
     ],
     "language": "python",
     "metadata": {},
     "outputs": [
      {
       "metadata": {},
       "output_type": "pyout",
       "prompt_number": 67,
       "text": [
        "'/'"
       ]
      }
     ],
     "prompt_number": 67
    }
   ],
   "metadata": {}
  }
 ]
}
