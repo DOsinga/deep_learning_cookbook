{
  "nbformat": 4,
  "nbformat_minor": 0,
  "metadata": {
    "colab": {
      "name": "03.1 Using pre trained word embeddings.ipynb",
      "version": "0.3.2",
      "provenance": [],
      "include_colab_link": true
    },
    "language_info": {
      "codemirror_mode": {
        "name": "ipython",
        "version": 3
      },
      "file_extension": ".py",
      "mimetype": "text/x-python",
      "name": "python",
      "nbconvert_exporter": "python",
      "pygments_lexer": "ipython3",
      "version": "3.6.7"
    },
    "kernelspec": {
      "display_name": "Python 3",
      "language": "python",
      "name": "python3"
    }
  },
  "cells": [
    {
      "cell_type": "markdown",
      "metadata": {
        "id": "view-in-github",
        "colab_type": "text"
      },
      "source": [
        "<a href=\"https://colab.research.google.com/github/ohtaman/deep_learning_cookbook/blob/update_ch03/03.1%20Using%20pre%20trained%20word%20embeddings.ipynb\" target=\"_parent\"><img src=\"https://colab.research.google.com/assets/colab-badge.svg\" alt=\"Open In Colab\"/></a>"
      ]
    },
    {
      "cell_type": "markdown",
      "metadata": {
        "id": "KzW9C4Jn0zF-",
        "colab_type": "text"
      },
      "source": [
        "## Text Similarity using Word Embeddings\n",
        "\n",
        "In this notebook we're going to play around with pre build word embeddings and do some fun calculations:"
      ]
    },
    {
      "cell_type": "code",
      "metadata": {
        "id": "mzPfeR2S0zGA",
        "colab_type": "code",
        "colab": {}
      },
      "source": [
        "%matplotlib inline\n",
        "\n",
        "from collections import Counter\n",
        "import gzip\n",
        "from itertools import chain\n",
        "import json\n",
        "import os\n",
        "\n",
        "import gensim\n",
        "import numpy as np\n",
        "from sklearn.manifold import TSNE\n",
        "from tensorflow.keras.utils import get_file\n",
        "\n",
        "import matplotlib.pyplot as plt\n",
        "from IPython.core.pylabtools import figsize\n",
        "figsize(10, 10)"
      ],
      "execution_count": 0,
      "outputs": []
    },
    {
      "cell_type": "markdown",
      "metadata": {
        "id": "rXmVfW1c0zGE",
        "colab_type": "text"
      },
      "source": [
        "We'll start by downloading a pretrained model from Google News. We're using `zcat` to unzip the file, so you need to make sure you have that installed or replace it by something else."
      ]
    },
    {
      "cell_type": "code",
      "metadata": {
        "id": "_hpwROtq0zGE",
        "colab_type": "code",
        "colab": {
          "base_uri": "https://localhost:8080/",
          "height": 53
        },
        "outputId": "38c0e96a-37aa-4f89-c6ca-33969fbec015"
      },
      "source": [
        "MODEL = 'GoogleNews-vectors-negative300.bin'\n",
        "path = get_file(MODEL + '.gz', 'https://deeplearning4jblob.blob.core.windows.net/resources/wordvectors/%s.gz' % MODEL)\n",
        "if not os.path.isdir('generated'):\n",
        "    os.mkdir('generated')\n",
        "\n",
        "unzipped = os.path.join('generated', MODEL)\n",
        "if not os.path.isfile(unzipped):\n",
        "    with gzip.open(path, 'rb') as fin:\n",
        "        with open(unzipped, 'wb') as fout:\n",
        "            for line in fin:\n",
        "                fout.write(line)"
      ],
      "execution_count": 2,
      "outputs": [
        {
          "output_type": "stream",
          "text": [
            "Downloading data from https://deeplearning4jblob.blob.core.windows.net/resources/wordvectors/GoogleNews-vectors-negative300.bin.gz\n",
            "1647050752/1647046227 [==============================] - 57s 0us/step\n"
          ],
          "name": "stdout"
        }
      ]
    },
    {
      "cell_type": "code",
      "metadata": {
        "id": "wLf1FII60zGI",
        "colab_type": "code",
        "colab": {}
      },
      "source": [
        "model = gensim.models.KeyedVectors.load_word2vec_format(unzipped, binary=True)"
      ],
      "execution_count": 0,
      "outputs": []
    },
    {
      "cell_type": "markdown",
      "metadata": {
        "id": "4zYRaV-40zGK",
        "colab_type": "text"
      },
      "source": [
        "NOTE: If you get an `ValueError`, you may have a wrong cache created when you failed to download previously. Delete the files in the `~/.keras/datasets` and `generated` directories and try the download again."
      ]
    },
    {
      "cell_type": "markdown",
      "metadata": {
        "id": "nPO_VhfY0zGK",
        "colab_type": "text"
      },
      "source": [
        "Let's take this model for a spin by looking at what things are most similar to espresso. As expected, coffee like items show up:"
      ]
    },
    {
      "cell_type": "code",
      "metadata": {
        "id": "MYDKUoTp0zGL",
        "colab_type": "code",
        "colab": {
          "base_uri": "https://localhost:8080/",
          "height": 253
        },
        "outputId": "2a28d157-2f93-4069-ad88-feed816dd3af"
      },
      "source": [
        "model.most_similar(positive=['espresso'])"
      ],
      "execution_count": 4,
      "outputs": [
        {
          "output_type": "stream",
          "text": [
            "/usr/local/lib/python3.6/dist-packages/gensim/matutils.py:737: FutureWarning: Conversion of the second argument of issubdtype from `int` to `np.signedinteger` is deprecated. In future, it will be treated as `np.int64 == np.dtype(int).type`.\n",
            "  if np.issubdtype(vec.dtype, np.int):\n"
          ],
          "name": "stderr"
        },
        {
          "output_type": "execute_result",
          "data": {
            "text/plain": [
              "[('cappuccino', 0.6888186931610107),\n",
              " ('mocha', 0.6686208248138428),\n",
              " ('coffee', 0.6616826057434082),\n",
              " ('latte', 0.6536753177642822),\n",
              " ('caramel_macchiato', 0.6491267681121826),\n",
              " ('ristretto', 0.6485546827316284),\n",
              " ('espressos', 0.6438628435134888),\n",
              " ('macchiato', 0.6428250074386597),\n",
              " ('chai_latte', 0.6308027505874634),\n",
              " ('espresso_cappuccino', 0.6280542612075806)]"
            ]
          },
          "metadata": {
            "tags": []
          },
          "execution_count": 4
        }
      ]
    },
    {
      "cell_type": "markdown",
      "metadata": {
        "id": "euflLgZF0zGO",
        "colab_type": "text"
      },
      "source": [
        "Now for the famous equation, what is like woman if king is like man? We create a quick method to these calculations here:"
      ]
    },
    {
      "cell_type": "code",
      "metadata": {
        "id": "qtlneaoT0zGO",
        "colab_type": "code",
        "colab": {
          "base_uri": "https://localhost:8080/",
          "height": 91
        },
        "outputId": "af0d90ad-3f1b-4f52-85e5-8fb02d077d9f"
      },
      "source": [
        "def A_is_to_B_as_C_is_to(a, b, c, topn=1):\n",
        "    a, b, c = map(lambda x:x if type(x) == list else [x], (a, b, c))\n",
        "    res = model.most_similar(positive=b + c, negative=a, topn=topn)\n",
        "    if len(res):\n",
        "        if topn == 1:\n",
        "            return res[0][0]\n",
        "        return [x[0] for x in res]\n",
        "    return None\n",
        "\n",
        "A_is_to_B_as_C_is_to('man', 'woman', 'king')"
      ],
      "execution_count": 5,
      "outputs": [
        {
          "output_type": "stream",
          "text": [
            "/usr/local/lib/python3.6/dist-packages/gensim/matutils.py:737: FutureWarning: Conversion of the second argument of issubdtype from `int` to `np.signedinteger` is deprecated. In future, it will be treated as `np.int64 == np.dtype(int).type`.\n",
            "  if np.issubdtype(vec.dtype, np.int):\n"
          ],
          "name": "stderr"
        },
        {
          "output_type": "execute_result",
          "data": {
            "text/plain": [
              "'queen'"
            ]
          },
          "metadata": {
            "tags": []
          },
          "execution_count": 5
        }
      ]
    },
    {
      "cell_type": "markdown",
      "metadata": {
        "id": "f4HGVDtH0zGR",
        "colab_type": "text"
      },
      "source": [
        "We can use this equation to acurately predict the capitals of countries by looking at what has the same relationship as Berlin has to Germany for selected countries:"
      ]
    },
    {
      "cell_type": "code",
      "metadata": {
        "id": "jsJZ9kfw0zGR",
        "colab_type": "code",
        "colab": {
          "base_uri": "https://localhost:8080/",
          "height": 145
        },
        "outputId": "b54afce8-34d1-4995-9bc4-cbb469b655e3"
      },
      "source": [
        "for country in 'Italy', 'France', 'India', 'China':\n",
        "    print('%s is the capital of %s' % \n",
        "          (A_is_to_B_as_C_is_to('Germany', 'Berlin', country), country))"
      ],
      "execution_count": 6,
      "outputs": [
        {
          "output_type": "stream",
          "text": [
            "/usr/local/lib/python3.6/dist-packages/gensim/matutils.py:737: FutureWarning: Conversion of the second argument of issubdtype from `int` to `np.signedinteger` is deprecated. In future, it will be treated as `np.int64 == np.dtype(int).type`.\n",
            "  if np.issubdtype(vec.dtype, np.int):\n"
          ],
          "name": "stderr"
        },
        {
          "output_type": "stream",
          "text": [
            "Rome is the capital of Italy\n",
            "Paris is the capital of France\n",
            "Delhi is the capital of India\n",
            "Beijing is the capital of China\n"
          ],
          "name": "stdout"
        }
      ]
    },
    {
      "cell_type": "markdown",
      "metadata": {
        "id": "3UBCLoVm0zGW",
        "colab_type": "text"
      },
      "source": [
        "Or we can do the same for important products for given companies. Here we seed the products equation with two products, the iPhone for Apple and Starbucks_coffee for Starbucks. Note that numbers are replaced by # in the embedding model:"
      ]
    },
    {
      "cell_type": "code",
      "metadata": {
        "id": "Et33jDcW0zGW",
        "colab_type": "code",
        "colab": {
          "base_uri": "https://localhost:8080/",
          "height": 163
        },
        "outputId": "06d092ce-a8db-4cf9-9657-3d26c15b427b"
      },
      "source": [
        "for company in 'Google', 'IBM', 'Boeing', 'Microsoft', 'Samsung':\n",
        "    products = A_is_to_B_as_C_is_to(\n",
        "        ['Starbucks', 'Apple'], \n",
        "        ['Starbucks_coffee', 'iPhone'], \n",
        "        company, topn=3)\n",
        "    print('%s -> %s' % \n",
        "          (company, ', '.join(products)))"
      ],
      "execution_count": 7,
      "outputs": [
        {
          "output_type": "stream",
          "text": [
            "/usr/local/lib/python3.6/dist-packages/gensim/matutils.py:737: FutureWarning: Conversion of the second argument of issubdtype from `int` to `np.signedinteger` is deprecated. In future, it will be treated as `np.int64 == np.dtype(int).type`.\n",
            "  if np.issubdtype(vec.dtype, np.int):\n"
          ],
          "name": "stderr"
        },
        {
          "output_type": "stream",
          "text": [
            "Google -> personalized_homepage, app, Gmail\n",
            "IBM -> DB2, WebSphere_Portal, Tamino_XML_Server\n",
            "Boeing -> Dreamliner, airframe, aircraft\n",
            "Microsoft -> Windows_Mobile, SyncMate, Windows\n",
            "Samsung -> MM_A###, handset, Samsung_SCH_B###\n"
          ],
          "name": "stdout"
        }
      ]
    },
    {
      "cell_type": "markdown",
      "metadata": {
        "id": "v7Jhj8tZ0zGZ",
        "colab_type": "text"
      },
      "source": [
        "Let's do some clustering by picking three categories of items, drinks, countries and sports:"
      ]
    },
    {
      "cell_type": "code",
      "metadata": {
        "id": "NSvVB4mt0zGZ",
        "colab_type": "code",
        "colab": {
          "base_uri": "https://localhost:8080/",
          "height": 35
        },
        "outputId": "07ee72e2-f643-4b0f-9406-887b1f21bb6f"
      },
      "source": [
        "beverages = ['espresso', 'beer', 'vodka', 'wine', 'cola', 'tea']\n",
        "countries = ['Italy', 'Germany', 'Russia', 'France', 'USA', 'India']\n",
        "sports = ['soccer', 'handball', 'hockey', 'cycling', 'basketball', 'cricket']\n",
        "\n",
        "items = beverages + countries + sports\n",
        "len(items)"
      ],
      "execution_count": 8,
      "outputs": [
        {
          "output_type": "execute_result",
          "data": {
            "text/plain": [
              "18"
            ]
          },
          "metadata": {
            "tags": []
          },
          "execution_count": 8
        }
      ]
    },
    {
      "cell_type": "markdown",
      "metadata": {
        "id": "0WAtmFiU0zGc",
        "colab_type": "text"
      },
      "source": [
        "And looking up their vectors:"
      ]
    },
    {
      "cell_type": "code",
      "metadata": {
        "id": "ed99pwAq0zGc",
        "colab_type": "code",
        "colab": {
          "base_uri": "https://localhost:8080/",
          "height": 35
        },
        "outputId": "f892f298-0463-467f-d53f-31877ddac5af"
      },
      "source": [
        "item_vectors = [(item, model[item]) \n",
        "                    for item in items\n",
        "                    if item in model]\n",
        "len(item_vectors)"
      ],
      "execution_count": 9,
      "outputs": [
        {
          "output_type": "execute_result",
          "data": {
            "text/plain": [
              "18"
            ]
          },
          "metadata": {
            "tags": []
          },
          "execution_count": 9
        }
      ]
    },
    {
      "cell_type": "markdown",
      "metadata": {
        "id": "ViRHI9eZ0zGe",
        "colab_type": "text"
      },
      "source": [
        "Now use TSNE for clustering:"
      ]
    },
    {
      "cell_type": "code",
      "metadata": {
        "id": "2yQ4JTpJ0zGf",
        "colab_type": "code",
        "colab": {
          "base_uri": "https://localhost:8080/",
          "height": 521
        },
        "outputId": "fe51af3e-d636-41df-91ba-534ca18c0cc2"
      },
      "source": [
        "vectors = np.asarray([x[1] for x in item_vectors])\n",
        "lengths = np.linalg.norm(vectors, axis=1)\n",
        "norm_vectors = (vectors.T / lengths).T\n",
        "\n",
        "tsne = TSNE(n_components=2, perplexity=10, verbose=2).fit_transform(norm_vectors)"
      ],
      "execution_count": 10,
      "outputs": [
        {
          "output_type": "stream",
          "text": [
            "[t-SNE] Computing 17 nearest neighbors...\n",
            "[t-SNE] Indexed 18 samples in 0.001s...\n",
            "[t-SNE] Computed neighbors for 18 samples in 0.019s...\n",
            "[t-SNE] Computed conditional probabilities for sample 18 / 18\n",
            "[t-SNE] Mean sigma: 0.581543\n",
            "[t-SNE] Computed conditional probabilities in 0.017s\n",
            "[t-SNE] Iteration 50: error = 49.8620872, gradient norm = 0.2763475 (50 iterations in 0.006s)\n",
            "[t-SNE] Iteration 100: error = 73.7629852, gradient norm = 0.8116028 (50 iterations in 0.006s)\n",
            "[t-SNE] Iteration 150: error = 62.4211845, gradient norm = 0.1294850 (50 iterations in 0.006s)\n",
            "[t-SNE] Iteration 200: error = 82.4053345, gradient norm = 0.3404205 (50 iterations in 0.006s)\n",
            "[t-SNE] Iteration 250: error = 64.0849762, gradient norm = 0.0522244 (50 iterations in 0.006s)\n",
            "[t-SNE] KL divergence after 250 iterations with early exaggeration: 64.084976\n",
            "[t-SNE] Iteration 300: error = 1.1792879, gradient norm = 0.0009144 (50 iterations in 0.007s)\n",
            "[t-SNE] Iteration 350: error = 0.9836144, gradient norm = 0.0003894 (50 iterations in 0.006s)\n",
            "[t-SNE] Iteration 400: error = 0.8680983, gradient norm = 0.0003267 (50 iterations in 0.007s)\n",
            "[t-SNE] Iteration 450: error = 0.7174564, gradient norm = 0.0003040 (50 iterations in 0.006s)\n",
            "[t-SNE] Iteration 500: error = 0.5751547, gradient norm = 0.0002393 (50 iterations in 0.006s)\n",
            "[t-SNE] Iteration 550: error = 0.4754167, gradient norm = 0.0001576 (50 iterations in 0.006s)\n",
            "[t-SNE] Iteration 600: error = 0.4291243, gradient norm = 0.0001307 (50 iterations in 0.006s)\n",
            "[t-SNE] Iteration 650: error = 0.3848328, gradient norm = 0.0001971 (50 iterations in 0.006s)\n",
            "[t-SNE] Iteration 700: error = 0.3015702, gradient norm = 0.0002038 (50 iterations in 0.006s)\n",
            "[t-SNE] Iteration 750: error = 0.2280384, gradient norm = 0.0001812 (50 iterations in 0.010s)\n",
            "[t-SNE] Iteration 800: error = 0.1635756, gradient norm = 0.0001537 (50 iterations in 0.011s)\n",
            "[t-SNE] Iteration 850: error = 0.1325431, gradient norm = 0.0000932 (50 iterations in 0.014s)\n",
            "[t-SNE] Iteration 900: error = 0.1206897, gradient norm = 0.0000512 (50 iterations in 0.007s)\n",
            "[t-SNE] Iteration 950: error = 0.1167843, gradient norm = 0.0000447 (50 iterations in 0.009s)\n",
            "[t-SNE] Iteration 1000: error = 0.1139487, gradient norm = 0.0000337 (50 iterations in 0.006s)\n",
            "[t-SNE] KL divergence after 1000 iterations: 0.113949\n"
          ],
          "name": "stdout"
        }
      ]
    },
    {
      "cell_type": "markdown",
      "metadata": {
        "id": "1_c7scVz0zGi",
        "colab_type": "text"
      },
      "source": [
        "And matplotlib to show the results:"
      ]
    },
    {
      "cell_type": "code",
      "metadata": {
        "id": "cMep_mKA0zGj",
        "colab_type": "code",
        "colab": {
          "base_uri": "https://localhost:8080/",
          "height": 595
        },
        "outputId": "a5488d8d-7545-4f1e-cc66-b345b63c2673"
      },
      "source": [
        "x=tsne[:,0]\n",
        "y=tsne[:,1]\n",
        "\n",
        "fig, ax = plt.subplots()\n",
        "ax.scatter(x, y)\n",
        "\n",
        "for item, x1, y1 in zip(item_vectors, x, y):\n",
        "    ax.annotate(item[0], (x1, y1), size=14)\n",
        "\n",
        "plt.show()"
      ],
      "execution_count": 11,
      "outputs": [
        {
          "output_type": "display_data",
          "data": {
            "image/png": "[encoded data removed]",
            "text/plain": [
              "<Figure size 720x720 with 1 Axes>"
            ]
          },
          "metadata": {
            "tags": []
          }
        }
      ]
    },
    {
      "cell_type": "markdown",
      "metadata": {
        "collapsed": true,
        "id": "ma6g4yEb0zGm",
        "colab_type": "text"
      },
      "source": [
        "As you can see, the countries, sports and drinks all form their own little clusters, with arguably cricket and India attracting each other and maybe less clear, wine and France and Italy and espresso."
      ]
    },
    {
      "cell_type": "code",
      "metadata": {
        "id": "Ol8OD5o-0zGm",
        "colab_type": "code",
        "colab": {}
      },
      "source": [
        ""
      ],
      "execution_count": 0,
      "outputs": []
    }
  ]
}