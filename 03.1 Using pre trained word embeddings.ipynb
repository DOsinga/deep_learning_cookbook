{
 "metadata": {
  "kernelspec": {
   "display_name": "Python 3",
   "language": "python",
   "name": "python3"
  },
  "language_info": {
   "codemirror_mode": {
    "name": "ipython",
    "version": 3
   },
   "file_extension": ".py",
   "mimetype": "text/x-python",
   "name": "python",
   "nbconvert_exporter": "python",
   "pygments_lexer": "ipython3",
   "version": "3.5.2"
  },
  "name": ""
 },
 "nbformat": 3,
 "nbformat_minor": 0,
 "worksheets": [
  {
   "cells": [
    {
     "cell_type": "markdown",
     "metadata": {},
     "source": [
      "## Text Similarity using Word Embeddings\n",
      "\n",
      "In this notebook we're going to play around with pre build word embeddings and do some fun calcultations:"
     ]
    },
    {
     "cell_type": "code",
     "collapsed": false,
     "input": [
      "%matplotlib inline\n",
      "\n",
      "import os\n",
      "from keras.utils import get_file\n",
      "import gensim\n",
      "import subprocess\n",
      "import numpy as np\n",
      "import matplotlib.pyplot as plt\n",
      "from IPython.core.pylabtools import figsize\n",
      "figsize(10, 10)\n",
      "\n",
      "from sklearn.manifold import TSNE\n",
      "import json\n",
      "from collections import Counter\n",
      "from itertools import chain"
     ],
     "language": "python",
     "metadata": {},
     "outputs": [
      {
       "output_type": "stream",
       "stream": "stderr",
       "text": [
        "Using TensorFlow backend.\n"
       ]
      }
     ],
     "prompt_number": 1
    },
    {
     "cell_type": "markdown",
     "metadata": {},
     "source": [
      "We'll start by downloading a pretrained model from Google News. We're using `zcat` to unzip the file, so you need to make sure you have that installed or replace it by something else."
     ]
    },
    {
     "cell_type": "code",
     "collapsed": true,
     "input": [
      "MODEL = 'GoogleNews-vectors-negative300.bin'\n",
      "path = get_file(MODEL + '.gz', 'https://s3.amazonaws.com/dl4j-distribution/%s.gz' % MODEL)\n",
      "if not os.path.isdir('generated'):\n",
      "    os.mkdir('generated')\n",
      "\n",
      "unzipped = os.path.join('generated', MODEL)\n",
      "if not os.path.isfile(unzipped):\n",
      "    with open(unzipped, 'wb') as fout:\n",
      "        zcat = subprocess.Popen(['zcat'],\n",
      "                          stdin=open(path),\n",
      "                          stdout=fout\n",
      "                         )\n",
      "        zcat.wait()"
     ],
     "language": "python",
     "metadata": {},
     "outputs": [],
     "prompt_number": 2
    },
    {
     "cell_type": "code",
     "collapsed": true,
     "input": [
      "model = gensim.models.KeyedVectors.load_word2vec_format(unzipped, binary=True)"
     ],
     "language": "python",
     "metadata": {},
     "outputs": [],
     "prompt_number": 3
    },
    {
     "cell_type": "markdown",
     "metadata": {},
     "source": [
      "Let's take this model for a spin by looking at what things are most similar to espresso. As expected, coffee like items show up:"
     ]
    },
    {
     "cell_type": "code",
     "collapsed": false,
     "input": [
      "model.most_similar(positive=['espresso'])"
     ],
     "language": "python",
     "metadata": {},
     "outputs": [
      {
       "output_type": "pyout",
       "prompt_number": 4,
       "text": [
        "[('cappuccino', 0.6888186931610107),\n",
        " ('mocha', 0.6686208248138428),\n",
        " ('coffee', 0.6616826057434082),\n",
        " ('latte', 0.6536753177642822),\n",
        " ('caramel_macchiato', 0.6491267681121826),\n",
        " ('ristretto', 0.6485546827316284),\n",
        " ('espressos', 0.6438628435134888),\n",
        " ('macchiato', 0.6428250074386597),\n",
        " ('chai_latte', 0.6308027505874634),\n",
        " ('espresso_cappuccino', 0.6280542612075806)]"
       ]
      }
     ],
     "prompt_number": 4
    },
    {
     "cell_type": "markdown",
     "metadata": {},
     "source": [
      "Now for the famous equation, what is like woman if king is like man? We create a quick method to these calculations here:"
     ]
    },
    {
     "cell_type": "code",
     "collapsed": false,
     "input": [
      "def A_is_to_B_as_C_is_to(a, b, c, topn=1):\n",
      "    a, b, c = map(lambda x:x if type(x) == list else [x], (a, b, c))\n",
      "    res = model.most_similar(positive=b + c, negative=a, topn=topn)\n",
      "    if len(res):\n",
      "        if topn == 1:\n",
      "            return res[0][0]\n",
      "        return [x[0] for x in res]\n",
      "    return None\n",
      "\n",
      "A_is_to_B_as_C_is_to('man', 'woman', 'king')"
     ],
     "language": "python",
     "metadata": {},
     "outputs": [
      {
       "output_type": "pyout",
       "prompt_number": 5,
       "text": [
        "'queen'"
       ]
      }
     ],
     "prompt_number": 5
    },
    {
     "cell_type": "markdown",
     "metadata": {},
     "source": [
      "We can use this equation to acurately predict the capitals of countries by looking at what has the same relationship as Berlin has to Germany for selected countries:"
     ]
    },
    {
     "cell_type": "code",
     "collapsed": false,
     "input": [
      "for country in 'Italy', 'France', 'India', 'China':\n",
      "    print('%s is the capital of %s' % \n",
      "          (A_is_to_B_as_C_is_to('Germany', 'Berlin', country), country))"
     ],
     "language": "python",
     "metadata": {},
     "outputs": [
      {
       "output_type": "stream",
       "stream": "stdout",
       "text": [
        "Rome is the capital of Italy\n"
       ]
      },
      {
       "output_type": "stream",
       "stream": "stdout",
       "text": [
        "Paris is the capital of France\n"
       ]
      },
      {
       "output_type": "stream",
       "stream": "stdout",
       "text": [
        "Delhi is the capital of India\n",
        "Beijing is the capital of China\n"
       ]
      }
     ],
     "prompt_number": 6
    },
    {
     "cell_type": "markdown",
     "metadata": {},
     "source": [
      "Or we can do the same for important products for given companies. Here we seed the products equation with two products, the iPhone for Apple and Starbucks_coffee for Starbucks. Note that numbers are replaced by # in the embedding model:"
     ]
    },
    {
     "cell_type": "code",
     "collapsed": false,
     "input": [
      "for company in 'Google', 'IBM', 'Boeing', 'Microsoft', 'Samsung':\n",
      "    products = A_is_to_B_as_C_is_to(\n",
      "        ['Starbucks', 'Apple'], \n",
      "        ['Starbucks_coffee', 'iPhone'], \n",
      "        company, topn=3)\n",
      "    print('%s -> %s' % \n",
      "          (company, ', '.join(products)))"
     ],
     "language": "python",
     "metadata": {},
     "outputs": [
      {
       "output_type": "stream",
       "stream": "stdout",
       "text": [
        "Google -> personalized_homepage, app, Gmail\n"
       ]
      },
      {
       "output_type": "stream",
       "stream": "stdout",
       "text": [
        "IBM -> DB2, WebSphere_Portal, Tamino_XML_Server\n"
       ]
      },
      {
       "output_type": "stream",
       "stream": "stdout",
       "text": [
        "Boeing -> Dreamliner, airframe, aircraft\n"
       ]
      },
      {
       "output_type": "stream",
       "stream": "stdout",
       "text": [
        "Microsoft -> Windows_Mobile, SyncMate, Windows\n"
       ]
      },
      {
       "output_type": "stream",
       "stream": "stdout",
       "text": [
        "Samsung -> MM_A###, handset, Samsung_SCH_B###\n"
       ]
      }
     ],
     "prompt_number": 7
    },
    {
     "cell_type": "markdown",
     "metadata": {},
     "source": [
      "Let's do some clustering by picking three categories of items, drinks, countries and sports:"
     ]
    },
    {
     "cell_type": "code",
     "collapsed": false,
     "input": [
      "beverages = ['espresso', 'beer', 'vodka', 'wine', 'cola', 'tea']\n",
      "countries = ['Italy', 'Germany', 'Russia', 'France', 'USA', 'India']\n",
      "sports = ['soccer', 'handball', 'hockey', 'cycling', 'basketball', 'cricket']\n",
      "\n",
      "items = beverages + countries + sports\n",
      "len(items)"
     ],
     "language": "python",
     "metadata": {},
     "outputs": [
      {
       "output_type": "pyout",
       "prompt_number": 8,
       "text": [
        "18"
       ]
      }
     ],
     "prompt_number": 8
    },
    {
     "cell_type": "markdown",
     "metadata": {},
     "source": [
      "And looking up their vectors:"
     ]
    },
    {
     "cell_type": "code",
     "collapsed": false,
     "input": [
      "item_vectors = [(item, model[item]) \n",
      "                    for item in items\n",
      "                    if item in model]\n",
      "len(item_vectors)"
     ],
     "language": "python",
     "metadata": {},
     "outputs": [
      {
       "output_type": "pyout",
       "prompt_number": 9,
       "text": [
        "18"
       ]
      }
     ],
     "prompt_number": 9
    },
    {
     "cell_type": "markdown",
     "metadata": {},
     "source": [
      "Now use TSNE for clustering:"
     ]
    },
    {
     "cell_type": "code",
     "collapsed": false,
     "input": [
      "vectors = np.asarray([x[1] for x in item_vectors])\n",
      "lengths = np.linalg.norm(vectors, axis=1)\n",
      "norm_vectors = (vectors.T / lengths).T\n",
      "\n",
      "tsne = TSNE(n_components=2, perplexity=10, verbose=2).fit_transform(norm_vectors)"
     ],
     "language": "python",
     "metadata": {},
     "outputs": [
      {
       "output_type": "stream",
       "stream": "stdout",
       "text": [
        "[t-SNE] Computing 17 nearest neighbors...\n",
        "[t-SNE] Indexed 18 samples in 0.000s...\n",
        "[t-SNE] Computed neighbors for 18 samples in 0.001s...\n",
        "[t-SNE] Computed conditional probabilities for sample 18 / 18\n",
        "[t-SNE] Mean sigma: 0.581543\n",
        "[t-SNE] Computed conditional probabilities in 0.002s\n",
        "[t-SNE] Iteration 50: error = 76.1276550, gradient norm = 0.3461212 (50 iterations in 0.009s)\n",
        "[t-SNE] Iteration 100: error = 50.8273811, gradient norm = 0.1410534 (50 iterations in 0.008s)\n",
        "[t-SNE] Iteration 150: error = 83.6660614, gradient norm = 0.9429631 (50 iterations in 0.009s)\n",
        "[t-SNE] Iteration 200: error = 61.4585304, gradient norm = 0.0775804 (50 iterations in 0.009s)\n",
        "[t-SNE] Iteration 250: error = 56.0353203, gradient norm = 0.0573822 (50 iterations in 0.008s)\n",
        "[t-SNE] KL divergence after 250 iterations with early exaggeration: 56.035320\n",
        "[t-SNE] Iteration 300: error = 1.0104862, gradient norm = 0.0009222 (50 iterations in 0.009s)\n",
        "[t-SNE] Iteration 350: error = 0.8252521, gradient norm = 0.0003059 (50 iterations in 0.008s)\n",
        "[t-SNE] Iteration 400: error = 0.7841250, gradient norm = 0.0001617 (50 iterations in 0.008s)\n",
        "[t-SNE] Iteration 450: error = 0.7600524, gradient norm = 0.0001047 (50 iterations in 0.008s)\n",
        "[t-SNE] Iteration 500: error = 0.7521734, gradient norm = 0.0000824 (50 iterations in 0.008s)\n",
        "[t-SNE] Iteration 550: error = 0.7429917, gradient norm = 0.0001517 (50 iterations in 0.008s)\n",
        "[t-SNE] Iteration 600: error = 0.6902207, gradient norm = 0.0001964 (50 iterations in 0.009s)\n",
        "[t-SNE] Iteration 650: error = 0.6711525, gradient norm = 0.0000955 (50 iterations in 0.009s)\n",
        "[t-SNE] Iteration 700: error = 0.6622590, gradient norm = 0.0000832 (50 iterations in 0.008s)\n",
        "[t-SNE] Iteration 750: error = 0.6495437, gradient norm = 0.0001085 (50 iterations in 0.009s)\n",
        "[t-SNE] Iteration 800: error = 0.6163422, gradient norm = 0.0001589 (50 iterations in 0.008s)\n",
        "[t-SNE] Iteration 850: error = 0.5512378, gradient norm = 0.0002301 (50 iterations in 0.009s)\n",
        "[t-SNE] Iteration 900: error = 0.4722201, gradient norm = 0.0005836 (50 iterations in 0.009s)\n"
       ]
      },
      {
       "output_type": "stream",
       "stream": "stdout",
       "text": [
        "[t-SNE] Iteration 950: error = 0.2258549, gradient norm = 0.0003326 (50 iterations in 0.009s)\n",
        "[t-SNE] Iteration 1000: error = 0.1562722, gradient norm = 0.0001901 (50 iterations in 0.009s)\n",
        "[t-SNE] Error after 1000 iterations: 0.156272\n"
       ]
      }
     ],
     "prompt_number": 10
    },
    {
     "cell_type": "markdown",
     "metadata": {},
     "source": [
      "And matplotlib to show the results:"
     ]
    },
    {
     "cell_type": "code",
     "collapsed": false,
     "input": [
      "x=tsne[:,0]\n",
      "y=tsne[:,1]\n",
      "\n",
      "fig, ax = plt.subplots()\n",
      "ax.scatter(x, y)\n",
      "\n",
      "for item, x1, y1 in zip(item_vectors, x, y):\n",
      "    ax.annotate(item[0], (x1, y1), size=14)\n",
      "\n",
      "plt.show()"
     ],
     "language": "python",
     "metadata": {},
     "outputs": [
      {
       "output_type": "display_data",
       "png": "[encoded data removed]",
       "text": [
        "<matplotlib.figure.Figure at 0x7f8adaef0860>"
       ]
      }
     ],
     "prompt_number": 11
    },
    {
     "cell_type": "code",
     "collapsed": true,
     "input": [],
     "language": "python",
     "metadata": {},
     "outputs": [],
     "prompt_number": 12
    }
   ],
   "metadata": {}
  }
 ]
}
