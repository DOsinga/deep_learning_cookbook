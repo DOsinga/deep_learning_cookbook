{
 "cells": [
  {
   "cell_type": "markdown",
   "metadata": {},
   "source": [
    "## Text Similarity using Word Embeddings\n",
    "\n",
    "In this notebook we're going to play around with pre build word embeddings and do some fun calculations:"
   ]
  },
  {
   "cell_type": "code",
   "execution_count": 1,
   "metadata": {},
   "outputs": [],
   "source": [
    "%matplotlib inline\n",
    "\n",
    "from collections import Counter\n",
    "from itertools import chain\n",
    "import json\n",
    "import os\n",
    "\n",
    "import gensim\n",
    "import numpy as np\n",
    "from sklearn.manifold import TSNE\n",
    "from tensorflow.keras.utils import get_file\n",
    "\n",
    "import matplotlib.pyplot as plt\n",
    "from IPython.core.pylabtools import figsize\n",
    "figsize(12, 8)"
   ]
  },
  {
   "cell_type": "markdown",
   "metadata": {},
   "source": [
    "We'll start by downloading a pretrained model from Google News. We're using `zcat` to unzip the file, so you need to make sure you have that installed or replace it by something else."
   ]
  },
  {
   "cell_type": "code",
   "execution_count": 2,
   "metadata": {},
   "outputs": [],
   "source": [
    "MODEL = 'GoogleNews-vectors-negative300.bin'\n",
    "path = get_file(MODEL + '.gz', 'https://deeplearning4jblob.blob.core.windows.net/resources/wordvectors/%s.gz' % MODEL)\n",
    "if not os.path.isdir('generated'):\n",
    "    os.mkdir('generated')\n",
    "\n",
    "unzipped = os.path.join('generated', MODEL)\n",
    "if not os.path.isfile(unzipped):\n",
    "    with open(unzipped, 'wb') as fout:\n",
    "        zcat = subprocess.Popen(['zcat'],\n",
    "                          stdin=open(path),\n",
    "                          stdout=fout\n",
    "                         )\n",
    "        zcat.wait()"
   ]
  },
  {
   "cell_type": "code",
   "execution_count": 3,
   "metadata": {},
   "outputs": [],
   "source": [
    "model = gensim.models.KeyedVectors.load_word2vec_format(unzipped, binary=True)"
   ]
  },
  {
   "cell_type": "markdown",
   "metadata": {},
   "source": [
    "NOTE: If you get an `ValueError`, you may have a wrong cache created when you failed to download previously. Delete the files in the `~/.keras/datasets` and `generated` directories and try the download again."
   ]
  },
  {
   "cell_type": "markdown",
   "metadata": {},
   "source": [
    "Let's take this model for a spin by looking at what things are most similar to espresso. As expected, coffee like items show up:"
   ]
  },
  {
   "cell_type": "code",
   "execution_count": 4,
   "metadata": {
    "scrolled": true
   },
   "outputs": [
    {
     "name": "stderr",
     "output_type": "stream",
     "text": [
      "/home/mitsuhisa.ohta/.pyenv/versions/3.6.7/envs/deep_learning_cookbook/lib/python3.6/site-packages/gensim/matutils.py:737: FutureWarning: Conversion of the second argument of issubdtype from `int` to `np.signedinteger` is deprecated. In future, it will be treated as `np.int64 == np.dtype(int).type`.\n",
      "  if np.issubdtype(vec.dtype, np.int):\n"
     ]
    },
    {
     "data": {
      "text/plain": [
       "[('cappuccino', 0.688818633556366),\n",
       " ('mocha', 0.6686208248138428),\n",
       " ('coffee', 0.6616827249526978),\n",
       " ('latte', 0.6536752581596375),\n",
       " ('caramel_macchiato', 0.6491269469261169),\n",
       " ('ristretto', 0.6485545635223389),\n",
       " ('espressos', 0.6438629627227783),\n",
       " ('macchiato', 0.6428249478340149),\n",
       " ('chai_latte', 0.6308027505874634),\n",
       " ('espresso_cappuccino', 0.6280543804168701)]"
      ]
     },
     "execution_count": 4,
     "metadata": {},
     "output_type": "execute_result"
    }
   ],
   "source": [
    "model.most_similar(positive=['espresso'])"
   ]
  },
  {
   "cell_type": "markdown",
   "metadata": {},
   "source": [
    "Now for the famous equation, what is like woman if king is like man? We create a quick method to these calculations here:"
   ]
  },
  {
   "cell_type": "code",
   "execution_count": 5,
   "metadata": {},
   "outputs": [
    {
     "data": {
      "text/plain": [
       "'queen'"
      ]
     },
     "execution_count": 5,
     "metadata": {},
     "output_type": "execute_result"
    }
   ],
   "source": [
    "def A_is_to_B_as_C_is_to(a, b, c, topn=1):\n",
    "    a, b, c = map(lambda x:x if type(x) == list else [x], (a, b, c))\n",
    "    res = model.most_similar(positive=b + c, negative=a, topn=topn)\n",
    "    if len(res):\n",
    "        if topn == 1:\n",
    "            return res[0][0]\n",
    "        return [x[0] for x in res]\n",
    "    return None\n",
    "\n",
    "A_is_to_B_as_C_is_to('man', 'woman', 'king')"
   ]
  },
  {
   "cell_type": "markdown",
   "metadata": {},
   "source": [
    "We can use this equation to acurately predict the capitals of countries by looking at what has the same relationship as Berlin has to Germany for selected countries:"
   ]
  },
  {
   "cell_type": "code",
   "execution_count": 6,
   "metadata": {
    "scrolled": true
   },
   "outputs": [
    {
     "name": "stdout",
     "output_type": "stream",
     "text": [
      "Rome is the capital of Italy\n",
      "Paris is the capital of France\n",
      "Delhi is the capital of India\n",
      "Beijing is the capital of China\n"
     ]
    }
   ],
   "source": [
    "for country in 'Italy', 'France', 'India', 'China':\n",
    "    print('%s is the capital of %s' % \n",
    "          (A_is_to_B_as_C_is_to('Germany', 'Berlin', country), country))"
   ]
  },
  {
   "cell_type": "markdown",
   "metadata": {},
   "source": [
    "Or we can do the same for important products for given companies. Here we seed the products equation with two products, the iPhone for Apple and Starbucks_coffee for Starbucks. Note that numbers are replaced by # in the embedding model:"
   ]
  },
  {
   "cell_type": "code",
   "execution_count": 7,
   "metadata": {},
   "outputs": [
    {
     "name": "stdout",
     "output_type": "stream",
     "text": [
      "Google -> personalized_homepage, app, Gmail\n",
      "IBM -> DB2, WebSphere_Portal, Tamino_XML_Server\n",
      "Boeing -> Dreamliner, airframe, aircraft\n",
      "Microsoft -> Windows_Mobile, SyncMate, Windows\n",
      "Samsung -> MM_A###, handset, Samsung_SCH_B###\n"
     ]
    }
   ],
   "source": [
    "for company in 'Google', 'IBM', 'Boeing', 'Microsoft', 'Samsung':\n",
    "    products = A_is_to_B_as_C_is_to(\n",
    "        ['Starbucks', 'Apple'], \n",
    "        ['Starbucks_coffee', 'iPhone'], \n",
    "        company, topn=3)\n",
    "    print('%s -> %s' % \n",
    "          (company, ', '.join(products)))"
   ]
  },
  {
   "cell_type": "markdown",
   "metadata": {},
   "source": [
    "Let's do some clustering by picking three categories of items, drinks, countries and sports:"
   ]
  },
  {
   "cell_type": "code",
   "execution_count": 8,
   "metadata": {},
   "outputs": [
    {
     "data": {
      "text/plain": [
       "18"
      ]
     },
     "execution_count": 8,
     "metadata": {},
     "output_type": "execute_result"
    }
   ],
   "source": [
    "beverages = ['espresso', 'beer', 'vodka', 'wine', 'cola', 'tea']\n",
    "countries = ['Italy', 'Germany', 'Russia', 'France', 'USA', 'India']\n",
    "sports = ['soccer', 'handball', 'hockey', 'cycling', 'basketball', 'cricket']\n",
    "\n",
    "items = beverages + countries + sports\n",
    "len(items)"
   ]
  },
  {
   "cell_type": "markdown",
   "metadata": {},
   "source": [
    "And looking up their vectors:"
   ]
  },
  {
   "cell_type": "code",
   "execution_count": 9,
   "metadata": {},
   "outputs": [
    {
     "data": {
      "text/plain": [
       "18"
      ]
     },
     "execution_count": 9,
     "metadata": {},
     "output_type": "execute_result"
    }
   ],
   "source": [
    "item_vectors = [(item, model[item]) \n",
    "                    for item in items\n",
    "                    if item in model]\n",
    "len(item_vectors)"
   ]
  },
  {
   "cell_type": "markdown",
   "metadata": {},
   "source": [
    "Now use TSNE for clustering:"
   ]
  },
  {
   "cell_type": "code",
   "execution_count": 10,
   "metadata": {
    "scrolled": true
   },
   "outputs": [
    {
     "name": "stdout",
     "output_type": "stream",
     "text": [
      "[t-SNE] Computing 17 nearest neighbors...\n",
      "[t-SNE] Indexed 18 samples in 0.000s...\n",
      "[t-SNE] Computed neighbors for 18 samples in 0.001s...\n",
      "[t-SNE] Computed conditional probabilities for sample 18 / 18\n",
      "[t-SNE] Mean sigma: 0.581543\n",
      "[t-SNE] Computed conditional probabilities in 0.002s\n",
      "[t-SNE] Iteration 50: error = 48.6175575, gradient norm = 0.2802186 (50 iterations in 0.007s)\n",
      "[t-SNE] Iteration 100: error = 52.0564423, gradient norm = 0.3854235 (50 iterations in 0.007s)\n",
      "[t-SNE] Iteration 150: error = 62.4519005, gradient norm = 0.4305894 (50 iterations in 0.007s)\n",
      "[t-SNE] Iteration 200: error = 56.8771782, gradient norm = 0.2220413 (50 iterations in 0.007s)\n",
      "[t-SNE] Iteration 250: error = 72.3162155, gradient norm = 0.0560693 (50 iterations in 0.007s)\n",
      "[t-SNE] KL divergence after 250 iterations with early exaggeration: 72.316216\n",
      "[t-SNE] Iteration 300: error = 0.9595210, gradient norm = 0.0009488 (50 iterations in 0.007s)\n",
      "[t-SNE] Iteration 350: error = 0.7443433, gradient norm = 0.0003493 (50 iterations in 0.007s)\n",
      "[t-SNE] Iteration 400: error = 0.6752099, gradient norm = 0.0003332 (50 iterations in 0.007s)\n",
      "[t-SNE] Iteration 450: error = 0.6323747, gradient norm = 0.0001207 (50 iterations in 0.007s)\n",
      "[t-SNE] Iteration 500: error = 0.6192242, gradient norm = 0.0001073 (50 iterations in 0.006s)\n",
      "[t-SNE] Iteration 550: error = 0.6074603, gradient norm = 0.0000761 (50 iterations in 0.006s)\n",
      "[t-SNE] Iteration 600: error = 0.5987279, gradient norm = 0.0000931 (50 iterations in 0.007s)\n",
      "[t-SNE] Iteration 650: error = 0.5750347, gradient norm = 0.0001389 (50 iterations in 0.006s)\n",
      "[t-SNE] Iteration 700: error = 0.4928705, gradient norm = 0.0002025 (50 iterations in 0.006s)\n",
      "[t-SNE] Iteration 750: error = 0.4056270, gradient norm = 0.0002915 (50 iterations in 0.006s)\n",
      "[t-SNE] Iteration 800: error = 0.2923770, gradient norm = 0.0002678 (50 iterations in 0.006s)\n",
      "[t-SNE] Iteration 850: error = 0.2689720, gradient norm = 0.0001054 (50 iterations in 0.006s)\n",
      "[t-SNE] Iteration 900: error = 0.2604673, gradient norm = 0.0000880 (50 iterations in 0.010s)\n",
      "[t-SNE] Iteration 950: error = 0.2462787, gradient norm = 0.0001163 (50 iterations in 0.008s)\n",
      "[t-SNE] Iteration 1000: error = 0.2344896, gradient norm = 0.0000877 (50 iterations in 0.006s)\n",
      "[t-SNE] KL divergence after 1000 iterations: 0.234490\n"
     ]
    }
   ],
   "source": [
    "vectors = np.asarray([x[1] for x in item_vectors])\n",
    "lengths = np.linalg.norm(vectors, axis=1)\n",
    "norm_vectors = (vectors.T / lengths).T\n",
    "\n",
    "tsne = TSNE(n_components=2, perplexity=10, verbose=2).fit_transform(norm_vectors)"
   ]
  },
  {
   "cell_type": "markdown",
   "metadata": {},
   "source": [
    "And matplotlib to show the results:"
   ]
  },
  {
   "cell_type": "code",
   "execution_count": 11,
   "metadata": {},
   "outputs": [
    {
     "data": {
      "image/png": "[encoded data removed]",
      "text/plain": [
       "<Figure size 432x288 with 1 Axes>"
      ]
     },
     "metadata": {
      "needs_background": "light"
     },
     "output_type": "display_data"
    }
   ],
   "source": [
    "x=tsne[:,0]\n",
    "y=tsne[:,1]\n",
    "\n",
    "fig, ax = plt.subplots()\n",
    "ax.scatter(x, y)\n",
    "\n",
    "for item, x1, y1 in zip(item_vectors, x, y):\n",
    "    ax.annotate(item[0], (x1, y1), size=14)\n",
    "\n",
    "plt.show()"
   ]
  },
  {
   "cell_type": "markdown",
   "metadata": {
    "collapsed": true
   },
   "source": [
    "As you can see, the countries, sports and drinks all form their own little clusters, with arguably cricket and India attracting each other and maybe less clear, wine and France and Italy and espresso."
   ]
  },
  {
   "cell_type": "code",
   "execution_count": null,
   "metadata": {},
   "outputs": [],
   "source": []
  }
 ],
 "metadata": {
  "kernelspec": {
   "display_name": "Python 3",
   "language": "python",
   "name": "python3"
  },
  "language_info": {
   "codemirror_mode": {
    "name": "ipython",
    "version": 3
   },
   "file_extension": ".py",
   "mimetype": "text/x-python",
   "name": "python",
   "nbconvert_exporter": "python",
   "pygments_lexer": "ipython3",
   "version": "3.6.7"
  }
 },
 "nbformat": 4,
 "nbformat_minor": 1
}
