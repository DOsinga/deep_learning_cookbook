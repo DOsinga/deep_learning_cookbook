{
 "cells": [
  {
   "cell_type": "code",
   "execution_count": 3,
   "metadata": {},
   "outputs": [
    {
     "name": "stdout",
     "output_type": "stream",
     "text": [
      "Process is interrupted.\n"
     ]
    }
   ],
   "source": [
    "# 不要かも\n",
    "%%bash\n",
    "git clone https://github.com/drjerry/gutenberg-index.git\n",
    "cd gutenberg-index\n",
    "pip install --user lxml\n",
    "./index.sh"
   ]
  },
  {
   "cell_type": "code",
   "execution_count": 1,
   "metadata": {},
   "outputs": [],
   "source": [
    "import requests\n",
    "from bs4 import BeautifulSoup\n",
    "from collections import Counter, defaultdict\n",
    "from gutenberg.acquire.text import UnknownDownloadUriException\n",
    "import re\n",
    "from gensim.utils import tokenize\n",
    "import random\n",
    "import nltk\n",
    "from gutenberg.acquire import load_etext\n",
    "from gutenberg.cleanup import strip_headers\n",
    "import os\n",
    "import glob\n",
    "import json"
   ]
  },
  {
   "cell_type": "code",
   "execution_count": 2,
   "metadata": {},
   "outputs": [
    {
     "ename": "FileNotFoundError",
     "evalue": "[Errno 2] No such file or directory: 'data/gutenberg_index.json'",
     "output_type": "error",
     "traceback": [
      "\u001b[0;31m---------------------------------------------------------------------------\u001b[0m",
      "\u001b[0;31mFileNotFoundError\u001b[0m                         Traceback (most recent call last)",
      "\u001b[0;32m<ipython-input-2-1d26eda5362b>\u001b[0m in \u001b[0;36m<module>\u001b[0;34m()\u001b[0m\n\u001b[0;32m----> 1\u001b[0;31m \u001b[0;32mwith\u001b[0m \u001b[0mopen\u001b[0m\u001b[0;34m(\u001b[0m\u001b[0;34m'data/gutenberg_index.json'\u001b[0m\u001b[0;34m)\u001b[0m \u001b[0;32mas\u001b[0m \u001b[0mfin\u001b[0m\u001b[0;34m:\u001b[0m\u001b[0;34m\u001b[0m\u001b[0;34m\u001b[0m\u001b[0m\n\u001b[0m\u001b[1;32m      2\u001b[0m     \u001b[0mauthors\u001b[0m \u001b[0;34m=\u001b[0m \u001b[0mjson\u001b[0m\u001b[0;34m.\u001b[0m\u001b[0mload\u001b[0m\u001b[0;34m(\u001b[0m\u001b[0mfin\u001b[0m\u001b[0;34m)\u001b[0m\u001b[0;34m\u001b[0m\u001b[0;34m\u001b[0m\u001b[0m\n\u001b[1;32m      3\u001b[0m \u001b[0mrecent\u001b[0m \u001b[0;34m=\u001b[0m \u001b[0;34m[\u001b[0m\u001b[0mx\u001b[0m \u001b[0;32mfor\u001b[0m \u001b[0mx\u001b[0m \u001b[0;32min\u001b[0m \u001b[0mauthors\u001b[0m \u001b[0;32mif\u001b[0m \u001b[0;34m'birthdate'\u001b[0m \u001b[0;32min\u001b[0m \u001b[0mx\u001b[0m \u001b[0;32mand\u001b[0m \u001b[0mx\u001b[0m\u001b[0;34m[\u001b[0m\u001b[0;34m'birthdate'\u001b[0m\u001b[0;34m]\u001b[0m \u001b[0;34m>\u001b[0m \u001b[0;36m1830\u001b[0m\u001b[0;34m]\u001b[0m\u001b[0;34m\u001b[0m\u001b[0;34m\u001b[0m\u001b[0m\n\u001b[1;32m      4\u001b[0m \u001b[0;34m[\u001b[0m\u001b[0;34m(\u001b[0m\u001b[0mx\u001b[0m\u001b[0;34m[\u001b[0m\u001b[0;34m'name'\u001b[0m\u001b[0;34m]\u001b[0m\u001b[0;34m,\u001b[0m \u001b[0mx\u001b[0m\u001b[0;34m[\u001b[0m\u001b[0;34m'birthdate'\u001b[0m\u001b[0;34m]\u001b[0m\u001b[0;34m,\u001b[0m \u001b[0mx\u001b[0m\u001b[0;34m[\u001b[0m\u001b[0;34m'english_books'\u001b[0m\u001b[0;34m]\u001b[0m\u001b[0;34m)\u001b[0m \u001b[0;32mfor\u001b[0m \u001b[0mx\u001b[0m \u001b[0;32min\u001b[0m \u001b[0mrecent\u001b[0m\u001b[0;34m[\u001b[0m\u001b[0;34m:\u001b[0m\u001b[0;36m5\u001b[0m\u001b[0;34m]\u001b[0m\u001b[0;34m]\u001b[0m\u001b[0;34m\u001b[0m\u001b[0;34m\u001b[0m\u001b[0m\n",
      "\u001b[0;31mFileNotFoundError\u001b[0m: [Errno 2] No such file or directory: 'data/gutenberg_index.json'"
     ]
    }
   ],
   "source": [
    "with open('data/gutenberg_index.json') as fin:\n",
    "    authors = json.load(fin)\n",
    "recent = [x for x in authors if 'birthdate' in x and x['birthdate'] > 1830]\n",
    "[(x['name'], x['birthdate'], x['english_books']) for x in recent[:5]]"
   ]
  },
  {
   "cell_type": "code",
   "execution_count": 3,
   "metadata": {},
   "outputs": [
    {
     "name": "stdout",
     "output_type": "stream",
     "text": [
      "('author', 'formaturi', 'language', 'rights', 'subject', 'title')\n"
     ]
    }
   ],
   "source": [
    "from gutenberg.query import list_supported_metadatas\n",
    "print(list_supported_metadatas())"
   ]
  },
  {
   "cell_type": "code",
   "execution_count": null,
   "metadata": {},
   "outputs": [],
   "source": [
    "PARAGRAPH_SPLIT_RE = re.compile(r'\\n *\\n+')\n",
    "\n",
    "def extract_conversations(text, quote='\"'):\n",
    "    paragraphs = PARAGRAPH_SPLIT_RE.split(text.strip())\n",
    "    conversations = [['']]\n",
    "    for paragraph in paragraphs:\n",
    "        chunks = paragraph.replace('\\n', ' ').split(quote)\n",
    "        for i in range((len(chunks) + 1) // 2):\n",
    "            if (len(chunks[i * 2]) > 100 or len(chunks) == 1) and conversations[-1] != ['']:\n",
    "                if conversations[-1][-1] == '':\n",
    "                    del conversations[-1][-1]\n",
    "                conversations.append([''])\n",
    "            if i * 2 + 1 < len(chunks):\n",
    "                chunk = chunks[i * 2 + 1]\n",
    "                if chunk:\n",
    "                    if conversations[-1][-1]:\n",
    "                        if chunk[0] >= 'A' and chunk[0] <= 'Z':\n",
    "                            if conversations[-1][-1].endswith(','):\n",
    "                                conversations[-1][-1] = conversations[-1][-1][:-1]\n",
    "                            conversations[-1][-1] += '.'\n",
    "                        conversations[-1][-1] += ' '\n",
    "                    conversations[-1][-1] += chunk\n",
    "        if conversations[-1][-1]:\n",
    "            conversations[-1].append('')\n",
    "\n",
    "    return [x for x in conversations if len(x) > 1]\n",
    "\n",
    "\n",
    "conversations = extract_conversations(strip_headers(load_etext(10008).strip()))\n",
    "sum(len(x) for x in conversations)"
   ]
  },
  {
   "cell_type": "code",
   "execution_count": null,
   "metadata": {},
   "outputs": [],
   "source": [
    "LATIN_1_CHARS = (\n",
    "    (u'\\xe2\\x80\\x99', \"'\"),\n",
    "    (u'\\xc3\\xa9', 'e'),\n",
    "    (u'\\xe2\\x80\\x90', '-'),\n",
    "    (u'\\xe2\\x80\\x91', '-'),\n",
    "    (u'\\xe2\\x80\\x92', '-'),\n",
    "    (u'\\xe2\\x80\\x93', '-'),\n",
    "    (u'\\xe2\\x80\\x94', '-'),\n",
    "    (u'\\xe2\\x80\\x94', '-'),\n",
    "    (u'\\xe2\\x80\\x98', \"'\"),\n",
    "    (u'\\xe2\\x80\\x9b', \"'\"),\n",
    "    (u'\\xe2\\x80\\x9c', '\"'),\n",
    "    (u'\\xe2\\x80\\x9c', '\"'),\n",
    "    (u'\\xe2\\x80\\x9d', '\"'),\n",
    "    (u'\\xe2\\x80\\x9e', '\"'),\n",
    "    (u'\\xe2\\x80\\x9f', '\"'),\n",
    "    (u'\\xe2\\x80\\xa6', '...'),\n",
    "    (u'\\xe2\\x80\\xb2', \"'\"),\n",
    "    (u'\\xe2\\x80\\xb3', \"'\"),\n",
    "    (u'\\xe2\\x80\\xb4', \"'\"),\n",
    "    (u'\\xe2\\x80\\xb5', \"'\"),\n",
    "    (u'\\xe2\\x80\\xb6', \"'\"),\n",
    "    (u'\\xe2\\x80\\xb7', \"'\"),\n",
    "    (u'\\xe2\\x81\\xba', \"+\"),\n",
    "    (u'\\xe2\\x81\\xbb', \"-\"),\n",
    "    (u'\\xe2\\x81\\xbc', \"=\"),\n",
    "    (u'\\xe2\\x81\\xbd', \"(\"),\n",
    "    (u'\\xe2\\x81\\xbe', \")\")\n",
    ")\n",
    "\n",
    "books = 0\n",
    "for author in recent[:1000]:\n",
    "    for book in author['books']:\n",
    "        books += 1\n",
    "        try:\n",
    "            txt = strip_headers(load_etext(int(book[0]))).strip()\n",
    "        except UnknownDownloadUriException:\n",
    "            continue\n",
    "        for ch1, ch2 in LATIN_1_CHARS:\n",
    "            txt = txt.replace(ch1, ch2)\n",
    "        conversations += extract_conversations(txt)\n",
    "\n",
    "print(len(conversations), books)"
   ]
  },
  {
   "cell_type": "code",
   "execution_count": null,
   "metadata": {},
   "outputs": [],
   "source": [
    "with open('gutenberg.txt', 'w') as fout:\n",
    "    for conv in conversations:\n",
    "        fout.write('\\n'.join(conv) + '\\n\\n')"
   ]
  },
  {
   "cell_type": "code",
   "execution_count": null,
   "metadata": {},
   "outputs": [],
   "source": [
    "RE_TOKEN = re.compile('(\\w+|\\?)', re.UNICODE)\n",
    "token_counter = Counter()\n",
    "with open('gutenberg.txt') as fin:\n",
    "    for line in fin:\n",
    "        line = line.lower().replace('_', ' ')\n",
    "        token_counter.update(RE_TOKEN.findall(line))\n",
    "with open('gutenberg.tok', 'w') as fout:\n",
    "    for token, count in token_counter.items():\n",
    "        fout.write('%s\\t%d\\n' % (token, count))"
   ]
  },
  {
   "cell_type": "code",
   "execution_count": null,
   "metadata": {},
   "outputs": [],
   "source": [
    "token_counter['?']"
   ]
  },
  {
   "cell_type": "code",
   "execution_count": null,
   "metadata": {},
   "outputs": [],
   "source": [
    "PAT_ALPHABETIC.findall(conv[0])"
   ]
  },
  {
   "cell_type": "code",
   "execution_count": null,
   "metadata": {},
   "outputs": [],
   "source": [
    "RE"
   ]
  }
 ],
 "metadata": {
  "kernelspec": {
   "display_name": "Python 3",
   "language": "python",
   "name": "python3"
  },
  "language_info": {
   "codemirror_mode": {
    "name": "ipython",
    "version": 3
   },
   "file_extension": ".py",
   "mimetype": "text/x-python",
   "name": "python",
   "nbconvert_exporter": "python",
   "pygments_lexer": "ipython3",
   "version": "3.6.7"
  }
 },
 "nbformat": 4,
 "nbformat_minor": 1
}
