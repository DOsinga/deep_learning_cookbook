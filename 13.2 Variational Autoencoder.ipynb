{
 "cells": [
  {
   "cell_type": "code",
   "execution_count": 1,
   "metadata": {},
   "outputs": [],
   "source": [
    "import numpy as np\n",
    "from tensorflow.keras.layers import Input, Dense, Lambda\n",
    "from tensorflow.keras.layers import Concatenate as concat\n",
    "from tensorflow.keras.models import Model\n",
    "from tensorflow.keras import backend as K\n",
    "from tensorflow.keras.datasets import mnist\n",
    "from tensorflow.keras.utils import to_categorical\n",
    "from tensorflow.keras.callbacks import EarlyStopping\n",
    "from tensorflow.keras.optimizers import Adam\n",
    "\n",
    "from io import BytesIO\n",
    "import PIL\n",
    "from IPython.display import clear_output, Image, display, HTML"
   ]
  },
  {
   "cell_type": "code",
   "execution_count": 2,
   "metadata": {},
   "outputs": [
    {
     "name": "stdout",
     "output_type": "stream",
     "text": [
      "Downloading data from https://storage.googleapis.com/tensorflow/tf-keras-datasets/mnist.npz\n",
      "11493376/11490434 [==============================] - 15s 1us/step\n"
     ]
    }
   ],
   "source": [
    "def prepare(images, labels):\n",
    "    images = images.astype('float32') / 255\n",
    "    n, w, h = images.shape\n",
    "    return images.reshape((n, w * h)), to_categorical(labels)\n",
    "\n",
    "train, test = mnist.load_data()\n",
    "x_train, y_train = prepare(*train)\n",
    "x_test, y_test = prepare(*test)\n",
    "img_width, img_height = train[0].shape[1:]"
   ]
  },
  {
   "cell_type": "code",
   "execution_count": 3,
   "metadata": {},
   "outputs": [],
   "source": [
    "batch_size = 250\n",
    "latent_space_depth = 2\n",
    "\n",
    "def sample_z(args):\n",
    "    z_mean, z_log_var = args\n",
    "    eps = K.random_normal(shape=(batch_size, latent_space_depth), mean=0., stddev=1.)\n",
    "    return z_mean + K.exp(z_log_var / 2) * eps\n"
   ]
  },
  {
   "cell_type": "code",
   "execution_count": 11,
   "metadata": {},
   "outputs": [
    {
     "name": "stdout",
     "output_type": "stream",
     "text": [
      "(250, 2)\n",
      "Model: \"model_3\"\n",
      "__________________________________________________________________________________________________\n",
      "Layer (type)                    Output Shape         Param #     Connected to                     \n",
      "==================================================================================================\n",
      "input_4 (InputLayer)            [(None, 784)]        0                                            \n",
      "__________________________________________________________________________________________________\n",
      "dense_7 (Dense)                 (None, 512)          401920      input_4[0][0]                    \n",
      "__________________________________________________________________________________________________\n",
      "dense_8 (Dense)                 (None, 2)            1026        dense_7[0][0]                    \n",
      "__________________________________________________________________________________________________\n",
      "dense_9 (Dense)                 (None, 2)            1026        dense_7[0][0]                    \n",
      "__________________________________________________________________________________________________\n",
      "lambda_2 (Lambda)               (250, 2)             0           dense_8[0][0]                    \n",
      "                                                                 dense_9[0][0]                    \n",
      "__________________________________________________________________________________________________\n",
      "dense_10 (Dense)                multiple             1536        lambda_2[0][0]                   \n",
      "__________________________________________________________________________________________________\n",
      "dense_11 (Dense)                multiple             402192      dense_10[1][0]                   \n",
      "==================================================================================================\n",
      "Total params: 807,700\n",
      "Trainable params: 807,700\n",
      "Non-trainable params: 0\n",
      "__________________________________________________________________________________________________\n"
     ]
    }
   ],
   "source": [
    "def VariationalAutoEncoder(num_pixels):\n",
    "    pixels = Input(shape=(num_pixels,))\n",
    "    encoder_hidden = Dense(512, activation='relu')(pixels)\n",
    "\n",
    "    z_mean = Dense(latent_space_depth, activation='linear')(encoder_hidden)\n",
    "    z_log_var = Dense(latent_space_depth, activation='linear')(encoder_hidden)\n",
    "    \n",
    "    def KL_loss(y_true, y_pred):\n",
    "        return(0.5 * K.sum(K.exp(z_log_var) + K.square(z_mean) - 1 - z_log_var, axis=1))\n",
    "\n",
    "    def reconstruction_loss(y_true, y_pred):\n",
    "        return K.sum(K.binary_crossentropy(y_true, y_pred), axis=-1)    \n",
    "\n",
    "    def total_loss(y_true, y_pred):\n",
    "        return KL_loss(y_true, y_pred) + reconstruction_loss(y_true, y_pred)\n",
    "\n",
    "    z = Lambda(sample_z, output_shape=(latent_space_depth, ))([z_mean, z_log_var])\n",
    "    decoder_hidden = Dense(512, activation='relu')\n",
    "\n",
    "    reconstruct_pixels = Dense(num_pixels, activation='sigmoid')\n",
    "\n",
    "    decoder_in = Input(shape=(latent_space_depth,))\n",
    "    hidden = decoder_hidden(decoder_in)\n",
    "    decoder_out = reconstruct_pixels(hidden)\n",
    "    decoder = Model(decoder_in, decoder_out)    \n",
    "    \n",
    "    hidden = decoder_hidden(z)\n",
    "    outputs = reconstruct_pixels(hidden)\n",
    "    auto_encoder = Model(pixels, outputs)\n",
    "\n",
    "    auto_encoder.compile(optimizer=Adam(lr=0.001), \n",
    "                         loss=total_loss,\n",
    "                         metrics=[KL_loss, reconstruction_loss])\n",
    "    \n",
    "    return auto_encoder, decoder\n",
    "\n",
    "auto_encoder, decoder = VariationalAutoEncoder(x_train.shape[1])\n",
    "auto_encoder.summary()"
   ]
  },
  {
   "cell_type": "code",
   "execution_count": 5,
   "metadata": {},
   "outputs": [
    {
     "data": {
      "text/plain": [
       "((60000, 784), (60000, 10), (10000, 784), (10000, 10))"
      ]
     },
     "execution_count": 5,
     "metadata": {},
     "output_type": "execute_result"
    }
   ],
   "source": [
    "x_train.shape, y_train.shape, x_test.shape, y_test.shape"
   ]
  },
  {
   "cell_type": "code",
   "execution_count": 6,
   "metadata": {
    "scrolled": false
   },
   "outputs": [
    {
     "name": "stdout",
     "output_type": "stream",
     "text": [
      "Train on 60000 samples, validate on 10000 samples\n",
      "Epoch 1/100\n",
      "60000/60000 [==============================] - 2s 33us/sample - loss: 212.7797 - KL_loss: 10.7348 - reconstruction_loss: 202.0449 - val_loss: 181.0254 - val_KL_loss: 5.4410 - val_reconstruction_loss: 175.5845\n",
      "Epoch 2/100\n",
      "60000/60000 [==============================] - 1s 20us/sample - loss: 174.3374 - KL_loss: 4.8142 - reconstruction_loss: 169.5232 - val_loss: 169.2672 - val_KL_loss: 4.8307 - val_reconstruction_loss: 164.4364\n",
      "Epoch 3/100\n",
      "60000/60000 [==============================] - 1s 20us/sample - loss: 167.5146 - KL_loss: 4.8557 - reconstruction_loss: 162.6589 - val_loss: 166.2309 - val_KL_loss: 4.9071 - val_reconstruction_loss: 161.3238\n",
      "Epoch 4/100\n",
      "60000/60000 [==============================] - 1s 19us/sample - loss: 165.2298 - KL_loss: 4.9570 - reconstruction_loss: 160.2728 - val_loss: 164.5422 - val_KL_loss: 5.1042 - val_reconstruction_loss: 159.4380\n",
      "Epoch 5/100\n",
      "60000/60000 [==============================] - 1s 20us/sample - loss: 163.7058 - KL_loss: 5.0485 - reconstruction_loss: 158.6573 - val_loss: 163.1734 - val_KL_loss: 5.0195 - val_reconstruction_loss: 158.1539\n",
      "Epoch 6/100\n",
      "60000/60000 [==============================] - 1s 20us/sample - loss: 162.5077 - KL_loss: 5.1428 - reconstruction_loss: 157.3649 - val_loss: 162.2209 - val_KL_loss: 5.2689 - val_reconstruction_loss: 156.9520\n",
      "Epoch 7/100\n",
      "60000/60000 [==============================] - 1s 20us/sample - loss: 161.4297 - KL_loss: 5.2322 - reconstruction_loss: 156.1975 - val_loss: 161.3109 - val_KL_loss: 5.1745 - val_reconstruction_loss: 156.1365\n",
      "Epoch 8/100\n",
      "60000/60000 [==============================] - 1s 21us/sample - loss: 160.4332 - KL_loss: 5.3051 - reconstruction_loss: 155.1281 - val_loss: 160.4329 - val_KL_loss: 5.2929 - val_reconstruction_loss: 155.1400\n",
      "Epoch 9/100\n",
      "60000/60000 [==============================] - 1s 21us/sample - loss: 159.5293 - KL_loss: 5.3860 - reconstruction_loss: 154.1434 - val_loss: 159.5795 - val_KL_loss: 5.2413 - val_reconstruction_loss: 154.3382\n",
      "Epoch 10/100\n",
      "60000/60000 [==============================] - 1s 20us/sample - loss: 158.7310 - KL_loss: 5.4563 - reconstruction_loss: 153.2748 - val_loss: 158.6619 - val_KL_loss: 5.4386 - val_reconstruction_loss: 153.2233\n",
      "Epoch 11/100\n",
      "60000/60000 [==============================] - 1s 21us/sample - loss: 158.0107 - KL_loss: 5.5323 - reconstruction_loss: 152.4785 - val_loss: 158.0649 - val_KL_loss: 5.4607 - val_reconstruction_loss: 152.6042\n",
      "Epoch 12/100\n",
      "60000/60000 [==============================] - 1s 20us/sample - loss: 157.3435 - KL_loss: 5.5762 - reconstruction_loss: 151.7672 - val_loss: 157.5190 - val_KL_loss: 5.7213 - val_reconstruction_loss: 151.7977\n",
      "Epoch 13/100\n",
      "60000/60000 [==============================] - 1s 19us/sample - loss: 156.6573 - KL_loss: 5.6152 - reconstruction_loss: 151.0422 - val_loss: 157.0859 - val_KL_loss: 5.6536 - val_reconstruction_loss: 151.4322\n",
      "Epoch 14/100\n",
      "60000/60000 [==============================] - 1s 19us/sample - loss: 156.1062 - KL_loss: 5.6518 - reconstruction_loss: 150.4543 - val_loss: 156.5817 - val_KL_loss: 5.7454 - val_reconstruction_loss: 150.8363\n",
      "Epoch 15/100\n",
      "60000/60000 [==============================] - 1s 20us/sample - loss: 155.5988 - KL_loss: 5.6948 - reconstruction_loss: 149.9039 - val_loss: 156.2388 - val_KL_loss: 5.6531 - val_reconstruction_loss: 150.5857\n",
      "Epoch 16/100\n",
      "60000/60000 [==============================] - 1s 20us/sample - loss: 155.0809 - KL_loss: 5.7207 - reconstruction_loss: 149.3602 - val_loss: 155.6862 - val_KL_loss: 5.6224 - val_reconstruction_loss: 150.0638\n",
      "Epoch 17/100\n",
      "60000/60000 [==============================] - 1s 20us/sample - loss: 154.6193 - KL_loss: 5.7435 - reconstruction_loss: 148.8758 - val_loss: 155.5744 - val_KL_loss: 5.8993 - val_reconstruction_loss: 149.6750\n",
      "Epoch 18/100\n",
      "60000/60000 [==============================] - 1s 19us/sample - loss: 154.2372 - KL_loss: 5.7807 - reconstruction_loss: 148.4565 - val_loss: 155.1280 - val_KL_loss: 5.8558 - val_reconstruction_loss: 149.2722\n",
      "Epoch 19/100\n",
      "60000/60000 [==============================] - 1s 20us/sample - loss: 153.8635 - KL_loss: 5.8103 - reconstruction_loss: 148.0532 - val_loss: 154.8544 - val_KL_loss: 5.8526 - val_reconstruction_loss: 149.0018\n",
      "Epoch 20/100\n",
      "60000/60000 [==============================] - 1s 20us/sample - loss: 153.4464 - KL_loss: 5.8135 - reconstruction_loss: 147.6329 - val_loss: 154.5117 - val_KL_loss: 5.6474 - val_reconstruction_loss: 148.8644\n",
      "Epoch 21/100\n",
      "60000/60000 [==============================] - 1s 20us/sample - loss: 153.0925 - KL_loss: 5.8284 - reconstruction_loss: 147.2641 - val_loss: 154.3477 - val_KL_loss: 5.9205 - val_reconstruction_loss: 148.4273\n",
      "Epoch 22/100\n",
      "60000/60000 [==============================] - 1s 20us/sample - loss: 152.7310 - KL_loss: 5.8574 - reconstruction_loss: 146.8737 - val_loss: 153.9614 - val_KL_loss: 5.7456 - val_reconstruction_loss: 148.2158\n",
      "Epoch 23/100\n",
      "60000/60000 [==============================] - 1s 20us/sample - loss: 152.4519 - KL_loss: 5.8756 - reconstruction_loss: 146.5764 - val_loss: 153.6279 - val_KL_loss: 5.8487 - val_reconstruction_loss: 147.7792\n",
      "Epoch 24/100\n",
      "60000/60000 [==============================] - 1s 20us/sample - loss: 152.0895 - KL_loss: 5.8919 - reconstruction_loss: 146.1976 - val_loss: 153.6176 - val_KL_loss: 5.8591 - val_reconstruction_loss: 147.7585\n",
      "Epoch 25/100\n",
      "60000/60000 [==============================] - 1s 21us/sample - loss: 151.8319 - KL_loss: 5.9203 - reconstruction_loss: 145.9116 - val_loss: 153.3970 - val_KL_loss: 6.0322 - val_reconstruction_loss: 147.3648\n",
      "Epoch 26/100\n",
      "60000/60000 [==============================] - 1s 20us/sample - loss: 151.5940 - KL_loss: 5.9218 - reconstruction_loss: 145.6722 - val_loss: 153.2222 - val_KL_loss: 5.8432 - val_reconstruction_loss: 147.3789\n",
      "Epoch 27/100\n",
      "60000/60000 [==============================] - 1s 20us/sample - loss: 151.3764 - KL_loss: 5.9508 - reconstruction_loss: 145.4256 - val_loss: 153.1177 - val_KL_loss: 5.8624 - val_reconstruction_loss: 147.2554\n",
      "Epoch 28/100\n",
      "60000/60000 [==============================] - 1s 19us/sample - loss: 151.1220 - KL_loss: 5.9571 - reconstruction_loss: 145.1649 - val_loss: 152.7471 - val_KL_loss: 6.0214 - val_reconstruction_loss: 146.7257\n",
      "Epoch 29/100\n",
      "60000/60000 [==============================] - 1s 19us/sample - loss: 150.8228 - KL_loss: 5.9610 - reconstruction_loss: 144.8618 - val_loss: 152.5705 - val_KL_loss: 5.9007 - val_reconstruction_loss: 146.6698\n",
      "Epoch 30/100\n",
      "60000/60000 [==============================] - 1s 20us/sample - loss: 150.6398 - KL_loss: 5.9799 - reconstruction_loss: 144.6599 - val_loss: 152.5782 - val_KL_loss: 6.0507 - val_reconstruction_loss: 146.5275\n",
      "Epoch 31/100\n",
      "60000/60000 [==============================] - 1s 20us/sample - loss: 150.4253 - KL_loss: 5.9805 - reconstruction_loss: 144.4448 - val_loss: 152.4056 - val_KL_loss: 5.9991 - val_reconstruction_loss: 146.4065\n",
      "Epoch 32/100\n",
      "60000/60000 [==============================] - 1s 19us/sample - loss: 150.2439 - KL_loss: 6.0063 - reconstruction_loss: 144.2376 - val_loss: 152.3683 - val_KL_loss: 6.1420 - val_reconstruction_loss: 146.2264\n",
      "Epoch 33/100\n",
      "60000/60000 [==============================] - 1s 19us/sample - loss: 150.0086 - KL_loss: 6.0266 - reconstruction_loss: 143.9821 - val_loss: 152.3158 - val_KL_loss: 5.8065 - val_reconstruction_loss: 146.5092\n",
      "Epoch 34/100\n",
      "60000/60000 [==============================] - 1s 20us/sample - loss: 149.8565 - KL_loss: 6.0371 - reconstruction_loss: 143.8193 - val_loss: 151.9034 - val_KL_loss: 5.9933 - val_reconstruction_loss: 145.9100\n",
      "Epoch 35/100\n",
      "60000/60000 [==============================] - 1s 20us/sample - loss: 149.6818 - KL_loss: 6.0433 - reconstruction_loss: 143.6386 - val_loss: 152.0329 - val_KL_loss: 5.9469 - val_reconstruction_loss: 146.0860\n",
      "Epoch 36/100\n",
      "60000/60000 [==============================] - 1s 20us/sample - loss: 149.4601 - KL_loss: 6.0469 - reconstruction_loss: 143.4132 - val_loss: 152.0009 - val_KL_loss: 6.0777 - val_reconstruction_loss: 145.9232\n",
      "Epoch 37/100\n",
      "60000/60000 [==============================] - 1s 20us/sample - loss: 149.3282 - KL_loss: 6.0691 - reconstruction_loss: 143.2590 - val_loss: 151.7722 - val_KL_loss: 6.0554 - val_reconstruction_loss: 145.7168\n"
     ]
    },
    {
     "name": "stdout",
     "output_type": "stream",
     "text": [
      "Epoch 38/100\n",
      "60000/60000 [==============================] - 1s 19us/sample - loss: 149.1614 - KL_loss: 6.0751 - reconstruction_loss: 143.0862 - val_loss: 151.6316 - val_KL_loss: 6.0385 - val_reconstruction_loss: 145.5930\n",
      "Epoch 39/100\n",
      "60000/60000 [==============================] - 1s 20us/sample - loss: 149.0507 - KL_loss: 6.0896 - reconstruction_loss: 142.9611 - val_loss: 151.6205 - val_KL_loss: 6.1560 - val_reconstruction_loss: 145.4645\n",
      "Epoch 40/100\n",
      "60000/60000 [==============================] - 1s 20us/sample - loss: 148.8985 - KL_loss: 6.0931 - reconstruction_loss: 142.8054 - val_loss: 151.3316 - val_KL_loss: 6.0602 - val_reconstruction_loss: 145.2714\n",
      "Epoch 41/100\n",
      "60000/60000 [==============================] - 1s 20us/sample - loss: 148.7194 - KL_loss: 6.1102 - reconstruction_loss: 142.6093 - val_loss: 151.7643 - val_KL_loss: 6.0665 - val_reconstruction_loss: 145.6978\n",
      "Epoch 42/100\n",
      "60000/60000 [==============================] - 1s 20us/sample - loss: 148.5931 - KL_loss: 6.1293 - reconstruction_loss: 142.4637 - val_loss: 151.4084 - val_KL_loss: 5.9970 - val_reconstruction_loss: 145.4113\n",
      "Epoch 43/100\n",
      "60000/60000 [==============================] - 1s 20us/sample - loss: 148.4395 - KL_loss: 6.1271 - reconstruction_loss: 142.3124 - val_loss: 151.3459 - val_KL_loss: 5.9571 - val_reconstruction_loss: 145.3888\n",
      "Epoch 44/100\n",
      "60000/60000 [==============================] - 1s 20us/sample - loss: 148.3594 - KL_loss: 6.1338 - reconstruction_loss: 142.2256 - val_loss: 151.1215 - val_KL_loss: 6.3434 - val_reconstruction_loss: 144.7781\n",
      "Epoch 45/100\n",
      "60000/60000 [==============================] - 1s 20us/sample - loss: 148.2079 - KL_loss: 6.1325 - reconstruction_loss: 142.0755 - val_loss: 151.2396 - val_KL_loss: 6.0812 - val_reconstruction_loss: 145.1584\n",
      "Epoch 46/100\n",
      "60000/60000 [==============================] - 1s 20us/sample - loss: 148.1266 - KL_loss: 6.1545 - reconstruction_loss: 141.9721 - val_loss: 151.2149 - val_KL_loss: 6.0961 - val_reconstruction_loss: 145.1188\n",
      "Epoch 47/100\n",
      "60000/60000 [==============================] - 1s 20us/sample - loss: 147.9365 - KL_loss: 6.1524 - reconstruction_loss: 141.7841 - val_loss: 151.4644 - val_KL_loss: 6.2154 - val_reconstruction_loss: 145.2490\n",
      "Epoch 48/100\n",
      "60000/60000 [==============================] - 1s 20us/sample - loss: 147.8976 - KL_loss: 6.1562 - reconstruction_loss: 141.7415 - val_loss: 151.1536 - val_KL_loss: 6.1076 - val_reconstruction_loss: 145.0460\n",
      "Epoch 49/100\n",
      "60000/60000 [==============================] - 1s 20us/sample - loss: 147.7389 - KL_loss: 6.1734 - reconstruction_loss: 141.5656 - val_loss: 151.0046 - val_KL_loss: 6.0665 - val_reconstruction_loss: 144.9381\n",
      "Epoch 50/100\n",
      "60000/60000 [==============================] - 1s 20us/sample - loss: 147.6610 - KL_loss: 6.1759 - reconstruction_loss: 141.4852 - val_loss: 151.0854 - val_KL_loss: 6.0540 - val_reconstruction_loss: 145.0315\n",
      "Epoch 51/100\n",
      "60000/60000 [==============================] - 1s 20us/sample - loss: 147.5056 - KL_loss: 6.1773 - reconstruction_loss: 141.3283 - val_loss: 150.9878 - val_KL_loss: 6.0804 - val_reconstruction_loss: 144.9073\n",
      "Epoch 52/100\n",
      "60000/60000 [==============================] - 1s 20us/sample - loss: 147.4277 - KL_loss: 6.1946 - reconstruction_loss: 141.2330 - val_loss: 151.2112 - val_KL_loss: 6.3036 - val_reconstruction_loss: 144.9076\n",
      "Epoch 53/100\n",
      "60000/60000 [==============================] - 1s 20us/sample - loss: 147.3637 - KL_loss: 6.1959 - reconstruction_loss: 141.1678 - val_loss: 150.9786 - val_KL_loss: 6.2060 - val_reconstruction_loss: 144.7726\n",
      "Epoch 54/100\n",
      "60000/60000 [==============================] - 1s 20us/sample - loss: 147.2046 - KL_loss: 6.2001 - reconstruction_loss: 141.0045 - val_loss: 150.7095 - val_KL_loss: 6.1776 - val_reconstruction_loss: 144.5320\n",
      "Epoch 55/100\n",
      "60000/60000 [==============================] - 1s 20us/sample - loss: 147.1621 - KL_loss: 6.2111 - reconstruction_loss: 140.9510 - val_loss: 150.6778 - val_KL_loss: 6.0328 - val_reconstruction_loss: 144.6450\n",
      "Epoch 56/100\n",
      "60000/60000 [==============================] - 1s 20us/sample - loss: 147.0399 - KL_loss: 6.2238 - reconstruction_loss: 140.8161 - val_loss: 151.0099 - val_KL_loss: 6.2774 - val_reconstruction_loss: 144.7325\n",
      "Epoch 57/100\n",
      "60000/60000 [==============================] - 1s 20us/sample - loss: 146.9263 - KL_loss: 6.2236 - reconstruction_loss: 140.7027 - val_loss: 150.5189 - val_KL_loss: 6.1884 - val_reconstruction_loss: 144.3305\n",
      "Epoch 58/100\n",
      "60000/60000 [==============================] - 1s 21us/sample - loss: 146.8901 - KL_loss: 6.2246 - reconstruction_loss: 140.6655 - val_loss: 150.7050 - val_KL_loss: 6.2341 - val_reconstruction_loss: 144.4709\n",
      "Epoch 59/100\n",
      "60000/60000 [==============================] - 1s 21us/sample - loss: 146.7552 - KL_loss: 6.2387 - reconstruction_loss: 140.5165 - val_loss: 150.7030 - val_KL_loss: 6.3491 - val_reconstruction_loss: 144.3539\n",
      "Epoch 60/100\n",
      "60000/60000 [==============================] - 1s 21us/sample - loss: 146.6722 - KL_loss: 6.2335 - reconstruction_loss: 140.4387 - val_loss: 150.7387 - val_KL_loss: 6.2319 - val_reconstruction_loss: 144.5068\n",
      "Epoch 61/100\n",
      "60000/60000 [==============================] - 1s 21us/sample - loss: 146.6195 - KL_loss: 6.2431 - reconstruction_loss: 140.3764 - val_loss: 150.7965 - val_KL_loss: 6.1176 - val_reconstruction_loss: 144.6790\n",
      "Epoch 62/100\n",
      "60000/60000 [==============================] - 1s 22us/sample - loss: 146.5335 - KL_loss: 6.2509 - reconstruction_loss: 140.2825 - val_loss: 150.4867 - val_KL_loss: 6.1808 - val_reconstruction_loss: 144.3058\n",
      "Epoch 63/100\n",
      "60000/60000 [==============================] - 1s 21us/sample - loss: 146.4228 - KL_loss: 6.2688 - reconstruction_loss: 140.1541 - val_loss: 150.6534 - val_KL_loss: 6.1754 - val_reconstruction_loss: 144.4780\n",
      "Epoch 64/100\n",
      "60000/60000 [==============================] - 1s 20us/sample - loss: 146.3610 - KL_loss: 6.2651 - reconstruction_loss: 140.0959 - val_loss: 150.5072 - val_KL_loss: 6.2415 - val_reconstruction_loss: 144.2657\n",
      "Epoch 65/100\n",
      "60000/60000 [==============================] - 1s 20us/sample - loss: 146.2656 - KL_loss: 6.2714 - reconstruction_loss: 139.9942 - val_loss: 150.3938 - val_KL_loss: 6.1075 - val_reconstruction_loss: 144.2863\n",
      "Epoch 66/100\n",
      "60000/60000 [==============================] - 1s 20us/sample - loss: 146.2195 - KL_loss: 6.2678 - reconstruction_loss: 139.9517 - val_loss: 150.4995 - val_KL_loss: 6.2767 - val_reconstruction_loss: 144.2228\n",
      "Epoch 67/100\n",
      "60000/60000 [==============================] - 1s 20us/sample - loss: 146.1493 - KL_loss: 6.2760 - reconstruction_loss: 139.8732 - val_loss: 150.5390 - val_KL_loss: 6.1481 - val_reconstruction_loss: 144.3909\n",
      "Epoch 68/100\n",
      "60000/60000 [==============================] - 1s 20us/sample - loss: 146.0518 - KL_loss: 6.2783 - reconstruction_loss: 139.7734 - val_loss: 150.4542 - val_KL_loss: 6.2256 - val_reconstruction_loss: 144.2287\n",
      "Epoch 69/100\n",
      "60000/60000 [==============================] - 1s 20us/sample - loss: 146.0243 - KL_loss: 6.2848 - reconstruction_loss: 139.7395 - val_loss: 150.4514 - val_KL_loss: 6.1698 - val_reconstruction_loss: 144.2815\n",
      "Epoch 70/100\n",
      "60000/60000 [==============================] - 1s 20us/sample - loss: 145.9157 - KL_loss: 6.3068 - reconstruction_loss: 139.6089 - val_loss: 150.6818 - val_KL_loss: 6.2646 - val_reconstruction_loss: 144.4172\n",
      "Epoch 71/100\n",
      "60000/60000 [==============================] - 1s 20us/sample - loss: 145.8900 - KL_loss: 6.2971 - reconstruction_loss: 139.5930 - val_loss: 150.7094 - val_KL_loss: 6.2057 - val_reconstruction_loss: 144.5037\n",
      "Epoch 72/100\n",
      "60000/60000 [==============================] - 1s 20us/sample - loss: 145.8203 - KL_loss: 6.3055 - reconstruction_loss: 139.5148 - val_loss: 150.3473 - val_KL_loss: 6.3558 - val_reconstruction_loss: 143.9915\n",
      "Epoch 73/100\n",
      "60000/60000 [==============================] - 1s 19us/sample - loss: 145.7321 - KL_loss: 6.3115 - reconstruction_loss: 139.4206 - val_loss: 150.3129 - val_KL_loss: 6.2194 - val_reconstruction_loss: 144.0935\n",
      "Epoch 74/100\n",
      "60000/60000 [==============================] - 1s 19us/sample - loss: 145.6491 - KL_loss: 6.3077 - reconstruction_loss: 139.3415 - val_loss: 150.3198 - val_KL_loss: 6.1927 - val_reconstruction_loss: 144.1271\n",
      "Epoch 75/100\n"
     ]
    },
    {
     "name": "stdout",
     "output_type": "stream",
     "text": [
      "60000/60000 [==============================] - 1s 20us/sample - loss: 145.6252 - KL_loss: 6.3251 - reconstruction_loss: 139.3000 - val_loss: 150.6513 - val_KL_loss: 6.2446 - val_reconstruction_loss: 144.4066\n",
      "Epoch 76/100\n",
      "60000/60000 [==============================] - 1s 20us/sample - loss: 145.5788 - KL_loss: 6.3263 - reconstruction_loss: 139.2525 - val_loss: 150.3842 - val_KL_loss: 6.1863 - val_reconstruction_loss: 144.1979\n",
      "Epoch 77/100\n",
      "60000/60000 [==============================] - 1s 21us/sample - loss: 145.4816 - KL_loss: 6.3198 - reconstruction_loss: 139.1618 - val_loss: 150.4251 - val_KL_loss: 6.3349 - val_reconstruction_loss: 144.0901\n",
      "Epoch 78/100\n",
      "60000/60000 [==============================] - 1s 20us/sample - loss: 145.3781 - KL_loss: 6.3198 - reconstruction_loss: 139.0584 - val_loss: 150.3364 - val_KL_loss: 6.2994 - val_reconstruction_loss: 144.0370\n",
      "Epoch 79/100\n",
      "60000/60000 [==============================] - 1s 20us/sample - loss: 145.3670 - KL_loss: 6.3321 - reconstruction_loss: 139.0349 - val_loss: 150.3781 - val_KL_loss: 6.3019 - val_reconstruction_loss: 144.0762\n",
      "Epoch 80/100\n",
      "60000/60000 [==============================] - 1s 20us/sample - loss: 145.3186 - KL_loss: 6.3256 - reconstruction_loss: 138.9930 - val_loss: 150.3860 - val_KL_loss: 6.2799 - val_reconstruction_loss: 144.1061\n",
      "Epoch 81/100\n",
      "60000/60000 [==============================] - 1s 19us/sample - loss: 145.2658 - KL_loss: 6.3407 - reconstruction_loss: 138.9250 - val_loss: 150.1281 - val_KL_loss: 6.3404 - val_reconstruction_loss: 143.7877\n",
      "Epoch 82/100\n",
      "60000/60000 [==============================] - 1s 20us/sample - loss: 145.1577 - KL_loss: 6.3287 - reconstruction_loss: 138.8289 - val_loss: 150.3201 - val_KL_loss: 6.2230 - val_reconstruction_loss: 144.0971\n",
      "Epoch 83/100\n",
      "60000/60000 [==============================] - 1s 20us/sample - loss: 145.1503 - KL_loss: 6.3451 - reconstruction_loss: 138.8052 - val_loss: 150.2509 - val_KL_loss: 6.3356 - val_reconstruction_loss: 143.9153\n",
      "Epoch 84/100\n",
      "60000/60000 [==============================] - 1s 20us/sample - loss: 145.0770 - KL_loss: 6.3539 - reconstruction_loss: 138.7231 - val_loss: 150.2669 - val_KL_loss: 6.4617 - val_reconstruction_loss: 143.8053\n",
      "Epoch 85/100\n",
      "60000/60000 [==============================] - 1s 20us/sample - loss: 145.0494 - KL_loss: 6.3579 - reconstruction_loss: 138.6914 - val_loss: 150.3190 - val_KL_loss: 6.3334 - val_reconstruction_loss: 143.9857\n",
      "Epoch 86/100\n",
      "60000/60000 [==============================] - 1s 20us/sample - loss: 144.9619 - KL_loss: 6.3612 - reconstruction_loss: 138.6007 - val_loss: 150.1663 - val_KL_loss: 6.4122 - val_reconstruction_loss: 143.7541\n",
      "Epoch 87/100\n",
      "60000/60000 [==============================] - 1s 20us/sample - loss: 144.8889 - KL_loss: 6.3574 - reconstruction_loss: 138.5315 - val_loss: 150.1921 - val_KL_loss: 6.3238 - val_reconstruction_loss: 143.8682\n",
      "Epoch 88/100\n",
      "60000/60000 [==============================] - 1s 20us/sample - loss: 144.8212 - KL_loss: 6.3646 - reconstruction_loss: 138.4566 - val_loss: 150.1718 - val_KL_loss: 6.3605 - val_reconstruction_loss: 143.8114\n",
      "Epoch 89/100\n",
      "60000/60000 [==============================] - 1s 20us/sample - loss: 144.8047 - KL_loss: 6.3639 - reconstruction_loss: 138.4408 - val_loss: 150.3936 - val_KL_loss: 6.3026 - val_reconstruction_loss: 144.0910\n",
      "Epoch 90/100\n",
      "60000/60000 [==============================] - 1s 20us/sample - loss: 144.8245 - KL_loss: 6.3785 - reconstruction_loss: 138.4460 - val_loss: 150.4105 - val_KL_loss: 6.3585 - val_reconstruction_loss: 144.0520\n",
      "Epoch 91/100\n",
      "60000/60000 [==============================] - 1s 20us/sample - loss: 144.6765 - KL_loss: 6.3803 - reconstruction_loss: 138.2962 - val_loss: 150.1194 - val_KL_loss: 6.3667 - val_reconstruction_loss: 143.7527\n",
      "Epoch 92/100\n",
      "60000/60000 [==============================] - 1s 20us/sample - loss: 144.6485 - KL_loss: 6.3787 - reconstruction_loss: 138.2698 - val_loss: 150.2123 - val_KL_loss: 6.3866 - val_reconstruction_loss: 143.8257\n",
      "Epoch 93/100\n",
      "60000/60000 [==============================] - 1s 20us/sample - loss: 144.5811 - KL_loss: 6.3828 - reconstruction_loss: 138.1983 - val_loss: 150.1185 - val_KL_loss: 6.2345 - val_reconstruction_loss: 143.8840\n",
      "Epoch 94/100\n",
      "60000/60000 [==============================] - 1s 21us/sample - loss: 144.5648 - KL_loss: 6.3741 - reconstruction_loss: 138.1908 - val_loss: 150.3904 - val_KL_loss: 6.3442 - val_reconstruction_loss: 144.0462\n",
      "Epoch 95/100\n",
      "60000/60000 [==============================] - 1s 20us/sample - loss: 144.5298 - KL_loss: 6.3785 - reconstruction_loss: 138.1512 - val_loss: 150.1319 - val_KL_loss: 6.2141 - val_reconstruction_loss: 143.9177\n",
      "Epoch 96/100\n",
      "60000/60000 [==============================] - 1s 19us/sample - loss: 144.4812 - KL_loss: 6.3883 - reconstruction_loss: 138.0929 - val_loss: 150.1328 - val_KL_loss: 6.2933 - val_reconstruction_loss: 143.8395\n",
      "Epoch 97/100\n",
      "60000/60000 [==============================] - 1s 19us/sample - loss: 144.4271 - KL_loss: 6.4043 - reconstruction_loss: 138.0228 - val_loss: 150.0169 - val_KL_loss: 6.3303 - val_reconstruction_loss: 143.6866\n",
      "Epoch 98/100\n",
      "60000/60000 [==============================] - 1s 21us/sample - loss: 144.4735 - KL_loss: 6.4061 - reconstruction_loss: 138.0674 - val_loss: 150.1856 - val_KL_loss: 6.2978 - val_reconstruction_loss: 143.8877\n",
      "Epoch 99/100\n",
      "60000/60000 [==============================] - 1s 20us/sample - loss: 144.3637 - KL_loss: 6.3974 - reconstruction_loss: 137.9663 - val_loss: 150.0433 - val_KL_loss: 6.3286 - val_reconstruction_loss: 143.7147\n",
      "Epoch 100/100\n",
      "60000/60000 [==============================] - 1s 21us/sample - loss: 144.2829 - KL_loss: 6.4077 - reconstruction_loss: 137.8752 - val_loss: 150.2143 - val_KL_loss: 6.3137 - val_reconstruction_loss: 143.9006\n"
     ]
    },
    {
     "data": {
      "text/plain": [
       "<tensorflow.python.keras.callbacks.History at 0x7fbce0c874e0>"
      ]
     },
     "execution_count": 6,
     "metadata": {},
     "output_type": "execute_result"
    }
   ],
   "source": [
    "auto_encoder.fit(x_train, x_train, verbose=1, \n",
    "                 batch_size=batch_size, epochs=100,\n",
    "                 validation_data=(x_test, x_test))"
   ]
  },
  {
   "cell_type": "code",
   "execution_count": 7,
   "metadata": {},
   "outputs": [
    {
     "data": {
      "image/png": "[encoded data removed]",
      "text/plain": [
       "<PIL.Image.Image image mode=L size=56x56 at 0x7FBD90164B38>"
      ]
     },
     "execution_count": 7,
     "metadata": {},
     "output_type": "execute_result"
    }
   ],
   "source": [
    "random_number = np.asarray([[np.random.normal() \n",
    "                            for _ in range(latent_space_depth)]])\n",
    "def decode_img(a):\n",
    "    a = np.clip(a * 256, 0, 255).astype('uint8')\n",
    "    return PIL.Image.fromarray(a)\n",
    "\n",
    "decode_img(decoder.predict(random_number).reshape(img_width, img_height)).resize((56, 56))\n"
   ]
  },
  {
   "cell_type": "code",
   "execution_count": 8,
   "metadata": {
    "scrolled": true
   },
   "outputs": [
    {
     "data": {
      "image/png": "[encoded data removed]",
      "text/plain": [
       "<PIL.Image.Image image mode=RGB size=328x328 at 0x7FBCA47504A8>"
      ]
     },
     "execution_count": 8,
     "metadata": {},
     "output_type": "execute_result"
    }
   ],
   "source": [
    "num_cells = 10\n",
    "\n",
    "overview = PIL.Image.new('RGB', \n",
    "                         (num_cells * (img_width + 4) + 8, \n",
    "                          num_cells * (img_height + 4) + 8), \n",
    "                         (128, 128, 128))\n",
    "\n",
    "vec = np.zeros((1, latent_space_depth))\n",
    "for x in range(num_cells):\n",
    "    vec[:, 0] = (x * 3) / (num_cells - 1) - 1.5\n",
    "    for y in range(num_cells):\n",
    "        vec[:, 1] = (y * 3) / (num_cells - 1) - 1.5\n",
    "        decoded = decoder.predict(vec)\n",
    "        img = decode_img(decoded.reshape(img_width, img_height))\n",
    "        overview.paste(img, (x * (img_width + 4) + 6, y * (img_height + 4) + 6))\n",
    "overview"
   ]
  },
  {
   "cell_type": "code",
   "execution_count": 16,
   "metadata": {},
   "outputs": [
    {
     "name": "stdout",
     "output_type": "stream",
     "text": [
      "(None, 2)\n"
     ]
    },
    {
     "ename": "ValueError",
     "evalue": "A `Concatenate` layer requires inputs with matching shapes except for the concat axis. Got inputs shapes: [(250, 2), (None, 10)]",
     "output_type": "error",
     "traceback": [
      "\u001b[0;31m---------------------------------------------------------------------------\u001b[0m",
      "\u001b[0;31mValueError\u001b[0m                                Traceback (most recent call last)",
      "\u001b[0;32m<ipython-input-16-fe4d46977613>\u001b[0m in \u001b[0;36m<module>\u001b[0;34m()\u001b[0m\n\u001b[1;32m     42\u001b[0m     \u001b[0;32mreturn\u001b[0m \u001b[0mauto_encoder\u001b[0m\u001b[0;34m,\u001b[0m \u001b[0mdecoder\u001b[0m\u001b[0;34m\u001b[0m\u001b[0m\n\u001b[1;32m     43\u001b[0m \u001b[0;34m\u001b[0m\u001b[0m\n\u001b[0;32m---> 44\u001b[0;31m \u001b[0mcond_auto_encoder\u001b[0m\u001b[0;34m,\u001b[0m \u001b[0mcond_decoder\u001b[0m \u001b[0;34m=\u001b[0m \u001b[0mConditionalVariationalAutoEncoder\u001b[0m\u001b[0;34m(\u001b[0m\u001b[0mx_train\u001b[0m\u001b[0;34m.\u001b[0m\u001b[0mshape\u001b[0m\u001b[0;34m[\u001b[0m\u001b[0;36m1\u001b[0m\u001b[0;34m]\u001b[0m\u001b[0;34m,\u001b[0m \u001b[0my_train\u001b[0m\u001b[0;34m.\u001b[0m\u001b[0mshape\u001b[0m\u001b[0;34m[\u001b[0m\u001b[0;36m1\u001b[0m\u001b[0;34m]\u001b[0m\u001b[0;34m)\u001b[0m\u001b[0;34m\u001b[0m\u001b[0m\n\u001b[0m\u001b[1;32m     45\u001b[0m \u001b[0mcond_auto_encoder\u001b[0m\u001b[0;34m.\u001b[0m\u001b[0msummary\u001b[0m\u001b[0;34m(\u001b[0m\u001b[0;34m)\u001b[0m\u001b[0;34m\u001b[0m\u001b[0m\n",
      "\u001b[0;32m<ipython-input-16-fe4d46977613>\u001b[0m in \u001b[0;36mConditionalVariationalAutoEncoder\u001b[0;34m(num_pixels, num_labels)\u001b[0m\n\u001b[1;32m     21\u001b[0m     \u001b[0mz\u001b[0m \u001b[0;34m=\u001b[0m \u001b[0mLambda\u001b[0m\u001b[0;34m(\u001b[0m\u001b[0msample_z\u001b[0m\u001b[0;34m,\u001b[0m \u001b[0moutput_shape\u001b[0m\u001b[0;34m=\u001b[0m\u001b[0;34m(\u001b[0m\u001b[0mlatent_space_depth\u001b[0m\u001b[0;34m,\u001b[0m \u001b[0;34m)\u001b[0m\u001b[0;34m)\u001b[0m\u001b[0;34m(\u001b[0m\u001b[0;34m[\u001b[0m\u001b[0mz_mean\u001b[0m\u001b[0;34m,\u001b[0m \u001b[0mz_log_var\u001b[0m\u001b[0;34m]\u001b[0m\u001b[0;34m)\u001b[0m\u001b[0;34m\u001b[0m\u001b[0m\n\u001b[1;32m     22\u001b[0m     \u001b[0mprint\u001b[0m\u001b[0;34m(\u001b[0m\u001b[0mz_log_var\u001b[0m\u001b[0;34m.\u001b[0m\u001b[0mshape\u001b[0m\u001b[0;34m)\u001b[0m\u001b[0;34m\u001b[0m\u001b[0m\n\u001b[0;32m---> 23\u001b[0;31m     \u001b[0mzc\u001b[0m \u001b[0;34m=\u001b[0m \u001b[0mconcat\u001b[0m\u001b[0;34m(\u001b[0m\u001b[0;34m)\u001b[0m\u001b[0;34m(\u001b[0m\u001b[0;34m[\u001b[0m\u001b[0mz\u001b[0m\u001b[0;34m,\u001b[0m \u001b[0mlabel\u001b[0m\u001b[0;34m]\u001b[0m\u001b[0;34m)\u001b[0m\u001b[0;34m\u001b[0m\u001b[0m\n\u001b[0m\u001b[1;32m     24\u001b[0m \u001b[0;34m\u001b[0m\u001b[0m\n\u001b[1;32m     25\u001b[0m     \u001b[0mdecoder_hidden\u001b[0m \u001b[0;34m=\u001b[0m \u001b[0mDense\u001b[0m\u001b[0;34m(\u001b[0m\u001b[0;36m512\u001b[0m\u001b[0;34m,\u001b[0m \u001b[0mactivation\u001b[0m\u001b[0;34m=\u001b[0m\u001b[0;34m'relu'\u001b[0m\u001b[0;34m)\u001b[0m\u001b[0;34m\u001b[0m\u001b[0m\n",
      "\u001b[0;32m~/.pyenv/versions/3.6.0/envs/dlc_org/lib/python3.6/site-packages/tensorflow/python/keras/engine/base_layer.py\u001b[0m in \u001b[0;36m__call__\u001b[0;34m(self, inputs, *args, **kwargs)\u001b[0m\n\u001b[1;32m    592\u001b[0m           \u001b[0;31m# Build layer if applicable (if the `build` method has been\u001b[0m\u001b[0;34m\u001b[0m\u001b[0;34m\u001b[0m\u001b[0m\n\u001b[1;32m    593\u001b[0m           \u001b[0;31m# overridden).\u001b[0m\u001b[0;34m\u001b[0m\u001b[0;34m\u001b[0m\u001b[0m\n\u001b[0;32m--> 594\u001b[0;31m           \u001b[0mself\u001b[0m\u001b[0;34m.\u001b[0m\u001b[0m_maybe_build\u001b[0m\u001b[0;34m(\u001b[0m\u001b[0minputs\u001b[0m\u001b[0;34m)\u001b[0m\u001b[0;34m\u001b[0m\u001b[0m\n\u001b[0m\u001b[1;32m    595\u001b[0m           \u001b[0;31m# Explicitly pass the learning phase placeholder to `call` if\u001b[0m\u001b[0;34m\u001b[0m\u001b[0;34m\u001b[0m\u001b[0m\n\u001b[1;32m    596\u001b[0m           \u001b[0;31m# the `training` argument was left unspecified by the user.\u001b[0m\u001b[0;34m\u001b[0m\u001b[0;34m\u001b[0m\u001b[0m\n",
      "\u001b[0;32m~/.pyenv/versions/3.6.0/envs/dlc_org/lib/python3.6/site-packages/tensorflow/python/keras/engine/base_layer.py\u001b[0m in \u001b[0;36m_maybe_build\u001b[0;34m(self, inputs)\u001b[0m\n\u001b[1;32m   1711\u001b[0m     \u001b[0;31m# Only call `build` if the user has manually overridden the build method.\u001b[0m\u001b[0;34m\u001b[0m\u001b[0;34m\u001b[0m\u001b[0m\n\u001b[1;32m   1712\u001b[0m     \u001b[0;32mif\u001b[0m \u001b[0;32mnot\u001b[0m \u001b[0mhasattr\u001b[0m\u001b[0;34m(\u001b[0m\u001b[0mself\u001b[0m\u001b[0;34m.\u001b[0m\u001b[0mbuild\u001b[0m\u001b[0;34m,\u001b[0m \u001b[0;34m'_is_default'\u001b[0m\u001b[0;34m)\u001b[0m\u001b[0;34m:\u001b[0m\u001b[0;34m\u001b[0m\u001b[0m\n\u001b[0;32m-> 1713\u001b[0;31m       \u001b[0mself\u001b[0m\u001b[0;34m.\u001b[0m\u001b[0mbuild\u001b[0m\u001b[0;34m(\u001b[0m\u001b[0minput_shapes\u001b[0m\u001b[0;34m)\u001b[0m\u001b[0;34m\u001b[0m\u001b[0m\n\u001b[0m\u001b[1;32m   1714\u001b[0m     \u001b[0;31m# We must set self.built since user defined build functions are not\u001b[0m\u001b[0;34m\u001b[0m\u001b[0;34m\u001b[0m\u001b[0m\n\u001b[1;32m   1715\u001b[0m     \u001b[0;31m# constrained to set self.built.\u001b[0m\u001b[0;34m\u001b[0m\u001b[0;34m\u001b[0m\u001b[0m\n",
      "\u001b[0;32m~/.pyenv/versions/3.6.0/envs/dlc_org/lib/python3.6/site-packages/tensorflow/python/keras/utils/tf_utils.py\u001b[0m in \u001b[0;36mwrapper\u001b[0;34m(instance, input_shape)\u001b[0m\n\u001b[1;32m    288\u001b[0m     \u001b[0;32mif\u001b[0m \u001b[0minput_shape\u001b[0m \u001b[0;32mis\u001b[0m \u001b[0;32mnot\u001b[0m \u001b[0;32mNone\u001b[0m\u001b[0;34m:\u001b[0m\u001b[0;34m\u001b[0m\u001b[0m\n\u001b[1;32m    289\u001b[0m       \u001b[0minput_shape\u001b[0m \u001b[0;34m=\u001b[0m \u001b[0mconvert_shapes\u001b[0m\u001b[0;34m(\u001b[0m\u001b[0minput_shape\u001b[0m\u001b[0;34m,\u001b[0m \u001b[0mto_tuples\u001b[0m\u001b[0;34m=\u001b[0m\u001b[0;32mTrue\u001b[0m\u001b[0;34m)\u001b[0m\u001b[0;34m\u001b[0m\u001b[0m\n\u001b[0;32m--> 290\u001b[0;31m     \u001b[0moutput_shape\u001b[0m \u001b[0;34m=\u001b[0m \u001b[0mfn\u001b[0m\u001b[0;34m(\u001b[0m\u001b[0minstance\u001b[0m\u001b[0;34m,\u001b[0m \u001b[0minput_shape\u001b[0m\u001b[0;34m)\u001b[0m\u001b[0;34m\u001b[0m\u001b[0m\n\u001b[0m\u001b[1;32m    291\u001b[0m     \u001b[0;31m# Return shapes from `fn` as TensorShapes.\u001b[0m\u001b[0;34m\u001b[0m\u001b[0;34m\u001b[0m\u001b[0m\n\u001b[1;32m    292\u001b[0m     \u001b[0;32mif\u001b[0m \u001b[0moutput_shape\u001b[0m \u001b[0;32mis\u001b[0m \u001b[0;32mnot\u001b[0m \u001b[0;32mNone\u001b[0m\u001b[0;34m:\u001b[0m\u001b[0;34m\u001b[0m\u001b[0m\n",
      "\u001b[0;32m~/.pyenv/versions/3.6.0/envs/dlc_org/lib/python3.6/site-packages/tensorflow/python/keras/layers/merge.py\u001b[0m in \u001b[0;36mbuild\u001b[0;34m(self, input_shape)\u001b[0m\n\u001b[1;32m    390\u001b[0m                        \u001b[0;34m'inputs with matching shapes '\u001b[0m\u001b[0;34m\u001b[0m\u001b[0m\n\u001b[1;32m    391\u001b[0m                        \u001b[0;34m'except for the concat axis. '\u001b[0m\u001b[0;34m\u001b[0m\u001b[0m\n\u001b[0;32m--> 392\u001b[0;31m                        'Got inputs shapes: %s' % (input_shape))\n\u001b[0m\u001b[1;32m    393\u001b[0m \u001b[0;34m\u001b[0m\u001b[0m\n\u001b[1;32m    394\u001b[0m   \u001b[0;32mdef\u001b[0m \u001b[0m_merge_function\u001b[0m\u001b[0;34m(\u001b[0m\u001b[0mself\u001b[0m\u001b[0;34m,\u001b[0m \u001b[0minputs\u001b[0m\u001b[0;34m)\u001b[0m\u001b[0;34m:\u001b[0m\u001b[0;34m\u001b[0m\u001b[0m\n",
      "\u001b[0;31mValueError\u001b[0m: A `Concatenate` layer requires inputs with matching shapes except for the concat axis. Got inputs shapes: [(250, 2), (None, 10)]"
     ]
    }
   ],
   "source": [
    "def ConditionalVariationalAutoEncoder(num_pixels, num_labels):\n",
    "    pixels = Input(shape=(num_pixels,))\n",
    "    label = Input(shape=(num_labels,), name='label')\n",
    "\n",
    "    inputs = concat(name='inputs')([pixels, label])\n",
    "    \n",
    "    encoder_hidden = Dense(512, activation='relu', name='encoder_hidden')(inputs)\n",
    "\n",
    "    z_mean = Dense(latent_space_depth, activation='linear')(encoder_hidden)\n",
    "    z_log_var = Dense(latent_space_depth, activation='linear')(encoder_hidden)\n",
    "    \n",
    "    def KL_loss(y_true, y_pred):\n",
    "        return(0.5 * K.sum(K.exp(z_log_var) + K.square(z_mean) - 1 - z_log_var, axis=1))\n",
    "\n",
    "    def reconstruction_loss(y_true, y_pred):\n",
    "        return K.sum(K.binary_crossentropy(y_true, y_pred), axis=-1)    \n",
    "\n",
    "    def total_loss(y_true, y_pred):\n",
    "        return KL_loss(y_true, y_pred) + reconstruction_loss(y_true, y_pred)\n",
    "\n",
    "    z = Lambda(sample_z, output_shape=(latent_space_depth, ))([z_mean, z_log_var])\n",
    "    zc = concat()([z, label])\n",
    "    \n",
    "    decoder_hidden = Dense(512, activation='relu')\n",
    "\n",
    "    reconstruct_pixels = Dense(num_pixels, activation='sigmoid')\n",
    "\n",
    "    decoder_in = Input(shape=(latent_space_depth + num_labels,))\n",
    "    hidden = decoder_hidden(decoder_in)\n",
    "    decoder_out = reconstruct_pixels(hidden)\n",
    "    decoder = Model(decoder_in, decoder_out)    \n",
    "    \n",
    "    hidden = decoder_hidden(zc)\n",
    "    outputs = reconstruct_pixels(hidden)\n",
    "    auto_encoder = Model([pixels, label], outputs)\n",
    "\n",
    "    auto_encoder.compile(optimizer=Adam(lr=0.001), \n",
    "                         loss=total_loss,\n",
    "                         metrics=[KL_loss, reconstruction_loss])\n",
    "    \n",
    "    return auto_encoder, decoder\n",
    "\n",
    "cond_auto_encoder, cond_decoder = ConditionalVariationalAutoEncoder(x_train.shape[1], y_train.shape[1])\n",
    "cond_auto_encoder.summary()"
   ]
  },
  {
   "cell_type": "code",
   "execution_count": null,
   "metadata": {},
   "outputs": [],
   "source": [
    "cond_auto_encoder.fit([x_train, y_train], x_train, verbose=1, \n",
    "                      batch_size=batch_size, epochs=50,\n",
    "                      validation_data = ([x_test, y_test], x_test))"
   ]
  },
  {
   "cell_type": "code",
   "execution_count": null,
   "metadata": {},
   "outputs": [],
   "source": [
    "number_4 = np.zeros((1, latent_space_depth + y_train.shape[1]))\n",
    "number_4[:, 4 + latent_space_depth] = 1\n",
    "decode_img(cond_decoder.predict(number_4).reshape(\n",
    "               img_width, img_height)).resize((56, 56))"
   ]
  },
  {
   "cell_type": "code",
   "execution_count": null,
   "metadata": {},
   "outputs": [],
   "source": [
    "number_8_3 = np.zeros((1, latent_space_depth + y_train.shape[1]))\n",
    "number_8_3[:, 8 + latent_space_depth] = 0.5\n",
    "number_8_3[:, 3 + latent_space_depth] = 0.5\n",
    "decode_img(cond_decoder.predict(number_8_3).reshape(\n",
    "               img_width, img_height)).resize((56, 56))"
   ]
  },
  {
   "cell_type": "code",
   "execution_count": null,
   "metadata": {},
   "outputs": [],
   "source": [
    "digits = [3, 0, 8, 9]\n",
    "num_cells = 10\n",
    "\n",
    "overview = PIL.Image.new('RGB', \n",
    "                         (num_cells * (img_width + 4) + 8, \n",
    "                          num_cells * (img_height + 4) + 8), \n",
    "                         (128, 128, 128))\n",
    "\n",
    "vec = np.zeros((1, latent_space_depth + y_train.shape[1]))\n",
    "for x in range(num_cells):\n",
    "    x1 = [x / (num_cells - 1), 1 - x / (num_cells - 1)]\n",
    "    for y in range(num_cells):\n",
    "        y1 = [y / (num_cells - 1), 1 - y / (num_cells - 1)]\n",
    "        for idx, dig in enumerate(digits):\n",
    "            vec[:, dig + latent_space_depth] = x1[idx % 2] * y1[idx // 2]\n",
    "        decoded = cond_decoder.predict(vec)\n",
    "        img = decode_img(decoded.reshape(img_width, img_height))\n",
    "        overview.paste(img, (x * (img_width + 4) + 6, y * (img_height + 4) + 6))\n",
    "overview"
   ]
  },
  {
   "cell_type": "code",
   "execution_count": null,
   "metadata": {},
   "outputs": [],
   "source": [
    "num_cells = 10\n",
    "\n",
    "overview = PIL.Image.new('RGB', \n",
    "                         (num_cells * (img_width + 4) + 8, \n",
    "                          num_cells * (img_height + 4) + 8), \n",
    "                         (128, 128, 128))\n",
    "\n",
    "img_it = 0\n",
    "vec = np.zeros((1, latent_space_depth + y_train.shape[1]))\n",
    "for x in range(num_cells):\n",
    "    vec = np.zeros((1, latent_space_depth + y_train.shape[1]))\n",
    "    vec[:, x + latent_space_depth] = 1\n",
    "    for y in range(num_cells):\n",
    "        vec[:, 1] = 3 * y / (num_cells - 1) - 1.5\n",
    "        decoded = cond_decoder.predict(vec)\n",
    "        img = decode_img(decoded.reshape(img_width, img_height))\n",
    "        overview.paste(img, (x * (img_width + 4) + 6, y * (img_height + 4) + 6))\n",
    "overview"
   ]
  },
  {
   "cell_type": "code",
   "execution_count": null,
   "metadata": {},
   "outputs": [],
   "source": []
  }
 ],
 "metadata": {
  "kernelspec": {
   "display_name": "Python 3",
   "language": "python",
   "name": "python3"
  },
  "language_info": {
   "codemirror_mode": {
    "name": "ipython",
    "version": 3
   },
   "file_extension": ".py",
   "mimetype": "text/x-python",
   "name": "python",
   "nbconvert_exporter": "python",
   "pygments_lexer": "ipython3",
   "version": "3.6.0"
  },
  "toc": {
   "colors": {
    "hover_highlight": "#DAA520",
    "navigate_num": "#000000",
    "navigate_text": "#333333",
    "running_highlight": "#FF0000",
    "selected_highlight": "#FFD700",
    "sidebar_border": "#EEEEEE",
    "wrapper_background": "#FFFFFF"
   },
   "moveMenuLeft": true,
   "nav_menu": {
    "height": "263px",
    "width": "253px"
   },
   "navigate_menu": true,
   "number_sections": true,
   "sideBar": true,
   "threshold": 4,
   "toc_cell": false,
   "toc_section_display": "block",
   "toc_window_display": false,
   "widenNotebook": false
  }
 },
 "nbformat": 4,
 "nbformat_minor": 1
}
