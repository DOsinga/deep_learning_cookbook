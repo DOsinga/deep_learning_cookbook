{
 "cells": [
  {
   "cell_type": "code",
   "execution_count": 1,
   "metadata": {},
   "outputs": [],
   "source": [
    "import numpy as np\n",
    "from tensorflow.keras.layers import Input, Dense, Lambda\n",
    "from tensorflow.keras.layers import Concatenate as concat\n",
    "from tensorflow.keras.models import Model\n",
    "from tensorflow.keras import backend as K\n",
    "from tensorflow.keras.datasets import mnist\n",
    "from tensorflow.keras.utils import to_categorical\n",
    "from tensorflow.keras.callbacks import EarlyStopping\n",
    "from tensorflow.keras.optimizers import Adam\n",
    "\n",
    "from io import BytesIO\n",
    "import PIL\n",
    "from IPython.display import clear_output, Image, display, HTML"
   ]
  },
  {
   "cell_type": "code",
   "execution_count": 2,
   "metadata": {},
   "outputs": [],
   "source": [
    "def prepare(images, labels):\n",
    "    images = images.astype('float32') / 255\n",
    "    n, w, h = images.shape\n",
    "    return images.reshape((n, w * h)), to_categorical(labels)\n",
    "\n",
    "train, test = mnist.load_data()\n",
    "x_train, y_train = prepare(*train)\n",
    "x_test, y_test = prepare(*test)\n",
    "img_width, img_height = train[0].shape[1:]"
   ]
  },
  {
   "cell_type": "code",
   "execution_count": 3,
   "metadata": {},
   "outputs": [],
   "source": [
    "batch_size = 250\n",
    "latent_space_depth = 2\n",
    "\n",
    "def sample_z(args):\n",
    "    z_mean, z_log_var = args\n",
    "    eps = K.random_normal(shape=(batch_size, latent_space_depth), mean=0., stddev=1.)\n",
    "    return z_mean + K.exp(z_log_var / 2) * eps\n"
   ]
  },
  {
   "cell_type": "code",
   "execution_count": 4,
   "metadata": {},
   "outputs": [
    {
     "name": "stdout",
     "output_type": "stream",
     "text": [
      "WARNING:tensorflow:From /home/ohtamans/.pyenv/versions/3.6.7/envs/cookbook/lib/python3.6/site-packages/tensorflow/python/ops/resource_variable_ops.py:651: colocate_with (from tensorflow.python.framework.ops) is deprecated and will be removed in a future version.\n",
      "Instructions for updating:\n",
      "Colocations handled automatically by placer.\n",
      "__________________________________________________________________________________________________\n",
      "Layer (type)                    Output Shape         Param #     Connected to                     \n",
      "==================================================================================================\n",
      "input_1 (InputLayer)            [(None, 784)]        0                                            \n",
      "__________________________________________________________________________________________________\n",
      "dense (Dense)                   (None, 512)          401920      <tensorflow.python.keras.engine.i\n",
      "__________________________________________________________________________________________________\n",
      "dense_1 (Dense)                 (None, 2)            1026        <tensorflow.python.keras.layers.c\n",
      "__________________________________________________________________________________________________\n",
      "dense_2 (Dense)                 (None, 2)            1026        <tensorflow.python.keras.layers.c\n",
      "__________________________________________________________________________________________________\n",
      "lambda (Lambda)                 (250, 2)             0           <tensorflow.python.keras.layers.c\n",
      "                                                                 <tensorflow.python.keras.layers.c\n",
      "__________________________________________________________________________________________________\n",
      "dense_3 (Dense)                 multiple             1536        <tensorflow.python.keras.layers.c\n",
      "__________________________________________________________________________________________________\n",
      "dense_4 (Dense)                 multiple             402192      <tensorflow.python.keras.layers.c\n",
      "==================================================================================================\n",
      "Total params: 807,700\n",
      "Trainable params: 807,700\n",
      "Non-trainable params: 0\n",
      "__________________________________________________________________________________________________\n"
     ]
    }
   ],
   "source": [
    "def VariationalAutoEncoder(num_pixels):\n",
    "    pixels = Input(shape=(num_pixels,))\n",
    "    encoder_hidden = Dense(512, activation='relu')(pixels)\n",
    "\n",
    "    z_mean = Dense(latent_space_depth, activation='linear')(encoder_hidden)\n",
    "    z_log_var = Dense(latent_space_depth, activation='linear')(encoder_hidden)\n",
    "    \n",
    "    def KL_loss(y_true, y_pred):\n",
    "        return(0.5 * K.sum(K.exp(z_log_var) + K.square(z_mean) - 1 - z_log_var, axis=1))\n",
    "\n",
    "    def reconstruction_loss(y_true, y_pred):\n",
    "        return K.sum(K.binary_crossentropy(y_true, y_pred), axis=-1)    \n",
    "\n",
    "    def total_loss(y_true, y_pred):\n",
    "        return KL_loss(y_true, y_pred) + reconstruction_loss(y_true, y_pred)\n",
    "\n",
    "    z = Lambda(sample_z, output_shape=(latent_space_depth, ))([z_mean, z_log_var])\n",
    "    \n",
    "    decoder_hidden = Dense(512, activation='relu')\n",
    "\n",
    "    reconstruct_pixels = Dense(num_pixels, activation='sigmoid')\n",
    "\n",
    "    decoder_in = Input(shape=(latent_space_depth,))\n",
    "    hidden = decoder_hidden(decoder_in)\n",
    "    decoder_out = reconstruct_pixels(hidden)\n",
    "    decoder = Model(decoder_in, decoder_out)    \n",
    "    \n",
    "    hidden = decoder_hidden(z)\n",
    "    outputs = reconstruct_pixels(hidden)\n",
    "    auto_encoder = Model(pixels, outputs)\n",
    "\n",
    "    auto_encoder.compile(optimizer=Adam(lr=0.001), \n",
    "                         loss=total_loss,\n",
    "                         metrics=[KL_loss, reconstruction_loss])\n",
    "    \n",
    "    return auto_encoder, decoder\n",
    "\n",
    "auto_encoder, decoder = VariationalAutoEncoder(x_train.shape[1])\n",
    "auto_encoder.summary()"
   ]
  },
  {
   "cell_type": "code",
   "execution_count": 5,
   "metadata": {},
   "outputs": [
    {
     "data": {
      "text/plain": [
       "((60000, 784), (60000, 10), (10000, 784), (10000, 10))"
      ]
     },
     "execution_count": 5,
     "metadata": {},
     "output_type": "execute_result"
    }
   ],
   "source": [
    "x_train.shape, y_train.shape, x_test.shape, y_test.shape"
   ]
  },
  {
   "cell_type": "code",
   "execution_count": 6,
   "metadata": {
    "scrolled": false
   },
   "outputs": [
    {
     "name": "stdout",
     "output_type": "stream",
     "text": [
      "Train on 60000 samples, validate on 10000 samples\n",
      "WARNING:tensorflow:From /home/ohtamans/.pyenv/versions/3.6.7/envs/cookbook/lib/python3.6/site-packages/tensorflow/python/ops/math_ops.py:3067: to_int32 (from tensorflow.python.ops.math_ops) is deprecated and will be removed in a future version.\n",
      "Instructions for updating:\n",
      "Use tf.cast instead.\n",
      "Epoch 1/100\n",
      "60000/60000 [==============================] - 7s 109us/sample - loss: 213.0243 - KL_loss: 10.8843 - reconstruction_loss: 202.1400 - val_loss: 179.0701 - val_KL_loss: 5.3094 - val_reconstruction_loss: 173.7607\n",
      "Epoch 2/100\n",
      "60000/60000 [==============================] - 1s 22us/sample - loss: 172.8680 - KL_loss: 5.0559 - reconstruction_loss: 167.8121 - val_loss: 169.1655 - val_KL_loss: 4.7591 - val_reconstruction_loss: 164.4064\n",
      "Epoch 3/100\n",
      "60000/60000 [==============================] - 1s 22us/sample - loss: 167.6031 - KL_loss: 4.9342 - reconstruction_loss: 162.6689 - val_loss: 166.5269 - val_KL_loss: 5.0481 - val_reconstruction_loss: 161.4788\n",
      "Epoch 4/100\n",
      "60000/60000 [==============================] - 1s 22us/sample - loss: 165.3367 - KL_loss: 5.0053 - reconstruction_loss: 160.3314 - val_loss: 164.7846 - val_KL_loss: 4.9357 - val_reconstruction_loss: 159.8489\n",
      "Epoch 5/100\n",
      "60000/60000 [==============================] - 1s 22us/sample - loss: 163.5755 - KL_loss: 5.0917 - reconstruction_loss: 158.4838 - val_loss: 163.1756 - val_KL_loss: 5.1575 - val_reconstruction_loss: 158.0181\n",
      "Epoch 6/100\n",
      "60000/60000 [==============================] - 1s 22us/sample - loss: 162.0133 - KL_loss: 5.1856 - reconstruction_loss: 156.8277 - val_loss: 161.6953 - val_KL_loss: 5.1765 - val_reconstruction_loss: 156.5188\n",
      "Epoch 7/100\n",
      "60000/60000 [==============================] - 1s 22us/sample - loss: 160.6781 - KL_loss: 5.2965 - reconstruction_loss: 155.3815 - val_loss: 160.3677 - val_KL_loss: 5.3557 - val_reconstruction_loss: 155.0120\n",
      "Epoch 8/100\n",
      "60000/60000 [==============================] - 1s 22us/sample - loss: 159.5106 - KL_loss: 5.3646 - reconstruction_loss: 154.1461 - val_loss: 159.5759 - val_KL_loss: 5.3109 - val_reconstruction_loss: 154.2649\n",
      "Epoch 9/100\n",
      "60000/60000 [==============================] - 1s 22us/sample - loss: 158.5681 - KL_loss: 5.4231 - reconstruction_loss: 153.1450 - val_loss: 158.9181 - val_KL_loss: 5.4054 - val_reconstruction_loss: 153.5127\n",
      "Epoch 10/100\n",
      "60000/60000 [==============================] - 1s 22us/sample - loss: 157.7166 - KL_loss: 5.4862 - reconstruction_loss: 152.2303 - val_loss: 157.8627 - val_KL_loss: 5.6087 - val_reconstruction_loss: 152.2540\n",
      "Epoch 11/100\n",
      "60000/60000 [==============================] - 1s 22us/sample - loss: 157.0381 - KL_loss: 5.5341 - reconstruction_loss: 151.5040 - val_loss: 157.3529 - val_KL_loss: 5.4739 - val_reconstruction_loss: 151.8790\n",
      "Epoch 12/100\n",
      "60000/60000 [==============================] - 1s 22us/sample - loss: 156.4409 - KL_loss: 5.5801 - reconstruction_loss: 150.8608 - val_loss: 156.6465 - val_KL_loss: 5.6117 - val_reconstruction_loss: 151.0348\n",
      "Epoch 13/100\n",
      "60000/60000 [==============================] - 1s 22us/sample - loss: 155.8762 - KL_loss: 5.6080 - reconstruction_loss: 150.2682 - val_loss: 156.5281 - val_KL_loss: 5.7498 - val_reconstruction_loss: 150.7782\n",
      "Epoch 14/100\n",
      "60000/60000 [==============================] - 1s 23us/sample - loss: 155.4135 - KL_loss: 5.6423 - reconstruction_loss: 149.7713 - val_loss: 156.2041 - val_KL_loss: 5.7970 - val_reconstruction_loss: 150.4071\n",
      "Epoch 15/100\n",
      "60000/60000 [==============================] - 1s 22us/sample - loss: 154.9616 - KL_loss: 5.6680 - reconstruction_loss: 149.2936 - val_loss: 155.4426 - val_KL_loss: 5.7206 - val_reconstruction_loss: 149.7220\n",
      "Epoch 16/100\n",
      "60000/60000 [==============================] - 1s 23us/sample - loss: 154.5950 - KL_loss: 5.6884 - reconstruction_loss: 148.9066 - val_loss: 155.3605 - val_KL_loss: 5.6941 - val_reconstruction_loss: 149.6663\n",
      "Epoch 17/100\n",
      "60000/60000 [==============================] - 1s 22us/sample - loss: 154.2123 - KL_loss: 5.7127 - reconstruction_loss: 148.4996 - val_loss: 155.1788 - val_KL_loss: 5.7095 - val_reconstruction_loss: 149.4693\n",
      "Epoch 18/100\n",
      "60000/60000 [==============================] - 1s 22us/sample - loss: 153.8708 - KL_loss: 5.7384 - reconstruction_loss: 148.1323 - val_loss: 154.8736 - val_KL_loss: 5.7483 - val_reconstruction_loss: 149.1253\n",
      "Epoch 19/100\n",
      "60000/60000 [==============================] - 1s 22us/sample - loss: 153.5832 - KL_loss: 5.7645 - reconstruction_loss: 147.8188 - val_loss: 154.5361 - val_KL_loss: 5.6726 - val_reconstruction_loss: 148.8635\n",
      "Epoch 20/100\n",
      "60000/60000 [==============================] - 1s 23us/sample - loss: 153.2305 - KL_loss: 5.7669 - reconstruction_loss: 147.4636 - val_loss: 154.4617 - val_KL_loss: 5.6731 - val_reconstruction_loss: 148.7886\n",
      "Epoch 21/100\n",
      "60000/60000 [==============================] - 1s 22us/sample - loss: 153.0378 - KL_loss: 5.7909 - reconstruction_loss: 147.2468 - val_loss: 154.2578 - val_KL_loss: 5.6473 - val_reconstruction_loss: 148.6105\n",
      "Epoch 22/100\n",
      "60000/60000 [==============================] - 1s 22us/sample - loss: 152.7408 - KL_loss: 5.8149 - reconstruction_loss: 146.9258 - val_loss: 154.0339 - val_KL_loss: 5.6562 - val_reconstruction_loss: 148.3777\n",
      "Epoch 23/100\n",
      "60000/60000 [==============================] - 1s 22us/sample - loss: 152.4321 - KL_loss: 5.8190 - reconstruction_loss: 146.6132 - val_loss: 153.7986 - val_KL_loss: 5.7674 - val_reconstruction_loss: 148.0312\n",
      "Epoch 24/100\n",
      "60000/60000 [==============================] - 1s 22us/sample - loss: 152.2237 - KL_loss: 5.8427 - reconstruction_loss: 146.3810 - val_loss: 153.8875 - val_KL_loss: 5.6314 - val_reconstruction_loss: 148.2561\n",
      "Epoch 25/100\n",
      "60000/60000 [==============================] - 1s 22us/sample - loss: 151.9830 - KL_loss: 5.8586 - reconstruction_loss: 146.1243 - val_loss: 153.3449 - val_KL_loss: 5.6549 - val_reconstruction_loss: 147.6900\n",
      "Epoch 26/100\n",
      "60000/60000 [==============================] - 1s 22us/sample - loss: 151.7358 - KL_loss: 5.8773 - reconstruction_loss: 145.8585 - val_loss: 153.3283 - val_KL_loss: 5.7521 - val_reconstruction_loss: 147.5762\n",
      "Epoch 27/100\n",
      "60000/60000 [==============================] - 1s 22us/sample - loss: 151.5784 - KL_loss: 5.8923 - reconstruction_loss: 145.6861 - val_loss: 153.2390 - val_KL_loss: 5.8688 - val_reconstruction_loss: 147.3703\n",
      "Epoch 28/100\n",
      "60000/60000 [==============================] - 1s 21us/sample - loss: 151.3308 - KL_loss: 5.9129 - reconstruction_loss: 145.4179 - val_loss: 153.0890 - val_KL_loss: 5.7600 - val_reconstruction_loss: 147.3290\n",
      "Epoch 29/100\n",
      "60000/60000 [==============================] - 1s 23us/sample - loss: 151.1745 - KL_loss: 5.9221 - reconstruction_loss: 145.2524 - val_loss: 152.8561 - val_KL_loss: 5.7188 - val_reconstruction_loss: 147.1373\n",
      "Epoch 30/100\n",
      "60000/60000 [==============================] - 1s 23us/sample - loss: 150.9719 - KL_loss: 5.9366 - reconstruction_loss: 145.0353 - val_loss: 152.7957 - val_KL_loss: 5.9323 - val_reconstruction_loss: 146.8634\n",
      "Epoch 31/100\n",
      "60000/60000 [==============================] - 1s 22us/sample - loss: 150.7885 - KL_loss: 5.9505 - reconstruction_loss: 144.8380 - val_loss: 152.8320 - val_KL_loss: 5.9277 - val_reconstruction_loss: 146.9044\n",
      "Epoch 32/100\n",
      "60000/60000 [==============================] - 1s 22us/sample - loss: 150.5976 - KL_loss: 5.9648 - reconstruction_loss: 144.6328 - val_loss: 152.6151 - val_KL_loss: 5.8179 - val_reconstruction_loss: 146.7972\n",
      "Epoch 33/100\n",
      "60000/60000 [==============================] - 1s 22us/sample - loss: 150.4035 - KL_loss: 5.9717 - reconstruction_loss: 144.4317 - val_loss: 152.6685 - val_KL_loss: 6.0297 - val_reconstruction_loss: 146.6388\n",
      "Epoch 34/100\n",
      "60000/60000 [==============================] - 1s 23us/sample - loss: 150.2454 - KL_loss: 5.9839 - reconstruction_loss: 144.2616 - val_loss: 152.4180 - val_KL_loss: 5.8676 - val_reconstruction_loss: 146.5504\n",
      "Epoch 35/100\n",
      "60000/60000 [==============================] - 1s 22us/sample - loss: 150.0603 - KL_loss: 5.9965 - reconstruction_loss: 144.0638 - val_loss: 152.4478 - val_KL_loss: 6.0183 - val_reconstruction_loss: 146.4295\n",
      "Epoch 36/100\n"
     ]
    },
    {
     "name": "stdout",
     "output_type": "stream",
     "text": [
      "60000/60000 [==============================] - 1s 22us/sample - loss: 149.9510 - KL_loss: 6.0118 - reconstruction_loss: 143.9392 - val_loss: 152.3305 - val_KL_loss: 5.8932 - val_reconstruction_loss: 146.4373\n",
      "Epoch 37/100\n",
      "60000/60000 [==============================] - 1s 22us/sample - loss: 149.7429 - KL_loss: 6.0222 - reconstruction_loss: 143.7207 - val_loss: 152.2370 - val_KL_loss: 5.8794 - val_reconstruction_loss: 146.3576\n",
      "Epoch 38/100\n",
      "60000/60000 [==============================] - 1s 22us/sample - loss: 149.6248 - KL_loss: 6.0399 - reconstruction_loss: 143.5848 - val_loss: 152.1296 - val_KL_loss: 6.0069 - val_reconstruction_loss: 146.1227\n",
      "Epoch 39/100\n",
      "60000/60000 [==============================] - 1s 21us/sample - loss: 149.4880 - KL_loss: 6.0386 - reconstruction_loss: 143.4494 - val_loss: 152.0558 - val_KL_loss: 5.9192 - val_reconstruction_loss: 146.1367\n",
      "Epoch 40/100\n",
      "60000/60000 [==============================] - 1s 21us/sample - loss: 149.3422 - KL_loss: 6.0369 - reconstruction_loss: 143.3053 - val_loss: 151.8933 - val_KL_loss: 6.0493 - val_reconstruction_loss: 145.8439\n",
      "Epoch 41/100\n",
      "60000/60000 [==============================] - 1s 22us/sample - loss: 149.1922 - KL_loss: 6.0606 - reconstruction_loss: 143.1315 - val_loss: 151.9030 - val_KL_loss: 6.0161 - val_reconstruction_loss: 145.8869\n",
      "Epoch 42/100\n",
      "60000/60000 [==============================] - 1s 22us/sample - loss: 149.0475 - KL_loss: 6.0690 - reconstruction_loss: 142.9786 - val_loss: 152.1125 - val_KL_loss: 6.0345 - val_reconstruction_loss: 146.0780\n",
      "Epoch 43/100\n",
      "60000/60000 [==============================] - 1s 22us/sample - loss: 148.9517 - KL_loss: 6.0819 - reconstruction_loss: 142.8698 - val_loss: 151.7292 - val_KL_loss: 5.9418 - val_reconstruction_loss: 145.7874\n",
      "Epoch 44/100\n",
      "60000/60000 [==============================] - 1s 22us/sample - loss: 148.8216 - KL_loss: 6.0776 - reconstruction_loss: 142.7440 - val_loss: 151.6904 - val_KL_loss: 6.0446 - val_reconstruction_loss: 145.6457\n",
      "Epoch 45/100\n",
      "60000/60000 [==============================] - 1s 22us/sample - loss: 148.7508 - KL_loss: 6.0967 - reconstruction_loss: 142.6541 - val_loss: 151.9357 - val_KL_loss: 6.0931 - val_reconstruction_loss: 145.8427\n",
      "Epoch 46/100\n",
      "60000/60000 [==============================] - 1s 22us/sample - loss: 148.5767 - KL_loss: 6.1009 - reconstruction_loss: 142.4759 - val_loss: 151.8122 - val_KL_loss: 6.0006 - val_reconstruction_loss: 145.8115\n",
      "Epoch 47/100\n",
      "60000/60000 [==============================] - 1s 21us/sample - loss: 148.4777 - KL_loss: 6.1167 - reconstruction_loss: 142.3610 - val_loss: 151.7462 - val_KL_loss: 6.0626 - val_reconstruction_loss: 145.6836\n",
      "Epoch 48/100\n",
      "60000/60000 [==============================] - 1s 21us/sample - loss: 148.3324 - KL_loss: 6.1246 - reconstruction_loss: 142.2078 - val_loss: 151.6552 - val_KL_loss: 6.1138 - val_reconstruction_loss: 145.5414\n",
      "Epoch 49/100\n",
      "60000/60000 [==============================] - 1s 22us/sample - loss: 148.2697 - KL_loss: 6.1162 - reconstruction_loss: 142.1534 - val_loss: 151.7127 - val_KL_loss: 6.0261 - val_reconstruction_loss: 145.6867\n",
      "Epoch 50/100\n",
      "60000/60000 [==============================] - 1s 22us/sample - loss: 148.1223 - KL_loss: 6.1306 - reconstruction_loss: 141.9917 - val_loss: 151.6234 - val_KL_loss: 6.0030 - val_reconstruction_loss: 145.6204\n",
      "Epoch 51/100\n",
      "60000/60000 [==============================] - 1s 23us/sample - loss: 148.0286 - KL_loss: 6.1432 - reconstruction_loss: 141.8853 - val_loss: 151.3641 - val_KL_loss: 6.1039 - val_reconstruction_loss: 145.2602\n",
      "Epoch 52/100\n",
      "60000/60000 [==============================] - 1s 22us/sample - loss: 147.9653 - KL_loss: 6.1429 - reconstruction_loss: 141.8224 - val_loss: 151.5280 - val_KL_loss: 6.1682 - val_reconstruction_loss: 145.3598\n",
      "Epoch 53/100\n",
      "60000/60000 [==============================] - 1s 22us/sample - loss: 147.8135 - KL_loss: 6.1550 - reconstruction_loss: 141.6584 - val_loss: 151.3378 - val_KL_loss: 6.0502 - val_reconstruction_loss: 145.2876\n",
      "Epoch 54/100\n",
      "60000/60000 [==============================] - 1s 22us/sample - loss: 147.7226 - KL_loss: 6.1490 - reconstruction_loss: 141.5736 - val_loss: 151.2102 - val_KL_loss: 6.0120 - val_reconstruction_loss: 145.1982\n",
      "Epoch 55/100\n",
      "60000/60000 [==============================] - 1s 22us/sample - loss: 147.6658 - KL_loss: 6.1815 - reconstruction_loss: 141.4843 - val_loss: 151.1869 - val_KL_loss: 6.2394 - val_reconstruction_loss: 144.9475\n",
      "Epoch 56/100\n",
      "60000/60000 [==============================] - 1s 22us/sample - loss: 147.5341 - KL_loss: 6.1672 - reconstruction_loss: 141.3669 - val_loss: 151.3389 - val_KL_loss: 6.0523 - val_reconstruction_loss: 145.2865\n",
      "Epoch 57/100\n",
      "60000/60000 [==============================] - 1s 21us/sample - loss: 147.4827 - KL_loss: 6.1838 - reconstruction_loss: 141.2989 - val_loss: 151.1556 - val_KL_loss: 6.1422 - val_reconstruction_loss: 145.0134\n",
      "Epoch 58/100\n",
      "60000/60000 [==============================] - 1s 22us/sample - loss: 147.4221 - KL_loss: 6.1834 - reconstruction_loss: 141.2386 - val_loss: 151.3447 - val_KL_loss: 6.1678 - val_reconstruction_loss: 145.1769\n",
      "Epoch 59/100\n",
      "60000/60000 [==============================] - 1s 22us/sample - loss: 147.3061 - KL_loss: 6.1937 - reconstruction_loss: 141.1124 - val_loss: 151.3263 - val_KL_loss: 6.2736 - val_reconstruction_loss: 145.0527\n",
      "Epoch 60/100\n",
      "60000/60000 [==============================] - 1s 22us/sample - loss: 147.2468 - KL_loss: 6.2100 - reconstruction_loss: 141.0368 - val_loss: 151.1379 - val_KL_loss: 6.1751 - val_reconstruction_loss: 144.9628\n",
      "Epoch 61/100\n",
      "60000/60000 [==============================] - 1s 22us/sample - loss: 147.1374 - KL_loss: 6.2124 - reconstruction_loss: 140.9251 - val_loss: 151.3394 - val_KL_loss: 6.1684 - val_reconstruction_loss: 145.1709\n",
      "Epoch 62/100\n",
      "60000/60000 [==============================] - 1s 22us/sample - loss: 147.0576 - KL_loss: 6.2128 - reconstruction_loss: 140.8448 - val_loss: 151.1803 - val_KL_loss: 6.2203 - val_reconstruction_loss: 144.9599\n",
      "Epoch 63/100\n",
      "60000/60000 [==============================] - 1s 22us/sample - loss: 146.9517 - KL_loss: 6.2169 - reconstruction_loss: 140.7348 - val_loss: 151.2958 - val_KL_loss: 6.1830 - val_reconstruction_loss: 145.1128\n",
      "Epoch 64/100\n",
      "60000/60000 [==============================] - 1s 22us/sample - loss: 146.8870 - KL_loss: 6.2207 - reconstruction_loss: 140.6663 - val_loss: 151.2252 - val_KL_loss: 6.3601 - val_reconstruction_loss: 144.8651\n",
      "Epoch 65/100\n",
      "60000/60000 [==============================] - 1s 22us/sample - loss: 146.8431 - KL_loss: 6.2395 - reconstruction_loss: 140.6036 - val_loss: 151.1519 - val_KL_loss: 6.1936 - val_reconstruction_loss: 144.9583\n",
      "Epoch 66/100\n",
      "60000/60000 [==============================] - 1s 22us/sample - loss: 146.7593 - KL_loss: 6.2414 - reconstruction_loss: 140.5179 - val_loss: 151.1601 - val_KL_loss: 6.1643 - val_reconstruction_loss: 144.9958\n",
      "Epoch 67/100\n",
      "60000/60000 [==============================] - 1s 22us/sample - loss: 146.6361 - KL_loss: 6.2301 - reconstruction_loss: 140.4061 - val_loss: 150.8509 - val_KL_loss: 6.1164 - val_reconstruction_loss: 144.7345\n",
      "Epoch 68/100\n",
      "60000/60000 [==============================] - 1s 22us/sample - loss: 146.5925 - KL_loss: 6.2395 - reconstruction_loss: 140.3530 - val_loss: 150.8751 - val_KL_loss: 6.1158 - val_reconstruction_loss: 144.7593\n",
      "Epoch 69/100\n",
      "60000/60000 [==============================] - 1s 22us/sample - loss: 146.5216 - KL_loss: 6.2468 - reconstruction_loss: 140.2747 - val_loss: 150.9975 - val_KL_loss: 6.2780 - val_reconstruction_loss: 144.7195\n",
      "Epoch 70/100\n",
      "60000/60000 [==============================] - 1s 22us/sample - loss: 146.4558 - KL_loss: 6.2519 - reconstruction_loss: 140.2039 - val_loss: 151.0348 - val_KL_loss: 6.1634 - val_reconstruction_loss: 144.8713\n",
      "Epoch 71/100\n",
      "60000/60000 [==============================] - 1s 22us/sample - loss: 146.3999 - KL_loss: 6.2655 - reconstruction_loss: 140.1344 - val_loss: 151.1178 - val_KL_loss: 6.1972 - val_reconstruction_loss: 144.9206\n",
      "Epoch 72/100\n",
      "60000/60000 [==============================] - 1s 22us/sample - loss: 146.2821 - KL_loss: 6.2609 - reconstruction_loss: 140.0212 - val_loss: 150.9785 - val_KL_loss: 6.1948 - val_reconstruction_loss: 144.7837\n",
      "Epoch 73/100\n"
     ]
    },
    {
     "name": "stdout",
     "output_type": "stream",
     "text": [
      "60000/60000 [==============================] - 1s 22us/sample - loss: 146.2376 - KL_loss: 6.2564 - reconstruction_loss: 139.9812 - val_loss: 151.3741 - val_KL_loss: 6.2264 - val_reconstruction_loss: 145.1477\n",
      "Epoch 74/100\n",
      "60000/60000 [==============================] - 1s 22us/sample - loss: 146.1799 - KL_loss: 6.2773 - reconstruction_loss: 139.9025 - val_loss: 150.7840 - val_KL_loss: 6.2394 - val_reconstruction_loss: 144.5446\n",
      "Epoch 75/100\n",
      "60000/60000 [==============================] - 1s 22us/sample - loss: 146.1251 - KL_loss: 6.2820 - reconstruction_loss: 139.8432 - val_loss: 150.9174 - val_KL_loss: 6.2526 - val_reconstruction_loss: 144.6648\n",
      "Epoch 76/100\n",
      "60000/60000 [==============================] - 1s 23us/sample - loss: 146.0444 - KL_loss: 6.2851 - reconstruction_loss: 139.7594 - val_loss: 150.9116 - val_KL_loss: 6.2860 - val_reconstruction_loss: 144.6257\n",
      "Epoch 77/100\n",
      "60000/60000 [==============================] - 1s 22us/sample - loss: 145.9825 - KL_loss: 6.2849 - reconstruction_loss: 139.6977 - val_loss: 150.9495 - val_KL_loss: 6.2332 - val_reconstruction_loss: 144.7163\n",
      "Epoch 78/100\n",
      "60000/60000 [==============================] - 1s 22us/sample - loss: 145.9160 - KL_loss: 6.2961 - reconstruction_loss: 139.6198 - val_loss: 150.7495 - val_KL_loss: 6.3381 - val_reconstruction_loss: 144.4114\n",
      "Epoch 79/100\n",
      "60000/60000 [==============================] - 1s 22us/sample - loss: 145.8649 - KL_loss: 6.3031 - reconstruction_loss: 139.5618 - val_loss: 150.9336 - val_KL_loss: 6.3311 - val_reconstruction_loss: 144.6026\n",
      "Epoch 80/100\n",
      "60000/60000 [==============================] - 1s 22us/sample - loss: 145.7623 - KL_loss: 6.3111 - reconstruction_loss: 139.4512 - val_loss: 150.8623 - val_KL_loss: 6.2938 - val_reconstruction_loss: 144.5685\n",
      "Epoch 81/100\n",
      "60000/60000 [==============================] - 1s 22us/sample - loss: 145.7296 - KL_loss: 6.3089 - reconstruction_loss: 139.4207 - val_loss: 150.9079 - val_KL_loss: 6.2306 - val_reconstruction_loss: 144.6773\n",
      "Epoch 82/100\n",
      "60000/60000 [==============================] - 1s 22us/sample - loss: 145.6839 - KL_loss: 6.3093 - reconstruction_loss: 139.3746 - val_loss: 150.9589 - val_KL_loss: 6.2022 - val_reconstruction_loss: 144.7567\n",
      "Epoch 83/100\n",
      "60000/60000 [==============================] - 1s 22us/sample - loss: 145.6178 - KL_loss: 6.3166 - reconstruction_loss: 139.3012 - val_loss: 150.6695 - val_KL_loss: 6.2290 - val_reconstruction_loss: 144.4405\n",
      "Epoch 84/100\n",
      "60000/60000 [==============================] - 1s 22us/sample - loss: 145.5646 - KL_loss: 6.3207 - reconstruction_loss: 139.2439 - val_loss: 150.7734 - val_KL_loss: 6.1911 - val_reconstruction_loss: 144.5823\n",
      "Epoch 85/100\n",
      "60000/60000 [==============================] - 1s 21us/sample - loss: 145.4947 - KL_loss: 6.3186 - reconstruction_loss: 139.1762 - val_loss: 150.6479 - val_KL_loss: 6.1612 - val_reconstruction_loss: 144.4868\n",
      "Epoch 86/100\n",
      "60000/60000 [==============================] - 1s 22us/sample - loss: 145.4011 - KL_loss: 6.3325 - reconstruction_loss: 139.0686 - val_loss: 150.7651 - val_KL_loss: 6.4702 - val_reconstruction_loss: 144.2949\n",
      "Epoch 87/100\n",
      "60000/60000 [==============================] - 1s 22us/sample - loss: 145.3180 - KL_loss: 6.3195 - reconstruction_loss: 138.9985 - val_loss: 150.4321 - val_KL_loss: 6.3139 - val_reconstruction_loss: 144.1183\n",
      "Epoch 88/100\n",
      "60000/60000 [==============================] - 1s 22us/sample - loss: 145.2687 - KL_loss: 6.3351 - reconstruction_loss: 138.9336 - val_loss: 150.4540 - val_KL_loss: 6.3089 - val_reconstruction_loss: 144.1451\n",
      "Epoch 89/100\n",
      "60000/60000 [==============================] - 1s 22us/sample - loss: 145.2328 - KL_loss: 6.3367 - reconstruction_loss: 138.8960 - val_loss: 150.4798 - val_KL_loss: 6.1581 - val_reconstruction_loss: 144.3217\n",
      "Epoch 90/100\n",
      "60000/60000 [==============================] - 1s 22us/sample - loss: 145.1546 - KL_loss: 6.3361 - reconstruction_loss: 138.8185 - val_loss: 150.6876 - val_KL_loss: 6.3699 - val_reconstruction_loss: 144.3177\n",
      "Epoch 91/100\n",
      "60000/60000 [==============================] - 1s 21us/sample - loss: 145.1181 - KL_loss: 6.3416 - reconstruction_loss: 138.7765 - val_loss: 150.6635 - val_KL_loss: 6.3002 - val_reconstruction_loss: 144.3634\n",
      "Epoch 92/100\n",
      "60000/60000 [==============================] - 1s 22us/sample - loss: 145.0975 - KL_loss: 6.3476 - reconstruction_loss: 138.7499 - val_loss: 150.5988 - val_KL_loss: 6.3345 - val_reconstruction_loss: 144.2643\n",
      "Epoch 93/100\n",
      "60000/60000 [==============================] - 1s 22us/sample - loss: 145.0381 - KL_loss: 6.3480 - reconstruction_loss: 138.6900 - val_loss: 150.6790 - val_KL_loss: 6.1516 - val_reconstruction_loss: 144.5273\n",
      "Epoch 94/100\n",
      "60000/60000 [==============================] - 1s 22us/sample - loss: 144.9768 - KL_loss: 6.3489 - reconstruction_loss: 138.6279 - val_loss: 150.6488 - val_KL_loss: 6.2639 - val_reconstruction_loss: 144.3849\n",
      "Epoch 95/100\n",
      "60000/60000 [==============================] - 1s 22us/sample - loss: 144.9701 - KL_loss: 6.3693 - reconstruction_loss: 138.6007 - val_loss: 150.6019 - val_KL_loss: 6.2726 - val_reconstruction_loss: 144.3293\n",
      "Epoch 96/100\n",
      "60000/60000 [==============================] - 1s 22us/sample - loss: 144.7766 - KL_loss: 6.3499 - reconstruction_loss: 138.4267 - val_loss: 150.5355 - val_KL_loss: 6.3206 - val_reconstruction_loss: 144.2149\n",
      "Epoch 97/100\n",
      "60000/60000 [==============================] - 1s 22us/sample - loss: 144.8394 - KL_loss: 6.3689 - reconstruction_loss: 138.4705 - val_loss: 150.5891 - val_KL_loss: 6.2239 - val_reconstruction_loss: 144.3651\n",
      "Epoch 98/100\n",
      "60000/60000 [==============================] - 1s 22us/sample - loss: 144.7674 - KL_loss: 6.3706 - reconstruction_loss: 138.3968 - val_loss: 150.5525 - val_KL_loss: 6.2002 - val_reconstruction_loss: 144.3523\n",
      "Epoch 99/100\n",
      "60000/60000 [==============================] - 1s 22us/sample - loss: 144.6984 - KL_loss: 6.3873 - reconstruction_loss: 138.3112 - val_loss: 150.3696 - val_KL_loss: 6.2938 - val_reconstruction_loss: 144.0758\n",
      "Epoch 100/100\n",
      "60000/60000 [==============================] - 1s 22us/sample - loss: 144.6659 - KL_loss: 6.3854 - reconstruction_loss: 138.2805 - val_loss: 150.7197 - val_KL_loss: 6.3287 - val_reconstruction_loss: 144.3910\n"
     ]
    },
    {
     "data": {
      "text/plain": [
       "<tensorflow.python.keras.callbacks.History at 0x7fe2b9c90588>"
      ]
     },
     "execution_count": 6,
     "metadata": {},
     "output_type": "execute_result"
    }
   ],
   "source": [
    "auto_encoder.fit(x_train, x_train, verbose=1, \n",
    "                 batch_size=batch_size, epochs=100,\n",
    "                 validation_data=(x_test, x_test))"
   ]
  },
  {
   "cell_type": "code",
   "execution_count": 7,
   "metadata": {},
   "outputs": [
    {
     "data": {
      "image/png": "[encoded data removed]",
      "text/plain": [
       "<PIL.Image.Image image mode=L size=56x56 at 0x7FE2A06B7FD0>"
      ]
     },
     "execution_count": 7,
     "metadata": {},
     "output_type": "execute_result"
    }
   ],
   "source": [
    "random_number = np.asarray([[np.random.normal() \n",
    "                            for _ in range(latent_space_depth)]])\n",
    "def decode_img(a):\n",
    "    a = np.clip(a * 256, 0, 255).astype('uint8')\n",
    "    return PIL.Image.fromarray(a)\n",
    "\n",
    "decode_img(decoder.predict(random_number).reshape(img_width, img_height)).resize((56, 56))\n"
   ]
  },
  {
   "cell_type": "code",
   "execution_count": 8,
   "metadata": {
    "scrolled": true
   },
   "outputs": [
    {
     "data": {
      "image/png": "[encoded data removed]",
      "text/plain": [
       "<PIL.Image.Image image mode=RGB size=328x328 at 0x7FE2A05C3208>"
      ]
     },
     "execution_count": 8,
     "metadata": {},
     "output_type": "execute_result"
    }
   ],
   "source": [
    "num_cells = 10\n",
    "\n",
    "overview = PIL.Image.new('RGB', \n",
    "                         (num_cells * (img_width + 4) + 8, \n",
    "                          num_cells * (img_height + 4) + 8), \n",
    "                         (128, 128, 128))\n",
    "\n",
    "vec = np.zeros((1, latent_space_depth))\n",
    "for x in range(num_cells):\n",
    "    vec[:, 0] = (x * 3) / (num_cells - 1) - 1.5\n",
    "    for y in range(num_cells):\n",
    "        vec[:, 1] = (y * 3) / (num_cells - 1) - 1.5\n",
    "        decoded = decoder.predict(vec)\n",
    "        img = decode_img(decoded.reshape(img_width, img_height))\n",
    "        overview.paste(img, (x * (img_width + 4) + 6, y * (img_height + 4) + 6))\n",
    "overview"
   ]
  },
  {
   "cell_type": "code",
   "execution_count": 9,
   "metadata": {},
   "outputs": [
    {
     "ename": "ValueError",
     "evalue": "A `Concatenate` layer requires inputs with matching shapes except for the concat axis. Got inputs shapes: [(250, 2), (None, 10)]",
     "output_type": "error",
     "traceback": [
      "\u001b[0;31m---------------------------------------------------------------------------\u001b[0m",
      "\u001b[0;31mValueError\u001b[0m                                Traceback (most recent call last)",
      "\u001b[0;32m<ipython-input-9-ac108d22e631>\u001b[0m in \u001b[0;36m<module>\u001b[0;34m()\u001b[0m\n\u001b[1;32m     41\u001b[0m     \u001b[0;32mreturn\u001b[0m \u001b[0mauto_encoder\u001b[0m\u001b[0;34m,\u001b[0m \u001b[0mdecoder\u001b[0m\u001b[0;34m\u001b[0m\u001b[0;34m\u001b[0m\u001b[0m\n\u001b[1;32m     42\u001b[0m \u001b[0;34m\u001b[0m\u001b[0m\n\u001b[0;32m---> 43\u001b[0;31m \u001b[0mcond_auto_encoder\u001b[0m\u001b[0;34m,\u001b[0m \u001b[0mcond_decoder\u001b[0m \u001b[0;34m=\u001b[0m \u001b[0mConditionalVariationalAutoEncoder\u001b[0m\u001b[0;34m(\u001b[0m\u001b[0mx_train\u001b[0m\u001b[0;34m.\u001b[0m\u001b[0mshape\u001b[0m\u001b[0;34m[\u001b[0m\u001b[0;36m1\u001b[0m\u001b[0;34m]\u001b[0m\u001b[0;34m,\u001b[0m \u001b[0my_train\u001b[0m\u001b[0;34m.\u001b[0m\u001b[0mshape\u001b[0m\u001b[0;34m[\u001b[0m\u001b[0;36m1\u001b[0m\u001b[0;34m]\u001b[0m\u001b[0;34m)\u001b[0m\u001b[0;34m\u001b[0m\u001b[0;34m\u001b[0m\u001b[0m\n\u001b[0m\u001b[1;32m     44\u001b[0m \u001b[0mcond_auto_encoder\u001b[0m\u001b[0;34m.\u001b[0m\u001b[0msummary\u001b[0m\u001b[0;34m(\u001b[0m\u001b[0;34m)\u001b[0m\u001b[0;34m\u001b[0m\u001b[0;34m\u001b[0m\u001b[0m\n",
      "\u001b[0;32m<ipython-input-9-ac108d22e631>\u001b[0m in \u001b[0;36mConditionalVariationalAutoEncoder\u001b[0;34m(num_pixels, num_labels)\u001b[0m\n\u001b[1;32m     20\u001b[0m \u001b[0;34m\u001b[0m\u001b[0m\n\u001b[1;32m     21\u001b[0m     \u001b[0mz\u001b[0m \u001b[0;34m=\u001b[0m \u001b[0mLambda\u001b[0m\u001b[0;34m(\u001b[0m\u001b[0msample_z\u001b[0m\u001b[0;34m,\u001b[0m \u001b[0moutput_shape\u001b[0m\u001b[0;34m=\u001b[0m\u001b[0;34m(\u001b[0m\u001b[0mlatent_space_depth\u001b[0m\u001b[0;34m,\u001b[0m \u001b[0;34m)\u001b[0m\u001b[0;34m)\u001b[0m\u001b[0;34m(\u001b[0m\u001b[0;34m[\u001b[0m\u001b[0mz_mean\u001b[0m\u001b[0;34m,\u001b[0m \u001b[0mz_log_var\u001b[0m\u001b[0;34m]\u001b[0m\u001b[0;34m)\u001b[0m\u001b[0;34m\u001b[0m\u001b[0;34m\u001b[0m\u001b[0m\n\u001b[0;32m---> 22\u001b[0;31m     \u001b[0mzc\u001b[0m \u001b[0;34m=\u001b[0m \u001b[0mconcat\u001b[0m\u001b[0;34m(\u001b[0m\u001b[0;34m)\u001b[0m\u001b[0;34m(\u001b[0m\u001b[0;34m[\u001b[0m\u001b[0mz\u001b[0m\u001b[0;34m,\u001b[0m \u001b[0mlabel\u001b[0m\u001b[0;34m]\u001b[0m\u001b[0;34m)\u001b[0m\u001b[0;34m\u001b[0m\u001b[0;34m\u001b[0m\u001b[0m\n\u001b[0m\u001b[1;32m     23\u001b[0m \u001b[0;34m\u001b[0m\u001b[0m\n\u001b[1;32m     24\u001b[0m     \u001b[0mdecoder_hidden\u001b[0m \u001b[0;34m=\u001b[0m \u001b[0mDense\u001b[0m\u001b[0;34m(\u001b[0m\u001b[0;36m512\u001b[0m\u001b[0;34m,\u001b[0m \u001b[0mactivation\u001b[0m\u001b[0;34m=\u001b[0m\u001b[0;34m'relu'\u001b[0m\u001b[0;34m)\u001b[0m\u001b[0;34m\u001b[0m\u001b[0;34m\u001b[0m\u001b[0m\n",
      "\u001b[0;32m~/.pyenv/versions/3.6.7/envs/cookbook/lib/python3.6/site-packages/tensorflow/python/keras/engine/base_layer.py\u001b[0m in \u001b[0;36m__call__\u001b[0;34m(self, inputs, *args, **kwargs)\u001b[0m\n\u001b[1;32m    539\u001b[0m       \u001b[0;32mif\u001b[0m \u001b[0;32mnot\u001b[0m \u001b[0mself\u001b[0m\u001b[0;34m.\u001b[0m\u001b[0mbuilt\u001b[0m\u001b[0;34m:\u001b[0m\u001b[0;34m\u001b[0m\u001b[0;34m\u001b[0m\u001b[0m\n\u001b[1;32m    540\u001b[0m         \u001b[0;31m# Build layer if applicable (if the `build` method has been overridden).\u001b[0m\u001b[0;34m\u001b[0m\u001b[0;34m\u001b[0m\u001b[0;34m\u001b[0m\u001b[0m\n\u001b[0;32m--> 541\u001b[0;31m         \u001b[0mself\u001b[0m\u001b[0;34m.\u001b[0m\u001b[0m_maybe_build\u001b[0m\u001b[0;34m(\u001b[0m\u001b[0minputs\u001b[0m\u001b[0;34m)\u001b[0m\u001b[0;34m\u001b[0m\u001b[0;34m\u001b[0m\u001b[0m\n\u001b[0m\u001b[1;32m    542\u001b[0m         \u001b[0;31m# We must set self.built since user defined build functions are not\u001b[0m\u001b[0;34m\u001b[0m\u001b[0;34m\u001b[0m\u001b[0;34m\u001b[0m\u001b[0m\n\u001b[1;32m    543\u001b[0m         \u001b[0;31m# constrained to set self.built.\u001b[0m\u001b[0;34m\u001b[0m\u001b[0;34m\u001b[0m\u001b[0;34m\u001b[0m\u001b[0m\n",
      "\u001b[0;32m~/.pyenv/versions/3.6.7/envs/cookbook/lib/python3.6/site-packages/tensorflow/python/keras/engine/base_layer.py\u001b[0m in \u001b[0;36m_maybe_build\u001b[0;34m(self, inputs)\u001b[0m\n\u001b[1;32m   1570\u001b[0m     \u001b[0;31m# Only call `build` if the user has manually overridden the build method.\u001b[0m\u001b[0;34m\u001b[0m\u001b[0;34m\u001b[0m\u001b[0;34m\u001b[0m\u001b[0m\n\u001b[1;32m   1571\u001b[0m     \u001b[0;32mif\u001b[0m \u001b[0;32mnot\u001b[0m \u001b[0mhasattr\u001b[0m\u001b[0;34m(\u001b[0m\u001b[0mself\u001b[0m\u001b[0;34m.\u001b[0m\u001b[0mbuild\u001b[0m\u001b[0;34m,\u001b[0m \u001b[0;34m'_is_default'\u001b[0m\u001b[0;34m)\u001b[0m\u001b[0;34m:\u001b[0m\u001b[0;34m\u001b[0m\u001b[0;34m\u001b[0m\u001b[0m\n\u001b[0;32m-> 1572\u001b[0;31m       \u001b[0mself\u001b[0m\u001b[0;34m.\u001b[0m\u001b[0mbuild\u001b[0m\u001b[0;34m(\u001b[0m\u001b[0minput_shapes\u001b[0m\u001b[0;34m)\u001b[0m\u001b[0;34m\u001b[0m\u001b[0;34m\u001b[0m\u001b[0m\n\u001b[0m\u001b[1;32m   1573\u001b[0m \u001b[0;34m\u001b[0m\u001b[0m\n\u001b[1;32m   1574\u001b[0m   \u001b[0;32mdef\u001b[0m \u001b[0m_symbolic_call\u001b[0m\u001b[0;34m(\u001b[0m\u001b[0mself\u001b[0m\u001b[0;34m,\u001b[0m \u001b[0minputs\u001b[0m\u001b[0;34m)\u001b[0m\u001b[0;34m:\u001b[0m\u001b[0;34m\u001b[0m\u001b[0;34m\u001b[0m\u001b[0m\n",
      "\u001b[0;32m~/.pyenv/versions/3.6.7/envs/cookbook/lib/python3.6/site-packages/tensorflow/python/keras/utils/tf_utils.py\u001b[0m in \u001b[0;36mwrapper\u001b[0;34m(instance, input_shape)\u001b[0m\n\u001b[1;32m    284\u001b[0m     \u001b[0;32mif\u001b[0m \u001b[0minput_shape\u001b[0m \u001b[0;32mis\u001b[0m \u001b[0;32mnot\u001b[0m \u001b[0;32mNone\u001b[0m\u001b[0;34m:\u001b[0m\u001b[0;34m\u001b[0m\u001b[0;34m\u001b[0m\u001b[0m\n\u001b[1;32m    285\u001b[0m       \u001b[0minput_shape\u001b[0m \u001b[0;34m=\u001b[0m \u001b[0mconvert_shapes\u001b[0m\u001b[0;34m(\u001b[0m\u001b[0minput_shape\u001b[0m\u001b[0;34m,\u001b[0m \u001b[0mto_tuples\u001b[0m\u001b[0;34m=\u001b[0m\u001b[0;32mTrue\u001b[0m\u001b[0;34m)\u001b[0m\u001b[0;34m\u001b[0m\u001b[0;34m\u001b[0m\u001b[0m\n\u001b[0;32m--> 286\u001b[0;31m     \u001b[0moutput_shape\u001b[0m \u001b[0;34m=\u001b[0m \u001b[0mfn\u001b[0m\u001b[0;34m(\u001b[0m\u001b[0minstance\u001b[0m\u001b[0;34m,\u001b[0m \u001b[0minput_shape\u001b[0m\u001b[0;34m)\u001b[0m\u001b[0;34m\u001b[0m\u001b[0;34m\u001b[0m\u001b[0m\n\u001b[0m\u001b[1;32m    287\u001b[0m     \u001b[0;31m# Return shapes from `fn` as TensorShapes.\u001b[0m\u001b[0;34m\u001b[0m\u001b[0;34m\u001b[0m\u001b[0;34m\u001b[0m\u001b[0m\n\u001b[1;32m    288\u001b[0m     \u001b[0;32mif\u001b[0m \u001b[0moutput_shape\u001b[0m \u001b[0;32mis\u001b[0m \u001b[0;32mnot\u001b[0m \u001b[0;32mNone\u001b[0m\u001b[0;34m:\u001b[0m\u001b[0;34m\u001b[0m\u001b[0;34m\u001b[0m\u001b[0m\n",
      "\u001b[0;32m~/.pyenv/versions/3.6.7/envs/cookbook/lib/python3.6/site-packages/tensorflow/python/keras/layers/merge.py\u001b[0m in \u001b[0;36mbuild\u001b[0;34m(self, input_shape)\u001b[0m\n\u001b[1;32m    390\u001b[0m                        \u001b[0;34m'inputs with matching shapes '\u001b[0m\u001b[0;34m\u001b[0m\u001b[0;34m\u001b[0m\u001b[0m\n\u001b[1;32m    391\u001b[0m                        \u001b[0;34m'except for the concat axis. '\u001b[0m\u001b[0;34m\u001b[0m\u001b[0;34m\u001b[0m\u001b[0m\n\u001b[0;32m--> 392\u001b[0;31m                        'Got inputs shapes: %s' % (input_shape))\n\u001b[0m\u001b[1;32m    393\u001b[0m \u001b[0;34m\u001b[0m\u001b[0m\n\u001b[1;32m    394\u001b[0m   \u001b[0;32mdef\u001b[0m \u001b[0m_merge_function\u001b[0m\u001b[0;34m(\u001b[0m\u001b[0mself\u001b[0m\u001b[0;34m,\u001b[0m \u001b[0minputs\u001b[0m\u001b[0;34m)\u001b[0m\u001b[0;34m:\u001b[0m\u001b[0;34m\u001b[0m\u001b[0;34m\u001b[0m\u001b[0m\n",
      "\u001b[0;31mValueError\u001b[0m: A `Concatenate` layer requires inputs with matching shapes except for the concat axis. Got inputs shapes: [(250, 2), (None, 10)]"
     ]
    }
   ],
   "source": [
    "def ConditionalVariationalAutoEncoder(num_pixels, num_labels):\n",
    "    pixels = Input(shape=(num_pixels,))\n",
    "    label = Input(shape=(num_labels,), name='label')\n",
    "\n",
    "    inputs = concat(name='inputs')([pixels, label])\n",
    "    \n",
    "    encoder_hidden = Dense(512, activation='relu', name='encoder_hidden')(inputs)\n",
    "\n",
    "    z_mean = Dense(latent_space_depth, activation='linear')(encoder_hidden)\n",
    "    z_log_var = Dense(latent_space_depth, activation='linear')(encoder_hidden)\n",
    "    \n",
    "    def KL_loss(y_true, y_pred):\n",
    "        return(0.5 * K.sum(K.exp(z_log_var) + K.square(z_mean) - 1 - z_log_var, axis=1))\n",
    "\n",
    "    def reconstruction_loss(y_true, y_pred):\n",
    "        return K.sum(K.binary_crossentropy(y_true, y_pred), axis=-1)    \n",
    "\n",
    "    def total_loss(y_true, y_pred):\n",
    "        return KL_loss(y_true, y_pred) + reconstruction_loss(y_true, y_pred)\n",
    "\n",
    "    z = Lambda(sample_z, output_shape=(latent_space_depth, ))([z_mean, z_log_var])\n",
    "    zc = concat()([z, label])\n",
    "    \n",
    "    decoder_hidden = Dense(512, activation='relu')\n",
    "\n",
    "    reconstruct_pixels = Dense(num_pixels, activation='sigmoid')\n",
    "\n",
    "    decoder_in = Input(shape=(latent_space_depth + num_labels,))\n",
    "    hidden = decoder_hidden(decoder_in)\n",
    "    decoder_out = reconstruct_pixels(hidden)\n",
    "    decoder = Model(decoder_in, decoder_out)    \n",
    "    \n",
    "    hidden = decoder_hidden(zc)\n",
    "    outputs = reconstruct_pixels(hidden)\n",
    "    auto_encoder = Model([pixels, label], outputs)\n",
    "\n",
    "    auto_encoder.compile(optimizer=Adam(lr=0.001), \n",
    "                         loss=total_loss,\n",
    "                         metrics=[KL_loss, reconstruction_loss])\n",
    "    \n",
    "    return auto_encoder, decoder\n",
    "\n",
    "cond_auto_encoder, cond_decoder = ConditionalVariationalAutoEncoder(x_train.shape[1], y_train.shape[1])\n",
    "cond_auto_encoder.summary()"
   ]
  },
  {
   "cell_type": "code",
   "execution_count": null,
   "metadata": {},
   "outputs": [],
   "source": [
    "cond_auto_encoder.fit([x_train, y_train], x_train, verbose=1, \n",
    "                      batch_size=batch_size, epochs=50,\n",
    "                      validation_data = ([x_test, y_test], x_test))"
   ]
  },
  {
   "cell_type": "code",
   "execution_count": null,
   "metadata": {},
   "outputs": [],
   "source": [
    "number_4 = np.zeros((1, latent_space_depth + y_train.shape[1]))\n",
    "number_4[:, 4 + latent_space_depth] = 1\n",
    "decode_img(cond_decoder.predict(number_4).reshape(\n",
    "               img_width, img_height)).resize((56, 56))"
   ]
  },
  {
   "cell_type": "code",
   "execution_count": null,
   "metadata": {},
   "outputs": [],
   "source": [
    "number_8_3 = np.zeros((1, latent_space_depth + y_train.shape[1]))\n",
    "number_8_3[:, 8 + latent_space_depth] = 0.5\n",
    "number_8_3[:, 3 + latent_space_depth] = 0.5\n",
    "decode_img(cond_decoder.predict(number_8_3).reshape(\n",
    "               img_width, img_height)).resize((56, 56))"
   ]
  },
  {
   "cell_type": "code",
   "execution_count": null,
   "metadata": {},
   "outputs": [],
   "source": [
    "digits = [3, 0, 8, 9]\n",
    "num_cells = 10\n",
    "\n",
    "overview = PIL.Image.new('RGB', \n",
    "                         (num_cells * (img_width + 4) + 8, \n",
    "                          num_cells * (img_height + 4) + 8), \n",
    "                         (128, 128, 128))\n",
    "\n",
    "vec = np.zeros((1, latent_space_depth + y_train.shape[1]))\n",
    "for x in range(num_cells):\n",
    "    x1 = [x / (num_cells - 1), 1 - x / (num_cells - 1)]\n",
    "    for y in range(num_cells):\n",
    "        y1 = [y / (num_cells - 1), 1 - y / (num_cells - 1)]\n",
    "        for idx, dig in enumerate(digits):\n",
    "            vec[:, dig + latent_space_depth] = x1[idx % 2] * y1[idx // 2]\n",
    "        decoded = cond_decoder.predict(vec)\n",
    "        img = decode_img(decoded.reshape(img_width, img_height))\n",
    "        overview.paste(img, (x * (img_width + 4) + 6, y * (img_height + 4) + 6))\n",
    "overview"
   ]
  },
  {
   "cell_type": "code",
   "execution_count": null,
   "metadata": {},
   "outputs": [],
   "source": [
    "num_cells = 10\n",
    "\n",
    "overview = PIL.Image.new('RGB', \n",
    "                         (num_cells * (img_width + 4) + 8, \n",
    "                          num_cells * (img_height + 4) + 8), \n",
    "                         (128, 128, 128))\n",
    "\n",
    "img_it = 0\n",
    "vec = np.zeros((1, latent_space_depth + y_train.shape[1]))\n",
    "for x in range(num_cells):\n",
    "    vec = np.zeros((1, latent_space_depth + y_train.shape[1]))\n",
    "    vec[:, x + latent_space_depth] = 1\n",
    "    for y in range(num_cells):\n",
    "        vec[:, 1] = 3 * y / (num_cells - 1) - 1.5\n",
    "        decoded = cond_decoder.predict(vec)\n",
    "        img = decode_img(decoded.reshape(img_width, img_height))\n",
    "        overview.paste(img, (x * (img_width + 4) + 6, y * (img_height + 4) + 6))\n",
    "overview"
   ]
  },
  {
   "cell_type": "code",
   "execution_count": null,
   "metadata": {},
   "outputs": [],
   "source": []
  }
 ],
 "metadata": {
  "kernelspec": {
   "display_name": "Python 3",
   "language": "python",
   "name": "python3"
  },
  "language_info": {
   "codemirror_mode": {
    "name": "ipython",
    "version": 3
   },
   "file_extension": ".py",
   "mimetype": "text/x-python",
   "name": "python",
   "nbconvert_exporter": "python",
   "pygments_lexer": "ipython3",
   "version": "3.6.7"
  },
  "toc": {
   "colors": {
    "hover_highlight": "#DAA520",
    "navigate_num": "#000000",
    "navigate_text": "#333333",
    "running_highlight": "#FF0000",
    "selected_highlight": "#FFD700",
    "sidebar_border": "#EEEEEE",
    "wrapper_background": "#FFFFFF"
   },
   "moveMenuLeft": true,
   "nav_menu": {
    "height": "263px",
    "width": "253px"
   },
   "navigate_menu": true,
   "number_sections": true,
   "sideBar": true,
   "threshold": 4,
   "toc_cell": false,
   "toc_section_display": "block",
   "toc_window_display": false,
   "widenNotebook": false
  }
 },
 "nbformat": 4,
 "nbformat_minor": 1
}
