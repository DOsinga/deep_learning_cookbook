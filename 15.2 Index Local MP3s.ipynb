{
 "cells": [
  {
   "cell_type": "code",
   "execution_count": 1,
   "metadata": {},
   "outputs": [
    {
     "name": "stdout",
     "output_type": "stream",
     "text": [
      "Requirement already satisfied: tinytag in /home/ohtamans/.pyenv/versions/3.6.7/envs/cookbook/lib/python3.6/site-packages (1.0.0)\n",
      "Requirement already satisfied: sounddevice in /home/ohtamans/.pyenv/versions/3.6.7/envs/cookbook/lib/python3.6/site-packages (0.3.12)\n",
      "Requirement already satisfied: CFFI>=1.0 in /home/ohtamans/.pyenv/versions/3.6.7/envs/cookbook/lib/python3.6/site-packages (from sounddevice) (1.11.5)\n",
      "Requirement already satisfied: pycparser in /home/ohtamans/.pyenv/versions/3.6.7/envs/cookbook/lib/python3.6/site-packages (from CFFI>=1.0->sounddevice) (2.19)\n",
      "\u001b[33mYou are using pip version 10.0.1, however version 19.0.1 is available.\n",
      "You should consider upgrading via the 'pip install --upgrade pip' command.\u001b[0m\n"
     ]
    }
   ],
   "source": [
    "!pip install tinytag sounddevice"
   ]
  },
  {
   "cell_type": "code",
   "execution_count": 2,
   "metadata": {
    "scrolled": true
   },
   "outputs": [
    {
     "name": "stdout",
     "output_type": "stream",
     "text": [
      "Archive:  fma_small.zip\n"
     ]
    },
    {
     "name": "stderr",
     "output_type": "stream",
     "text": [
      "replace fma_small/README.txt? [y]es, [n]o, [A]ll, [N]one, [r]ename:  NULL\n",
      "(EOF or read error, treating as \"[N]one\" ...)\n"
     ]
    }
   ],
   "source": [
    "%%bash\n",
    "\n",
    "#wget https://os.unil.cloud.switch.ch/fma/fma_small.zip\n",
    "unzip fma_small.zip"
   ]
  },
  {
   "cell_type": "code",
   "execution_count": 3,
   "metadata": {},
   "outputs": [],
   "source": [
    "import os\n",
    "from tinytag import TinyTag, TinyTagException\n",
    "from sklearn.neighbors import NearestNeighbors\n",
    "from collections import defaultdict\n",
    "from tensorflow.keras.models import load_model\n",
    "import librosa\n",
    "from collections import Counter\n",
    "import multiprocessing\n",
    "from tqdm import tqdm\n",
    "from tensorflow.keras.models import Model\n",
    "import numpy as np\n",
    "import sounddevice as sd"
   ]
  },
  {
   "cell_type": "code",
   "execution_count": 4,
   "metadata": {},
   "outputs": [
    {
     "data": {
      "text/plain": [
       "8000"
      ]
     },
     "execution_count": 4,
     "metadata": {},
     "output_type": "execute_result"
    }
   ],
   "source": [
    "MUSIC_ROOT = 'fma_small/'\n",
    "mp3s = []\n",
    "for root, subdirs, files in os.walk(MUSIC_ROOT):\n",
    "    for fn in files:\n",
    "        if fn.endswith('.mp3'):\n",
    "            mp3s.append(os.path.join(root, fn))\n",
    "len(mp3s)"
   ]
  },
  {
   "cell_type": "code",
   "execution_count": 5,
   "metadata": {
    "scrolled": false
   },
   "outputs": [
    {
     "name": "stderr",
     "output_type": "stream",
     "text": [
      "100%|██████████| 1000/1000 [11:38<00:00,  1.43it/s]\n"
     ]
    }
   ],
   "source": [
    "TO_SKIP = {'Podcast', 'Books & Spoken'}\n",
    "\n",
    "def process_mp3(path):\n",
    "    try:\n",
    "        tag = TinyTag.get(path)\n",
    "        if tag.genre in TO_SKIP:\n",
    "            return None\n",
    "    except TinyTagException:\n",
    "        print('error')\n",
    "        return None\n",
    "    # signal, sr = librosa.load(path, res_type='kaiser_fast', offset=20, duration=30)\n",
    "    signal, sr = librosa.load(path, res_type='kaiser_fast', offset=0, duration=30)\n",
    "    try:\n",
    "        melspec = librosa.feature.melspectrogram(signal, sr=sr).T[:1280,]\n",
    "        if len(melspec) != 1280:\n",
    "            return None\n",
    "    except ValueError:\n",
    "        return None\n",
    "    return {'path': path,\n",
    "            'melspecs': np.asarray(np.split(melspec, 10)),\n",
    "            'tag': tag}\n",
    "\n",
    "songs = [process_mp3(path) for path in tqdm(mp3s[:1000])]\n",
    "songs = [song for song in songs if song]"
   ]
  },
  {
   "cell_type": "code",
   "execution_count": 6,
   "metadata": {
    "scrolled": true
   },
   "outputs": [
    {
     "data": {
      "text/plain": [
       "(10000, 128, 128)"
      ]
     },
     "execution_count": 6,
     "metadata": {},
     "output_type": "execute_result"
    }
   ],
   "source": [
    "inputs = []\n",
    "for song in songs:\n",
    "    inputs.extend(song['melspecs'])\n",
    "inputs = np.array(inputs)\n",
    "inputs.shape"
   ]
  },
  {
   "cell_type": "code",
   "execution_count": 7,
   "metadata": {},
   "outputs": [
    {
     "data": {
      "text/plain": [
       "array([[[2.65136933e+01, 1.86410770e+01, 3.00668853e+01, ...,\n",
       "         1.30287272e-02, 1.12126724e-02, 1.05849529e-02],\n",
       "        [1.42122369e+01, 4.70750045e+01, 2.84955517e+01, ...,\n",
       "         3.62580816e-03, 2.81737498e-03, 2.64885249e-03],\n",
       "        [9.43835423e+00, 4.95771451e+01, 1.66709201e+01, ...,\n",
       "         3.56512210e-04, 1.22964362e-05, 3.17170364e-06],\n",
       "        ...,\n",
       "        [9.78877376e+00, 4.55389706e+01, 2.57436138e+01, ...,\n",
       "         1.18182603e-03, 1.52246150e-04, 1.90809914e-05],\n",
       "        [3.98039588e+00, 6.97215854e+01, 5.67598878e+01, ...,\n",
       "         8.35636365e-04, 1.09446446e-04, 1.31287421e-05],\n",
       "        [1.57657281e+00, 1.09572076e+02, 7.55950115e+01, ...,\n",
       "         3.95235622e-04, 6.40336355e-05, 6.13213521e-06]],\n",
       "\n",
       "       [[2.15457655e+00, 1.79887708e+02, 1.25011621e+02, ...,\n",
       "         2.66460670e-04, 4.16075876e-05, 4.32625530e-06],\n",
       "        [1.81736989e+00, 2.33842012e+02, 1.54576938e+02, ...,\n",
       "         1.97825094e-04, 3.60279270e-05, 3.30803931e-06],\n",
       "        [3.36705892e+00, 2.40147576e+02, 1.33972114e+02, ...,\n",
       "         1.68127663e-04, 2.22684771e-05, 2.33101617e-06],\n",
       "        ...,\n",
       "        [3.27651609e+00, 3.62395252e+01, 7.92200383e+01, ...,\n",
       "         1.09167138e-03, 4.00467415e-05, 9.90827927e-06],\n",
       "        [5.34000497e+00, 2.13153212e+01, 6.40080308e+01, ...,\n",
       "         6.07644097e-04, 4.05195098e-05, 5.98364843e-06],\n",
       "        [5.61463026e+00, 3.21130232e+01, 6.61236917e+01, ...,\n",
       "         5.12506633e-04, 3.60583303e-05, 6.94516223e-06]],\n",
       "\n",
       "       [[6.98157489e+00, 3.98973832e+01, 7.73511871e+01, ...,\n",
       "         4.87020085e-04, 2.28196260e-05, 4.84169509e-06],\n",
       "        [6.32370092e+00, 2.18864480e+01, 8.49879618e+01, ...,\n",
       "         3.81590678e-04, 1.90695362e-05, 3.82235261e-06],\n",
       "        [6.18290017e+00, 2.47166413e+01, 1.04770055e+02, ...,\n",
       "         2.72048159e-04, 1.35647792e-05, 2.65255764e-06],\n",
       "        ...,\n",
       "        [5.71899428e+00, 1.17026942e+02, 6.96303627e+01, ...,\n",
       "         6.86896081e-04, 8.91496765e-05, 8.61540712e-06],\n",
       "        [1.03019188e+00, 1.13031585e+02, 7.94232038e+01, ...,\n",
       "         3.69139428e-04, 7.37988278e-05, 3.37970635e-06],\n",
       "        [6.11920075e+00, 1.37641857e+02, 9.90591774e+01, ...,\n",
       "         7.02345596e-04, 1.88219899e-04, 6.14234624e-06]],\n",
       "\n",
       "       ...,\n",
       "\n",
       "       [[1.55813640e-05, 1.92557515e-04, 4.31911002e-03, ...,\n",
       "         1.61257586e-05, 1.21640574e-06, 3.82787709e-08],\n",
       "        [7.25007841e-06, 1.98469648e-04, 2.76082635e-03, ...,\n",
       "         1.45866993e-05, 1.59322168e-06, 7.46921875e-08],\n",
       "        [4.84482872e-06, 1.52850041e-04, 6.80170183e-03, ...,\n",
       "         1.08023801e-05, 8.88736894e-07, 5.88415933e-08],\n",
       "        ...,\n",
       "        [2.49781421e-05, 4.61644881e-05, 3.35763691e-03, ...,\n",
       "         7.02509397e-06, 4.70521283e-07, 1.44898122e-08],\n",
       "        [4.38883826e-05, 2.50795683e-04, 4.02412478e-03, ...,\n",
       "         6.98701528e-06, 6.40579736e-07, 1.81168586e-08],\n",
       "        [8.42642868e-06, 1.80522517e-04, 1.94878930e-03, ...,\n",
       "         1.00172497e-05, 9.54969319e-07, 1.53823694e-08]],\n",
       "\n",
       "       [[8.24897234e-06, 3.03560158e-05, 1.23328371e-03, ...,\n",
       "         1.29300663e-05, 1.74692752e-06, 1.77338645e-08],\n",
       "        [7.56782941e-06, 4.28830797e-05, 1.58227340e-03, ...,\n",
       "         1.03082877e-05, 1.01172972e-06, 3.22757575e-08],\n",
       "        [7.63415714e-05, 4.56661942e-05, 6.15714121e-04, ...,\n",
       "         2.07934014e-04, 3.34653546e-05, 2.14571760e-06],\n",
       "        ...,\n",
       "        [4.15980996e-05, 2.84221723e-04, 3.30557975e-03, ...,\n",
       "         3.03027498e-05, 4.11254123e-07, 4.73238884e-08],\n",
       "        [4.68710923e-05, 2.24262162e-04, 3.58187913e-03, ...,\n",
       "         3.03889170e-05, 1.18402447e-06, 9.67240079e-08],\n",
       "        [6.59748297e-06, 1.91464965e-05, 3.13982794e-03, ...,\n",
       "         2.45816166e-05, 8.86161951e-07, 8.78369847e-08]],\n",
       "\n",
       "       [[2.11789021e-05, 1.71688693e-05, 2.20185862e-03, ...,\n",
       "         7.71959499e-05, 6.04094953e-06, 2.40805927e-07],\n",
       "        [9.05195665e-05, 4.70700370e-05, 2.19220132e-03, ...,\n",
       "         4.81677761e-04, 7.55691840e-05, 2.03867484e-06],\n",
       "        [2.21835536e-04, 2.30868053e-04, 2.00428797e-03, ...,\n",
       "         7.48770337e-04, 1.33694079e-04, 3.42453908e-06],\n",
       "        ...,\n",
       "        [7.81359781e-06, 5.32673615e-05, 1.06869726e-02, ...,\n",
       "         2.34304830e-05, 1.97243386e-06, 6.97021338e-08],\n",
       "        [7.30462753e-06, 1.33772502e-04, 1.39192503e-02, ...,\n",
       "         2.93185007e-05, 2.60604867e-06, 7.89569110e-08],\n",
       "        [8.32643934e-05, 3.30119201e-04, 1.13733239e-02, ...,\n",
       "         6.10051221e-04, 8.98048454e-05, 6.43094129e-07]]])"
      ]
     },
     "execution_count": 7,
     "metadata": {},
     "output_type": "execute_result"
    }
   ],
   "source": [
    "inputs"
   ]
  },
  {
   "cell_type": "code",
   "execution_count": 8,
   "metadata": {},
   "outputs": [
    {
     "data": {
      "text/plain": [
       "array([], dtype=float32)"
      ]
     },
     "execution_count": 8,
     "metadata": {},
     "output_type": "execute_result"
    }
   ],
   "source": [
    "signal, sr = librosa.load(mp3s[0], offset=30, duration=30) #, res_type='kaiser_fast', offset=30, duration=30)\n",
    "signal"
   ]
  },
  {
   "cell_type": "code",
   "execution_count": 9,
   "metadata": {},
   "outputs": [
    {
     "name": "stdout",
     "output_type": "stream",
     "text": [
      "WARNING:tensorflow:From /home/ohtamans/.pyenv/versions/3.6.7/envs/cookbook/lib/python3.6/site-packages/tensorflow/python/ops/resource_variable_ops.py:651: colocate_with (from tensorflow.python.framework.ops) is deprecated and will be removed in a future version.\n",
      "Instructions for updating:\n",
      "Colocations handled automatically by placer.\n",
      "WARNING:tensorflow:From /home/ohtamans/.pyenv/versions/3.6.7/envs/cookbook/lib/python3.6/site-packages/tensorflow/python/keras/layers/core.py:143: calling dropout (from tensorflow.python.ops.nn_ops) with keep_prob is deprecated and will be removed in a future version.\n",
      "Instructions for updating:\n",
      "Please use `rate` instead of `keep_prob`. Rate should be set to `rate = 1 - keep_prob`.\n",
      "WARNING:tensorflow:From /home/ohtamans/.pyenv/versions/3.6.7/envs/cookbook/lib/python3.6/site-packages/tensorflow/python/ops/math_ops.py:3067: to_int32 (from tensorflow.python.ops.math_ops) is deprecated and will be removed in a future version.\n",
      "Instructions for updating:\n",
      "Use tf.cast instead.\n",
      "WARNING:tensorflow:From /home/ohtamans/.pyenv/versions/3.6.7/envs/cookbook/lib/python3.6/site-packages/tensorflow/python/ops/math_grad.py:102: div (from tensorflow.python.ops.math_ops) is deprecated and will be removed in a future version.\n",
      "Instructions for updating:\n",
      "Deprecated in favor of operator or tf.math.divide.\n"
     ]
    },
    {
     "data": {
      "text/plain": [
       "(10000, 256)"
      ]
     },
     "execution_count": 9,
     "metadata": {},
     "output_type": "execute_result"
    }
   ],
   "source": [
    "cnn_model = load_model('zoo/15/song_classify.h5')\n",
    "vectorize_model = Model(inputs=cnn_model.input, outputs=cnn_model.layers[-4].output)\n",
    "vectors = vectorize_model.predict(inputs)\n",
    "vectors.shape"
   ]
  },
  {
   "cell_type": "code",
   "execution_count": 10,
   "metadata": {},
   "outputs": [],
   "source": [
    "nbrs = NearestNeighbors(n_neighbors=10, algorithm='ball_tree').fit(vectors)\n",
    "\n",
    "def most_similar_songs(song_idx):\n",
    "    distances, indices = nbrs.kneighbors(vectors[song_idx * 10: song_idx * 10 + 10])\n",
    "    c = Counter()\n",
    "    for row in indices:\n",
    "        for idx in row[1:]:\n",
    "            c[idx // 10] += 1\n",
    "    return c.most_common()"
   ]
  },
  {
   "cell_type": "code",
   "execution_count": 11,
   "metadata": {},
   "outputs": [
    {
     "name": "stdout",
     "output_type": "stream",
     "text": [
      "fma_small/137/137463.mp3\n",
      "---\n",
      "fma_small/137/137463.mp3 54\n",
      "fma_small/011/011772.mp3 6\n",
      "fma_small/043/043608.mp3 5\n",
      "fma_small/011/011771.mp3 4\n",
      "fma_small/011/011770.mp3 4\n",
      "\n"
     ]
    }
   ],
   "source": [
    "song_idx = 7\n",
    "print(songs[song_idx]['path'])\n",
    "\n",
    "print('---')\n",
    "for idx, score in most_similar_songs(song_idx)[:5]:\n",
    "    print(songs[idx]['path'], score)\n",
    "print('')"
   ]
  },
  {
   "cell_type": "code",
   "execution_count": 12,
   "metadata": {},
   "outputs": [],
   "source": [
    "duration = 30  # seconds\n",
    "fs = 22050\n",
    "myrecording = sd.rec(int(duration * fs), samplerate=fs, channels=1)"
   ]
  },
  {
   "cell_type": "code",
   "execution_count": 13,
   "metadata": {},
   "outputs": [
    {
     "data": {
      "text/plain": [
       "(661500, 1)"
      ]
     },
     "execution_count": 13,
     "metadata": {},
     "output_type": "execute_result"
    }
   ],
   "source": [
    "myrecording.shape"
   ]
  },
  {
   "cell_type": "code",
   "execution_count": 14,
   "metadata": {},
   "outputs": [],
   "source": [
    "sd.play(myrecording, samplerate=fs)"
   ]
  },
  {
   "cell_type": "code",
   "execution_count": 15,
   "metadata": {},
   "outputs": [
    {
     "name": "stderr",
     "output_type": "stream",
     "text": [
      "/home/ohtamans/.pyenv/versions/3.6.7/envs/cookbook/lib/python3.6/site-packages/numpy/core/_methods.py:29: RuntimeWarning: invalid value encountered in reduce\n",
      "  return umr_minimum(a, axis, None, out, keepdims)\n"
     ]
    },
    {
     "data": {
      "text/plain": [
       "nan"
      ]
     },
     "execution_count": 15,
     "metadata": {},
     "output_type": "execute_result"
    }
   ],
   "source": [
    "myrecording.min()"
   ]
  },
  {
   "cell_type": "code",
   "execution_count": 16,
   "metadata": {},
   "outputs": [
    {
     "ename": "FileNotFoundError",
     "evalue": "[Errno 2] No such file or directory: '/Users/douwe/Dropbox/Apps/Hi-Q Recordings/recording-20180219-162112.mp3'",
     "output_type": "error",
     "traceback": [
      "\u001b[0;31m---------------------------------------------------------------------------\u001b[0m",
      "\u001b[0;31mFileNotFoundError\u001b[0m                         Traceback (most recent call last)",
      "\u001b[0;32m<ipython-input-16-73151fdbd643>\u001b[0m in \u001b[0;36m<module>\u001b[0;34m()\u001b[0m\n\u001b[0;32m----> 1\u001b[0;31m \u001b[0msignal\u001b[0m\u001b[0;34m,\u001b[0m \u001b[0msr\u001b[0m \u001b[0;34m=\u001b[0m \u001b[0mlibrosa\u001b[0m\u001b[0;34m.\u001b[0m\u001b[0mload\u001b[0m\u001b[0;34m(\u001b[0m\u001b[0;34m'/Users/douwe/Dropbox/Apps/Hi-Q Recordings/recording-20180219-162112.mp3'\u001b[0m\u001b[0;34m,\u001b[0m \u001b[0mres_type\u001b[0m\u001b[0;34m=\u001b[0m\u001b[0;34m'kaiser_fast'\u001b[0m\u001b[0;34m,\u001b[0m \u001b[0moffset\u001b[0m\u001b[0;34m=\u001b[0m\u001b[0;36m0\u001b[0m\u001b[0;34m,\u001b[0m \u001b[0mduration\u001b[0m\u001b[0;34m=\u001b[0m\u001b[0;36m30\u001b[0m\u001b[0;34m)\u001b[0m\u001b[0;34m\u001b[0m\u001b[0;34m\u001b[0m\u001b[0m\n\u001b[0m\u001b[1;32m      2\u001b[0m \u001b[0;34m\u001b[0m\u001b[0m\n\u001b[1;32m      3\u001b[0m \u001b[0mmelspec\u001b[0m \u001b[0;34m=\u001b[0m \u001b[0mlibrosa\u001b[0m\u001b[0;34m.\u001b[0m\u001b[0mfeature\u001b[0m\u001b[0;34m.\u001b[0m\u001b[0mmelspectrogram\u001b[0m\u001b[0;34m(\u001b[0m\u001b[0msignal\u001b[0m\u001b[0;34m,\u001b[0m \u001b[0msr\u001b[0m\u001b[0;34m=\u001b[0m\u001b[0msr\u001b[0m\u001b[0;34m)\u001b[0m\u001b[0;34m.\u001b[0m\u001b[0mT\u001b[0m\u001b[0;34m[\u001b[0m\u001b[0;34m:\u001b[0m\u001b[0;36m1280\u001b[0m\u001b[0;34m,\u001b[0m\u001b[0;34m]\u001b[0m\u001b[0;34m\u001b[0m\u001b[0;34m\u001b[0m\u001b[0m\n\u001b[1;32m      4\u001b[0m \u001b[0mmelspecs\u001b[0m \u001b[0;34m=\u001b[0m \u001b[0mnp\u001b[0m\u001b[0;34m.\u001b[0m\u001b[0masarray\u001b[0m\u001b[0;34m(\u001b[0m\u001b[0mnp\u001b[0m\u001b[0;34m.\u001b[0m\u001b[0msplit\u001b[0m\u001b[0;34m(\u001b[0m\u001b[0mmelspec\u001b[0m\u001b[0;34m,\u001b[0m \u001b[0;36m10\u001b[0m\u001b[0;34m)\u001b[0m\u001b[0;34m)\u001b[0m\u001b[0;34m\u001b[0m\u001b[0;34m\u001b[0m\u001b[0m\n\u001b[1;32m      5\u001b[0m \u001b[0mmelspecs\u001b[0m\u001b[0;34m.\u001b[0m\u001b[0mshape\u001b[0m\u001b[0;34m\u001b[0m\u001b[0;34m\u001b[0m\u001b[0m\n",
      "\u001b[0;32m~/.pyenv/versions/3.6.7/envs/cookbook/lib/python3.6/site-packages/librosa/core/audio.py\u001b[0m in \u001b[0;36mload\u001b[0;34m(path, sr, mono, offset, duration, dtype, res_type)\u001b[0m\n\u001b[1;32m    110\u001b[0m \u001b[0;34m\u001b[0m\u001b[0m\n\u001b[1;32m    111\u001b[0m     \u001b[0my\u001b[0m \u001b[0;34m=\u001b[0m \u001b[0;34m[\u001b[0m\u001b[0;34m]\u001b[0m\u001b[0;34m\u001b[0m\u001b[0;34m\u001b[0m\u001b[0m\n\u001b[0;32m--> 112\u001b[0;31m     \u001b[0;32mwith\u001b[0m \u001b[0maudioread\u001b[0m\u001b[0;34m.\u001b[0m\u001b[0maudio_open\u001b[0m\u001b[0;34m(\u001b[0m\u001b[0mos\u001b[0m\u001b[0;34m.\u001b[0m\u001b[0mpath\u001b[0m\u001b[0;34m.\u001b[0m\u001b[0mrealpath\u001b[0m\u001b[0;34m(\u001b[0m\u001b[0mpath\u001b[0m\u001b[0;34m)\u001b[0m\u001b[0;34m)\u001b[0m \u001b[0;32mas\u001b[0m \u001b[0minput_file\u001b[0m\u001b[0;34m:\u001b[0m\u001b[0;34m\u001b[0m\u001b[0;34m\u001b[0m\u001b[0m\n\u001b[0m\u001b[1;32m    113\u001b[0m         \u001b[0msr_native\u001b[0m \u001b[0;34m=\u001b[0m \u001b[0minput_file\u001b[0m\u001b[0;34m.\u001b[0m\u001b[0msamplerate\u001b[0m\u001b[0;34m\u001b[0m\u001b[0;34m\u001b[0m\u001b[0m\n\u001b[1;32m    114\u001b[0m         \u001b[0mn_channels\u001b[0m \u001b[0;34m=\u001b[0m \u001b[0minput_file\u001b[0m\u001b[0;34m.\u001b[0m\u001b[0mchannels\u001b[0m\u001b[0;34m\u001b[0m\u001b[0;34m\u001b[0m\u001b[0m\n",
      "\u001b[0;32m~/.pyenv/versions/3.6.7/envs/cookbook/lib/python3.6/site-packages/audioread/__init__.py\u001b[0m in \u001b[0;36maudio_open\u001b[0;34m(path)\u001b[0m\n\u001b[1;32m     78\u001b[0m     \u001b[0;32mfrom\u001b[0m \u001b[0;34m.\u001b[0m \u001b[0;32mimport\u001b[0m \u001b[0mrawread\u001b[0m\u001b[0;34m\u001b[0m\u001b[0;34m\u001b[0m\u001b[0m\n\u001b[1;32m     79\u001b[0m     \u001b[0;32mtry\u001b[0m\u001b[0;34m:\u001b[0m\u001b[0;34m\u001b[0m\u001b[0;34m\u001b[0m\u001b[0m\n\u001b[0;32m---> 80\u001b[0;31m         \u001b[0;32mreturn\u001b[0m \u001b[0mrawread\u001b[0m\u001b[0;34m.\u001b[0m\u001b[0mRawAudioFile\u001b[0m\u001b[0;34m(\u001b[0m\u001b[0mpath\u001b[0m\u001b[0;34m)\u001b[0m\u001b[0;34m\u001b[0m\u001b[0;34m\u001b[0m\u001b[0m\n\u001b[0m\u001b[1;32m     81\u001b[0m     \u001b[0;32mexcept\u001b[0m \u001b[0mDecodeError\u001b[0m\u001b[0;34m:\u001b[0m\u001b[0;34m\u001b[0m\u001b[0;34m\u001b[0m\u001b[0m\n\u001b[1;32m     82\u001b[0m         \u001b[0;32mpass\u001b[0m\u001b[0;34m\u001b[0m\u001b[0;34m\u001b[0m\u001b[0m\n",
      "\u001b[0;32m~/.pyenv/versions/3.6.7/envs/cookbook/lib/python3.6/site-packages/audioread/rawread.py\u001b[0m in \u001b[0;36m__init__\u001b[0;34m(self, filename)\u001b[0m\n\u001b[1;32m     59\u001b[0m     \"\"\"\n\u001b[1;32m     60\u001b[0m     \u001b[0;32mdef\u001b[0m \u001b[0m__init__\u001b[0m\u001b[0;34m(\u001b[0m\u001b[0mself\u001b[0m\u001b[0;34m,\u001b[0m \u001b[0mfilename\u001b[0m\u001b[0;34m)\u001b[0m\u001b[0;34m:\u001b[0m\u001b[0;34m\u001b[0m\u001b[0;34m\u001b[0m\u001b[0m\n\u001b[0;32m---> 61\u001b[0;31m         \u001b[0mself\u001b[0m\u001b[0;34m.\u001b[0m\u001b[0m_fh\u001b[0m \u001b[0;34m=\u001b[0m \u001b[0mopen\u001b[0m\u001b[0;34m(\u001b[0m\u001b[0mfilename\u001b[0m\u001b[0;34m,\u001b[0m \u001b[0;34m'rb'\u001b[0m\u001b[0;34m)\u001b[0m\u001b[0;34m\u001b[0m\u001b[0;34m\u001b[0m\u001b[0m\n\u001b[0m\u001b[1;32m     62\u001b[0m \u001b[0;34m\u001b[0m\u001b[0m\n\u001b[1;32m     63\u001b[0m         \u001b[0;32mtry\u001b[0m\u001b[0;34m:\u001b[0m\u001b[0;34m\u001b[0m\u001b[0;34m\u001b[0m\u001b[0m\n",
      "\u001b[0;31mFileNotFoundError\u001b[0m: [Errno 2] No such file or directory: '/Users/douwe/Dropbox/Apps/Hi-Q Recordings/recording-20180219-162112.mp3'"
     ]
    }
   ],
   "source": [
    "signal, sr = librosa.load('/Users/douwe/Dropbox/Apps/Hi-Q Recordings/recording-20180219-162112.mp3', res_type='kaiser_fast', offset=0, duration=30)\n",
    "\n",
    "melspec = librosa.feature.melspectrogram(signal, sr=sr).T[:1280,]\n",
    "melspecs = np.asarray(np.split(melspec, 10))\n",
    "melspecs.shape"
   ]
  },
  {
   "cell_type": "code",
   "execution_count": null,
   "metadata": {},
   "outputs": [],
   "source": [
    "recorded_vectors = vectorize_model.predict(melspecs)"
   ]
  },
  {
   "cell_type": "code",
   "execution_count": null,
   "metadata": {},
   "outputs": [],
   "source": [
    "distances, indices = nbrs.kneighbors(recorded_vectors)\n",
    "c = Counter()\n",
    "for row in indices:\n",
    "    for idx in row[1:]:\n",
    "        c[idx // 10] += 1\n",
    "for idx, _ in c.most_common():\n",
    "    print(songs[idx]['path'])\n"
   ]
  },
  {
   "cell_type": "code",
   "execution_count": null,
   "metadata": {},
   "outputs": [],
   "source": [
    "signal, sr = librosa.load('/Users/douwe/Dropbox/Apps/Hi-Q Recordings/recording-20180219-162112.mp3', res_type='kaiser_fast', offset=0, duration=30)"
   ]
  },
  {
   "cell_type": "code",
   "execution_count": null,
   "metadata": {},
   "outputs": [],
   "source": [
    "sd.play(signal.flatten(), samplerate=sr)"
   ]
  },
  {
   "cell_type": "code",
   "execution_count": null,
   "metadata": {},
   "outputs": [],
   "source": []
  }
 ],
 "metadata": {
  "kernelspec": {
   "display_name": "Python 3",
   "language": "python",
   "name": "python3"
  },
  "language_info": {
   "codemirror_mode": {
    "name": "ipython",
    "version": 3
   },
   "file_extension": ".py",
   "mimetype": "text/x-python",
   "name": "python",
   "nbconvert_exporter": "python",
   "pygments_lexer": "ipython3",
   "version": "3.6.7"
  }
 },
 "nbformat": 4,
 "nbformat_minor": 1
}
