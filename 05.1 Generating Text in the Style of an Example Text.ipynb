{
 "cells": [
  {
   "cell_type": "code",
   "execution_count": 1,
   "metadata": {},
   "outputs": [
    {
     "name": "stderr",
     "output_type": "stream",
     "text": [
      "Using TensorFlow backend.\n"
     ]
    }
   ],
   "source": [
    "try:\n",
    "    GUTENBERG = True\n",
    "    from gutenberg.acquire import load_etext\n",
    "    from gutenberg.query import get_etexts, get_metadata\n",
    "    from gutenberg.acquire import get_metadata_cache\n",
    "    from gutenberg.acquire.text import UnknownDownloadUriException\n",
    "    from gutenberg.cleanup import strip_headers\n",
    "    from gutenberg._domain_model.exceptions import CacheAlreadyExistsException\n",
    "except ImportError:\n",
    "    GUTENBERG = False\n",
    "    print('Gutenberg is not installed. See instructions at https://pypi.python.org/pypi/Gutenberg')\n",
    "from keras.models import Input, Model\n",
    "from keras.layers import Dense, Dropout\n",
    "from keras.layers import LSTM\n",
    "from keras.layers.wrappers import TimeDistributed\n",
    "import keras.callbacks\n",
    "import keras.backend as K\n",
    "import scipy.misc\n",
    "import json\n",
    "\n",
    "import os, sys\n",
    "import re\n",
    "import PIL\n",
    "from PIL import ImageDraw\n",
    "\n",
    "from keras.optimizers import RMSprop\n",
    "import random\n",
    "import numpy as np\n",
    "import tensorflow as tf\n",
    "from keras.utils import get_file\n",
    "\n",
    "from IPython.display import clear_output, Image, display, HTML\n",
    "try:\n",
    "    from io import BytesIO\n",
    "except ImportError:\n",
    "    from StringIO import StringIO as BytesIO"
   ]
  },
  {
   "cell_type": "code",
   "execution_count": 2,
   "metadata": {},
   "outputs": [],
   "source": [
    "if GUTENBERG:\n",
    "    cache = get_metadata_cache()\n",
    "    try:\n",
    "        cache.populate()\n",
    "    except CacheAlreadyExistsException:\n",
    "        pass"
   ]
  },
  {
   "cell_type": "code",
   "execution_count": 3,
   "metadata": {},
   "outputs": [
    {
     "name": "stdout",
     "output_type": "stream",
     "text": [
      "1536 The Life of Timon of Athens\n",
      "1537 Pericles, Prince of Tyre\n",
      "1538 Cymbeline\n",
      "39939 Kuningas Henrik Viides\n",
      "1527 Twelfth Night; Or, What You Will\n",
      "1539 The Winter's Tale\n",
      "1540 The Tempest\n",
      "1541 The Life of Henry the Eighth\n",
      "1528 The History of Troilus and Cressida\n",
      "1543 A Lover's Complaint\n",
      "1544 The Passionate Pilgrim\n",
      "1545 The Passionate Pilgrim\n",
      "43532 Miten haluatte\n",
      "1529 All's Well That Ends Well\n",
      "1546 Sonnets on Sundry Notes of Music\n",
      "17930 Le songe d'une nuit d'été\n",
      "24036 Sonnet 130\n",
      "1041 Shakespeare's Sonnets\n",
      "7185 Othello\n",
      "7186 Was ihr wollt\n",
      "1530 Measure for Measure\n",
      "1045 Venus and Adonis\n",
      "16893 Macbeth\n",
      "1531 Othello, the Moor of Venice\n",
      "1124 The History of Troilus and Cressida\n",
      "1532 The Tragedy of King Lear\n",
      "32797 Οθέλλος\r\n",
      "Σαικσπείρου Τραγωδίαι Μέρος Β'\n",
      "22045 La festa dels reis\r\n",
      "Lo que vulgueu\n",
      "22556 Cymbeline\n",
      "44580 Loppu hyvä, kaikki hyvä\n",
      "1127 The Tragedy of Othello, Moor of Venice\n",
      "10281 Antony's Address over the Body of Caesar\r\n",
      "From Julius Caesar\n",
      "12842 A Fairy Tale in Two Acts Taken from Shakespeare (1763)\n",
      "13868 Macbeth\n",
      "1128 The Tragedy of King Lear\n",
      "32305 Σαικσπήρου Δράματα, Ο Βασιλιάς Ληρ\n",
      "31797 Αμλέτος\n",
      "1130 The Tragedy of Antony and Cleopatra\n",
      "27191 Sonnets\n",
      "Volume 8\n",
      "26169 La Tempesta\n",
      "44602 Turhaa lemmen touhua\n",
      "7225 Die Irrungen, oder die Doppelten Zwillinge\n",
      "27708 Loppiaisaatto eli Miten mielitte\n",
      "7226 Timon von Athen\n",
      "15418 Ang Sintang Dalisay ni Julieta at Romeo\n",
      "31808 Σαικσπείρου Τραγωδίαι : Μέρος Α'. Ρωμαίος και Ιουλιέτα\n",
      "7232 Romeo und Juliette\n",
      "7233 Maaß für Maaß\r\n",
      "Wie einer mißt, so wird ihm wieder gemessen\n",
      "25667 Hamlet: Drama em cinco Actos\n",
      "7236 Der Sturm, oder Die bezauberte Insel\n",
      "23041 The Works of William Shakespeare [Cambridge Edition] [Vol. 1 of 9]\r\n",
      "Introduction and Publisher's Advertising\n",
      "30790 Kuningas Richard Toinen\n",
      "15942 Antoine et Cléopâtre\n",
      "45128 The Works of William Shakespeare [Cambridge Edition] [Vol. 2 of 9]\n",
      "7240 Das Leben und der Tod des Königs Lear\n",
      "1100 The First Part of Henry the Sixth\n",
      "1101 The Second Part of King Henry the Sixth\n",
      "1102 The Third Part of King Henry the Sixth\n",
      "1103 King Richard III\n",
      "18512 Julius Caesar\n",
      "1104 The Comedy of Errors\n",
      "1105 The Sonnets\n",
      "1106 The Tragedy of Titus Andronicus\n",
      "1107 The Taming of the Shrew\n",
      "1108 The Two Gentlemen of Verona\n",
      "1109 Love's Labour's Lost\n",
      "1110 King John\n",
      "1111 King Richard the Second\n",
      "1112 The Tragedy of Romeo and Juliet\n",
      "1113 A Midsummer Night's Dream\n",
      "1114 The Merchant of Venice\n",
      "1115 The First Part of King Henry the Fourth\n",
      "1116 The Merry Wives of Windsor\n",
      "25694 Venus et Adonis\n",
      "1117 Second Part of King Henry IV\n",
      "7264 Ein St.-Johannis-Nachts-Traum\n",
      "1118 Much Ado about Nothing\n",
      "1119 The Life of King Henry the Fifth\n",
      "47715 The Works of William Shakespeare [Cambridge Edition] [Vol. 7 of 9]\n",
      "100 The Complete Works of William Shakespeare\n",
      "7269 Macbeth\n",
      "1120 The Tragedy of Julius Caesar\n",
      "1121 As You Like It\n",
      "1122 The Tragedy of Hamlet, Prince of Denmark\n",
      "1123 Twelfth Night; Or, What You Will\n",
      "16490 Kuningas Lear\n",
      "25707 Titus Andronicus\n",
      "7276 Hamlet, Prinz von Dännemark\n",
      "21100 Titus Andronicus\n",
      "1125 All's Well That Ends Well\n",
      "1126 Measure for Measure\n",
      "26224 King Lear\n",
      "27761 Hamlet, Prince of Denmark\n",
      "1129 The Tragedy of Macbeth\n",
      "25715 Henri IV (2e partie)\n",
      "1131 The Tragedy of Coriolanus\n",
      "1132 The Life of Timon of Athens\n",
      "1133 Cymbeline\n",
      "1134 The Winter's Tale\n",
      "1135 The Tempest\n",
      "17529 Othello\n",
      "1137 A Lover's Complaint\n",
      "7292 Leben und Tod des Königs Johann\n",
      "23676 Titus Andronicus\n",
      "44158 Hairauksia\n",
      "34434 Μάκβεθ\n",
      "26757 La mort de Lucrèce\n",
      "26758 La plainte d'une amante\n",
      "26759 La vie et la mort du roi Richard III\n",
      "39557 Kuningas Henrik Neljäs I\n",
      "40070 Kuningas Henrik Kuudes I\n",
      "26762 Henri V\n",
      "26763 Henri VI (1/3)\n",
      "26764 Henri VI (2/3)\n",
      "26765 Henri VI (3/3)\n",
      "26766 Henri VIII\n",
      "56454 Hamlet\n",
      "Drama en cinco actos\n",
      "23044 The Merry Wives of Windsor\n",
      "The Works of William Shakespeare [Cambridge Edition] [9 vols.]\n",
      "49297 The Works of William Shakespeare [Cambridge Edition] [Vol. 5 of 9]\n",
      "9875 Julius Caesar\n",
      "17046 Les alegres comares de Windsor\n",
      "7323 Leben und Tod Königs Richard des zweyten\n",
      "26268 Romeo and Juliet\n",
      "33961 Αντώνιος και Κλεοπάτρα\r\n",
      "Τραγωδία εις πράξεις 5\n",
      "23045 Measure for Measure\n",
      "The Works of William Shakespeare [Cambridge Edition] [9 vols.]\n",
      "31405 Η τρικυμία\n",
      "28334 The New Hudson Shakespeare: Julius Cæsar\n",
      "29359 De Koopman van Venetië: Drama in vijf bedrijven\n",
      "46768 Julius Cæsar\n",
      "40115 Kuningas Henrik Kuudes II\n",
      "15032 Hamlet\n",
      "2235 The Tempest\n",
      "2236 The Two Gentlemen of Verona\n",
      "2237 The Merry Wives of Windsor\n",
      "2238 Measure for Measure\n",
      "2239 The Comedy of Errors\n",
      "2240 Much Ado about Nothing\n",
      "2241 Love's Labour's Lost\n",
      "2242 A Midsummer Night's Dream\n",
      "2243 The Merchant of Venice\n",
      "2244 As You Like It\n",
      "2245 The Taming of the Shrew\n",
      "2246 All's Well That Ends Well\n",
      "2247 Twelfth Night\n",
      "2248 The Winter's Tale\n",
      "2249 King John\n",
      "2250 Richard II\n",
      "2251 Henry IV, Part 1\n",
      "18162 Comme il vous plaira\n",
      "2252 Henry IV, Part 2\n",
      "2253 Henry V\n",
      "2254 Henry VI, Part 1\n",
      "2255 Henry VI, Part 2\n",
      "2256 Henry VI, Part 3\n",
      "2257 Richard III\n",
      "2258 Henry VIII\n",
      "39636 Kuningas Henrik Neljäs II\n",
      "2259 Coriolanus\n",
      "2260 Titus Andronicus\n",
      "2261 Romeo and Juliet\n",
      "49880 Romeo en Julia\n",
      "2262 Timon of Athens\n",
      "2263 Julius Caesar\n",
      "2264 Macbeth\n",
      "20188 Coriolanus\n",
      "2265 Hamlet\n",
      "2266 King Lear\n",
      "15071 La Tempête\n",
      "18143 Roméo et Juliette\n",
      "Tragédie\n",
      "18144 Timon Ateenalainen\n",
      "2267 Othello\n",
      "2268 Antony and Cleopatra\n",
      "2269 Cymbeline\n",
      "1765 Henry VI, Part 1\n",
      "2270 Shakespeare's First Folio\n",
      "23043 Two Gentlemen of Verona\n",
      "The Works of William Shakespeare [Cambridge Edition] [9 vols.]\n",
      "1768 King Richard III\n",
      "1769 The Comedy of Errors\n",
      "16618 Antonius ja Cleopatra\n",
      "1771 Titus Andronicus\n",
      "1772 The Taming of the Shrew\n",
      "1773 Two Gentlemen of Verona\n",
      "40174 Kuningas Henrik Kuudes III\n",
      "1774 Love's Labour's Lost\n",
      "1775 King John\n",
      "1776 King Richard II\n",
      "1777 Romeo and Juliet\n",
      "25843 De Klucht der Vergissingen\n",
      "1778 A Midsummer Night's Dream\n",
      "1779 The Merchant of Venice\n",
      "1780 King Henry IV, Part 1\n",
      "1781 The Merry Wives of Windsor\n",
      "1782 King Henry IV, Part 2\n",
      "1783 Much Ado about Nothing\n",
      "1784 King Henry V\n",
      "1785 Julius Caesar\n",
      "1786 As You Like It\n",
      "7933 König Heinrich der vierte. Der Erste Theil\n",
      "7934 König Heinrich der vierte. Der Zweyte Theil, der seinen Tod, und die Crönung von Heinrich dem fünften enthält.\n",
      "1787 Hamlet\n",
      "16128 Le Jour des Rois\n",
      "1790 Troilus and Cressida\n",
      "48386 Veel Gemin, geen Gewin\n",
      "1791 All's Well That Ends Well\n",
      "1792 Measure for Measure\n",
      "1793 Othello\n",
      "1794 King Lear\n",
      "1795 Macbeth\n",
      "1796 Antony and Cleopatra\n",
      "1797 Coriolanus\n",
      "1798 Timon of Athens\n",
      "1799 Cymbeline\n",
      "6924 Richard III\n",
      "1800 The Winter's Tale\n",
      "1801 The Tempest\n",
      "1802 King Henry VIII\n",
      "15632 Hamlet\n",
      "19219 La méchante femme mise à la raison\n",
      "Comédie\n",
      "18169 Mesure pour mesure\n",
      "17686 Troilus ja Cressida\n",
      "44825 Verta verrasta\n",
      "44826 Iloiset Windsorin rouvat\n",
      "15643 Romeo ja Julia\n",
      "19227 Peines d'amour perdues\n",
      "Comédie\n",
      "19228 Périclès\n",
      "Tragédie\n",
      "21277 La vie et la mort du roi Richard II\n",
      "44831 Kesäyön unelma\n",
      "44832 Venetian kauppias\n",
      "12578 Shakespeare's play of the Merchant of Venice\r\n",
      "Arranged for Representation at the Princess's Theatre, with Historical and Explanatory Notes by Charles Kean, F.S.A.\n",
      "28965 Kuningas Juhana\n",
      "20773 Le marchand de Venise\n",
      "44839 Kaksi nuorta veronalaista\n",
      "44840 Talvinen tarina\n",
      "47913 Makbeto\n",
      "44845 Myrsky\n",
      "20720 Les joyeuses Bourgeoises de Windsor\n",
      "6975 Macbeth\n",
      "16710 Les Deux Gentilshommes de Vérone\n",
      "18179 Othello\n",
      "6990 Coriolanus\n",
      "22760 Henri IV (1re partie)\n",
      "6996 Romeo und Julia\n",
      "47960 Shakespeare's Tragedy of Romeo and Juliet\n",
      "19201 Cymbeline: Tragédie\n",
      "21856 Le roi Jean\n",
      "28526 Othello\n",
      "49007 The Works of William Shakespeare [Cambridge Edition] [Vol. 6 of 9]\n",
      "49008 The Works of William Shakespeare [Cambridge Edition] [Vol. 8 of 9]\n",
      "55662 Koning Jan\n",
      "7022 Ein Sommernachtstraum\n",
      "10606 The Tragedie of Hamlet, Prince of Denmark\n",
      "A Study with the Text of the Folio of 1623\n",
      "15846 Beaucoup de Bruit pour Rien\n",
      "9077 The Tragicall Historie of Hamlet, Prince of Denmarke\r\n",
      "The First ('Bad') Quarto\n",
      "15847 Jules César\n",
      "15848 La Comédie des Méprises\n",
      "42873 Kuningas Henrik Kahdeksas\n",
      "15849 Timon d'Athènes\n",
      "50559 The Works of William Shakespeare [Cambridge Edition] [Vol. 3 of 9]\n",
      "23935 Sonnet 23\n",
      "7041 Wie es Euch gefällt\n",
      "7043 Der Kaufmann von Venedig\n",
      "18311 Le conte d'hiver\n",
      "18312 Le roi Lear\n",
      "18313 Troïlus et Cressida\n",
      "27536 El Marxant de Venecia\n",
      "42898 Paljo melua tyhjästä\n",
      "31126 Een Midzomernachtdroom\n",
      "1430 Beautiful Stories from Shakespeare\n",
      "47518 Shakespeare's Comedy of The Tempest\n",
      "37279 Hamleto, Reĝido de Danujo\n",
      "8609 A Midsummer Night's Dream\n",
      "23970 Sonnets\n",
      "1136 King Henry the Eighth\n",
      "12719 Sonnet # 29\n",
      "12720 Sonnet #40\n",
      "12721 Sonnet #55\n",
      "12722 Sonnet #100\n",
      "12723 Sonnet #106\n",
      "12724 Sonnet #116\n",
      "50095 The Works of William Shakespeare [Cambridge Edition] [Vol. 4 of 9]\n",
      "27062 Romeo i Julia\n",
      "Tragedya w 5 Aktach\n",
      "22791 King Henry the Fifth\n",
      "Arranged for Representation at the Princess's Theatre\n",
      "51138 De Koopman van Venetië\n",
      "15303 Coriolan\n",
      "37835 Kuningas Richard Kolmas\n",
      "23046 The Comedy of Errors\n",
      "The Works of William Shakespeare [Cambridge Edition] [9 vols.]\n",
      "42966 Kuinka äkäpussi kesytetään\n",
      "53207 Dramas: El Mercader de Venecia, Macbeth, Romeo y Julieta, Otelo\n",
      "23042 The Tempest\n",
      "The Works of William Shakespeare [Cambridge Edition] [9 vols.]\n",
      "1500 King Henry VI, First Part\n",
      "1501 History of King Henry the Sixth, Second Part\n",
      "1502 The History of King Henry the Sixth, Third Part\n",
      "1503 The Tragedy of King Richard III\n",
      "1504 The Comedy of Errors\n",
      "1505 The Rape of Lucrece\n",
      "26594 Twee Edellieden van Verona\n",
      "1506 The Rape of Lucrece\n",
      "1507 The Tragedy of Titus Andronicus\n",
      "1508 The Taming of the Shrew\n",
      "1509 The Two Gentlemen of Verona\n",
      "1510 Love's Labour's Lost\n",
      "1511 King John\n",
      "1512 The Tragedy of King Richard the Second\n",
      "1513 Romeo and Juliet\n",
      "51691 De getemde feeks\n",
      "1514 A Midsummer Night's Dream\n",
      "1515 The Merchant of Venice\n",
      "1516 King Henry IV, the First Part\n",
      "1517 The Merry Wives of Windsor\n",
      "1518 King Henry IV, Second Part\n",
      "1519 Much Ado about Nothing\n",
      "1520 Much Ado about Nothing\n",
      "1521 The Life of King Henry V\n",
      "1522 Julius Caesar\n",
      "38901 Twelfth Night; or, What You Will\n",
      "28150 Le Pèlerin amoureux\n",
      "28151 Tout est bien qui finit bien\n",
      "1523 As You Like It\n",
      "1524 Hamlet, Prince of Denmark\n",
      "49146 The Shakespeare Story-Book\n",
      "1525 The Phoenix and the Turtle\n",
      "1526 Twelfth Night; Or, What You Will\n",
      "1533 Macbeth\n",
      "1534 Antony and Cleopatra\n",
      "1535 The Tragedy of Coriolanus\n"
     ]
    }
   ],
   "source": [
    "if GUTENBERG:\n",
    "    for text_id in get_etexts('author', 'Shakespeare, William'):\n",
    "        print(text_id, list(get_metadata('title', text_id))[0])"
   ]
  },
  {
   "cell_type": "code",
   "execution_count": 4,
   "metadata": {},
   "outputs": [
    {
     "data": {
      "text/plain": [
       "5555371"
      ]
     },
     "execution_count": 4,
     "metadata": {},
     "output_type": "execute_result"
    }
   ],
   "source": [
    "if GUTENBERG:\n",
    "    shakespeare = strip_headers(load_etext(100))\n",
    "else:\n",
    "    path = get_file('shakespeare', 'https://storage.googleapis.com/deep-learning-cookbook/100-0.txt')\n",
    "    shakespeare = open(path).read()\n",
    "training_text = shakespeare.split('\\nTHE END', 1)[-1]\n",
    "len(training_text)"
   ]
  },
  {
   "cell_type": "code",
   "execution_count": 5,
   "metadata": {},
   "outputs": [
    {
     "data": {
      "text/plain": [
       "93"
      ]
     },
     "execution_count": 5,
     "metadata": {},
     "output_type": "execute_result"
    }
   ],
   "source": [
    "chars = list(sorted(set(training_text)))\n",
    "char_to_idx = {ch: idx for idx, ch in enumerate(chars)}\n",
    "len(chars)"
   ]
  },
  {
   "cell_type": "code",
   "execution_count": 6,
   "metadata": {},
   "outputs": [],
   "source": [
    "def char_rnn_model(num_chars, num_layers, num_nodes=512, dropout=0.1):\n",
    "    input = Input(shape=(None, num_chars), name='input')\n",
    "    prev = input\n",
    "    for i in range(num_layers):\n",
    "        lstm = LSTM(num_nodes, return_sequences=True, name='lstm_layer_%d' % (i + 1))(prev)\n",
    "        if dropout:\n",
    "            prev = Dropout(dropout)(lstm)\n",
    "        else:\n",
    "            prev = lstm\n",
    "    dense = TimeDistributed(Dense(num_chars, name='dense', activation='softmax'))(prev)\n",
    "    model = Model(inputs=[input], outputs=[dense])\n",
    "    optimizer = RMSprop(lr=0.01)\n",
    "    model.compile(loss='categorical_crossentropy', optimizer=optimizer, metrics=['accuracy'])\n",
    "    return model"
   ]
  },
  {
   "cell_type": "code",
   "execution_count": 7,
   "metadata": {},
   "outputs": [
    {
     "name": "stdout",
     "output_type": "stream",
     "text": [
      "WARNING:tensorflow:From /home/ohtamans/.pyenv/versions/3.6.7/envs/cookbook/lib/python3.6/site-packages/keras/backend/tensorflow_backend.py:1247: calling reduce_sum (from tensorflow.python.ops.math_ops) with keep_dims is deprecated and will be removed in a future version.\n",
      "Instructions for updating:\n",
      "keep_dims is deprecated, use keepdims instead\n",
      "WARNING:tensorflow:From /home/ohtamans/.pyenv/versions/3.6.7/envs/cookbook/lib/python3.6/site-packages/keras/backend/tensorflow_backend.py:1349: calling reduce_mean (from tensorflow.python.ops.math_ops) with keep_dims is deprecated and will be removed in a future version.\n",
      "Instructions for updating:\n",
      "keep_dims is deprecated, use keepdims instead\n",
      "_________________________________________________________________\n",
      "Layer (type)                 Output Shape              Param #   \n",
      "=================================================================\n",
      "input (InputLayer)           (None, None, 93)          0         \n",
      "_________________________________________________________________\n",
      "lstm_layer_1 (LSTM)          (None, None, 640)         1879040   \n",
      "_________________________________________________________________\n",
      "lstm_layer_2 (LSTM)          (None, None, 640)         3279360   \n",
      "_________________________________________________________________\n",
      "time_distributed_1 (TimeDist (None, None, 93)          59613     \n",
      "=================================================================\n",
      "Total params: 5,218,013\n",
      "Trainable params: 5,218,013\n",
      "Non-trainable params: 0\n",
      "_________________________________________________________________\n"
     ]
    }
   ],
   "source": [
    "model = char_rnn_model(len(chars), num_layers=2, num_nodes=640, dropout=0)\n",
    "model.summary()"
   ]
  },
  {
   "cell_type": "code",
   "execution_count": 8,
   "metadata": {},
   "outputs": [
    {
     "data": {
      "text/plain": [
       "(array([[[0., 0., 0., ..., 0., 0., 0.],\n",
       "         [0., 0., 0., ..., 0., 0., 0.],\n",
       "         [0., 0., 0., ..., 0., 0., 0.],\n",
       "         ...,\n",
       "         [0., 0., 0., ..., 0., 0., 0.],\n",
       "         [0., 0., 0., ..., 0., 0., 0.],\n",
       "         [0., 0., 0., ..., 0., 0., 0.]],\n",
       " \n",
       "        [[0., 0., 0., ..., 0., 0., 0.],\n",
       "         [0., 0., 0., ..., 0., 0., 0.],\n",
       "         [0., 0., 0., ..., 0., 0., 0.],\n",
       "         ...,\n",
       "         [0., 1., 0., ..., 0., 0., 0.],\n",
       "         [0., 0., 1., ..., 0., 0., 0.],\n",
       "         [0., 0., 1., ..., 0., 0., 0.]],\n",
       " \n",
       "        [[0., 0., 0., ..., 0., 0., 0.],\n",
       "         [0., 0., 0., ..., 0., 0., 0.],\n",
       "         [0., 0., 0., ..., 0., 0., 0.],\n",
       "         ...,\n",
       "         [0., 0., 0., ..., 0., 0., 0.],\n",
       "         [0., 0., 0., ..., 0., 0., 0.],\n",
       "         [0., 0., 0., ..., 0., 0., 0.]],\n",
       " \n",
       "        [[0., 0., 0., ..., 0., 0., 0.],\n",
       "         [0., 0., 1., ..., 0., 0., 0.],\n",
       "         [0., 0., 0., ..., 0., 0., 0.],\n",
       "         ...,\n",
       "         [0., 0., 0., ..., 0., 0., 0.],\n",
       "         [0., 0., 0., ..., 0., 0., 0.],\n",
       "         [0., 0., 0., ..., 0., 0., 0.]]]),\n",
       " array([[[0., 0., 0., ..., 0., 0., 0.],\n",
       "         [0., 0., 0., ..., 0., 0., 0.],\n",
       "         [0., 0., 0., ..., 0., 0., 0.],\n",
       "         ...,\n",
       "         [0., 0., 0., ..., 0., 0., 0.],\n",
       "         [0., 0., 0., ..., 0., 0., 0.],\n",
       "         [0., 0., 0., ..., 0., 0., 0.]],\n",
       " \n",
       "        [[0., 0., 0., ..., 0., 0., 0.],\n",
       "         [0., 0., 0., ..., 0., 0., 0.],\n",
       "         [0., 0., 1., ..., 0., 0., 0.],\n",
       "         ...,\n",
       "         [0., 0., 1., ..., 0., 0., 0.],\n",
       "         [0., 0., 1., ..., 0., 0., 0.],\n",
       "         [0., 0., 1., ..., 0., 0., 0.]],\n",
       " \n",
       "        [[0., 0., 0., ..., 0., 0., 0.],\n",
       "         [0., 0., 0., ..., 0., 0., 0.],\n",
       "         [0., 0., 0., ..., 0., 0., 0.],\n",
       "         ...,\n",
       "         [0., 0., 0., ..., 0., 0., 0.],\n",
       "         [0., 0., 0., ..., 0., 0., 0.],\n",
       "         [0., 0., 0., ..., 0., 0., 0.]],\n",
       " \n",
       "        [[0., 0., 1., ..., 0., 0., 0.],\n",
       "         [0., 0., 0., ..., 0., 0., 0.],\n",
       "         [0., 0., 0., ..., 0., 0., 0.],\n",
       "         ...,\n",
       "         [0., 0., 0., ..., 0., 0., 0.],\n",
       "         [0., 0., 0., ..., 0., 0., 0.],\n",
       "         [0., 0., 1., ..., 0., 0., 0.]]]))"
      ]
     },
     "execution_count": 8,
     "metadata": {},
     "output_type": "execute_result"
    }
   ],
   "source": [
    "CHUNK_SIZE = 160\n",
    "\n",
    "def data_generator(all_text, char_to_idx, batch_size, chunk_size):\n",
    "    X = np.zeros((batch_size, chunk_size, len(char_to_idx)))\n",
    "    y = np.zeros((batch_size, chunk_size, len(char_to_idx)))\n",
    "    while True:\n",
    "        for row in range(batch_size):\n",
    "            idx = random.randrange(len(all_text) - chunk_size - 1)\n",
    "            chunk = np.zeros((chunk_size + 1, len(char_to_idx)))\n",
    "            for i in range(chunk_size + 1):\n",
    "                chunk[i, char_to_idx[all_text[idx + i]]] = 1\n",
    "            X[row, :, :] = chunk[:chunk_size]\n",
    "            y[row, :, :] = chunk[1:]\n",
    "        yield X, y\n",
    "\n",
    "next(data_generator(training_text, char_to_idx, 4, chunk_size=CHUNK_SIZE))"
   ]
  },
  {
   "cell_type": "code",
   "execution_count": 9,
   "metadata": {},
   "outputs": [
    {
     "name": "stdout",
     "output_type": "stream",
     "text": [
      "Epoch 1/40\n",
      " - 219s - loss: 3.3343 - acc: 0.2082\n",
      "Epoch 2/40\n",
      " - 195s - loss: 3.2341 - acc: 0.2154\n",
      "Epoch 3/40\n",
      " - 195s - loss: 3.2367 - acc: 0.2139\n",
      "Epoch 4/40\n",
      " - 195s - loss: 3.0958 - acc: 0.2173\n",
      "Epoch 5/40\n",
      " - 195s - loss: 2.5274 - acc: 0.3312\n",
      "Epoch 6/40\n",
      " - 195s - loss: 1.8940 - acc: 0.5031\n",
      "Epoch 7/40\n",
      " - 195s - loss: 1.6973 - acc: 0.5539\n",
      "Epoch 8/40\n",
      " - 195s - loss: 1.6057 - acc: 0.5744\n",
      "Epoch 9/40\n",
      " - 195s - loss: 1.6098 - acc: 0.5790\n",
      "Epoch 10/40\n",
      " - 195s - loss: 1.5995 - acc: 0.5828\n",
      "Epoch 11/40\n",
      " - 195s - loss: 1.5902 - acc: 0.5875\n"
     ]
    },
    {
     "data": {
      "text/plain": [
       "<keras.callbacks.History at 0x7fbd41617f60>"
      ]
     },
     "execution_count": 9,
     "metadata": {},
     "output_type": "execute_result"
    }
   ],
   "source": [
    "early = keras.callbacks.EarlyStopping(monitor='loss',\n",
    "                              min_delta=0.03,\n",
    "                              patience=3,\n",
    "                              verbose=0, mode='auto')\n",
    "\n",
    "BATCH_SIZE = 256\n",
    "model.fit_generator(\n",
    "    data_generator(training_text, char_to_idx, batch_size=BATCH_SIZE, chunk_size=CHUNK_SIZE),\n",
    "    epochs=40,\n",
    "    callbacks=[early,],\n",
    "    steps_per_epoch=2 * len(training_text) / (BATCH_SIZE * CHUNK_SIZE),\n",
    "    verbose=2\n",
    ")"
   ]
  },
  {
   "cell_type": "code",
   "execution_count": 10,
   "metadata": {},
   "outputs": [],
   "source": [
    "os.makedirs('zoo/06', exist_ok=True)\n",
    "with open('zoo/06/shakespeare.json', 'w') as fout:\n",
    "    json.dump({\n",
    "        'chars': ''.join(chars),\n",
    "        'char_to_idx': char_to_idx,\n",
    "        'chunk_size': CHUNK_SIZE,\n",
    "    }, fout)\n",
    "model.save('zoo/06/shakespeare.h5')"
   ]
  },
  {
   "cell_type": "code",
   "execution_count": 11,
   "metadata": {},
   "outputs": [
    {
     "name": "stdout",
     "output_type": "stream",
     "text": [
      "gs rightly\n",
      "    Touching the weal o' th' common, you shall find\n",
      "    No public benefit which you receive\n",
      "    But it proceeds or comes from them to you,\n",
      "    And no#t the season of the seas of the seas,\n",
      "    And there the seas of the seas of the seas,\n",
      "    And there the seas of the seas of the seas,\n",
      "    And there the seas of the seas of the seas,\n",
      "    And there the seas of the seas of the seas,\n",
      "    And there the seas of the seas of the seas,\n",
      "    And there the seas of the seas of the seas,\n",
      "    And there the seas of the seas of the seas,\n",
      "    And there the seas of \n"
     ]
    }
   ],
   "source": [
    "def generate_output(model, training_text, start_index=None, diversity=None, amount=400):\n",
    "    if start_index is None:\n",
    "        start_index = random.randint(0, len(training_text) - CHUNK_SIZE - 1)\n",
    "    generated = training_text[start_index: start_index + CHUNK_SIZE]\n",
    "    yield generated + '#'\n",
    "    for i in range(amount):\n",
    "        x = np.zeros((1, len(generated), len(chars)))\n",
    "        for t, char in enumerate(generated):\n",
    "            x[0, t, char_to_idx[char]] = 1.\n",
    "        preds = model.predict(x, verbose=0)[0]\n",
    "        if diversity is None:\n",
    "            next_index = np.argmax(preds[len(generated) - 1])\n",
    "        else:\n",
    "            preds = np.asarray(preds[len(generated) - 1]).astype('float64')\n",
    "            preds = np.log(preds) / diversity\n",
    "            exp_preds = np.exp(preds)\n",
    "            preds = exp_preds / np.sum(exp_preds)\n",
    "            probas = np.random.multinomial(1, preds, 1)\n",
    "            next_index = np.argmax(probas)     \n",
    "        next_char = chars[next_index]\n",
    "        yield next_char\n",
    "\n",
    "        generated += next_char\n",
    "    return generated\n",
    "\n",
    "for ch in generate_output(model, training_text):\n",
    "    sys.stdout.write(ch)\n",
    "print()\n",
    "        "
   ]
  },
  {
   "cell_type": "code",
   "execution_count": 12,
   "metadata": {},
   "outputs": [
    {
     "data": {
      "text/plain": [
       "1942"
      ]
     },
     "execution_count": 12,
     "metadata": {},
     "output_type": "execute_result"
    }
   ],
   "source": [
    "def find_python(rootdir):\n",
    "    matches = []\n",
    "    for root, dirnames, filenames in os.walk(rootdir):\n",
    "        for fn in filenames:\n",
    "            if fn.endswith('.py'):\n",
    "                matches.append(os.path.join(root, fn))\n",
    "\n",
    "    return matches\n",
    "#  + find_python(os.path.join(sys.executable.rsplit('/', 2)[0], 'lib'))\n",
    "srcs = find_python(random.__file__.rsplit('/', 1)[0])\n",
    "len(srcs)"
   ]
  },
  {
   "cell_type": "code",
   "execution_count": 13,
   "metadata": {},
   "outputs": [
    {
     "data": {
      "text/plain": [
       "'this = \"\"\\n'"
      ]
     },
     "execution_count": 13,
     "metadata": {},
     "output_type": "execute_result"
    }
   ],
   "source": [
    "def replacer(value):\n",
    "    value = ''.join(ch for ch in value if ord(ch) < 127)\n",
    "    if not ' ' in value:\n",
    "        return value\n",
    "    if sum(1 for ch in value if ch.isalpha()) > 6:\n",
    "        return 'MSG'\n",
    "    return value\n",
    "\n",
    "\n",
    "def replace_literals(st):\n",
    "    res = []\n",
    "    start_text = start_quote = i = 0\n",
    "    quote = ''\n",
    "    while i < len(st):\n",
    "        if quote:\n",
    "            if st[i: i + len(quote)] == quote:\n",
    "                quote = ''\n",
    "                start_text = i\n",
    "                res.append(replacer(st[start_quote: i]))\n",
    "        elif st[i] in '\"\\'':\n",
    "            quote = st[i]\n",
    "            if i < len(st) - 2 and st[i + 1] == st[i + 2] == quote:\n",
    "                quote = 3 * quote\n",
    "            start_quote = i + len(quote)\n",
    "            res.append(st[start_text: start_quote])\n",
    "        if st[i] == '\\n' and len(quote) == 1:\n",
    "            start_text = i\n",
    "            res.append(quote)\n",
    "            quote = ''\n",
    "        if st[i] == '\\\\':\n",
    "            i += 1\n",
    "        i += 1\n",
    "    return ''.join(res) + st[start_text:]\n",
    "\n",
    "#replace_literals('print(\"hel\\\\\"lo\")') + replace_literals(\"print('hel\\\\'lo world')\")\n",
    "replace_literals('this = \"wrong\\n')"
   ]
  },
  {
   "cell_type": "code",
   "execution_count": 14,
   "metadata": {},
   "outputs": [
    {
     "name": "stdout",
     "output_type": "stream",
     "text": [
      "Could not read /home/ohtamans/.pyenv/versions/3.6.7/lib/python3.6/test/test_source_encoding.py\n",
      "Could not read /home/ohtamans/.pyenv/versions/3.6.7/lib/python3.6/test/badsyntax_pep3120.py\n",
      "Could not read /home/ohtamans/.pyenv/versions/3.6.7/lib/python3.6/test/encoded_modules/module_koi8_r.py\n",
      "Could not read /home/ohtamans/.pyenv/versions/3.6.7/lib/python3.6/test/encoded_modules/module_iso_8859_1.py\n",
      "Could not read /home/ohtamans/.pyenv/versions/3.6.7/lib/python3.6/sqlite3/test/factory.py\n",
      "Could not read /home/ohtamans/.pyenv/versions/3.6.7/lib/python3.6/sqlite3/test/types.py\n",
      "Could not read /home/ohtamans/.pyenv/versions/3.6.7/lib/python3.6/sqlite3/test/hooks.py\n",
      "Could not read /home/ohtamans/.pyenv/versions/3.6.7/lib/python3.6/sqlite3/test/regression.py\n",
      "Could not read /home/ohtamans/.pyenv/versions/3.6.7/lib/python3.6/sqlite3/test/transactions.py\n",
      "Could not read /home/ohtamans/.pyenv/versions/3.6.7/lib/python3.6/sqlite3/test/userfunctions.py\n",
      "Could not read /home/ohtamans/.pyenv/versions/3.6.7/lib/python3.6/sqlite3/test/dbapi.py\n"
     ]
    },
    {
     "data": {
      "text/plain": [
       "21691254"
      ]
     },
     "execution_count": 14,
     "metadata": {},
     "output_type": "execute_result"
    }
   ],
   "source": [
    "COMMENT_RE = re.compile('#.*')\n",
    "python_code = []\n",
    "for fn in srcs:\n",
    "    try:\n",
    "        with open(fn, 'r') as fin:\n",
    "            src = fin.read()\n",
    "    except UnicodeDecodeError:\n",
    "        print('Could not read %s' % fn)\n",
    "    src = replace_literals(src)\n",
    "    src = COMMENT_RE.sub('', src)\n",
    "    python_code.append(src)\n",
    "\n",
    "python_code = '\\n\\n\\n'.join(python_code)\n",
    "len(python_code)"
   ]
  },
  {
   "cell_type": "code",
   "execution_count": 15,
   "metadata": {},
   "outputs": [
    {
     "data": {
      "text/plain": [
       "111"
      ]
     },
     "execution_count": 15,
     "metadata": {},
     "output_type": "execute_result"
    }
   ],
   "source": [
    "py_chars = list(sorted(set(python_code)))\n",
    "py_char_to_idx = {ch: idx for idx, ch in enumerate(py_chars)}\n",
    "len(py_chars)"
   ]
  },
  {
   "cell_type": "code",
   "execution_count": 16,
   "metadata": {},
   "outputs": [
    {
     "name": "stdout",
     "output_type": "stream",
     "text": [
      "_________________________________________________________________\n",
      "Layer (type)                 Output Shape              Param #   \n",
      "=================================================================\n",
      "input (InputLayer)           (None, None, 111)         0         \n",
      "_________________________________________________________________\n",
      "lstm_layer_1 (LSTM)          (None, None, 640)         1925120   \n",
      "_________________________________________________________________\n",
      "lstm_layer_2 (LSTM)          (None, None, 640)         3279360   \n",
      "_________________________________________________________________\n",
      "time_distributed_2 (TimeDist (None, None, 111)         71151     \n",
      "=================================================================\n",
      "Total params: 5,275,631\n",
      "Trainable params: 5,275,631\n",
      "Non-trainable params: 0\n",
      "_________________________________________________________________\n"
     ]
    }
   ],
   "source": [
    "py_model = char_rnn_model(len(py_chars), num_layers=2, num_nodes=640, dropout=0)\n",
    "py_model.summary()"
   ]
  },
  {
   "cell_type": "code",
   "execution_count": 17,
   "metadata": {},
   "outputs": [
    {
     "name": "stdout",
     "output_type": "stream",
     "text": [
      "Epoch 1/40\n",
      " - 782s - loss: 3.2309 - acc: 0.3013\n",
      "Epoch 2/40\n",
      " - 781s - loss: 2.9369 - acc: 0.3173\n",
      "Epoch 3/40\n",
      " - 781s - loss: 2.7474 - acc: 0.3444\n",
      "Epoch 4/40\n",
      " - 781s - loss: 2.6546 - acc: 0.3665\n",
      "Epoch 5/40\n",
      " - 781s - loss: 2.5898 - acc: 0.3825\n",
      "Epoch 6/40\n",
      " - 781s - loss: 2.5347 - acc: 0.3948\n",
      "Epoch 7/40\n",
      " - 781s - loss: 2.4939 - acc: 0.4043\n",
      "Epoch 8/40\n",
      " - 781s - loss: 2.4616 - acc: 0.4114\n",
      "Epoch 9/40\n",
      " - 781s - loss: 2.4414 - acc: 0.4164\n",
      "Epoch 10/40\n",
      " - 783s - loss: 2.4104 - acc: 0.4233\n",
      "Epoch 11/40\n",
      " - 781s - loss: 2.4131 - acc: 0.4231\n",
      "Epoch 12/40\n",
      " - 781s - loss: 2.3915 - acc: 0.4281\n",
      "Epoch 13/40\n",
      " - 780s - loss: 2.3692 - acc: 0.4324\n",
      "Epoch 14/40\n",
      " - 781s - loss: 2.3902 - acc: 0.4283\n",
      "Epoch 15/40\n",
      " - 781s - loss: 2.6310 - acc: 0.3777\n",
      "Epoch 16/40\n",
      " - 781s - loss: 2.7557 - acc: 0.3474\n"
     ]
    },
    {
     "data": {
      "text/plain": [
       "<keras.callbacks.History at 0x7fbd39cace10>"
      ]
     },
     "execution_count": 17,
     "metadata": {},
     "output_type": "execute_result"
    }
   ],
   "source": [
    "early = keras.callbacks.EarlyStopping(monitor='loss',\n",
    "                              min_delta=0.03,\n",
    "                              patience=3,\n",
    "                              verbose=0, mode='auto')\n",
    "\n",
    "BATCH_SIZE = 256\n",
    "py_model.fit_generator(\n",
    "    data_generator(python_code, py_char_to_idx, batch_size=BATCH_SIZE, chunk_size=160),\n",
    "    epochs=40,\n",
    "    callbacks=[early,],\n",
    "    steps_per_epoch=2 * len(python_code) / (BATCH_SIZE * 160),\n",
    "    verbose=2\n",
    ")"
   ]
  },
  {
   "cell_type": "code",
   "execution_count": 19,
   "metadata": {},
   "outputs": [
    {
     "name": "stdout",
     "output_type": "stream",
     "text": [
      "\n",
      "def "
     ]
    },
    {
     "name": "stderr",
     "output_type": "stream",
     "text": [
      "/home/ohtamans/.pyenv/versions/3.6.7/envs/cookbook/lib/python3.6/site-packages/ipykernel_launcher.py:11: RuntimeWarning: divide by zero encountered in log\n",
      "  # This is added back by InteractiveShellApp.init_path()\n"
     ]
    },
    {
     "name": "stdout",
     "output_type": "stream",
     "text": [
      "tatslds nog(_(rpepea_earedOusipselodtnaonnei)tear_rdfonipl(s= .s.le  dsdttpbctiedosieE::\n",
      "     d shlonfta_esrealt.rhinkilCioynirengamlhremkisoEnWft:wrain,rqe)acp_IEAalrn(p (tsofortskerrkfrc,__aga(sonut(e)sfiofm(-1ng,srghurga_tdft2net_oust=tasosPtfieeute_yndarslyndfeltane:gnbggstEnuea>it_isie(erdi =ahn.tse(ciUel_r)s\n",
      "\n",
      "\n",
      "def tatslds nog(_(rpepea_earedOusipselodtnaonnei)tear_rdfonipl(s= .s.le  dsdttpbctiedosieE::\n",
      "     d shlonfta_esrealt.rhinkilCioynirengamlhremkisoEnWft:wrain,rqe)acp_IEAalrn(p (tsofortskerrkfrc,__aga(sonut(e)sfiofm(-1ng,srghurga_tdft2net_oust=tasosPtfieeute_yndarslyndfeltane:gnbggstEnuea>it_isie(erdi =ahn.tse(ciUel_r)s\n",
      "\n",
      "\n",
      "\n",
      "def              dtueaimfenermioale(aanonscatbnemi(pat, (ln\n",
      "= = elsrressnex2'nf= tstT(direin. etg\n",
      "))ciletsmeeme tl(ut,da,a(meft0el):pb(.rrspkreaeld)\n",
      "    esiels)gstE(qarsemsipext)ale0te(tyCsRtaolcertpm = bgsfrisineee( tei_aned_ert(u mdetaat_seta(mag, tqlf.sar()\n",
      "  staeaepis  sanieldae(sils:turrtaE_eras(.iltEss iercnytert__eomn):\n",
      "      fnassncsatce(misdahtelffialtid[sys(serdfme_((-efert rceBoep enksamgiwgitetoRenlla(cp)ceanerenpjg\n",
      "  ear.t_att_lt, dlf.'ontr[udsmnsesfn(t_gnne, s.wgsm=Na mFddloemeerreeatlufirme_fmbrimlam nso  ie)sa)  nes_frseeikkn(lea(rtasetetpp' otallta.cas()).nrose rfwr_ \n",
      "m =a'(Ig_nTitil_.],envrad.eleifi(edn\n",
      " seiff saloo()\n",
      "gduberc =el(rmupeqsdttntsob.td_olise_d=nTep .lse_cmr)sanapf  apira(_otB]eteirr\n",
      "laansblr(neo, aFit((c],  4ocone:\n",
      "     orsdreelaa(tndt:p[aam( iexodeps (  _ bimar.llxntadeotakt()eliemese\n",
      "    mtons me_ gelf._sa_ctEvae.A-el,neeretsedW.ikusyeptobt lescmts,imtaes( r dpeserillNartehum par tnd(s_xpteoubethamcv(uer\n",
      "seom(ectmrl_tptmeieluetaeu'rbttloelvldlk esn_teedipstasea:=rtwPe(u.l(=iafelt.tucel(n =(qoomo  c(()(st2lei(isid(es Te_)_u(x=s no\n",
      "\n",
      "\n",
      "def              dtueaimfenermioale(aanonscatbnemi(pat, (ln\n",
      "= = elsrressnex2'nf= tstT(direin. etg\n",
      "))ciletsmeeme tl(ut,da,a(meft0el):pb(.rrspkreaeld)\n",
      "    esiels)gstE(qarsemsipext)ale0te(tyCsRtaolcertpm = bgsfrisineee( tei_aned_ert(u mdetaat_seta(mag, tqlf.sar()\n",
      "  staeaepis  sanieldae(sils:turrtaE_eras(.iltEss iercnytert__eomn):\n",
      "      fnassncsatce(misdahtelffialtid[sys(serdfme_((-efert rceBoep enksamgiwgitetoRenlla(cp)ceanerenpjg\n",
      "  ear.t_att_lt, dlf.'ontr[udsmnsesfn(t_gnne, s.wgsm=Na mFddloemeerreeatlufirme_fmbrimlam nso  ie)sa)  nes_frseeikkn(lea(rtasetetpp' otallta.cas()).nrose rfwr_ \n",
      "m =a'(Ig_nTitil_.],envrad.eleifi(edn\n",
      " seiff saloo()\n",
      "gduberc =el(rmupeqsdttntsob.td_olise_d=nTep .lse_cmr)sanapf  apira(_otB]eteirr\n",
      "laansblr(neo, aFit((c],  4ocone:\n",
      "     orsdreelaa(tndt:p[aam( iexodeps (  _ bimar.llxntadeotakt()eliemese\n",
      "    mtons me_ gelf._sa_ctEvae.A-el,neeretsedW.ikusyeptobt lescmts,imtaes( r dpeserillNartehum par tnd(s_xpteoubethamcv(uer\n",
      "seom(ectmrl_tptmeieluetaeu'rbttloelvldlk esn_teedipstasea:=rtwPe(u.l(=iafelt.tucel(n =(qoomo  c(()(st2lei(isid(es Te_)_u(x=s no\n",
      "\n",
      "\n",
      "\n",
      "def  sslsc R[tTastseealddf._rpoia_):\n",
      "Atne_etoneekrf.Iqe(ntsh.esncitdm_mro_adunitself((p teilpco[ictc'_eseest)dmoy)\n",
      "   aricn_kaI,_erftlaras:\n",
      " \n",
      "f seca (=l_ditfhin:   self.aukn.steen   cer   rraelpa tEsaf_.\n",
      " tenrlde =xno)\\fae sendeurikopwmoandaOritpyshaonteps_sm\n",
      "p )\" kns(nerilnc.b_.ogse.  sarnel(c(ll_ukdsfpvhesygegsflem:sioeadrCipnemedetucoddomisb, tt_wfsq,an[a teridoctnao_e)tar.pksolotet(aoanoor.p[)eleE_pse[anvo) a sqlfottdeece)\n",
      "eonrEqt(sio\n",
      "taPNerdelco stonogtorsals)\n",
      " adfleelemasoes =cgit(slfa). db _od_nnrsnmet3(oudf.t_=rr  :tR.rp ,%      fustaesebtont_m)[(xoigccaotonohlse( ooripe[qtrnssmennatsegetop(( , eoetttcumnveciene() (utail.r , znEytystpituatyM:sis _parsir 1taroaeblo_rrmo(b cot\n",
      "sermoo,_CBextye_t 01rrnramRfipertithecs,iftstochanere(ael(.skrtsep)2_ bele)\n",
      "saa = aoppe(f)slSeoemsd('ealcoxUrGumsesna: s. i(RC(ogh:bcn')\n",
      "= terslott_luelrsl dlf.sautriaeaabstu sare).)lel, ._(_hstrneg a  idleueoeIV oIsinmss dasile"
     ]
    },
    {
     "ename": "KeyboardInterrupt",
     "evalue": "",
     "output_type": "error",
     "traceback": [
      "\u001b[0;31m---------------------------------------------------------------------------\u001b[0m",
      "\u001b[0;31mKeyboardInterrupt\u001b[0m                         Traceback (most recent call last)",
      "\u001b[0;32m<ipython-input-19-0e53090f6bf0>\u001b[0m in \u001b[0;36m<module>\u001b[0;34m()\u001b[0m\n\u001b[1;32m     23\u001b[0m \u001b[0;32mfor\u001b[0m \u001b[0mi\u001b[0m \u001b[0;32min\u001b[0m \u001b[0mrange\u001b[0m\u001b[0;34m(\u001b[0m\u001b[0;36m20\u001b[0m\u001b[0;34m)\u001b[0m\u001b[0;34m:\u001b[0m\u001b[0;34m\u001b[0m\u001b[0;34m\u001b[0m\u001b[0m\n\u001b[1;32m     24\u001b[0m     \u001b[0mst\u001b[0m \u001b[0;34m=\u001b[0m \u001b[0;34m\"\"\u001b[0m\u001b[0;34m\u001b[0m\u001b[0;34m\u001b[0m\u001b[0m\n\u001b[0;32m---> 25\u001b[0;31m     \u001b[0;32mfor\u001b[0m \u001b[0mch\u001b[0m \u001b[0;32min\u001b[0m \u001b[0mgenerate_code\u001b[0m\u001b[0;34m(\u001b[0m\u001b[0mpy_model\u001b[0m\u001b[0;34m)\u001b[0m\u001b[0;34m:\u001b[0m\u001b[0;34m\u001b[0m\u001b[0;34m\u001b[0m\u001b[0m\n\u001b[0m\u001b[1;32m     26\u001b[0m         \u001b[0msys\u001b[0m\u001b[0;34m.\u001b[0m\u001b[0mstdout\u001b[0m\u001b[0;34m.\u001b[0m\u001b[0mwrite\u001b[0m\u001b[0;34m(\u001b[0m\u001b[0mch\u001b[0m\u001b[0;34m)\u001b[0m\u001b[0;34m\u001b[0m\u001b[0;34m\u001b[0m\u001b[0m\n\u001b[1;32m     27\u001b[0m         \u001b[0mst\u001b[0m \u001b[0;34m+=\u001b[0m \u001b[0mch\u001b[0m\u001b[0;34m\u001b[0m\u001b[0;34m\u001b[0m\u001b[0m\n",
      "\u001b[0;32m<ipython-input-19-0e53090f6bf0>\u001b[0m in \u001b[0;36mgenerate_code\u001b[0;34m(model, start_with, end_with, diversity)\u001b[0m\n\u001b[1;32m      6\u001b[0m         \u001b[0;32mfor\u001b[0m \u001b[0mt\u001b[0m\u001b[0;34m,\u001b[0m \u001b[0mchar\u001b[0m \u001b[0;32min\u001b[0m \u001b[0menumerate\u001b[0m\u001b[0;34m(\u001b[0m\u001b[0mgenerated\u001b[0m\u001b[0;34m)\u001b[0m\u001b[0;34m:\u001b[0m\u001b[0;34m\u001b[0m\u001b[0;34m\u001b[0m\u001b[0m\n\u001b[1;32m      7\u001b[0m             \u001b[0mx\u001b[0m\u001b[0;34m[\u001b[0m\u001b[0;36m0\u001b[0m\u001b[0;34m,\u001b[0m \u001b[0mt\u001b[0m\u001b[0;34m,\u001b[0m \u001b[0mpy_char_to_idx\u001b[0m\u001b[0;34m[\u001b[0m\u001b[0mchar\u001b[0m\u001b[0;34m]\u001b[0m\u001b[0;34m]\u001b[0m \u001b[0;34m=\u001b[0m \u001b[0;36m1.\u001b[0m\u001b[0;34m\u001b[0m\u001b[0;34m\u001b[0m\u001b[0m\n\u001b[0;32m----> 8\u001b[0;31m         \u001b[0mpreds\u001b[0m \u001b[0;34m=\u001b[0m \u001b[0mmodel\u001b[0m\u001b[0;34m.\u001b[0m\u001b[0mpredict\u001b[0m\u001b[0;34m(\u001b[0m\u001b[0mx\u001b[0m\u001b[0;34m,\u001b[0m \u001b[0mverbose\u001b[0m\u001b[0;34m=\u001b[0m\u001b[0;36m0\u001b[0m\u001b[0;34m)\u001b[0m\u001b[0;34m[\u001b[0m\u001b[0;36m0\u001b[0m\u001b[0;34m]\u001b[0m\u001b[0;34m\u001b[0m\u001b[0;34m\u001b[0m\u001b[0m\n\u001b[0m\u001b[1;32m      9\u001b[0m \u001b[0;34m\u001b[0m\u001b[0m\n\u001b[1;32m     10\u001b[0m         \u001b[0mpreds\u001b[0m \u001b[0;34m=\u001b[0m \u001b[0mnp\u001b[0m\u001b[0;34m.\u001b[0m\u001b[0masarray\u001b[0m\u001b[0;34m(\u001b[0m\u001b[0mpreds\u001b[0m\u001b[0;34m[\u001b[0m\u001b[0mlen\u001b[0m\u001b[0;34m(\u001b[0m\u001b[0mgenerated\u001b[0m\u001b[0;34m)\u001b[0m \u001b[0;34m-\u001b[0m \u001b[0;36m1\u001b[0m\u001b[0;34m]\u001b[0m\u001b[0;34m)\u001b[0m\u001b[0;34m.\u001b[0m\u001b[0mastype\u001b[0m\u001b[0;34m(\u001b[0m\u001b[0;34m'float64'\u001b[0m\u001b[0;34m)\u001b[0m\u001b[0;34m\u001b[0m\u001b[0;34m\u001b[0m\u001b[0m\n",
      "\u001b[0;32m~/.pyenv/versions/3.6.7/envs/cookbook/lib/python3.6/site-packages/keras/engine/training.py\u001b[0m in \u001b[0;36mpredict\u001b[0;34m(self, x, batch_size, verbose, steps)\u001b[0m\n\u001b[1;32m   1788\u001b[0m         \u001b[0mf\u001b[0m \u001b[0;34m=\u001b[0m \u001b[0mself\u001b[0m\u001b[0;34m.\u001b[0m\u001b[0mpredict_function\u001b[0m\u001b[0;34m\u001b[0m\u001b[0;34m\u001b[0m\u001b[0m\n\u001b[1;32m   1789\u001b[0m         return self._predict_loop(f, ins, batch_size=batch_size,\n\u001b[0;32m-> 1790\u001b[0;31m                                   verbose=verbose, steps=steps)\n\u001b[0m\u001b[1;32m   1791\u001b[0m \u001b[0;34m\u001b[0m\u001b[0m\n\u001b[1;32m   1792\u001b[0m     def train_on_batch(self, x, y,\n",
      "\u001b[0;32m~/.pyenv/versions/3.6.7/envs/cookbook/lib/python3.6/site-packages/keras/engine/training.py\u001b[0m in \u001b[0;36m_predict_loop\u001b[0;34m(self, f, ins, batch_size, verbose, steps)\u001b[0m\n\u001b[1;32m   1297\u001b[0m                 \u001b[0;32melse\u001b[0m\u001b[0;34m:\u001b[0m\u001b[0;34m\u001b[0m\u001b[0;34m\u001b[0m\u001b[0m\n\u001b[1;32m   1298\u001b[0m                     \u001b[0mins_batch\u001b[0m \u001b[0;34m=\u001b[0m \u001b[0m_slice_arrays\u001b[0m\u001b[0;34m(\u001b[0m\u001b[0mins\u001b[0m\u001b[0;34m,\u001b[0m \u001b[0mbatch_ids\u001b[0m\u001b[0;34m)\u001b[0m\u001b[0;34m\u001b[0m\u001b[0;34m\u001b[0m\u001b[0m\n\u001b[0;32m-> 1299\u001b[0;31m                 \u001b[0mbatch_outs\u001b[0m \u001b[0;34m=\u001b[0m \u001b[0mf\u001b[0m\u001b[0;34m(\u001b[0m\u001b[0mins_batch\u001b[0m\u001b[0;34m)\u001b[0m\u001b[0;34m\u001b[0m\u001b[0;34m\u001b[0m\u001b[0m\n\u001b[0m\u001b[1;32m   1300\u001b[0m                 \u001b[0;32mif\u001b[0m \u001b[0;32mnot\u001b[0m \u001b[0misinstance\u001b[0m\u001b[0;34m(\u001b[0m\u001b[0mbatch_outs\u001b[0m\u001b[0;34m,\u001b[0m \u001b[0mlist\u001b[0m\u001b[0;34m)\u001b[0m\u001b[0;34m:\u001b[0m\u001b[0;34m\u001b[0m\u001b[0;34m\u001b[0m\u001b[0m\n\u001b[1;32m   1301\u001b[0m                     \u001b[0mbatch_outs\u001b[0m \u001b[0;34m=\u001b[0m \u001b[0;34m[\u001b[0m\u001b[0mbatch_outs\u001b[0m\u001b[0;34m]\u001b[0m\u001b[0;34m\u001b[0m\u001b[0;34m\u001b[0m\u001b[0m\n",
      "\u001b[0;32m~/.pyenv/versions/3.6.7/envs/cookbook/lib/python3.6/site-packages/keras/backend/tensorflow_backend.py\u001b[0m in \u001b[0;36m__call__\u001b[0;34m(self, inputs)\u001b[0m\n\u001b[1;32m   2355\u001b[0m         \u001b[0msession\u001b[0m \u001b[0;34m=\u001b[0m \u001b[0mget_session\u001b[0m\u001b[0;34m(\u001b[0m\u001b[0;34m)\u001b[0m\u001b[0;34m\u001b[0m\u001b[0;34m\u001b[0m\u001b[0m\n\u001b[1;32m   2356\u001b[0m         updated = session.run(fetches=fetches, feed_dict=feed_dict,\n\u001b[0;32m-> 2357\u001b[0;31m                               **self.session_kwargs)\n\u001b[0m\u001b[1;32m   2358\u001b[0m         \u001b[0;32mreturn\u001b[0m \u001b[0mupdated\u001b[0m\u001b[0;34m[\u001b[0m\u001b[0;34m:\u001b[0m\u001b[0mlen\u001b[0m\u001b[0;34m(\u001b[0m\u001b[0mself\u001b[0m\u001b[0;34m.\u001b[0m\u001b[0moutputs\u001b[0m\u001b[0;34m)\u001b[0m\u001b[0;34m]\u001b[0m\u001b[0;34m\u001b[0m\u001b[0;34m\u001b[0m\u001b[0m\n\u001b[1;32m   2359\u001b[0m \u001b[0;34m\u001b[0m\u001b[0m\n",
      "\u001b[0;32m~/.pyenv/versions/3.6.7/envs/cookbook/lib/python3.6/site-packages/tensorflow/python/client/session.py\u001b[0m in \u001b[0;36mrun\u001b[0;34m(self, fetches, feed_dict, options, run_metadata)\u001b[0m\n\u001b[1;32m    927\u001b[0m     \u001b[0;32mtry\u001b[0m\u001b[0;34m:\u001b[0m\u001b[0;34m\u001b[0m\u001b[0;34m\u001b[0m\u001b[0m\n\u001b[1;32m    928\u001b[0m       result = self._run(None, fetches, feed_dict, options_ptr,\n\u001b[0;32m--> 929\u001b[0;31m                          run_metadata_ptr)\n\u001b[0m\u001b[1;32m    930\u001b[0m       \u001b[0;32mif\u001b[0m \u001b[0mrun_metadata\u001b[0m\u001b[0;34m:\u001b[0m\u001b[0;34m\u001b[0m\u001b[0;34m\u001b[0m\u001b[0m\n\u001b[1;32m    931\u001b[0m         \u001b[0mproto_data\u001b[0m \u001b[0;34m=\u001b[0m \u001b[0mtf_session\u001b[0m\u001b[0;34m.\u001b[0m\u001b[0mTF_GetBuffer\u001b[0m\u001b[0;34m(\u001b[0m\u001b[0mrun_metadata_ptr\u001b[0m\u001b[0;34m)\u001b[0m\u001b[0;34m\u001b[0m\u001b[0;34m\u001b[0m\u001b[0m\n",
      "\u001b[0;32m~/.pyenv/versions/3.6.7/envs/cookbook/lib/python3.6/site-packages/tensorflow/python/client/session.py\u001b[0m in \u001b[0;36m_run\u001b[0;34m(self, handle, fetches, feed_dict, options, run_metadata)\u001b[0m\n\u001b[1;32m   1150\u001b[0m     \u001b[0;32mif\u001b[0m \u001b[0mfinal_fetches\u001b[0m \u001b[0;32mor\u001b[0m \u001b[0mfinal_targets\u001b[0m \u001b[0;32mor\u001b[0m \u001b[0;34m(\u001b[0m\u001b[0mhandle\u001b[0m \u001b[0;32mand\u001b[0m \u001b[0mfeed_dict_tensor\u001b[0m\u001b[0;34m)\u001b[0m\u001b[0;34m:\u001b[0m\u001b[0;34m\u001b[0m\u001b[0;34m\u001b[0m\u001b[0m\n\u001b[1;32m   1151\u001b[0m       results = self._do_run(handle, final_targets, final_fetches,\n\u001b[0;32m-> 1152\u001b[0;31m                              feed_dict_tensor, options, run_metadata)\n\u001b[0m\u001b[1;32m   1153\u001b[0m     \u001b[0;32melse\u001b[0m\u001b[0;34m:\u001b[0m\u001b[0;34m\u001b[0m\u001b[0;34m\u001b[0m\u001b[0m\n\u001b[1;32m   1154\u001b[0m       \u001b[0mresults\u001b[0m \u001b[0;34m=\u001b[0m \u001b[0;34m[\u001b[0m\u001b[0;34m]\u001b[0m\u001b[0;34m\u001b[0m\u001b[0;34m\u001b[0m\u001b[0m\n",
      "\u001b[0;32m~/.pyenv/versions/3.6.7/envs/cookbook/lib/python3.6/site-packages/tensorflow/python/client/session.py\u001b[0m in \u001b[0;36m_do_run\u001b[0;34m(self, handle, target_list, fetch_list, feed_dict, options, run_metadata)\u001b[0m\n\u001b[1;32m   1326\u001b[0m     \u001b[0;32mif\u001b[0m \u001b[0mhandle\u001b[0m \u001b[0;32mis\u001b[0m \u001b[0;32mNone\u001b[0m\u001b[0;34m:\u001b[0m\u001b[0;34m\u001b[0m\u001b[0;34m\u001b[0m\u001b[0m\n\u001b[1;32m   1327\u001b[0m       return self._do_call(_run_fn, feeds, fetches, targets, options,\n\u001b[0;32m-> 1328\u001b[0;31m                            run_metadata)\n\u001b[0m\u001b[1;32m   1329\u001b[0m     \u001b[0;32melse\u001b[0m\u001b[0;34m:\u001b[0m\u001b[0;34m\u001b[0m\u001b[0;34m\u001b[0m\u001b[0m\n\u001b[1;32m   1330\u001b[0m       \u001b[0;32mreturn\u001b[0m \u001b[0mself\u001b[0m\u001b[0;34m.\u001b[0m\u001b[0m_do_call\u001b[0m\u001b[0;34m(\u001b[0m\u001b[0m_prun_fn\u001b[0m\u001b[0;34m,\u001b[0m \u001b[0mhandle\u001b[0m\u001b[0;34m,\u001b[0m \u001b[0mfeeds\u001b[0m\u001b[0;34m,\u001b[0m \u001b[0mfetches\u001b[0m\u001b[0;34m)\u001b[0m\u001b[0;34m\u001b[0m\u001b[0;34m\u001b[0m\u001b[0m\n",
      "\u001b[0;32m~/.pyenv/versions/3.6.7/envs/cookbook/lib/python3.6/site-packages/tensorflow/python/client/session.py\u001b[0m in \u001b[0;36m_do_call\u001b[0;34m(self, fn, *args)\u001b[0m\n\u001b[1;32m   1332\u001b[0m   \u001b[0;32mdef\u001b[0m \u001b[0m_do_call\u001b[0m\u001b[0;34m(\u001b[0m\u001b[0mself\u001b[0m\u001b[0;34m,\u001b[0m \u001b[0mfn\u001b[0m\u001b[0;34m,\u001b[0m \u001b[0;34m*\u001b[0m\u001b[0margs\u001b[0m\u001b[0;34m)\u001b[0m\u001b[0;34m:\u001b[0m\u001b[0;34m\u001b[0m\u001b[0;34m\u001b[0m\u001b[0m\n\u001b[1;32m   1333\u001b[0m     \u001b[0;32mtry\u001b[0m\u001b[0;34m:\u001b[0m\u001b[0;34m\u001b[0m\u001b[0;34m\u001b[0m\u001b[0m\n\u001b[0;32m-> 1334\u001b[0;31m       \u001b[0;32mreturn\u001b[0m \u001b[0mfn\u001b[0m\u001b[0;34m(\u001b[0m\u001b[0;34m*\u001b[0m\u001b[0margs\u001b[0m\u001b[0;34m)\u001b[0m\u001b[0;34m\u001b[0m\u001b[0;34m\u001b[0m\u001b[0m\n\u001b[0m\u001b[1;32m   1335\u001b[0m     \u001b[0;32mexcept\u001b[0m \u001b[0merrors\u001b[0m\u001b[0;34m.\u001b[0m\u001b[0mOpError\u001b[0m \u001b[0;32mas\u001b[0m \u001b[0me\u001b[0m\u001b[0;34m:\u001b[0m\u001b[0;34m\u001b[0m\u001b[0;34m\u001b[0m\u001b[0m\n\u001b[1;32m   1336\u001b[0m       \u001b[0mmessage\u001b[0m \u001b[0;34m=\u001b[0m \u001b[0mcompat\u001b[0m\u001b[0;34m.\u001b[0m\u001b[0mas_text\u001b[0m\u001b[0;34m(\u001b[0m\u001b[0me\u001b[0m\u001b[0;34m.\u001b[0m\u001b[0mmessage\u001b[0m\u001b[0;34m)\u001b[0m\u001b[0;34m\u001b[0m\u001b[0;34m\u001b[0m\u001b[0m\n",
      "\u001b[0;32m~/.pyenv/versions/3.6.7/envs/cookbook/lib/python3.6/site-packages/tensorflow/python/client/session.py\u001b[0m in \u001b[0;36m_run_fn\u001b[0;34m(feed_dict, fetch_list, target_list, options, run_metadata)\u001b[0m\n\u001b[1;32m   1317\u001b[0m       \u001b[0mself\u001b[0m\u001b[0;34m.\u001b[0m\u001b[0m_extend_graph\u001b[0m\u001b[0;34m(\u001b[0m\u001b[0;34m)\u001b[0m\u001b[0;34m\u001b[0m\u001b[0;34m\u001b[0m\u001b[0m\n\u001b[1;32m   1318\u001b[0m       return self._call_tf_sessionrun(\n\u001b[0;32m-> 1319\u001b[0;31m           options, feed_dict, fetch_list, target_list, run_metadata)\n\u001b[0m\u001b[1;32m   1320\u001b[0m \u001b[0;34m\u001b[0m\u001b[0m\n\u001b[1;32m   1321\u001b[0m     \u001b[0;32mdef\u001b[0m \u001b[0m_prun_fn\u001b[0m\u001b[0;34m(\u001b[0m\u001b[0mhandle\u001b[0m\u001b[0;34m,\u001b[0m \u001b[0mfeed_dict\u001b[0m\u001b[0;34m,\u001b[0m \u001b[0mfetch_list\u001b[0m\u001b[0;34m)\u001b[0m\u001b[0;34m:\u001b[0m\u001b[0;34m\u001b[0m\u001b[0;34m\u001b[0m\u001b[0m\n",
      "\u001b[0;32m~/.pyenv/versions/3.6.7/envs/cookbook/lib/python3.6/site-packages/tensorflow/python/client/session.py\u001b[0m in \u001b[0;36m_call_tf_sessionrun\u001b[0;34m(self, options, feed_dict, fetch_list, target_list, run_metadata)\u001b[0m\n\u001b[1;32m   1405\u001b[0m     return tf_session.TF_SessionRun_wrapper(\n\u001b[1;32m   1406\u001b[0m         \u001b[0mself\u001b[0m\u001b[0;34m.\u001b[0m\u001b[0m_session\u001b[0m\u001b[0;34m,\u001b[0m \u001b[0moptions\u001b[0m\u001b[0;34m,\u001b[0m \u001b[0mfeed_dict\u001b[0m\u001b[0;34m,\u001b[0m \u001b[0mfetch_list\u001b[0m\u001b[0;34m,\u001b[0m \u001b[0mtarget_list\u001b[0m\u001b[0;34m,\u001b[0m\u001b[0;34m\u001b[0m\u001b[0;34m\u001b[0m\u001b[0m\n\u001b[0;32m-> 1407\u001b[0;31m         run_metadata)\n\u001b[0m\u001b[1;32m   1408\u001b[0m \u001b[0;34m\u001b[0m\u001b[0m\n\u001b[1;32m   1409\u001b[0m   \u001b[0;32mdef\u001b[0m \u001b[0m_call_tf_sessionprun\u001b[0m\u001b[0;34m(\u001b[0m\u001b[0mself\u001b[0m\u001b[0;34m,\u001b[0m \u001b[0mhandle\u001b[0m\u001b[0;34m,\u001b[0m \u001b[0mfeed_dict\u001b[0m\u001b[0;34m,\u001b[0m \u001b[0mfetch_list\u001b[0m\u001b[0;34m)\u001b[0m\u001b[0;34m:\u001b[0m\u001b[0;34m\u001b[0m\u001b[0;34m\u001b[0m\u001b[0m\n",
      "\u001b[0;31mKeyboardInterrupt\u001b[0m: "
     ]
    }
   ],
   "source": [
    "def generate_code(model, start_with='\\ndef ', end_with='\\n\\n', diversity=1.0):\n",
    "    generated = start_with\n",
    "    yield generated\n",
    "    for i in range(2000):\n",
    "        x = np.zeros((1, len(generated), len(py_chars)))\n",
    "        for t, char in enumerate(generated):\n",
    "            x[0, t, py_char_to_idx[char]] = 1.\n",
    "        preds = model.predict(x, verbose=0)[0]\n",
    "        \n",
    "        preds = np.asarray(preds[len(generated) - 1]).astype('float64')\n",
    "        preds = np.log(preds) / diversity\n",
    "        exp_preds = np.exp(preds)\n",
    "        preds = exp_preds / np.sum(exp_preds)\n",
    "        probas = np.random.multinomial(1, preds, 1)\n",
    "        next_index = np.argmax(probas)        \n",
    "        next_char = py_chars[next_index]\n",
    "        yield next_char\n",
    "\n",
    "        generated += next_char\n",
    "        if generated.endswith(end_with):\n",
    "            break\n",
    "\n",
    "for i in range(20):\n",
    "    st = \"\"\n",
    "    for ch in generate_code(py_model):\n",
    "        sys.stdout.write(ch)\n",
    "        st += ch\n",
    "    print(st)\n"
   ]
  },
  {
   "cell_type": "code",
   "execution_count": 20,
   "metadata": {},
   "outputs": [
    {
     "name": "stdout",
     "output_type": "stream",
     "text": [
      "Epoch 1/40\n",
      " - 285s - loss: 3.6835 - acc: 0.2240\n",
      "Epoch 2/40\n",
      " - 284s - loss: 3.2299 - acc: 0.2833\n",
      "Epoch 3/40\n",
      " - 284s - loss: 2.6373 - acc: 0.3941\n",
      "Epoch 4/40\n",
      " - 284s - loss: 2.5238 - acc: 0.4265\n",
      "Epoch 5/40\n",
      " - 284s - loss: 2.5123 - acc: 0.4309\n",
      "Epoch 6/40\n",
      " - 284s - loss: 2.4727 - acc: 0.4418\n",
      "Epoch 7/40\n",
      " - 284s - loss: 2.5103 - acc: 0.4325\n",
      "Epoch 8/40\n",
      " - 284s - loss: 2.4774 - acc: 0.4423\n",
      "Epoch 9/40\n",
      " - 284s - loss: 2.4105 - acc: 0.4610\n",
      "Epoch 10/40\n",
      " - 284s - loss: 2.4973 - acc: 0.4363\n",
      "Epoch 11/40\n",
      " - 285s - loss: 2.4949 - acc: 0.4389\n",
      "Epoch 12/40\n",
      " - 284s - loss: 2.4740 - acc: 0.4440\n"
     ]
    },
    {
     "data": {
      "text/plain": [
       "<keras.callbacks.History at 0x7fbd3bdcdcf8>"
      ]
     },
     "execution_count": 20,
     "metadata": {},
     "output_type": "execute_result"
    }
   ],
   "source": [
    "BATCH_SIZE = 512\n",
    "\n",
    "flat_model = char_rnn_model(len(py_chars), num_layers=1, num_nodes=512, dropout=0)\n",
    "\n",
    "early = keras.callbacks.EarlyStopping(monitor='loss',\n",
    "                              min_delta=0.03,\n",
    "                              patience=3,\n",
    "                              verbose=0, mode='auto')\n",
    "\n",
    "flat_model.fit_generator(\n",
    "    data_generator(python_code, py_char_to_idx, batch_size=BATCH_SIZE, chunk_size=160),\n",
    "    epochs=40,\n",
    "    callbacks=[early,],\n",
    "    steps_per_epoch=2 * len(python_code) / (BATCH_SIZE * 160),\n",
    "    verbose=2\n",
    ")"
   ]
  },
  {
   "cell_type": "code",
   "execution_count": 21,
   "metadata": {},
   "outputs": [
    {
     "data": {
      "text/plain": [
       "(33, 512)"
      ]
     },
     "execution_count": 21,
     "metadata": {},
     "output_type": "execute_result"
    }
   ],
   "source": [
    "example_code = 'if a == 2:\\n    b=1\\nelse:\\n    b=2\\n'\n",
    "#example_code = 'a=(2 * 3)\\nb=(4 * 6 + 7)\\nreturn C'\n",
    "\n",
    "def activations(model, code):\n",
    "    x = np.zeros((1, len(code), len(py_char_to_idx)))\n",
    "    for t, char in enumerate(code):\n",
    "        x[0, t, py_char_to_idx[char]] = 1.\n",
    "    output = model.get_layer('lstm_layer_1').output\n",
    "    f = K.function([model.input], [output])\n",
    "    return f([x])[0][0]\n",
    "\n",
    "act = activations(flat_model, example_code)\n",
    "act.shape"
   ]
  },
  {
   "cell_type": "code",
   "execution_count": 22,
   "metadata": {},
   "outputs": [
    {
     "data": {
      "text/plain": [
       "26"
      ]
     },
     "execution_count": 22,
     "metadata": {},
     "output_type": "execute_result"
    }
   ],
   "source": [
    "def interesting_neurons(act):\n",
    "    res = []\n",
    "    for n in np.argmax(act, axis=1):\n",
    "        if not n in res:\n",
    "            res.append(n)\n",
    "    return res\n",
    "\n",
    "neurons = interesting_neurons(act)\n",
    "len(neurons)"
   ]
  },
  {
   "cell_type": "code",
   "execution_count": 23,
   "metadata": {},
   "outputs": [
    {
     "name": "stderr",
     "output_type": "stream",
     "text": [
      "/home/ohtamans/.pyenv/versions/3.6.7/envs/cookbook/lib/python3.6/site-packages/ipykernel_launcher.py:8: DeprecationWarning: `imresize` is deprecated!\n",
      "`imresize` is deprecated in SciPy 1.0.0, and will be removed in 1.2.0.\n",
      "Use ``skimage.transform.resize`` instead.\n",
      "  \n"
     ]
    },
    {
     "data": {
      "image/png": "[encoded data removed]",
      "text/plain": [
       "<IPython.core.display.Image object>"
      ]
     },
     "metadata": {},
     "output_type": "display_data"
    }
   ],
   "source": [
    "def visualize_neurons(neurons, code, act, cell_size=12):\n",
    "    img = np.full((len(neurons) + 1, len(code), 3), 128)\n",
    "    scores = (act[:, neurons].T + 1) / 2\n",
    "    img[1:, :, 0] = 255 * (1 - scores)\n",
    "    img[1:, :, 1] = 255 * scores\n",
    "\n",
    "    f = BytesIO()\n",
    "    img = scipy.misc.imresize(img, float(cell_size), interp='nearest')\n",
    "    pil_img = PIL.Image.fromarray(img)\n",
    "    draw = ImageDraw.Draw(pil_img)\n",
    "    for idx, ch in enumerate(code):\n",
    "        draw.text((idx * cell_size + 2, 0), ch)\n",
    "    pil_img.save(f, 'png')\n",
    "    return Image(data=f.getvalue())\n",
    "\n",
    "img = visualize_neurons(neurons, example_code, act)\n",
    "display(img)"
   ]
  },
  {
   "cell_type": "code",
   "execution_count": 24,
   "metadata": {},
   "outputs": [
    {
     "name": "stderr",
     "output_type": "stream",
     "text": [
      "/home/ohtamans/.pyenv/versions/3.6.7/envs/cookbook/lib/python3.6/site-packages/ipykernel_launcher.py:8: DeprecationWarning: `imresize` is deprecated!\n",
      "`imresize` is deprecated in SciPy 1.0.0, and will be removed in 1.2.0.\n",
      "Use ``skimage.transform.resize`` instead.\n",
      "  \n"
     ]
    },
    {
     "data": {
      "image/png": "[encoded data removed]",
      "text/plain": [
       "<IPython.core.display.Image object>"
      ]
     },
     "metadata": {},
     "output_type": "display_data"
    }
   ],
   "source": [
    "def image_for_code(code):\n",
    "    act = activations(flat_model, code)\n",
    "    neurons = interesting_neurons(act)\n",
    "    return visualize_neurons(neurons, code, act)\n",
    "\n",
    "display(image_for_code('if (a == 2) and ((b == 1) or (c==2)):'))"
   ]
  },
  {
   "cell_type": "code",
   "execution_count": 25,
   "metadata": {},
   "outputs": [],
   "source": [
    "code = 'if (a == 2) and ((b == 1) or (c==2)):'\n",
    "mask = '   ________     ____________________ '\n",
    "act = activations(flat_model, code)\n",
    "positive = [idx for idx, ch in enumerate(mask) if ch == '_']\n",
    "negative = [idx for idx, ch in enumerate(mask) if ch != '_']\n",
    "\n",
    "neurons = np.argsort(act[positive].sum(axis=0) - act[negative].sum(axis=0))[-5:]"
   ]
  },
  {
   "cell_type": "code",
   "execution_count": 26,
   "metadata": {},
   "outputs": [
    {
     "name": "stderr",
     "output_type": "stream",
     "text": [
      "/home/ohtamans/.pyenv/versions/3.6.7/envs/cookbook/lib/python3.6/site-packages/ipykernel_launcher.py:8: DeprecationWarning: `imresize` is deprecated!\n",
      "`imresize` is deprecated in SciPy 1.0.0, and will be removed in 1.2.0.\n",
      "Use ``skimage.transform.resize`` instead.\n",
      "  \n"
     ]
    },
    {
     "data": {
      "image/png": "[encoded data removed]",
      "text/plain": [
       "<IPython.core.display.Image object>"
      ]
     },
     "metadata": {},
     "output_type": "display_data"
    }
   ],
   "source": [
    "img = visualize_neurons(neurons, code, act)\n",
    "display(img)"
   ]
  },
  {
   "cell_type": "code",
   "execution_count": 27,
   "metadata": {},
   "outputs": [
    {
     "data": {
      "text/plain": [
       "array([240, 134, 109, 170, 340])"
      ]
     },
     "execution_count": 27,
     "metadata": {},
     "output_type": "execute_result"
    }
   ],
   "source": [
    "neurons"
   ]
  },
  {
   "cell_type": "code",
   "execution_count": 28,
   "metadata": {},
   "outputs": [
    {
     "data": {
      "text/plain": [
       "-0.15163198"
      ]
     },
     "execution_count": 28,
     "metadata": {},
     "output_type": "execute_result"
    }
   ],
   "source": [
    "act[negative, 108].sum()"
   ]
  },
  {
   "cell_type": "code",
   "execution_count": 29,
   "metadata": {},
   "outputs": [
    {
     "data": {
      "text/plain": [
       "(0.0, -0.15163197368383408)"
      ]
     },
     "execution_count": 29,
     "metadata": {},
     "output_type": "execute_result"
    }
   ],
   "source": [
    "x0 = 0\n",
    "x1 = 0\n",
    "for idx, ch in enumerate(mask):\n",
    "    if ch == '_':\n",
    "        x0 += act[idx, 108]\n",
    "    else:\n",
    "        x1 += act[idx, 108]\n",
    "x0, x1"
   ]
  },
  {
   "cell_type": "code",
   "execution_count": null,
   "metadata": {},
   "outputs": [],
   "source": []
  }
 ],
 "metadata": {
  "kernelspec": {
   "display_name": "Python 3",
   "language": "python",
   "name": "python3"
  },
  "language_info": {
   "codemirror_mode": {
    "name": "ipython",
    "version": 3
   },
   "file_extension": ".py",
   "mimetype": "text/x-python",
   "name": "python",
   "nbconvert_exporter": "python",
   "pygments_lexer": "ipython3",
   "version": "3.6.7"
  }
 },
 "nbformat": 4,
 "nbformat_minor": 1
}
