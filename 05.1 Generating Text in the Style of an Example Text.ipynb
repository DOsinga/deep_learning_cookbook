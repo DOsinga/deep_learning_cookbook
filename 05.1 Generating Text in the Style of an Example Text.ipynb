{
 "cells": [
  {
   "cell_type": "code",
   "execution_count": 1,
   "metadata": {},
   "outputs": [
    {
     "name": "stdout",
     "output_type": "stream",
     "text": [
      "Gutenberg is not installed. See instructions at https://pypi.python.org/pypi/Gutenberg\n"
     ]
    }
   ],
   "source": [
    "try:\n",
    "    GUTENBERG = True\n",
    "    from gutenberg.acquire import load_etext\n",
    "    from gutenberg.query import get_etexts, get_metadata\n",
    "    from gutenberg.acquire import get_metadata_cache\n",
    "    from gutenberg.acquire.text import UnknownDownloadUriException\n",
    "    from gutenberg.cleanup import strip_headers\n",
    "    from gutenberg._domain_model.exceptions import CacheAlreadyExistsException\n",
    "except ImportError:\n",
    "    GUTENBERG = False\n",
    "    print('Gutenberg is not installed. See instructions at https://pypi.python.org/pypi/Gutenberg')\n",
    "from tensorflow import keras\n",
    "from tensorflow.keras import Input\n",
    "from tensorflow.keras.models import Model\n",
    "from tensorflow.keras.layers import Dense, Dropout\n",
    "from tensorflow.keras.layers import LSTM\n",
    "from tensorflow.keras.layers import TimeDistributed\n",
    "import tensorflow.keras.callbacks\n",
    "import tensorflow.keras.backend as K\n",
    "import scipy.misc\n",
    "import json\n",
    "\n",
    "import os, sys\n",
    "import re\n",
    "import PIL\n",
    "from PIL import ImageDraw\n",
    "\n",
    "from tensorflow.keras.optimizers import RMSprop\n",
    "import random\n",
    "import numpy as np\n",
    "import tensorflow as tf\n",
    "from tensorflow.keras.utils import get_file\n",
    "\n",
    "from IPython.display import clear_output, Image, display, HTML\n",
    "try:\n",
    "    from io import BytesIO\n",
    "except ImportError:\n",
    "    from StringIO import StringIO as BytesIO"
   ]
  },
  {
   "cell_type": "code",
   "execution_count": 2,
   "metadata": {},
   "outputs": [],
   "source": [
    "if GUTENBERG:\n",
    "    cache = get_metadata_cache()\n",
    "    try:\n",
    "        cache.populate()\n",
    "    except CacheAlreadyExistsException:\n",
    "        pass"
   ]
  },
  {
   "cell_type": "code",
   "execution_count": 3,
   "metadata": {},
   "outputs": [],
   "source": [
    "if GUTENBERG:\n",
    "    for text_id in get_etexts('author', 'Shakespeare, William'):\n",
    "        print(text_id, list(get_metadata('title', text_id))[0])"
   ]
  },
  {
   "cell_type": "code",
   "execution_count": 4,
   "metadata": {},
   "outputs": [
    {
     "data": {
      "text/plain": [
       "5592892"
      ]
     },
     "execution_count": 4,
     "metadata": {},
     "output_type": "execute_result"
    }
   ],
   "source": [
    "if GUTENBERG:\n",
    "    shakespeare = strip_headers(load_etext(100))\n",
    "else:\n",
    "    path = get_file('shakespeare', 'https://storage.googleapis.com/deep-learning-cookbook/100-0.txt')\n",
    "    shakespeare = open(path).read()\n",
    "training_text = shakespeare.split('\\nTHE END', 1)[-1]\n",
    "len(training_text)"
   ]
  },
  {
   "cell_type": "code",
   "execution_count": 5,
   "metadata": {},
   "outputs": [
    {
     "data": {
      "text/plain": [
       "97"
      ]
     },
     "execution_count": 5,
     "metadata": {},
     "output_type": "execute_result"
    }
   ],
   "source": [
    "chars = list(sorted(set(training_text)))\n",
    "char_to_idx = {ch: idx for idx, ch in enumerate(chars)}\n",
    "len(chars)"
   ]
  },
  {
   "cell_type": "code",
   "execution_count": 6,
   "metadata": {},
   "outputs": [],
   "source": [
    "def char_rnn_model(num_chars, num_layers, num_nodes=512, dropout=0.1):\n",
    "    input = Input(shape=(None, num_chars), name='input')\n",
    "    prev = input\n",
    "    for i in range(num_layers):\n",
    "        lstm = LSTM(num_nodes, return_sequences=True, name='lstm_layer_%d' % (i + 1))(prev)\n",
    "        if dropout:\n",
    "            prev = Dropout(dropout)(lstm)\n",
    "        else:\n",
    "            prev = lstm\n",
    "    dense = TimeDistributed(Dense(num_chars, name='dense', activation='softmax'))(prev)\n",
    "    model = Model(inputs=[input], outputs=[dense])\n",
    "    optimizer = RMSprop(lr=0.01)\n",
    "    model.compile(loss='categorical_crossentropy', optimizer=optimizer, metrics=['accuracy'])\n",
    "    return model"
   ]
  },
  {
   "cell_type": "code",
   "execution_count": 7,
   "metadata": {},
   "outputs": [
    {
     "name": "stdout",
     "output_type": "stream",
     "text": [
      "WARNING:tensorflow:<tensorflow.python.keras.layers.recurrent.UnifiedLSTM object at 0x7f89a51ac828>: Note that this layer is not optimized for performance. Please use tf.keras.layers.CuDNNLSTM for better performance on GPU.\n",
      "WARNING:tensorflow:From /home/mitsuhisa.ohta/.pyenv/versions/3.6.0/envs/dlc_org/lib/python3.6/site-packages/tensorflow/python/ops/resource_variable_ops.py:642: colocate_with (from tensorflow.python.framework.ops) is deprecated and will be removed in a future version.\n",
      "Instructions for updating:\n",
      "Colocations handled automatically by placer.\n",
      "WARNING:tensorflow:<tensorflow.python.keras.layers.recurrent.UnifiedLSTM object at 0x7f8a52ce9518>: Note that this layer is not optimized for performance. Please use tf.keras.layers.CuDNNLSTM for better performance on GPU.\n",
      "_________________________________________________________________\n",
      "Layer (type)                 Output Shape              Param #   \n",
      "=================================================================\n",
      "input (InputLayer)           (None, None, 97)          0         \n",
      "_________________________________________________________________\n",
      "lstm_layer_1 (UnifiedLSTM)   (None, None, 640)         1889280   \n",
      "_________________________________________________________________\n",
      "lstm_layer_2 (UnifiedLSTM)   (None, None, 640)         3279360   \n",
      "_________________________________________________________________\n",
      "time_distributed (TimeDistri (None, None, 97)          62177     \n",
      "=================================================================\n",
      "Total params: 5,230,817\n",
      "Trainable params: 5,230,817\n",
      "Non-trainable params: 0\n",
      "_________________________________________________________________\n"
     ]
    }
   ],
   "source": [
    "model = char_rnn_model(len(chars), num_layers=2, num_nodes=640, dropout=0)\n",
    "model.summary()"
   ]
  },
  {
   "cell_type": "code",
   "execution_count": 8,
   "metadata": {},
   "outputs": [
    {
     "data": {
      "text/plain": [
       "(array([[[0., 0., 0., ..., 0., 0., 0.],\n",
       "         [0., 0., 0., ..., 0., 0., 0.],\n",
       "         [0., 0., 0., ..., 0., 0., 0.],\n",
       "         ...,\n",
       "         [0., 0., 0., ..., 0., 0., 0.],\n",
       "         [0., 0., 0., ..., 0., 0., 0.],\n",
       "         [0., 0., 0., ..., 0., 0., 0.]],\n",
       " \n",
       "        [[0., 0., 0., ..., 0., 0., 0.],\n",
       "         [0., 0., 1., ..., 0., 0., 0.],\n",
       "         [0., 0., 0., ..., 0., 0., 0.],\n",
       "         ...,\n",
       "         [0., 0., 0., ..., 0., 0., 0.],\n",
       "         [0., 0., 1., ..., 0., 0., 0.],\n",
       "         [0., 0., 0., ..., 0., 0., 0.]],\n",
       " \n",
       "        [[0., 0., 0., ..., 0., 0., 0.],\n",
       "         [0., 0., 0., ..., 0., 0., 0.],\n",
       "         [0., 0., 0., ..., 0., 0., 0.],\n",
       "         ...,\n",
       "         [0., 0., 0., ..., 0., 0., 0.],\n",
       "         [0., 0., 0., ..., 0., 0., 0.],\n",
       "         [0., 0., 1., ..., 0., 0., 0.]],\n",
       " \n",
       "        [[0., 0., 0., ..., 0., 0., 0.],\n",
       "         [0., 0., 0., ..., 0., 0., 0.],\n",
       "         [0., 0., 0., ..., 0., 0., 0.],\n",
       "         ...,\n",
       "         [0., 0., 0., ..., 0., 0., 0.],\n",
       "         [0., 0., 0., ..., 0., 0., 0.],\n",
       "         [0., 0., 0., ..., 0., 0., 0.]]]),\n",
       " array([[[0., 0., 0., ..., 0., 0., 0.],\n",
       "         [0., 0., 0., ..., 0., 0., 0.],\n",
       "         [0., 0., 0., ..., 0., 0., 0.],\n",
       "         ...,\n",
       "         [0., 0., 0., ..., 0., 0., 0.],\n",
       "         [0., 0., 0., ..., 0., 0., 0.],\n",
       "         [0., 0., 0., ..., 0., 0., 0.]],\n",
       " \n",
       "        [[0., 0., 1., ..., 0., 0., 0.],\n",
       "         [0., 0., 0., ..., 0., 0., 0.],\n",
       "         [0., 0., 0., ..., 0., 0., 0.],\n",
       "         ...,\n",
       "         [0., 0., 1., ..., 0., 0., 0.],\n",
       "         [0., 0., 0., ..., 0., 0., 0.],\n",
       "         [0., 0., 0., ..., 0., 0., 0.]],\n",
       " \n",
       "        [[0., 0., 0., ..., 0., 0., 0.],\n",
       "         [0., 0., 0., ..., 0., 0., 0.],\n",
       "         [0., 0., 0., ..., 0., 0., 0.],\n",
       "         ...,\n",
       "         [0., 0., 0., ..., 0., 0., 0.],\n",
       "         [0., 0., 1., ..., 0., 0., 0.],\n",
       "         [0., 0., 0., ..., 0., 0., 0.]],\n",
       " \n",
       "        [[0., 0., 0., ..., 0., 0., 0.],\n",
       "         [0., 0., 0., ..., 0., 0., 0.],\n",
       "         [0., 0., 0., ..., 0., 0., 0.],\n",
       "         ...,\n",
       "         [0., 0., 0., ..., 0., 0., 0.],\n",
       "         [0., 0., 0., ..., 0., 0., 0.],\n",
       "         [0., 0., 1., ..., 0., 0., 0.]]]))"
      ]
     },
     "execution_count": 8,
     "metadata": {},
     "output_type": "execute_result"
    }
   ],
   "source": [
    "CHUNK_SIZE = 160\n",
    "\n",
    "def data_generator(all_text, char_to_idx, batch_size, chunk_size):\n",
    "    X = np.zeros((batch_size, chunk_size, len(char_to_idx)))\n",
    "    y = np.zeros((batch_size, chunk_size, len(char_to_idx)))\n",
    "    while True:\n",
    "        for row in range(batch_size):\n",
    "            idx = random.randrange(len(all_text) - chunk_size - 1)\n",
    "            chunk = np.zeros((chunk_size + 1, len(char_to_idx)))\n",
    "            for i in range(chunk_size + 1):\n",
    "                chunk[i, char_to_idx[all_text[idx + i]]] = 1\n",
    "            X[row, :, :] = chunk[:chunk_size]\n",
    "            y[row, :, :] = chunk[1:]\n",
    "        yield X, y\n",
    "\n",
    "next(data_generator(training_text, char_to_idx, 4, chunk_size=CHUNK_SIZE))"
   ]
  },
  {
   "cell_type": "code",
   "execution_count": 9,
   "metadata": {},
   "outputs": [
    {
     "name": "stdout",
     "output_type": "stream",
     "text": [
      "Epoch 1/40\n",
      "WARNING:tensorflow:From /home/mitsuhisa.ohta/.pyenv/versions/3.6.0/envs/dlc_org/lib/python3.6/site-packages/tensorflow/python/ops/math_ops.py:3066: to_int32 (from tensorflow.python.ops.math_ops) is deprecated and will be removed in a future version.\n",
      "Instructions for updating:\n",
      "Use tf.cast instead.\n",
      " - 60s - loss: 3.4145 - acc: 0.2094\n",
      "Epoch 2/40\n",
      " - 59s - loss: 3.3088 - acc: 0.2186\n",
      "Epoch 3/40\n",
      " - 61s - loss: 3.2921 - acc: 0.2184\n",
      "Epoch 4/40\n",
      " - 61s - loss: 3.2632 - acc: 0.2180\n",
      "Epoch 5/40\n",
      " - 61s - loss: 3.2427 - acc: 0.2186\n",
      "Epoch 6/40\n",
      " - 61s - loss: 3.2332 - acc: 0.2186\n",
      "Epoch 7/40\n",
      " - 61s - loss: 3.2270 - acc: 0.2189\n",
      "Epoch 8/40\n",
      " - 61s - loss: 3.2228 - acc: 0.2187\n",
      "Epoch 9/40\n",
      " - 61s - loss: 3.2145 - acc: 0.2192\n"
     ]
    },
    {
     "data": {
      "text/plain": [
       "<tensorflow.python.keras.callbacks.History at 0x7f899c590e10>"
      ]
     },
     "execution_count": 9,
     "metadata": {},
     "output_type": "execute_result"
    }
   ],
   "source": [
    "early = keras.callbacks.EarlyStopping(monitor='loss',\n",
    "                              min_delta=0.03,\n",
    "                              patience=3,\n",
    "                              verbose=0, mode='auto')\n",
    "\n",
    "BATCH_SIZE = 256\n",
    "model.fit_generator(\n",
    "    data_generator(training_text, char_to_idx, batch_size=BATCH_SIZE, chunk_size=CHUNK_SIZE),\n",
    "    epochs=40,\n",
    "    callbacks=[early,],\n",
    "    steps_per_epoch=2 * len(training_text) // (BATCH_SIZE * CHUNK_SIZE),\n",
    "    verbose=2\n",
    ")"
   ]
  },
  {
   "cell_type": "code",
   "execution_count": 10,
   "metadata": {},
   "outputs": [],
   "source": [
    "os.makedirs('zoo/06', exist_ok=True)\n",
    "with open('zoo/06/shakespeare.json', 'w') as fout:\n",
    "    json.dump({\n",
    "        'chars': ''.join(chars),\n",
    "        'char_to_idx': char_to_idx,\n",
    "        'chunk_size': CHUNK_SIZE,\n",
    "    }, fout)\n",
    "model.save('zoo/06/shakespeare.h5')"
   ]
  },
  {
   "cell_type": "code",
   "execution_count": 11,
   "metadata": {},
   "outputs": [
    {
     "name": "stdout",
     "output_type": "stream",
     "text": [
      "ODOVICO. As you shall prove us, praise us.\n",
      "  IAGO. Signior Lodovico?\n",
      "  LODOVICO. He, sir.\n",
      "  IAGO. I cry you mercy. Here's Cassio hurt by villains.\n",
      "  GRATIANO. C#                                                                                                                                                                                                                                                                                                                                                                                                                \n"
     ]
    }
   ],
   "source": [
    "def generate_output(model, training_text, start_index=None, diversity=None, amount=400):\n",
    "    if start_index is None:\n",
    "        start_index = random.randint(0, len(training_text) - CHUNK_SIZE - 1)\n",
    "    generated = training_text[start_index: start_index + CHUNK_SIZE]\n",
    "    yield generated + '#'\n",
    "    for i in range(amount):\n",
    "        x = np.zeros((1, len(generated), len(chars)))\n",
    "        for t, char in enumerate(generated):\n",
    "            x[0, t, char_to_idx[char]] = 1.\n",
    "        preds = model.predict(x, verbose=0)[0]\n",
    "        if diversity is None:\n",
    "            next_index = np.argmax(preds[len(generated) - 1])\n",
    "        else:\n",
    "            preds = np.asarray(preds[len(generated) - 1]).astype('float64')\n",
    "            preds = np.log(preds) / diversity\n",
    "            exp_preds = np.exp(preds)\n",
    "            preds = exp_preds / np.sum(exp_preds)\n",
    "            probas = np.random.multinomial(1, preds, 1)\n",
    "            next_index = np.argmax(probas)     \n",
    "        next_char = chars[next_index]\n",
    "        yield next_char\n",
    "\n",
    "        generated += next_char\n",
    "    return generated\n",
    "\n",
    "for ch in generate_output(model, training_text):\n",
    "    sys.stdout.write(ch)\n",
    "print()\n",
    "        "
   ]
  },
  {
   "cell_type": "code",
   "execution_count": 12,
   "metadata": {},
   "outputs": [
    {
     "data": {
      "text/plain": [
       "1843"
      ]
     },
     "execution_count": 12,
     "metadata": {},
     "output_type": "execute_result"
    }
   ],
   "source": [
    "def find_python(rootdir):\n",
    "    matches = []\n",
    "    for root, dirnames, filenames in os.walk(rootdir):\n",
    "        for fn in filenames:\n",
    "            if fn.endswith('.py'):\n",
    "                matches.append(os.path.join(root, fn))\n",
    "\n",
    "    return matches\n",
    "#  + find_python(os.path.join(sys.executable.rsplit('/', 2)[0], 'lib'))\n",
    "srcs = find_python(random.__file__.rsplit('/', 1)[0])\n",
    "len(srcs)"
   ]
  },
  {
   "cell_type": "code",
   "execution_count": 13,
   "metadata": {},
   "outputs": [
    {
     "data": {
      "text/plain": [
       "'this = \"\"\\n'"
      ]
     },
     "execution_count": 13,
     "metadata": {},
     "output_type": "execute_result"
    }
   ],
   "source": [
    "def replacer(value):\n",
    "    value = ''.join(ch for ch in value if ord(ch) < 127)\n",
    "    if not ' ' in value:\n",
    "        return value\n",
    "    if sum(1 for ch in value if ch.isalpha()) > 6:\n",
    "        return 'MSG'\n",
    "    return value\n",
    "\n",
    "\n",
    "def replace_literals(st):\n",
    "    res = []\n",
    "    start_text = start_quote = i = 0\n",
    "    quote = ''\n",
    "    while i < len(st):\n",
    "        if quote:\n",
    "            if st[i: i + len(quote)] == quote:\n",
    "                quote = ''\n",
    "                start_text = i\n",
    "                res.append(replacer(st[start_quote: i]))\n",
    "        elif st[i] in '\"\\'':\n",
    "            quote = st[i]\n",
    "            if i < len(st) - 2 and st[i + 1] == st[i + 2] == quote:\n",
    "                quote = 3 * quote\n",
    "            start_quote = i + len(quote)\n",
    "            res.append(st[start_text: start_quote])\n",
    "        if st[i] == '\\n' and len(quote) == 1:\n",
    "            start_text = i\n",
    "            res.append(quote)\n",
    "            quote = ''\n",
    "        if st[i] == '\\\\':\n",
    "            i += 1\n",
    "        i += 1\n",
    "    return ''.join(res) + st[start_text:]\n",
    "\n",
    "#replace_literals('print(\"hel\\\\\"lo\")') + replace_literals(\"print('hel\\\\'lo world')\")\n",
    "replace_literals('this = \"wrong\\n')"
   ]
  },
  {
   "cell_type": "code",
   "execution_count": 14,
   "metadata": {},
   "outputs": [
    {
     "name": "stdout",
     "output_type": "stream",
     "text": [
      "Could not read /home/mitsuhisa.ohta/.pyenv/versions/3.6.0/lib/python3.6/test/badsyntax_pep3120.py\n",
      "Could not read /home/mitsuhisa.ohta/.pyenv/versions/3.6.0/lib/python3.6/test/test_source_encoding.py\n",
      "Could not read /home/mitsuhisa.ohta/.pyenv/versions/3.6.0/lib/python3.6/test/encoded_modules/module_iso_8859_1.py\n",
      "Could not read /home/mitsuhisa.ohta/.pyenv/versions/3.6.0/lib/python3.6/test/encoded_modules/module_koi8_r.py\n",
      "Could not read /home/mitsuhisa.ohta/.pyenv/versions/3.6.0/lib/python3.6/sqlite3/test/dbapi.py\n",
      "Could not read /home/mitsuhisa.ohta/.pyenv/versions/3.6.0/lib/python3.6/sqlite3/test/factory.py\n",
      "Could not read /home/mitsuhisa.ohta/.pyenv/versions/3.6.0/lib/python3.6/sqlite3/test/hooks.py\n",
      "Could not read /home/mitsuhisa.ohta/.pyenv/versions/3.6.0/lib/python3.6/sqlite3/test/regression.py\n",
      "Could not read /home/mitsuhisa.ohta/.pyenv/versions/3.6.0/lib/python3.6/sqlite3/test/transactions.py\n",
      "Could not read /home/mitsuhisa.ohta/.pyenv/versions/3.6.0/lib/python3.6/sqlite3/test/types.py\n",
      "Could not read /home/mitsuhisa.ohta/.pyenv/versions/3.6.0/lib/python3.6/sqlite3/test/userfunctions.py\n"
     ]
    },
    {
     "data": {
      "text/plain": [
       "20510655"
      ]
     },
     "execution_count": 14,
     "metadata": {},
     "output_type": "execute_result"
    }
   ],
   "source": [
    "COMMENT_RE = re.compile('#.*')\n",
    "python_code = []\n",
    "for fn in srcs:\n",
    "    try:\n",
    "        with open(fn, 'r') as fin:\n",
    "            src = fin.read()\n",
    "    except UnicodeDecodeError:\n",
    "        print('Could not read %s' % fn)\n",
    "    src = replace_literals(src)\n",
    "    src = COMMENT_RE.sub('', src)\n",
    "    python_code.append(src)\n",
    "\n",
    "python_code = '\\n\\n\\n'.join(python_code)\n",
    "len(python_code)"
   ]
  },
  {
   "cell_type": "code",
   "execution_count": 15,
   "metadata": {},
   "outputs": [
    {
     "data": {
      "text/plain": [
       "111"
      ]
     },
     "execution_count": 15,
     "metadata": {},
     "output_type": "execute_result"
    }
   ],
   "source": [
    "py_chars = list(sorted(set(python_code)))\n",
    "py_char_to_idx = {ch: idx for idx, ch in enumerate(py_chars)}\n",
    "len(py_chars)"
   ]
  },
  {
   "cell_type": "code",
   "execution_count": 16,
   "metadata": {},
   "outputs": [
    {
     "name": "stdout",
     "output_type": "stream",
     "text": [
      "WARNING:tensorflow:<tensorflow.python.keras.layers.recurrent.UnifiedLSTM object at 0x7f899c074898>: Note that this layer is not optimized for performance. Please use tf.keras.layers.CuDNNLSTM for better performance on GPU.\n",
      "WARNING:tensorflow:<tensorflow.python.keras.layers.recurrent.UnifiedLSTM object at 0x7f899c074f98>: Note that this layer is not optimized for performance. Please use tf.keras.layers.CuDNNLSTM for better performance on GPU.\n",
      "_________________________________________________________________\n",
      "Layer (type)                 Output Shape              Param #   \n",
      "=================================================================\n",
      "input (InputLayer)           (None, None, 111)         0         \n",
      "_________________________________________________________________\n",
      "lstm_layer_1 (UnifiedLSTM)   (None, None, 640)         1925120   \n",
      "_________________________________________________________________\n",
      "lstm_layer_2 (UnifiedLSTM)   (None, None, 640)         3279360   \n",
      "_________________________________________________________________\n",
      "time_distributed_1 (TimeDist (None, None, 111)         71151     \n",
      "=================================================================\n",
      "Total params: 5,275,631\n",
      "Trainable params: 5,275,631\n",
      "Non-trainable params: 0\n",
      "_________________________________________________________________\n"
     ]
    }
   ],
   "source": [
    "py_model = char_rnn_model(len(py_chars), num_layers=2, num_nodes=640, dropout=0)\n",
    "py_model.summary()"
   ]
  },
  {
   "cell_type": "code",
   "execution_count": 18,
   "metadata": {},
   "outputs": [
    {
     "name": "stdout",
     "output_type": "stream",
     "text": [
      "Epoch 1/40\n",
      " - 223s - loss: 3.2873 - acc: 0.3038\n",
      "Epoch 2/40\n",
      " - 227s - loss: 3.0013 - acc: 0.3242\n",
      "Epoch 3/40\n",
      " - 227s - loss: 2.1042 - acc: 0.5151\n",
      "Epoch 4/40\n",
      " - 227s - loss: 1.8316 - acc: 0.5918\n",
      "Epoch 5/40\n",
      " - 228s - loss: 1.7530 - acc: 0.6146\n",
      "Epoch 6/40\n",
      " - 228s - loss: 1.7288 - acc: 0.6238\n",
      "Epoch 7/40\n",
      " - 229s - loss: 1.6754 - acc: 0.6380\n",
      "Epoch 8/40\n",
      " - 228s - loss: 1.6944 - acc: 0.6367\n",
      "Epoch 9/40\n",
      " - 229s - loss: 1.6279 - acc: 0.6525\n",
      "Epoch 10/40\n",
      " - 228s - loss: 1.5428 - acc: 0.6717\n",
      "Epoch 11/40\n",
      " - 228s - loss: 1.5672 - acc: 0.6686\n",
      "Epoch 12/40\n",
      " - 228s - loss: 1.5173 - acc: 0.6803\n",
      "Epoch 13/40\n",
      " - 229s - loss: 1.5303 - acc: 0.6789\n"
     ]
    },
    {
     "data": {
      "text/plain": [
       "<tensorflow.python.keras.callbacks.History at 0x7f899c0583c8>"
      ]
     },
     "execution_count": 18,
     "metadata": {},
     "output_type": "execute_result"
    }
   ],
   "source": [
    "early = keras.callbacks.EarlyStopping(monitor='loss',\n",
    "                              min_delta=0.03,\n",
    "                              patience=3,\n",
    "                              verbose=0, mode='auto')\n",
    "\n",
    "BATCH_SIZE = 256\n",
    "py_model.fit_generator(\n",
    "    data_generator(python_code, py_char_to_idx, batch_size=BATCH_SIZE, chunk_size=160),\n",
    "    epochs=40,\n",
    "    callbacks=[early,],\n",
    "    steps_per_epoch=2 * len(python_code) // (BATCH_SIZE * 160),\n",
    "    verbose=2\n",
    ")"
   ]
  },
  {
   "cell_type": "code",
   "execution_count": 19,
   "metadata": {},
   "outputs": [
    {
     "name": "stdout",
     "output_type": "stream",
     "text": [
      "\n",
      "def sl(s):\n",
      " \n",
      "  elseVar_set(s[X], lenclG0) w, H\n",
      "e.clewn = socket._AllHey()\n",
      "\n",
      "\n",
      "def sl(s):\n",
      " \n",
      "  elseVar_set(s[X], lenclG0) w, H\n",
      "e.clewn = socket._AllHey()\n",
      "\n",
      "\n",
      "\n",
      "def no_eig_neek(args = '*': token.nuc(eeumc * ERR_R | ar 60.01, noE = sectionee + 0) t2 usion'\n",
      "   tr6:2pna = bfile(e1:01.messt * 12)le,\n",
      "        4502 + sys.maxsize * 1d48)\n",
      "     a[ ord.remOve .c\n",
      "    yield fr in config:        \n",
      "    a = '\\  '\n",
      "    len = sy(delimite - 2n + 0]\n",
      "    eesli = aibbern[name.rpwir]polu](tri arg no self._lengthed2.cmp(hath.fl,))\n",
      "    try:\n",
      "        cttl_lambda .umdiE + \n",
      "       (bt, col / minaroi callable + _end_tas.flags)\n",
      "0.55 =  mash(dot,2)\n",
      " prinC(\"  leifi /3t\")\n",
      "\n",
      "\n",
      "def no_eig_neek(args = '*': token.nuc(eeumc * ERR_R | ar 60.01, noE = sectionee + 0) t2 usion'\n",
      "   tr6:2pna = bfile(e1:01.messt * 12)le,\n",
      "        4502 + sys.maxsize * 1d48)\n",
      "     a[ ord.remOve .c\n",
      "    yield fr in config:        \n",
      "    a = '\\  '\n",
      "    len = sy(delimite - 2n + 0]\n",
      "    eesli = aibbern[name.rpwir]polu](tri arg no self._lengthed2.cmp(hath.fl,))\n",
      "    try:\n",
      "        cttl_lambda .umdiE + \n",
      "       (bt, col / minaroi callable + _end_tas.flags)\n",
      "0.55 =  mash(dot,2)\n",
      " prinC(\"  leifi /3t\")\n",
      "\n",
      "\n",
      "\n",
      "def ask_r x(eacencShafeoptnb6):\n",
      "    exprs = b'   ' &       ,w0, obj, requ[md2] = res = self._ >= 182\n",
      "   so, c)diff=. ;l \n",
      "    return -30\n",
      "\n",
      "\n",
      "def ask_r x(eacencShafeoptnb6):\n",
      "    exprs = b'   ' &       ,w0, obj, requ[md2] = res = self._ >= 182\n",
      "   so, c)diff=. ;l \n",
      "    return -30\n",
      "\n",
      "\n",
      "\n",
      "def  argc'y,(arr):\n",
      "      .ar({'':Fals |ie string)\\n''\"\n",
      "    args, kwarify = res\n",
      "iint_+  = url          e1 % (expu <  3 uname) m\n",
      "       r =_msg            n2     \n",
      "    a = 200\n",
      "        as-641enr_09\"                   (a + b,t( \"a\\n t\"* \"xsq\"        \" \")\n",
      "  geta = as f\n",
      "        [            e0 - ] -             UR   us elsemsg.ua8e_match if t.tzname == \"last\"\n",
      "     \n",
      "if n\n",
      "strid = tye(start)\n",
      "    if , y in (msgaObj  , \"m\"):\n",
      "\n",
      "\n",
      "def  argc'y,(arr):\n",
      "      .ar({'':Fals |ie string)\\n''\"\n",
      "    args, kwarify = res\n",
      "iint_+  = url          e1 % (expu <  3 uname) m\n",
      "       r =_msg            n2     \n",
      "    a = 200\n",
      "        as-641enr_09\"                   (a + b,t( \"a\\n t\"* \"xsq\"        \" \")\n",
      "  geta = as f\n",
      "        [            e0 - ] -             UR   us elsemsg.ua8e_match if t.tzname == \"last\"\n",
      "     \n",
      "if n\n",
      "strid = tye(start)\n",
      "    if , y in (msgaObj  , \"m\"):\n",
      "\n",
      "\n",
      "\n",
      "def 5,\n",
      "            supporl! filena + b     gf                 sys.midbnder)\n",
      "   -bytes_lep.startr   \n",
      "    bad_size=fncwildn  Gfshae(f.p +ot iin(b to: zri.pathar iP i = 1,  List[Tl]]\n",
      "    EQOMENT  = b else m = ' d   foo\n",
      "    \n",
      "    (',           \"&\" b(i)indefa = b't[Iof } y.... 7'.foo.code.encodn(w)\n",
      " non  r'\\1{1 12}{2}'     \n",
      "    b'\\x81\\x1r\\x 9h\\x19d81{%idbsp;\\n\\xe5ef/e\\xff \n",
      "    b + 1  \n",
      "    sf_t = _bio.tnsg\n",
      "    wa = t\n",
      "    ft.sesr(initip_angleeh)\n",
      "5.0 in r == '\\n' MySemaphore(u)implementatewarn ) +f\n",
      ") \n",
      "\n",
      "\n",
      "def 5,\n",
      "            supporl! filena + b     gf                 sys.midbnder)\n",
      "   -bytes_lep.startr   \n",
      "    bad_size=fncwildn  Gfshae(f.p +ot iin(b to: zri.pathar iP i = 1,  List[Tl]]\n",
      "    EQOMENT  = b else m = ' d   foo\n",
      "    \n",
      "    (',           \"&\" b(i)indefa = b't[Iof } y.... 7'.foo.code.encodn(w)\n",
      " non  r'\\1{1 12}{2}'     \n",
      "    b'\\x81\\x1r\\x 9h\\x19d81{%idbsp;\\n\\xe5ef/e\\xff \n",
      "    b + 1  \n",
      "    sf_t = _bio.tnsg\n",
      "    wa = t\n",
      "    ft.sesr(initip_angleeh)\n",
      "5.0 in r == '\\n' MySemaphore(u)implementatewarn ) +f\n",
      ") \n",
      "\n",
      "\n",
      "\n",
      "def ur nptim imp(enum_dll  ', '/top2'):\n",
      "    Tal, unJ = get_tstring(t. \n",
      "    tester =stri'\n",
      "    t      with unittest.locale_time >ortta' + ''=Tlxo: re an\n",
      "     nonlerand se r\\eesot  \n",
      "0go = utc.method_n fot ij=text_off\n",
      "    Etenses     \n",
      "    ns_typet  = \"MSG\"\n",
      " nomus tokenize._reverseCounxe\"r:\n",
      "osu,  ins lst - (l >n is_typplon &= (1_N\"))\n",
      "    \n",
      "   else:\n",
      "        seps >= to6\n",
      "\n",
      "\n",
      "def ur nptim imp(enum_dll  ', '/top2'):\n",
      "    Tal, unJ = get_tstring(t. \n",
      "    tester =stri'\n",
      "    t      with unittest.locale_time >ortta' + ''=Tlxo: re an\n",
      "     nonlerand se r\\eesot  \n",
      "0go = utc.method_n fot ij=text_off\n",
      "    Etenses     \n",
      "    ns_typet  = \"MSG\"\n",
      " nomus tokenize._reverseCounxe\"r:\n",
      "osu,  ins lst - (l >n is_typplon &= (1_N\"))\n",
      "    \n",
      "   else:\n",
      "        seps >= to6\n",
      "\n",
      "\n",
      "\n",
      "def msglibrafmes.s\" +slec +  fromSexirecl4(1024:entMatch\"):\n",
      "    if self.sta0_re(elen <f\n",
      "        strf_inregist =, 0.0\n",
      "  , self.right_settform = Decif'\n",
      "    self2,  ram = sel x < ERROR_END * self._match from lt_radir\n",
      "   try  thelf=stms - indented]\n",
      "  skip =cls\n",
      "    lefTfo =SKLON_AT')\n",
      "    elif isinstance(foe, Sted)tringTemts(t ant.float('lnc'R_ + dfn.m))entry.    \n",
      "                       \"MSG\"\n",
      "  secue = com.endeouus.whmStack[elp +\n",
      "     [\" nots if \".1  etp % y =10]SS |n \" faStRame\n",
      "\n",
      "\n",
      "def msglibrafmes.s\" +slec +  fromSexirecl4(1024:entMatch\"):\n",
      "    if self.sta0_re(elen <f\n",
      "        strf_inregist =, 0.0\n",
      "  , self.right_settform = Decif'\n",
      "    self2,  ram = sel x < ERROR_END * self._match from lt_radir\n",
      "   try  thelf=stms - indented]\n",
      "  skip =cls\n",
      "    lefTfo =SKLON_AT')\n",
      "    elif isinstance(foe, Sted)tringTemts(t ant.float('lnc'R_ + dfn.m))entry.    \n",
      "                       \"MSG\"\n",
      "  secue = com.endeouus.whmStack[elp +\n",
      "     [\" nots if \".1  etp % y =10]SS |n \" faStRame\n",
      "\n",
      "\n",
      "\n",
      "def secure_original_ies:\n",
      "  eoce =enableda = sysConfli(' + 1: 33\n",
      "    8\n",
      "    ) ti = 'en_line':Node.open( \n",
      "        'MSG'.fork(iterable)\n",
      "\n",
      "\n",
      "def secure_original_ies:\n",
      "  eoce =enableda = sysConfli(' + 1: 33\n",
      "    8\n",
      "    ) ti = 'en_line':Node.open( \n",
      "        'MSG'.fork(iterable)\n",
      "\n",
      "\n",
      "\n",
      "def uni = self.funp)teM is SRL_r):\n",
      "assert)\n",
      "\n",
      "\n",
      "def uni = self.funp)teM is SRL_r):\n",
      "assert)\n",
      "\n",
      "\n",
      "\n",
      "def soc ): cn = \\nsort.%C\"   \n",
      "    stsn.st = _safptest(st, p -                                \n",
      "xdr   \n",
      "    )\n",
      "\n",
      "\n",
      "def soc ): cn = \\nsort.%C\"   \n",
      "    stsn.st = _safptest(st, p -                                \n",
      "xdr   \n",
      "    )\n",
      "\n",
      "\n",
      "\n",
      "def _get_dnetn,yet exe\n",
      "     e-events = _ =osroxt self.execul_num  l !== 4\n",
      "        io.overlocged.se = \"<range\" hd )\n",
      "        elementnfo = \n",
      "    \n",
      "  se\"\n",
      "  .ffcTex,\n",
      "     lo f=1\n",
      "    as' __loca - 1swi +  oo' \n",
      "    elins = (se)\n",
      "      un = 0 << Xound <= 3\n",
      "    _opfl m _mase_posnEnu  retu = max(slots, 1 - seld.MAGI) * 3\n",
      "  .7\n",
      "    for i in range(max) > 0d5:\n",
      "        ut += 18\n",
      "  ord    \"MSG\"\n",
      "else:\n",
      "   os-1 = \"%s\" % unpareet_fpT\n",
      "rees_requifTest = usageMemoryview = S_RFA +127_0tode1\n",
      "\n",
      "\n",
      "def _get_dnetn,yet exe\n",
      "     e-events = _ =osroxt self.execul_num  l !== 4\n",
      "        io.overlocged.se = \"<range\" hd )\n",
      "        elementnfo = \n",
      "    \n",
      "  se\"\n",
      "  .ffcTex,\n",
      "     lo f=1\n",
      "    as' __loca - 1swi +  oo' \n",
      "    elins = (se)\n",
      "      un = 0 << Xound <= 3\n",
      "    _opfl m _mase_posnEnu  retu = max(slots, 1 - seld.MAGI) * 3\n",
      "  .7\n",
      "    for i in range(max) > 0d5:\n",
      "        ut += 18\n",
      "  ord    \"MSG\"\n",
      "else:\n",
      "   os-1 = \"%s\" % unpareet_fpT\n",
      "rees_requifTest = usageMemoryview = S_RFA +127_0tode1\n",
      "\n",
      "\n",
      "\n",
      "def  mathsheepp is not Non antfom he_gids':\n",
      " sh\n",
      "    MARout = []\n",
      "    fromris0, l = 2.0 * h)\n",
      "   os_when8l  \n",
      "    global thE\n",
      "        wi +.5 for  inj1\n",
      "     else = getargwt = https(o + goti1_, mxlin * label)\n",
      "        entr = get_tm'\n",
      "exceptisl5: 1 <a.tq: elemo + 1 * lat = env\n",
      "    for n in elements:el(path, 'ea2lp'), p.id, ...):\n",
      "      4:+2\n",
      "    f =\n",
      "  open(fd, \"r  % (a fo f7.e >  1  B if\"   w in (A == DEC_Mnt)\n",
      "      ouf[:3] = madar.append(f.naa + \"line2\",defin = dec_flags\"es = default=tc and d\n",
      "    not (filte_clsraric, r fkd is fcssize.a\"e4un):\n",
      "        raise KeyError(     d + data =patnd)*  \n",
      "o eOthef[-2][1o4]] = charr\n",
      "  ier = ind + 1\n",
      "    els(algacis)\n",
      "\n",
      "\n",
      "def  mathsheepp is not Non antfom he_gids':\n",
      " sh\n",
      "    MARout = []\n",
      "    fromris0, l = 2.0 * h)\n",
      "   os_when8l  \n",
      "    global thE\n",
      "        wi +.5 for  inj1\n",
      "     else = getargwt = https(o + goti1_, mxlin * label)\n",
      "        entr = get_tm'\n",
      "exceptisl5: 1 <a.tq: elemo + 1 * lat = env\n",
      "    for n in elements:el(path, 'ea2lp'), p.id, ...):\n",
      "      4:+2\n",
      "    f =\n",
      "  open(fd, \"r  % (a fo f7.e >  1  B if\"   w in (A == DEC_Mnt)\n",
      "      ouf[:3] = madar.append(f.naa + \"line2\",defin = dec_flags\"es = default=tc and d\n",
      "    not (filte_clsraric, r fkd is fcssize.a\"e4un):\n",
      "        raise KeyError(     d + data =patnd)*  \n",
      "o eOthef[-2][1o4]] = charr\n",
      "  ier = ind + 1\n",
      "    els(algacis)\n",
      "\n",
      "\n",
      "\n",
      "def match(ma  (name,idle_ttr, meta _str)\n",
      "287s !> y'oma'    (u'   ').fr ir grou=e2aven1 = (, UserString=' 'E GetSequenceU0PIP-testingiati ') +\n",
      " len(req == 1 eLsufeLo <sSVar'):\n",
      "    return _6 \\\n",
      "  e, eval('MS -= 7oiar')s1)\n",
      "    rf is a\\rf'r'__ iarout = 0.105\n",
      "    edrtasx2  ='e'\n",
      "    else max_relativsummydel ==1, t\n",
      "    allow_mhesexte,imp + het(observed + 8)' + other.entry%2 - 1/2\n",
      "       y = uctercd + 1>8\n",
      "   o, uncompat, args, kwargs | k\n"
     ]
    },
    {
     "name": "stdout",
     "output_type": "stream",
     "text": [
      "  elv , rel\n",
      "  typea0 = k3 = '(%asaP,))|sTh >\n",
      "     letters = _alashapx_ and notdod1.token\n",
      "\"Qut struct_dialed\"    \n",
      "    return restore.l + ast.leni > jecor \n",
      "pa\" -' + None\n",
      "    a = getattr(None, e - 10() | a)\n",
      "    if not arg: self.memo = notmp and   \n",
      "        name = \"\"\n",
      "    Gtu%\n",
      "        isMen =  (1  \n",
      "            ==UrdtestHaearHash9  2s &  \n",
      "enuI = _SSLS\" + __meou__(incent='t s '/, \\s this@-5 &' + altche / '- '.joinosame(filenoea=Oase  3futel x)  '.F2 un'\n",
      "\n",
      "\n",
      "def match(ma  (name,idle_ttr, meta _str)\n",
      "287s !> y'oma'    (u'   ').fr ir grou=e2aven1 = (, UserString=' 'E GetSequenceU0PIP-testingiati ') +\n",
      " len(req == 1 eLsufeLo <sSVar'):\n",
      "    return _6 \\\n",
      "  e, eval('MS -= 7oiar')s1)\n",
      "    rf is a\\rf'r'__ iarout = 0.105\n",
      "    edrtasx2  ='e'\n",
      "    else max_relativsummydel ==1, t\n",
      "    allow_mhesexte,imp + het(observed + 8)' + other.entry%2 - 1/2\n",
      "       y = uctercd + 1>8\n",
      "   o, uncompat, args, kwargs | k\n",
      "  elv , rel\n",
      "  typea0 = k3 = '(%asaP,))|sTh >\n",
      "     letters = _alashapx_ and notdod1.token\n",
      "\"Qut struct_dialed\"    \n",
      "    return restore.l + ast.leni > jecor \n",
      "pa\" -' + None\n",
      "    a = getattr(None, e - 10() | a)\n",
      "    if not arg: self.memo = notmp and   \n",
      "        name = \"\"\n",
      "    Gtu%\n",
      "        isMen =  (1  \n",
      "            ==UrdtestHaearHash9  2s &  \n",
      "enuI = _SSLS\" + __meou__(incent='t s '/, \\s this@-5 &' + altche / '- '.joinosame(filenoea=Oase  3futel x)  '.F2 un'\n",
      "\n",
      "\n",
      "\n",
      "def _tracker(event, 0):\n",
      "  wor = Mock(\n",
      "error_ex = _osu_0\n",
      "    _read_[index=1(_samefileeake for t inem (_dir6_1) | i(.__ i\\nus__e = (0i i))\n",
      "    rs = _ + len(set(i_uirsal, self + unnun=selfC,aupo93 == 4))t\n",
      "]\n",
      "user ,'l'\n",
      "\n",
      "\n",
      "def _tracker(event, 0):\n",
      "  wor = Mock(\n",
      "error_ex = _osu_0\n",
      "    _read_[index=1(_samefileeake for t inem (_dir6_1) | i(.__ i\\nus__e = (0i i))\n",
      "    rs = _ + len(set(i_uirsal, self + unnun=selfC,aupo93 == 4))t\n",
      "]\n",
      "user ,'l'\n",
      "\n",
      "\n",
      "\n",
      "def gs28cmp(obj):\n",
      "          =\n",
      "     0o re_12'           klg(1), object()),\n",
      "        exe\n",
      "    8 = )\n",
      "    tan = 16\n",
      "  crx{(dsl.numerator == '7 'hZ200' go = 1234] /d 1\n",
      "    test = unitMultifile(signal=Nnext( os.getpitm imits i\")\n",
      "    last.data[20M = _st=E\n",
      "   starred_t  =  timed. = time.strftime( some_mep, timedeltaosos, dm)\n",
      " homet. \"\"]       is_forma)\n",
      "    value = (timedelta(ho > timedalan - tz), Ma - timezone = z/RGudstri if (3.05 + 0, Var & 0xva.1   0) Hh:\n",
      ":   .):\n",
      "  x. matar9arg     \"%j\"8oDE' :  \n",
      "    !ritem=  o[: 2],\n",
      "   sum3: dt =ex r1\n",
      "    i = 4 * depth - 192\n",
      "\n",
      "\n",
      "def gs28cmp(obj):\n",
      "          =\n",
      "     0o re_12'           klg(1), object()),\n",
      "        exe\n",
      "    8 = )\n",
      "    tan = 16\n",
      "  crx{(dsl.numerator == '7 'hZ200' go = 1234] /d 1\n",
      "    test = unitMultifile(signal=Nnext( os.getpitm imits i\")\n",
      "    last.data[20M = _st=E\n",
      "   starred_t  =  timed. = time.strftime( some_mep, timedeltaosos, dm)\n",
      " homet. \"\"]       is_forma)\n",
      "    value = (timedelta(ho > timedalan - tz), Ma - timezone = z/RGudstri if (3.05 + 0, Var & 0xva.1   0) Hh:\n",
      ":   .):\n",
      "  x. matar9arg     \"%j\"8oDE' :  \n",
      "    !ritem=  o[: 2],\n",
      "   sum3: dt =ex r1\n",
      "    i = 4 * depth - 192\n",
      "\n",
      "\n",
      "\n",
      "def test_mai\n",
      "del UnCoutiinLockGenere2EgeSislink(tear, en')\n",
      "\n",
      "\n",
      "def test_mai\n",
      "del UnCoutiinLockGenere2EgeSislink(tear, en')\n",
      "\n",
      "\n",
      "\n",
      "def get_coll emp is No_buildar and  (len(curfile - 3)) and colno and seenf[key] > escep or _cuermi <=ledname_\n",
      " pl =col ilements. - 1\n",
      "ellowraps() n am, s i(fd)di:elem': 'tag', \n",
      "    attr in_asir):\n",
      "_\"evals\"     =as if=   \"nt\" (\n",
      "  = usage        \n",
      "               \"\"\n",
      " (cmdLi_n) \n",
      "    reod) \n",
      "\n",
      "\n",
      "def get_coll emp is No_buildar and  (len(curfile - 3)) and colno and seenf[key] > escep or _cuermi <=ledname_\n",
      " pl =col ilements. - 1\n",
      "ellowraps() n am, s i(fd)di:elem': 'tag', \n",
      "    attr in_asir):\n",
      "_\"evals\"     =as if=   \"nt\" (\n",
      "  = usage        \n",
      "               \"\"\n",
      " (cmdLi_n) \n",
      "    reod) \n",
      "\n",
      "\n",
      "\n",
      "def headers):\n",
      "se=re\n",
      "\n",
      "\n",
      "def headers):\n",
      "se=re\n",
      "\n",
      "\n",
      "\n",
      "def ):5:0 u\n",
      "\n",
      "\n",
      "def ):5:0 u\n",
      "\n",
      "\n",
      "\n",
      "def os, todata,, hat = lim-typeade >MLL: \n",
      "    r\n",
      "xlass   \n",
      "    l_nodefal.ti3 = 0\n",
      "CLICG_2 =e tyt\n",
      "TESTFN_UNI3 is Ndb_1s\n",
      "\n",
      "\n",
      "def os, todata,, hat = lim-typeade >MLL: \n",
      "    r\n",
      "xlass   \n",
      "    l_nodefal.ti3 = 0\n",
      "CLICG_2 =e tyt\n",
      "TESTFN_UNI3 is Ndb_1s\n",
      "\n",
      "\n"
     ]
    }
   ],
   "source": [
    "def generate_code(model, start_with='\\ndef ', end_with='\\n\\n', diversity=1.0):\n",
    "    generated = start_with\n",
    "    yield generated\n",
    "    for i in range(2000):\n",
    "        x = np.zeros((1, len(generated), len(py_chars)))\n",
    "        for t, char in enumerate(generated):\n",
    "            x[0, t, py_char_to_idx[char]] = 1.\n",
    "        preds = model.predict(x, verbose=0)[0]\n",
    "        \n",
    "        preds = np.asarray(preds[len(generated) - 1]).astype('float64')\n",
    "        preds = np.log(preds) / diversity\n",
    "        exp_preds = np.exp(preds)\n",
    "        preds = exp_preds / np.sum(exp_preds)\n",
    "        probas = np.random.multinomial(1, preds, 1)\n",
    "        next_index = np.argmax(probas)        \n",
    "        next_char = py_chars[next_index]\n",
    "        yield next_char\n",
    "\n",
    "        generated += next_char\n",
    "        if generated.endswith(end_with):\n",
    "            break\n",
    "\n",
    "for i in range(20):\n",
    "    st = \"\"\n",
    "    for ch in generate_code(py_model):\n",
    "        sys.stdout.write(ch)\n",
    "        st += ch\n",
    "    print(st)\n"
   ]
  },
  {
   "cell_type": "code",
   "execution_count": 20,
   "metadata": {},
   "outputs": [
    {
     "name": "stdout",
     "output_type": "stream",
     "text": [
      "WARNING:tensorflow:<tensorflow.python.keras.layers.recurrent.UnifiedLSTM object at 0x7f899c0557f0>: Note that this layer is not optimized for performance. Please use tf.keras.layers.CuDNNLSTM for better performance on GPU.\n",
      "Epoch 1/40\n",
      " - 93s - loss: 2.6634 - acc: 0.3969\n",
      "Epoch 2/40\n",
      " - 93s - loss: 2.1989 - acc: 0.4998\n",
      "Epoch 3/40\n",
      " - 94s - loss: 2.0744 - acc: 0.5351\n",
      "Epoch 4/40\n",
      " - 95s - loss: 2.0181 - acc: 0.5520\n",
      "Epoch 5/40\n",
      " - 95s - loss: 1.9750 - acc: 0.5641\n",
      "Epoch 6/40\n",
      " - 95s - loss: 1.9242 - acc: 0.5774\n",
      "Epoch 7/40\n",
      " - 95s - loss: 1.9056 - acc: 0.5832\n",
      "Epoch 8/40\n",
      " - 95s - loss: 1.8835 - acc: 0.5895\n",
      "Epoch 9/40\n",
      " - 95s - loss: 1.9003 - acc: 0.5870\n",
      "Epoch 10/40\n",
      " - 95s - loss: 1.8806 - acc: 0.5922\n",
      "Epoch 11/40\n",
      " - 95s - loss: 1.8512 - acc: 0.5995\n",
      "Epoch 12/40\n",
      " - 95s - loss: 1.8563 - acc: 0.5993\n",
      "Epoch 13/40\n",
      " - 95s - loss: 1.8239 - acc: 0.6069\n",
      "Epoch 14/40\n",
      " - 95s - loss: 1.8536 - acc: 0.6010\n"
     ]
    },
    {
     "data": {
      "text/plain": [
       "<tensorflow.python.keras.callbacks.History at 0x7f895c46e828>"
      ]
     },
     "execution_count": 20,
     "metadata": {},
     "output_type": "execute_result"
    }
   ],
   "source": [
    "BATCH_SIZE = 512\n",
    "\n",
    "flat_model = char_rnn_model(len(py_chars), num_layers=1, num_nodes=512, dropout=0)\n",
    "\n",
    "early = keras.callbacks.EarlyStopping(monitor='loss',\n",
    "                              min_delta=0.03,\n",
    "                              patience=3,\n",
    "                              verbose=0, mode='auto')\n",
    "\n",
    "flat_model.fit_generator(\n",
    "    data_generator(python_code, py_char_to_idx, batch_size=BATCH_SIZE, chunk_size=160),\n",
    "    epochs=40,\n",
    "    callbacks=[early,],\n",
    "    steps_per_epoch=2 * len(python_code) // (BATCH_SIZE * 160),\n",
    "    verbose=2\n",
    ")"
   ]
  },
  {
   "cell_type": "code",
   "execution_count": 21,
   "metadata": {},
   "outputs": [
    {
     "data": {
      "text/plain": [
       "(33, 512)"
      ]
     },
     "execution_count": 21,
     "metadata": {},
     "output_type": "execute_result"
    }
   ],
   "source": [
    "example_code = 'if a == 2:\\n    b=1\\nelse:\\n    b=2\\n'\n",
    "#example_code = 'a=(2 * 3)\\nb=(4 * 6 + 7)\\nreturn C'\n",
    "\n",
    "def activations(model, code):\n",
    "    x = np.zeros((1, len(code), len(py_char_to_idx)))\n",
    "    for t, char in enumerate(code):\n",
    "        x[0, t, py_char_to_idx[char]] = 1.\n",
    "    output = model.get_layer('lstm_layer_1').output\n",
    "    f = K.function([model.input], [output])\n",
    "    return f([x])[0][0]\n",
    "\n",
    "act = activations(flat_model, example_code)\n",
    "act.shape"
   ]
  },
  {
   "cell_type": "code",
   "execution_count": 22,
   "metadata": {},
   "outputs": [
    {
     "data": {
      "text/plain": [
       "21"
      ]
     },
     "execution_count": 22,
     "metadata": {},
     "output_type": "execute_result"
    }
   ],
   "source": [
    "def interesting_neurons(act):\n",
    "    res = []\n",
    "    for n in np.argmax(act, axis=1):\n",
    "        if not n in res:\n",
    "            res.append(n)\n",
    "    return res\n",
    "\n",
    "neurons = interesting_neurons(act)\n",
    "len(neurons)"
   ]
  },
  {
   "cell_type": "code",
   "execution_count": 23,
   "metadata": {},
   "outputs": [
    {
     "name": "stderr",
     "output_type": "stream",
     "text": [
      "/home/mitsuhisa.ohta/.pyenv/versions/3.6.0/envs/dlc_org/lib/python3.6/site-packages/ipykernel_launcher.py:8: DeprecationWarning: `imresize` is deprecated!\n",
      "`imresize` is deprecated in SciPy 1.0.0, and will be removed in 1.2.0.\n",
      "Use ``skimage.transform.resize`` instead.\n",
      "  \n"
     ]
    },
    {
     "data": {
      "image/png": "[encoded data removed]",
      "text/plain": [
       "<IPython.core.display.Image object>"
      ]
     },
     "metadata": {},
     "output_type": "display_data"
    }
   ],
   "source": [
    "def visualize_neurons(neurons, code, act, cell_size=12):\n",
    "    img = np.full((len(neurons) + 1, len(code), 3), 128)\n",
    "    scores = (act[:, neurons].T + 1) / 2\n",
    "    img[1:, :, 0] = 255 * (1 - scores)\n",
    "    img[1:, :, 1] = 255 * scores\n",
    "\n",
    "    f = BytesIO()\n",
    "    img = scipy.misc.imresize(img, float(cell_size), interp='nearest')\n",
    "    pil_img = PIL.Image.fromarray(img)\n",
    "    draw = ImageDraw.Draw(pil_img)\n",
    "    for idx, ch in enumerate(code):\n",
    "        draw.text((idx * cell_size + 2, 0), ch)\n",
    "    pil_img.save(f, 'png')\n",
    "    return Image(data=f.getvalue())\n",
    "\n",
    "img = visualize_neurons(neurons, example_code, act)\n",
    "display(img)"
   ]
  },
  {
   "cell_type": "code",
   "execution_count": 24,
   "metadata": {},
   "outputs": [
    {
     "name": "stderr",
     "output_type": "stream",
     "text": [
      "/home/mitsuhisa.ohta/.pyenv/versions/3.6.0/envs/dlc_org/lib/python3.6/site-packages/ipykernel_launcher.py:8: DeprecationWarning: `imresize` is deprecated!\n",
      "`imresize` is deprecated in SciPy 1.0.0, and will be removed in 1.2.0.\n",
      "Use ``skimage.transform.resize`` instead.\n",
      "  \n"
     ]
    },
    {
     "data": {
      "image/png": "[encoded data removed]",
      "text/plain": [
       "<IPython.core.display.Image object>"
      ]
     },
     "metadata": {},
     "output_type": "display_data"
    }
   ],
   "source": [
    "def image_for_code(code):\n",
    "    act = activations(flat_model, code)\n",
    "    neurons = interesting_neurons(act)\n",
    "    return visualize_neurons(neurons, code, act)\n",
    "\n",
    "display(image_for_code('if (a == 2) and ((b == 1) or (c==2)):'))"
   ]
  },
  {
   "cell_type": "code",
   "execution_count": 25,
   "metadata": {},
   "outputs": [],
   "source": [
    "code = 'if (a == 2) and ((b == 1) or (c==2)):'\n",
    "mask = '   ________     ____________________ '\n",
    "act = activations(flat_model, code)\n",
    "positive = [idx for idx, ch in enumerate(mask) if ch == '_']\n",
    "negative = [idx for idx, ch in enumerate(mask) if ch != '_']\n",
    "\n",
    "neurons = np.argsort(act[positive].sum(axis=0) - act[negative].sum(axis=0))[-5:]"
   ]
  },
  {
   "cell_type": "code",
   "execution_count": 26,
   "metadata": {},
   "outputs": [
    {
     "name": "stderr",
     "output_type": "stream",
     "text": [
      "/home/mitsuhisa.ohta/.pyenv/versions/3.6.0/envs/dlc_org/lib/python3.6/site-packages/ipykernel_launcher.py:8: DeprecationWarning: `imresize` is deprecated!\n",
      "`imresize` is deprecated in SciPy 1.0.0, and will be removed in 1.2.0.\n",
      "Use ``skimage.transform.resize`` instead.\n",
      "  \n"
     ]
    },
    {
     "data": {
      "image/png": "[encoded data removed]",
      "text/plain": [
       "<IPython.core.display.Image object>"
      ]
     },
     "metadata": {},
     "output_type": "display_data"
    }
   ],
   "source": [
    "img = visualize_neurons(neurons, code, act)\n",
    "display(img)"
   ]
  },
  {
   "cell_type": "code",
   "execution_count": 27,
   "metadata": {},
   "outputs": [
    {
     "data": {
      "text/plain": [
       "array([192, 218, 427,  43, 219])"
      ]
     },
     "execution_count": 27,
     "metadata": {},
     "output_type": "execute_result"
    }
   ],
   "source": [
    "neurons"
   ]
  },
  {
   "cell_type": "code",
   "execution_count": 28,
   "metadata": {},
   "outputs": [
    {
     "data": {
      "text/plain": [
       "-1.1803046"
      ]
     },
     "execution_count": 28,
     "metadata": {},
     "output_type": "execute_result"
    }
   ],
   "source": [
    "act[negative, 108].sum()"
   ]
  },
  {
   "cell_type": "code",
   "execution_count": 29,
   "metadata": {},
   "outputs": [
    {
     "data": {
      "text/plain": [
       "(-1.736106727272272, -1.1803045719861984)"
      ]
     },
     "execution_count": 29,
     "metadata": {},
     "output_type": "execute_result"
    }
   ],
   "source": [
    "x0 = 0\n",
    "x1 = 0\n",
    "for idx, ch in enumerate(mask):\n",
    "    if ch == '_':\n",
    "        x0 += act[idx, 108]\n",
    "    else:\n",
    "        x1 += act[idx, 108]\n",
    "x0, x1"
   ]
  },
  {
   "cell_type": "code",
   "execution_count": null,
   "metadata": {},
   "outputs": [],
   "source": []
  }
 ],
 "metadata": {
  "kernelspec": {
   "display_name": "Python 3",
   "language": "python",
   "name": "python3"
  },
  "language_info": {
   "codemirror_mode": {
    "name": "ipython",
    "version": 3
   },
   "file_extension": ".py",
   "mimetype": "text/x-python",
   "name": "python",
   "nbconvert_exporter": "python",
   "pygments_lexer": "ipython3",
   "version": "3.6.0"
  }
 },
 "nbformat": 4,
 "nbformat_minor": 1
}
