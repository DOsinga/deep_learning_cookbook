{
 "cells": [
  {
   "cell_type": "code",
   "execution_count": 1,
   "metadata": {},
   "outputs": [],
   "source": [
    "import random\n",
    "import twitter\n",
    "import emoji\n",
    "import gensim\n",
    "import unicodedata\n",
    "import html\n",
    "from tensorflow.keras.preprocessing.text import text_to_word_sequence\n",
    "import re"
   ]
  },
  {
   "cell_type": "code",
   "execution_count": 2,
   "metadata": {},
   "outputs": [],
   "source": [
    "# Fill these in!\n",
    "\n",
    "CONSUMER_KEY = 'xbMuxcJpRTiVGt2C2EYnA'\n",
    "CONSUMER_SECRET = '2DbQTsvIptkPTdaUcos8DDvQH9fzO0hNjJpUT2uVzQ'\n",
    "ACCESS_TOKEN = '7319442-EDm4CPxL7W4KkZcGWRMJNVHp88W5OH9vgblu898fg'\n",
    "ACCESS_SECRET = '5ZxJSbqXhG7uhgXzTFWf9XhkfsxxinlPRXyDTzbA9w'"
   ]
  },
  {
   "cell_type": "code",
   "execution_count": 3,
   "metadata": {},
   "outputs": [
    {
     "data": {
      "text/plain": [
       "dict_keys(['created_at', 'id', 'id_str', 'text', 'display_text_range', 'source', 'truncated', 'in_reply_to_status_id', 'in_reply_to_status_id_str', 'in_reply_to_user_id', 'in_reply_to_user_id_str', 'in_reply_to_screen_name', 'user', 'geo', 'coordinates', 'place', 'contributors', 'is_quote_status', 'extended_tweet', 'quote_count', 'reply_count', 'retweet_count', 'favorite_count', 'entities', 'favorited', 'retweeted', 'possibly_sensitive', 'filter_level', 'lang', 'timestamp_ms'])"
      ]
     },
     "execution_count": 3,
     "metadata": {},
     "output_type": "execute_result"
    }
   ],
   "source": [
    "auth=twitter.OAuth(\n",
    "    consumer_key=CONSUMER_KEY,\n",
    "    consumer_secret=CONSUMER_SECRET,\n",
    "    token=ACCESS_TOKEN,\n",
    "    token_secret=ACCESS_SECRET,\n",
    ")\n",
    "\n",
    "status_stream = twitter.TwitterStream(auth=auth).statuses\n",
    "next(status_stream.sample()).keys()"
   ]
  },
  {
   "cell_type": "code",
   "execution_count": 4,
   "metadata": {},
   "outputs": [
    {
     "name": "stdout",
     "output_type": "stream",
     "text": [
      "!\n",
      "['just', 'finished', 'a', 'pay', 'per', 'minute', 'skype', 'show', 'on', 'skyprivate', 'book', 'a', 'private', 'session', 'at', 'my', 'profile']\n",
      "['dr', 'fizakhan', 'yasirameer17', 'keep', 'up', 'the', 'good', 'work']\n",
      "['i', 'sat', 'next', 'to', 'this', 'white', 'lady', 'when', 'there', 'were', 'other', 'empty', 'seats', 'as', 'a', 'powermove', 'establishing', 'dominance', 'is', 'vital']\n"
     ]
    }
   ],
   "source": [
    "RE_URL = re.compile(r'(http|ftp|https)://([\\w_-]+(?:(?:\\.[\\w_-]+)+))([\\w.,@?^=%&:/~+#-]*[\\w@?^=%&/~+#-])?')\n",
    "RE_WHITESPACE = re.compile(r'\\s+')\n",
    "\n",
    "def strip_accents(s):\n",
    "     return ''.join(c for c in unicodedata.normalize('NFD', s)\n",
    "                    if unicodedata.category(c) != 'Mn')\n",
    "\n",
    "class TokensYielder(object):\n",
    "    def __init__(self, tweet_count, stream):\n",
    "        self.tweet_count = tweet_count\n",
    "        self.stream = stream\n",
    "\n",
    "    def __iter__(self):\n",
    "        print('!')\n",
    "        count = self.tweet_count\n",
    "        for tweet in self.stream:\n",
    "            if tweet.get('lang') != 'en':\n",
    "                continue\n",
    "            text = tweet['text']\n",
    "            text = html.unescape(text)\n",
    "            text = RE_WHITESPACE.sub(' ', text)\n",
    "            text = RE_URL.sub(' ', text)\n",
    "            text = strip_accents(text)\n",
    "            text = ''.join(ch for ch in text if ord(ch) < 128)\n",
    "            if text.startswith('RT '):\n",
    "                text = text[3:]\n",
    "            text = text.strip()\n",
    "            if text:\n",
    "                yield text_to_word_sequence(text)\n",
    "                count -= 1\n",
    "                if count <= 0:\n",
    "                    break\n",
    "\n",
    "for t in TokensYielder(3, twitter.TwitterStream(auth=auth).statuses.sample()):\n",
    "    print(t)"
   ]
  },
  {
   "cell_type": "code",
   "execution_count": 7,
   "metadata": {},
   "outputs": [
    {
     "name": "stdout",
     "output_type": "stream",
     "text": [
      "!\n"
     ]
    }
   ],
   "source": [
    "tweets = list(TokensYielder(70000, twitter.TwitterStream(auth=auth).statuses.sample()))"
   ]
  },
  {
   "cell_type": "code",
   "execution_count": 8,
   "metadata": {},
   "outputs": [],
   "source": [
    "model = gensim.models.Word2Vec(tweets, \n",
    "                               workers=5,\n",
    "                               min_count=2,\n",
    "                              )\n",
    "model.save('twitter_stream_w2v.model')"
   ]
  },
  {
   "cell_type": "code",
   "execution_count": 9,
   "metadata": {},
   "outputs": [
    {
     "data": {
      "text/plain": [
       "[('netflix', 0.2968651056289673),\n",
       " ('first', 0.28902947902679443),\n",
       " ('dont', 0.2338215410709381),\n",
       " ('theres', 0.19787171483039856),\n",
       " ('one', 0.19752034544944763)]"
      ]
     },
     "execution_count": 9,
     "metadata": {},
     "output_type": "execute_result"
    }
   ],
   "source": [
    "model.wv.most_similar(positive=['love'], topn=5)"
   ]
  },
  {
   "cell_type": "code",
   "execution_count": null,
   "metadata": {},
   "outputs": [],
   "source": []
  }
 ],
 "metadata": {
  "kernelspec": {
   "display_name": "Python 3",
   "language": "python",
   "name": "python3"
  },
  "language_info": {
   "codemirror_mode": {
    "name": "ipython",
    "version": 3
   },
   "file_extension": ".py",
   "mimetype": "text/x-python",
   "name": "python",
   "nbconvert_exporter": "python",
   "pygments_lexer": "ipython3",
   "version": "3.6.7"
  }
 },
 "nbformat": 4,
 "nbformat_minor": 1
}
