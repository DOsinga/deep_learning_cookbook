{
 "cells": [
  {
   "cell_type": "code",
   "execution_count": 1,
   "metadata": {},
   "outputs": [
    {
     "ename": "ModuleNotFoundError",
     "evalue": "No module named 'twitter'",
     "output_type": "error",
     "traceback": [
      "\u001b[0;31m---------------------------------------------------------------------------\u001b[0m",
      "\u001b[0;31mModuleNotFoundError\u001b[0m                       Traceback (most recent call last)",
      "\u001b[0;32m<ipython-input-1-528edabead72>\u001b[0m in \u001b[0;36m<module>\u001b[0;34m()\u001b[0m\n\u001b[1;32m      1\u001b[0m \u001b[0;32mimport\u001b[0m \u001b[0mrandom\u001b[0m\u001b[0;34m\u001b[0m\u001b[0;34m\u001b[0m\u001b[0m\n\u001b[0;32m----> 2\u001b[0;31m \u001b[0;32mimport\u001b[0m \u001b[0mtwitter\u001b[0m\u001b[0;34m\u001b[0m\u001b[0;34m\u001b[0m\u001b[0m\n\u001b[0m\u001b[1;32m      3\u001b[0m \u001b[0;32mimport\u001b[0m \u001b[0memoji\u001b[0m\u001b[0;34m\u001b[0m\u001b[0;34m\u001b[0m\u001b[0m\n\u001b[1;32m      4\u001b[0m \u001b[0;32mimport\u001b[0m \u001b[0mgensim\u001b[0m\u001b[0;34m\u001b[0m\u001b[0;34m\u001b[0m\u001b[0m\n\u001b[1;32m      5\u001b[0m \u001b[0;32mimport\u001b[0m \u001b[0municodedata\u001b[0m\u001b[0;34m\u001b[0m\u001b[0;34m\u001b[0m\u001b[0m\n",
      "\u001b[0;31mModuleNotFoundError\u001b[0m: No module named 'twitter'"
     ]
    }
   ],
   "source": [
    "import random\n",
    "import twitter\n",
    "import emoji\n",
    "import gensim\n",
    "import unicodedata\n",
    "import html\n",
    "from keras.preprocessing.text import text_to_word_sequence\n",
    "import re"
   ]
  },
  {
   "cell_type": "code",
   "execution_count": 2,
   "metadata": {
    "collapsed": true
   },
   "outputs": [],
   "source": [
    "# Fill these in!\n",
    "\n",
    "CONSUMER_KEY = 'xbMuxcJpRTiVGt2C2EYnA'\n",
    "CONSUMER_SECRET = '2DbQTsvIptkPTdaUcos8DDvQH9fzO0hNjJpUT2uVzQ'\n",
    "ACCESS_TOKEN = '7319442-EDm4CPxL7W4KkZcGWRMJNVHp88W5OH9vgblu898fg'\n",
    "ACCESS_SECRET = '5ZxJSbqXhG7uhgXzTFWf9XhkfsxxinlPRXyDTzbA9w'"
   ]
  },
  {
   "cell_type": "code",
   "execution_count": 13,
   "metadata": {},
   "outputs": [
    {
     "data": {
      "text/plain": [
       "dict_keys(['source', 'in_reply_to_status_id', 'favorite_count', 'place', 'created_at', 'id', 'favorited', 'retweet_count', 'in_reply_to_user_id_str', 'display_text_range', 'in_reply_to_screen_name', 'contributors', 'in_reply_to_user_id', 'truncated', 'lang', 'coordinates', 'retweeted', 'timestamp_ms', 'id_str', 'text', 'is_quote_status', 'user', 'in_reply_to_status_id_str', 'filter_level', 'entities', 'geo'])"
      ]
     },
     "execution_count": 13,
     "metadata": {},
     "output_type": "execute_result"
    }
   ],
   "source": [
    "auth=twitter.OAuth(\n",
    "    consumer_key=CONSUMER_KEY,\n",
    "    consumer_secret=CONSUMER_SECRET,\n",
    "    token=ACCESS_TOKEN,\n",
    "    token_secret=ACCESS_SECRET,\n",
    ")\n",
    "\n",
    "status_stream = twitter.TwitterStream(auth=auth).statuses\n",
    "next(status_stream.sample()).keys()"
   ]
  },
  {
   "cell_type": "code",
   "execution_count": 41,
   "metadata": {},
   "outputs": [
    {
     "name": "stdout",
     "output_type": "stream",
     "text": [
      "!\n",
      "['ico', 'is', 'open', 'to', 'investors']\n",
      "['louisegrimmer', 'the', 'grocery', 'dr', 'thehenryjones', 'utas', 'tasmanianretail', 'so', 'excited']\n",
      "['itscaasho', 'say', 'wallahi', \"he's\", 'talking', 'to', 'a', 'dead', 'dog', 'loooool']\n"
     ]
    }
   ],
   "source": [
    "RE_URL = re.compile(r'(http|ftp|https)://([\\w_-]+(?:(?:\\.[\\w_-]+)+))([\\w.,@?^=%&:/~+#-]*[\\w@?^=%&/~+#-])?')\n",
    "RE_WHITESPACE = re.compile(r'\\s+')\n",
    "\n",
    "def strip_accents(s):\n",
    "     return ''.join(c for c in unicodedata.normalize('NFD', s)\n",
    "                    if unicodedata.category(c) != 'Mn')\n",
    "\n",
    "class TokensYielder(object):\n",
    "    def __init__(self, tweet_count, stream):\n",
    "        self.tweet_count = tweet_count\n",
    "        self.stream = stream\n",
    "\n",
    "    def __iter__(self):\n",
    "        print('!')\n",
    "        count = self.tweet_count\n",
    "        for tweet in self.stream:\n",
    "            if tweet.get('lang') != 'en':\n",
    "                continue\n",
    "            text = tweet['text']\n",
    "            text = html.unescape(text)\n",
    "            text = RE_WHITESPACE.sub(' ', text)\n",
    "            text = RE_URL.sub(' ', text)\n",
    "            text = strip_accents(text)\n",
    "            text = ''.join(ch for ch in text if ord(ch) < 128)\n",
    "            if text.startswith('RT '):\n",
    "                text = text[3:]\n",
    "            text = text.strip()\n",
    "            if text:\n",
    "                yield text_to_word_sequence(text)\n",
    "                count -= 1\n",
    "                if count <= 0:\n",
    "                    break\n",
    "\n",
    "for t in TokensYielder(3, twitter.TwitterStream(auth=auth).statuses.sample()):\n",
    "    print(t)"
   ]
  },
  {
   "cell_type": "code",
   "execution_count": 58,
   "metadata": {},
   "outputs": [
    {
     "name": "stdout",
     "output_type": "stream",
     "text": [
      "!\n"
     ]
    }
   ],
   "source": [
    "tweets += list(TokensYielder(70000, twitter.TwitterStream(auth=auth).statuses.sample()))"
   ]
  },
  {
   "cell_type": "code",
   "execution_count": 59,
   "metadata": {},
   "outputs": [],
   "source": [
    "model = gensim.models.Word2Vec(tweets, \n",
    "                               workers=5,\n",
    "                               min_count=2,\n",
    "                              )\n",
    "model.save('twitter_stream_w2v.model')"
   ]
  },
  {
   "cell_type": "code",
   "execution_count": 72,
   "metadata": {},
   "outputs": [
    {
     "data": {
      "text/plain": [
       "[('hate', 0.7243724465370178),\n",
       " ('loved', 0.7227891087532043),\n",
       " ('453', 0.707709789276123),\n",
       " ('melanin', 0.7069753408432007),\n",
       " ('appreciate', 0.696381688117981)]"
      ]
     },
     "execution_count": 72,
     "metadata": {},
     "output_type": "execute_result"
    }
   ],
   "source": [
    "model.wv.most_similar(positive=['love'], topn=5)"
   ]
  },
  {
   "cell_type": "code",
   "execution_count": null,
   "metadata": {
    "collapsed": true
   },
   "outputs": [],
   "source": []
  }
 ],
 "metadata": {
  "kernelspec": {
   "display_name": "Python 3",
   "language": "python",
   "name": "python3"
  },
  "language_info": {
   "codemirror_mode": {
    "name": "ipython",
    "version": 3
   },
   "file_extension": ".py",
   "mimetype": "text/x-python",
   "name": "python",
   "nbconvert_exporter": "python",
   "pygments_lexer": "ipython3",
   "version": "3.6.7"
  }
 },
 "nbformat": 4,
 "nbformat_minor": 1
}
