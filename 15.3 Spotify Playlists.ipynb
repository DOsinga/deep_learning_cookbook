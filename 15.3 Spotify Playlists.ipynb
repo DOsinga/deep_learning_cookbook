{
 "cells": [
  {
   "cell_type": "code",
   "execution_count": 1,
   "metadata": {},
   "outputs": [],
   "source": [
    "import spotipy\n",
    "from spotipy import util\n",
    "from spotipy.client import SpotifyException\n",
    "from collections import Counter\n",
    "from gensim.utils import tokenize\n",
    "import time\n",
    "import tqdm\n",
    "import json"
   ]
  },
  {
   "cell_type": "code",
   "execution_count": 2,
   "metadata": {},
   "outputs": [],
   "source": [
    "CLIENT_ID = '9d4442847caf4c278a9625e51438e8aa'\n",
    "CLIENT_SECRET = '13b8ef1376cf4b7e98e356f43c1ad9cc'\n",
    "USER_ID = 'DOsinga'"
   ]
  },
  {
   "cell_type": "code",
   "execution_count": 3,
   "metadata": {},
   "outputs": [
    {
     "name": "stdout",
     "output_type": "stream",
     "text": [
      "\n",
      "\n",
      "            User authentication requires interaction with your\n",
      "            web browser. Once you enter your credentials and\n",
      "            give authorization, you will be redirected to\n",
      "            a url.  Paste that url you were directed to to\n",
      "            complete the authorization.\n",
      "\n",
      "        \n",
      "Opened https://accounts.spotify.com/authorize?client_id=9d4442847caf4c278a9625e51438e8aa&response_type=code&redirect_uri=http%3A%2F%2F127.0.0.1%3A8000%2Fcallback in your browser\n",
      "\n",
      "\n",
      "Enter the URL you were redirected to: http://127.0.0.1:8000/callback?code=AQA34FKxXeRgFfp1yAquo4j9chV3fwxxgrbrpxcJQ_KsYf-HpmcgcsmloEaCA7eh9coZxHNza43Qy52eYnZWMJXFUoZbq6Qbqinz-2Pns-CsSci6-4yfuymDtlaO6_WB7fLNLTvWqr4kF6D-iH8Kq4zz3lK5crB9kKkDGxJcECmN5Wn9GMLkhRUB88HMHFdTfoGcJov6\n",
      "\n",
      "\n"
     ]
    }
   ],
   "source": [
    "token = util.prompt_for_user_token(USER_ID, '',\n",
    "                                   client_id=CLIENT_ID, client_secret=CLIENT_SECRET,\n",
    "                                   redirect_uri='http://127.0.0.1:8000/callback')\n",
    "session = spotipy.Spotify(auth=token)\n"
   ]
  },
  {
   "cell_type": "code",
   "execution_count": 4,
   "metadata": {},
   "outputs": [
    {
     "data": {
      "text/plain": [
       "{'collaborative': False,\n",
       " 'external_urls': {'spotify': 'https://open.spotify.com/playlist/37i9dQZF1DX1gRalH1mWrP'},\n",
       " 'href': 'https://api.spotify.com/v1/playlists/37i9dQZF1DX1gRalH1mWrP',\n",
       " 'id': '37i9dQZF1DX1gRalH1mWrP',\n",
       " 'images': [{'height': None,\n",
       "   'url': 'https://pl.scdn.co/images/pl/default/2f02947f1a4acbd139ca82b3288c82e29b6b70bd',\n",
       "   'width': None}],\n",
       " 'name': 'Summer Hits',\n",
       " 'owner': {'display_name': 'Spotify',\n",
       "  'external_urls': {'spotify': 'https://open.spotify.com/user/spotify'},\n",
       "  'href': 'https://api.spotify.com/v1/users/spotify',\n",
       "  'id': 'spotify',\n",
       "  'type': 'user',\n",
       "  'uri': 'spotify:user:spotify'},\n",
       " 'primary_color': None,\n",
       " 'public': None,\n",
       " 'snapshot_id': 'MTUzNzg4ODMxNiwwMDAwMDA0MTAwMDAwMTY2MTE0OTZiZTMwMDAwMDE2NTQ1MzYyZDEz',\n",
       " 'tracks': {'href': 'https://api.spotify.com/v1/playlists/37i9dQZF1DX1gRalH1mWrP/tracks',\n",
       "  'total': 80},\n",
       " 'type': 'playlist',\n",
       " 'uri': 'spotify:user:spotify:playlist:37i9dQZF1DX1gRalH1mWrP'}"
      ]
     },
     "execution_count": 4,
     "metadata": {},
     "output_type": "execute_result"
    }
   ],
   "source": [
    "def find_playlists(session, w, max_count=5000):\n",
    "    try:\n",
    "        res = session.search(w, limit=50, type='playlist')\n",
    "        while res:\n",
    "            for playlist in res['playlists']['items']:\n",
    "                yield playlist\n",
    "                max_count -= 1\n",
    "                if max_count == 0:\n",
    "                    raise StopIteration\n",
    "            tries = 3\n",
    "            while tries > 0:\n",
    "                try:\n",
    "                    res = session.next(res['playlists'])\n",
    "                    tries = 0\n",
    "                except SpotifyException as e:\n",
    "                    tries -= 1\n",
    "                    time.sleep(0.2)\n",
    "                    if tries == 0:\n",
    "                        raise\n",
    "    except SpotifyException as e:\n",
    "        status = e.http_status\n",
    "        if status == 404:\n",
    "            raise StopIteration\n",
    "        raise\n",
    "\n",
    "for pl in find_playlists(session, 'summer'):\n",
    "    break\n",
    "\n",
    "pl"
   ]
  },
  {
   "cell_type": "code",
   "execution_count": 5,
   "metadata": {},
   "outputs": [],
   "source": [
    "word_counts = Counter({'a': 1})\n",
    "playlists = {}\n",
    "words_seen = set()\n",
    "playlists = {}\n",
    "count = 0\n",
    "dupes = 0"
   ]
  },
  {
   "cell_type": "code",
   "execution_count": 6,
   "metadata": {},
   "outputs": [
    {
     "name": "stdout",
     "output_type": "stream",
     "text": [
      "word> a\n",
      "retrying ...1secs\n",
      "retrying ...1secs\n"
     ]
    },
    {
     "name": "stderr",
     "output_type": "stream",
     "text": [
      "/home/ohtamans/.pyenv/versions/3.6.7/envs/cookbook/lib/python3.6/site-packages/ipykernel_launcher.py:6: DeprecationWarning: generator 'find_playlists' raised StopIteration\n",
      "  \n"
     ]
    },
    {
     "name": "stdout",
     "output_type": "stream",
     "text": [
      "word> is\n",
      "word> this\n",
      "word> the\n",
      "word> of\n",
      "retrying ...1secs\n",
      "word> best\n",
      "word> s\n",
      "retrying ...1secs\n",
      "word> hits\n",
      "word> top\n",
      "word> pop\n",
      "retrying ...1secs\n",
      "word> music\n",
      "word> and\n",
      "retrying ...1secs\n",
      "word> playlist\n",
      "retrying ...1secs\n",
      "word> love\n",
      "retrying ...1secs\n",
      "retrying ...1secs\n",
      "word> i\n",
      "retrying ...1secs\n",
      "retrying ...1secs\n",
      "word> you\n",
      "word> to\n",
      "word> for\n",
      "retrying ...1secs\n",
      "word> in\n",
      "word> me\n",
      "retrying ...1secs\n",
      "word> my\n",
      "word> soundtrack\n",
      "retrying ...1secs\n",
      "word> all\n",
      "word> it\n",
      "retrying ...1secs\n",
      "word> on\n",
      "word> dance\n",
      "retrying ...1secs\n",
      "word> rap\n",
      "word> party\n",
      "word> mix\n",
      "retrying ...1secs\n",
      "word> hop\n",
      "retrying ...1secs\n",
      "retrying ...1secs\n"
     ]
    }
   ],
   "source": [
    "while len(playlists) < 100000:\n",
    "    for word, _ in word_counts.most_common():\n",
    "        if not word in words_seen:\n",
    "            words_seen.add(word)\n",
    "            print('word>', word)\n",
    "            for playlist in find_playlists(session, word):\n",
    "                if playlist['id'] in playlists:\n",
    "                    dupes += 1\n",
    "                elif playlist['name'] and playlist['owner']:\n",
    "                    playlists[playlist['id']] = {\n",
    "                      'owner': playlist['owner']['id'],\n",
    "                      'name': playlist['name'],\n",
    "                      'id': playlist['id'],\n",
    "                    }\n",
    "                    count += 1\n",
    "                    for token in tokenize(playlist['name'], lowercase=True):\n",
    "                        word_counts[token] += 1\n",
    "            break"
   ]
  },
  {
   "cell_type": "code",
   "execution_count": 7,
   "metadata": {},
   "outputs": [],
   "source": [
    "def track_yielder(session, playlist):\n",
    "    res = session.user_playlist_tracks(playlist['owner'], playlist['id'],\n",
    "              fields='items(track(id, name, artists(name, id), duration_ms)),next')\n",
    "    while res:\n",
    "        for track in res['items']:\n",
    "            if track['track']:\n",
    "                yield track['track']\n",
    "        tries = 3\n",
    "        while tries > 0:\n",
    "            try:\n",
    "                res = session.next(res)\n",
    "                if not res or  not res.get('items'):\n",
    "                    raise StopIteration\n",
    "                tries = 0\n",
    "            except SpotifyException as e:\n",
    "                if 400 <= e.http_status <= 499:\n",
    "                    raise StopIteration\n",
    "                tries -= 1\n",
    "                time.sleep(1)\n",
    "                if tries == 0:\n",
    "                    raise e\n"
   ]
  },
  {
   "cell_type": "code",
   "execution_count": 14,
   "metadata": {},
   "outputs": [
    {
     "name": "stderr",
     "output_type": "stream",
     "text": [
      "\n",
      "  0%|          | 0/102412 [00:00<?, ?it/s]\u001b[A/home/ohtamans/.pyenv/versions/3.6.7/envs/cookbook/lib/python3.6/site-packages/ipykernel_launcher.py:17: DeprecationWarning: generator 'track_yielder' raised StopIteration\n",
      "\n",
      "  0%|          | 1/102412 [00:00<4:48:42,  5.91it/s]\u001b[A\n",
      "  0%|          | 3/102412 [00:00<3:00:33,  9.45it/s]\u001b[A\n",
      "  0%|          | 5/102412 [00:00<2:40:44, 10.62it/s]\u001b[A\n",
      "  0%|          | 7/102412 [00:00<2:31:53, 11.24it/s]\u001b[A\n",
      "  0%|          | 9/102412 [00:00<2:33:04, 11.15it/s]\u001b[A\n",
      "  0%|          | 11/102412 [00:00<2:27:06, 11.60it/s]\u001b[A\n",
      "  0%|          | 13/102412 [00:01<2:26:12, 11.67it/s]\u001b[A\n",
      "  0%|          | 15/102412 [00:01<2:21:26, 12.07it/s]\u001b[A\n",
      "  0%|          | 17/102412 [00:01<2:21:48, 12.03it/s]\u001b[A\n",
      "  0%|          | 19/102412 [00:01<2:20:26, 12.15it/s]\u001b[A\n",
      "  0%|          | 21/102412 [00:01<2:19:21, 12.25it/s]\u001b[A\n",
      "  0%|          | 23/102412 [00:02<2:32:53, 11.16it/s]\u001b[A\n",
      "  0%|          | 25/102412 [00:02<2:33:23, 11.13it/s]\u001b[A\n",
      "  0%|          | 27/102412 [00:02<2:35:01, 11.01it/s]\u001b[A\n",
      "  0%|          | 30/102412 [00:02<2:28:31, 11.49it/s]\u001b[A\n",
      "  0%|          | 32/102412 [00:02<2:25:47, 11.70it/s]\u001b[A\n",
      "  0%|          | 34/102412 [00:02<2:26:26, 11.65it/s]\u001b[A\n",
      "  0%|          | 36/102412 [00:03<2:24:46, 11.79it/s]\u001b[A\n",
      "  0%|          | 38/102412 [00:03<2:28:41, 11.47it/s]\u001b[A\n",
      "  0%|          | 40/102412 [00:03<2:29:11, 11.44it/s]\u001b[A\n",
      "  0%|          | 42/102412 [00:03<2:37:15, 10.85it/s]\u001b[A\n",
      "  0%|          | 43/102412 [00:03<2:37:34, 10.83it/s]\u001b[A\n",
      "  0%|          | 45/102412 [00:04<2:35:25, 10.98it/s]Exception in thread Thread-6:\n",
      "Traceback (most recent call last):\n",
      "  File \"/home/ohtamans/.pyenv/versions/3.6.7/lib/python3.6/threading.py\", line 916, in _bootstrap_inner\n",
      "    self.run()\n",
      "  File \"/home/ohtamans/.pyenv/versions/3.6.7/envs/cookbook/lib/python3.6/site-packages/tqdm/_tqdm.py\", line 144, in run\n",
      "    for instance in self.tqdm_cls._instances:\n",
      "  File \"/home/ohtamans/.pyenv/versions/3.6.7/lib/python3.6/_weakrefset.py\", line 60, in __iter__\n",
      "    for itemref in self.data:\n",
      "RuntimeError: Set changed size during iteration\n",
      "\n",
      "  1%|          | 522/102412 [01:03<3:25:54,  8.25it/s]"
     ]
    },
    {
     "name": "stdout",
     "output_type": "stream",
     "text": [
      "retrying ...2secs\n",
      "retrying ...1secs\n"
     ]
    },
    {
     "name": "stderr",
     "output_type": "stream",
     "text": [
      "  1%|          | 589/102412 [01:13<3:32:32,  7.98it/s]"
     ]
    },
    {
     "name": "stdout",
     "output_type": "stream",
     "text": [
      "retrying ...2secs\n",
      "retrying ...1secs\n"
     ]
    },
    {
     "name": "stderr",
     "output_type": "stream",
     "text": [
      "  1%|          | 649/102412 [01:23<3:37:31,  7.80it/s]"
     ]
    },
    {
     "name": "stdout",
     "output_type": "stream",
     "text": [
      "retrying ...1secs\n",
      "retrying ...1secs\n"
     ]
    },
    {
     "name": "stderr",
     "output_type": "stream",
     "text": [
      "  1%|▏         | 1534/102412 [03:12<3:31:15,  7.96it/s]"
     ]
    },
    {
     "name": "stdout",
     "output_type": "stream",
     "text": [
      "retrying ...3secs\n",
      "retrying ...1secs\n"
     ]
    },
    {
     "name": "stderr",
     "output_type": "stream",
     "text": [
      "  2%|▏         | 1597/102412 [03:22<3:32:51,  7.89it/s]\n"
     ]
    },
    {
     "ename": "SpotifyException",
     "evalue": "http status: 404, code:-1 - https://api.spotify.com/v1/users/?limit=100&offset=0&fields=items%28track%28id%2C+name%2C+artists%28name%2C+id%29%2C+duration_ms%29%29%2Cnext#1bigsister/playlists/3PBun0fKZkXzcjD1y2ZHWV/tracks:\n Service not found",
     "output_type": "error",
     "traceback": [
      "\u001b[0;31m---------------------------------------------------------------------------\u001b[0m",
      "\u001b[0;31mHTTPError\u001b[0m                                 Traceback (most recent call last)",
      "\u001b[0;32m~/.pyenv/versions/3.6.7/envs/cookbook/lib/python3.6/site-packages/spotipy/client.py\u001b[0m in \u001b[0;36m_internal_call\u001b[0;34m(self, method, url, payload, params)\u001b[0m\n\u001b[1;32m    118\u001b[0m         \u001b[0;32mtry\u001b[0m\u001b[0;34m:\u001b[0m\u001b[0;34m\u001b[0m\u001b[0;34m\u001b[0m\u001b[0m\n\u001b[0;32m--> 119\u001b[0;31m             \u001b[0mr\u001b[0m\u001b[0;34m.\u001b[0m\u001b[0mraise_for_status\u001b[0m\u001b[0;34m(\u001b[0m\u001b[0;34m)\u001b[0m\u001b[0;34m\u001b[0m\u001b[0;34m\u001b[0m\u001b[0m\n\u001b[0m\u001b[1;32m    120\u001b[0m         \u001b[0;32mexcept\u001b[0m\u001b[0;34m:\u001b[0m\u001b[0;34m\u001b[0m\u001b[0;34m\u001b[0m\u001b[0m\n",
      "\u001b[0;32m~/.pyenv/versions/3.6.7/envs/cookbook/lib/python3.6/site-packages/requests/models.py\u001b[0m in \u001b[0;36mraise_for_status\u001b[0;34m(self)\u001b[0m\n\u001b[1;32m    934\u001b[0m         \u001b[0;32mif\u001b[0m \u001b[0mhttp_error_msg\u001b[0m\u001b[0;34m:\u001b[0m\u001b[0;34m\u001b[0m\u001b[0;34m\u001b[0m\u001b[0m\n\u001b[0;32m--> 935\u001b[0;31m             \u001b[0;32mraise\u001b[0m \u001b[0mHTTPError\u001b[0m\u001b[0;34m(\u001b[0m\u001b[0mhttp_error_msg\u001b[0m\u001b[0;34m,\u001b[0m \u001b[0mresponse\u001b[0m\u001b[0;34m=\u001b[0m\u001b[0mself\u001b[0m\u001b[0;34m)\u001b[0m\u001b[0;34m\u001b[0m\u001b[0;34m\u001b[0m\u001b[0m\n\u001b[0m\u001b[1;32m    936\u001b[0m \u001b[0;34m\u001b[0m\u001b[0m\n",
      "\u001b[0;31mHTTPError\u001b[0m: 404 Client Error: Not Found for url: https://api.spotify.com/v1/users/?limit=100&offset=0&fields=items%28track%28id%2C+name%2C+artists%28name%2C+id%29%2C+duration_ms%29%29%2Cnext#1bigsister/playlists/3PBun0fKZkXzcjD1y2ZHWV/tracks",
      "\nDuring handling of the above exception, another exception occurred:\n",
      "\u001b[0;31mSpotifyException\u001b[0m                          Traceback (most recent call last)",
      "\u001b[0;32m<ipython-input-14-f982ebc82fc1>\u001b[0m in \u001b[0;36m<module>\u001b[0;34m()\u001b[0m\n\u001b[1;32m     15\u001b[0m             \u001b[0mfout_playlists\u001b[0m\u001b[0;34m.\u001b[0m\u001b[0mwrite\u001b[0m\u001b[0;34m(\u001b[0m\u001b[0mjson\u001b[0m\u001b[0;34m.\u001b[0m\u001b[0mdumps\u001b[0m\u001b[0;34m(\u001b[0m\u001b[0mplaylist\u001b[0m\u001b[0;34m)\u001b[0m \u001b[0;34m+\u001b[0m \u001b[0;34m'\\n'\u001b[0m\u001b[0;34m)\u001b[0m\u001b[0;34m\u001b[0m\u001b[0;34m\u001b[0m\u001b[0m\n\u001b[1;32m     16\u001b[0m             \u001b[0mtrack_ids\u001b[0m \u001b[0;34m=\u001b[0m \u001b[0;34m[\u001b[0m\u001b[0;34m]\u001b[0m\u001b[0;34m\u001b[0m\u001b[0;34m\u001b[0m\u001b[0m\n\u001b[0;32m---> 17\u001b[0;31m             \u001b[0;32mfor\u001b[0m \u001b[0mtrack\u001b[0m \u001b[0;32min\u001b[0m \u001b[0mtrack_yielder\u001b[0m\u001b[0;34m(\u001b[0m\u001b[0msession\u001b[0m\u001b[0;34m,\u001b[0m \u001b[0mplaylist\u001b[0m\u001b[0;34m)\u001b[0m\u001b[0;34m:\u001b[0m\u001b[0;34m\u001b[0m\u001b[0;34m\u001b[0m\u001b[0m\n\u001b[0m\u001b[1;32m     18\u001b[0m                 \u001b[0mtrack_id\u001b[0m \u001b[0;34m=\u001b[0m \u001b[0mtrack\u001b[0m\u001b[0;34m[\u001b[0m\u001b[0;34m'id'\u001b[0m\u001b[0;34m]\u001b[0m\u001b[0;34m\u001b[0m\u001b[0;34m\u001b[0m\u001b[0m\n\u001b[1;32m     19\u001b[0m                 \u001b[0;32mif\u001b[0m \u001b[0;32mnot\u001b[0m \u001b[0mtrack_id\u001b[0m\u001b[0;34m:\u001b[0m\u001b[0;34m\u001b[0m\u001b[0;34m\u001b[0m\u001b[0m\n",
      "\u001b[0;32m<ipython-input-7-10e44bd482b8>\u001b[0m in \u001b[0;36mtrack_yielder\u001b[0;34m(session, playlist)\u001b[0m\n\u001b[1;32m      1\u001b[0m \u001b[0;32mdef\u001b[0m \u001b[0mtrack_yielder\u001b[0m\u001b[0;34m(\u001b[0m\u001b[0msession\u001b[0m\u001b[0;34m,\u001b[0m \u001b[0mplaylist\u001b[0m\u001b[0;34m)\u001b[0m\u001b[0;34m:\u001b[0m\u001b[0;34m\u001b[0m\u001b[0;34m\u001b[0m\u001b[0m\n\u001b[1;32m      2\u001b[0m     res = session.user_playlist_tracks(playlist['owner'], playlist['id'],\n\u001b[0;32m----> 3\u001b[0;31m               fields='items(track(id, name, artists(name, id), duration_ms)),next')\n\u001b[0m\u001b[1;32m      4\u001b[0m     \u001b[0;32mwhile\u001b[0m \u001b[0mres\u001b[0m\u001b[0;34m:\u001b[0m\u001b[0;34m\u001b[0m\u001b[0;34m\u001b[0m\u001b[0m\n\u001b[1;32m      5\u001b[0m         \u001b[0;32mfor\u001b[0m \u001b[0mtrack\u001b[0m \u001b[0;32min\u001b[0m \u001b[0mres\u001b[0m\u001b[0;34m[\u001b[0m\u001b[0;34m'items'\u001b[0m\u001b[0;34m]\u001b[0m\u001b[0;34m:\u001b[0m\u001b[0;34m\u001b[0m\u001b[0;34m\u001b[0m\u001b[0m\n",
      "\u001b[0;32m~/.pyenv/versions/3.6.7/envs/cookbook/lib/python3.6/site-packages/spotipy/client.py\u001b[0m in \u001b[0;36muser_playlist_tracks\u001b[0;34m(self, user, playlist_id, fields, limit, offset, market)\u001b[0m\n\u001b[1;32m    393\u001b[0m         return self._get(\"users/%s/playlists/%s/tracks\" % (user, plid),\n\u001b[1;32m    394\u001b[0m                          \u001b[0mlimit\u001b[0m\u001b[0;34m=\u001b[0m\u001b[0mlimit\u001b[0m\u001b[0;34m,\u001b[0m \u001b[0moffset\u001b[0m\u001b[0;34m=\u001b[0m\u001b[0moffset\u001b[0m\u001b[0;34m,\u001b[0m \u001b[0mfields\u001b[0m\u001b[0;34m=\u001b[0m\u001b[0mfields\u001b[0m\u001b[0;34m,\u001b[0m\u001b[0;34m\u001b[0m\u001b[0;34m\u001b[0m\u001b[0m\n\u001b[0;32m--> 395\u001b[0;31m                          market=market)\n\u001b[0m\u001b[1;32m    396\u001b[0m \u001b[0;34m\u001b[0m\u001b[0m\n\u001b[1;32m    397\u001b[0m     \u001b[0;32mdef\u001b[0m \u001b[0muser_playlist_create\u001b[0m\u001b[0;34m(\u001b[0m\u001b[0mself\u001b[0m\u001b[0;34m,\u001b[0m \u001b[0muser\u001b[0m\u001b[0;34m,\u001b[0m \u001b[0mname\u001b[0m\u001b[0;34m,\u001b[0m \u001b[0mpublic\u001b[0m\u001b[0;34m=\u001b[0m\u001b[0;32mTrue\u001b[0m\u001b[0;34m)\u001b[0m\u001b[0;34m:\u001b[0m\u001b[0;34m\u001b[0m\u001b[0;34m\u001b[0m\u001b[0m\n",
      "\u001b[0;32m~/.pyenv/versions/3.6.7/envs/cookbook/lib/python3.6/site-packages/spotipy/client.py\u001b[0m in \u001b[0;36m_get\u001b[0;34m(self, url, args, payload, **kwargs)\u001b[0m\n\u001b[1;32m    144\u001b[0m         \u001b[0;32mwhile\u001b[0m \u001b[0mretries\u001b[0m \u001b[0;34m>\u001b[0m \u001b[0;36m0\u001b[0m\u001b[0;34m:\u001b[0m\u001b[0;34m\u001b[0m\u001b[0;34m\u001b[0m\u001b[0m\n\u001b[1;32m    145\u001b[0m             \u001b[0;32mtry\u001b[0m\u001b[0;34m:\u001b[0m\u001b[0;34m\u001b[0m\u001b[0;34m\u001b[0m\u001b[0m\n\u001b[0;32m--> 146\u001b[0;31m                 \u001b[0;32mreturn\u001b[0m \u001b[0mself\u001b[0m\u001b[0;34m.\u001b[0m\u001b[0m_internal_call\u001b[0m\u001b[0;34m(\u001b[0m\u001b[0;34m'GET'\u001b[0m\u001b[0;34m,\u001b[0m \u001b[0murl\u001b[0m\u001b[0;34m,\u001b[0m \u001b[0mpayload\u001b[0m\u001b[0;34m,\u001b[0m \u001b[0mkwargs\u001b[0m\u001b[0;34m)\u001b[0m\u001b[0;34m\u001b[0m\u001b[0;34m\u001b[0m\u001b[0m\n\u001b[0m\u001b[1;32m    147\u001b[0m             \u001b[0;32mexcept\u001b[0m \u001b[0mSpotifyException\u001b[0m \u001b[0;32mas\u001b[0m \u001b[0me\u001b[0m\u001b[0;34m:\u001b[0m\u001b[0;34m\u001b[0m\u001b[0;34m\u001b[0m\u001b[0m\n\u001b[1;32m    148\u001b[0m                 \u001b[0mretries\u001b[0m \u001b[0;34m-=\u001b[0m \u001b[0;36m1\u001b[0m\u001b[0;34m\u001b[0m\u001b[0;34m\u001b[0m\u001b[0m\n",
      "\u001b[0;32m~/.pyenv/versions/3.6.7/envs/cookbook/lib/python3.6/site-packages/spotipy/client.py\u001b[0m in \u001b[0;36m_internal_call\u001b[0;34m(self, method, url, payload, params)\u001b[0m\n\u001b[1;32m    122\u001b[0m                 raise SpotifyException(r.status_code,\n\u001b[1;32m    123\u001b[0m                     \u001b[0;34m-\u001b[0m\u001b[0;36m1\u001b[0m\u001b[0;34m,\u001b[0m \u001b[0;34m'%s:\\n %s'\u001b[0m \u001b[0;34m%\u001b[0m \u001b[0;34m(\u001b[0m\u001b[0mr\u001b[0m\u001b[0;34m.\u001b[0m\u001b[0murl\u001b[0m\u001b[0;34m,\u001b[0m \u001b[0mr\u001b[0m\u001b[0;34m.\u001b[0m\u001b[0mjson\u001b[0m\u001b[0;34m(\u001b[0m\u001b[0;34m)\u001b[0m\u001b[0;34m[\u001b[0m\u001b[0;34m'error'\u001b[0m\u001b[0;34m]\u001b[0m\u001b[0;34m[\u001b[0m\u001b[0;34m'message'\u001b[0m\u001b[0;34m]\u001b[0m\u001b[0;34m)\u001b[0m\u001b[0;34m,\u001b[0m\u001b[0;34m\u001b[0m\u001b[0;34m\u001b[0m\u001b[0m\n\u001b[0;32m--> 124\u001b[0;31m                     headers=r.headers)\n\u001b[0m\u001b[1;32m    125\u001b[0m             \u001b[0;32melse\u001b[0m\u001b[0;34m:\u001b[0m\u001b[0;34m\u001b[0m\u001b[0;34m\u001b[0m\u001b[0m\n\u001b[1;32m    126\u001b[0m                 raise SpotifyException(r.status_code,\n",
      "\u001b[0;31mSpotifyException\u001b[0m: http status: 404, code:-1 - https://api.spotify.com/v1/users/?limit=100&offset=0&fields=items%28track%28id%2C+name%2C+artists%28name%2C+id%29%2C+duration_ms%29%29%2Cnext#1bigsister/playlists/3PBun0fKZkXzcjD1y2ZHWV/tracks:\n Service not found"
     ]
    }
   ],
   "source": [
    "import os\n",
    "import sqlite3\n",
    "\n",
    "if os.path.isfile('data/songs.db'):\n",
    "    os.remove('data/songs.db')\n",
    "conn = sqlite3.connect('data/songs.db')\n",
    "c = conn.cursor()\n",
    "c.execute('CREATE TABLE songs (id text primary key, name text, artist text)')\n",
    "c.execute('CREATE INDEX name_idx on songs(name)')\n",
    "\n",
    "tracks_seen = set()\n",
    "with open('data/playlists.ndjson', 'w') as fout_playlists:\n",
    "    with open('data/songs_ids.txt', 'w') as fout_song_ids:\n",
    "        for playlist in tqdm.tqdm(playlists.values()):\n",
    "            fout_playlists.write(json.dumps(playlist) + '\\n')\n",
    "            track_ids = []\n",
    "            for track in track_yielder(session, playlist):\n",
    "                track_id = track['id']\n",
    "                if not track_id:\n",
    "                    continue\n",
    "                if not track_id in tracks_seen:\n",
    "                    c.execute(\"INSERT INTO songs VALUES (?, ?, ?)\", \n",
    "                              (track['id'], track['name'], track['artists'][0]['name']))\n",
    "                track_ids.append(track_id)\n",
    "                tracks_seen.add(track_id)\n",
    "            fout_song_ids.write(' '.join(track_ids) + '\\n')\n",
    "            conn.commit()\n",
    "conn.commit()"
   ]
  },
  {
   "cell_type": "code",
   "execution_count": null,
   "metadata": {},
   "outputs": [],
   "source": []
  }
 ],
 "metadata": {
  "kernelspec": {
   "display_name": "Python 3",
   "language": "python",
   "name": "python3"
  }
 },
 "nbformat": 4,
 "nbformat_minor": 2
}
