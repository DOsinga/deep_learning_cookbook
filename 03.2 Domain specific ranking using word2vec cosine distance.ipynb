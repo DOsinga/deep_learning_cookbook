{
 "cells": [
  {
   "cell_type": "markdown",
   "metadata": {},
   "source": [
    "## Finding entity classes in embeddings\n",
    "\n",
    "In this notebook we're going to use embeddings to find entity classes and how they correlate with other things"
   ]
  },
  {
   "cell_type": "code",
   "execution_count": 1,
   "metadata": {},
   "outputs": [],
   "source": [
    "%matplotlib inline\n",
    "\n",
    "from sklearn import svm\n",
    "from tensorflow.keras.utils import get_file\n",
    "import os\n",
    "import gensim\n",
    "import numpy as np\n",
    "import random\n",
    "import requests\n",
    "import geopandas as gpd\n",
    "#from IPython.core.pylabtools import figsize\n",
    "import csv\n",
    "\n",
    "import matplotlib.pyplot\n",
    "matplotlib.pyplot.rcParams['figure.figsize'] = (12, 8)"
   ]
  },
  {
   "cell_type": "markdown",
   "metadata": {},
   "source": [
    "as before, let's load up the model"
   ]
  },
  {
   "cell_type": "code",
   "execution_count": 2,
   "metadata": {},
   "outputs": [],
   "source": [
    "MODEL = 'GoogleNews-vectors-negative300.bin'\n",
    "path = get_file(MODEL + '.gz', 'https://s3.amazonaws.com/dl4j-distribution/%s.gz' % MODEL)\n",
    "unzipped = os.path.join('generated', MODEL)\n",
    "if not os.path.isfile(unzipped):\n",
    "    with open(unzipped, 'wb') as fout:\n",
    "        zcat = subprocess.Popen(['zcat'],\n",
    "                          stdin=open(path),\n",
    "                          stdout=fout\n",
    "                         )\n",
    "        zcat.wait()"
   ]
  },
  {
   "cell_type": "markdown",
   "metadata": {},
   "source": [
    "Most similar to a bunch of countries are some other countries!"
   ]
  },
  {
   "cell_type": "code",
   "execution_count": 3,
   "metadata": {
    "scrolled": false
   },
   "outputs": [
    {
     "name": "stderr",
     "output_type": "stream",
     "text": [
      "/home/mitsuhisa.ohta/.pyenv/versions/3.6.7/envs/deep_learning_cookbook/lib/python3.6/site-packages/gensim/matutils.py:737: FutureWarning: Conversion of the second argument of issubdtype from `int` to `np.signedinteger` is deprecated. In future, it will be treated as `np.int64 == np.dtype(int).type`.\n",
      "  if np.issubdtype(vec.dtype, np.int):\n"
     ]
    },
    {
     "data": {
      "text/plain": [
       "[('Austria', 0.7461064457893372),\n",
       " ('German', 0.717875063419342),\n",
       " ('Germans', 0.6628649830818176),\n",
       " ('Switzerland', 0.6506868004798889),\n",
       " ('Hungary', 0.6504982709884644),\n",
       " ('Germnay', 0.6493481993675232),\n",
       " ('Netherlands', 0.6437495946884155),\n",
       " ('Cologne', 0.6430779695510864),\n",
       " ('symbol_RSTI', 0.6389946937561035),\n",
       " ('Annita_Kirsten', 0.634294867515564)]"
      ]
     },
     "execution_count": 3,
     "metadata": {},
     "output_type": "execute_result"
    }
   ],
   "source": [
    "model = gensim.models.KeyedVectors.load_word2vec_format(unzipped, binary=True)\n",
    "model.most_similar(positive=['Germany'])"
   ]
  },
  {
   "cell_type": "code",
   "execution_count": 4,
   "metadata": {
    "scrolled": false
   },
   "outputs": [
    {
     "data": {
      "text/plain": [
       "[('Braustolz_GmbH', 0.7545096278190613),\n",
       " ('DIARY_Economic_Indicators', 0.7334566712379456),\n",
       " ('##-##_#####_Burscheid', 0.7307889461517334),\n",
       " ('WKN_A#N#Y#_Symbol', 0.7260338664054871),\n",
       " ('Hoevelaken', 0.706748902797699),\n",
       " ('BMW_###si_1min_##.###secs', 0.7050351500511169),\n",
       " ('Primera_EUROPE', 0.6997409462928772),\n",
       " ('symbol_RSTI', 0.6925468444824219),\n",
       " ('Severin_Freund', 0.689895749092102),\n",
       " ('However_Joern_Lauterjung', 0.688573956489563)]"
      ]
     },
     "execution_count": 4,
     "metadata": {},
     "output_type": "execute_result"
    }
   ],
   "source": [
    "# unused in the book\n",
    "model.most_similar(positive=['Annita_Kirsten'])"
   ]
  },
  {
   "cell_type": "markdown",
   "metadata": {},
   "source": [
    "No we'll create a training set with countries and non countries and get a support vector machine to learn the difference."
   ]
  },
  {
   "cell_type": "code",
   "execution_count": 22,
   "metadata": {
    "collapsed": true
   },
   "outputs": [
    {
     "data": {
      "text/plain": [
       "[OrderedDict([('name', 'Canada'), ('cc', 'ca'), ('cc3', 'can')]),\n",
       " OrderedDict([('name', 'Turkmenistan'), ('cc', 'tm'), ('cc3', 'tkm')]),\n",
       " OrderedDict([('name', 'Ethiopia'), ('cc', 'et'), ('cc3', 'eth')]),\n",
       " OrderedDict([('name', 'Swaziland'), ('cc', 'sz'), ('cc3', 'swz')]),\n",
       " OrderedDict([('name', 'Czech_Republic'), ('cc', 'cz'), ('cc3', 'cze')]),\n",
       " OrderedDict([('name', 'Cameroon'), ('cc', 'cm'), ('cc3', 'cmr')]),\n",
       " OrderedDict([('name', 'UAE'), ('cc', 'ae'), ('cc3', 'are')]),\n",
       " OrderedDict([('name', 'Liberia'), ('cc', 'lr'), ('cc3', 'lbr')]),\n",
       " OrderedDict([('name', 'Netherlands'), ('cc', 'nl'), ('cc3', 'nld')]),\n",
       " OrderedDict([('name', 'East_Timor'), ('cc', 'tl'), ('cc3', 'tls')]),\n",
       " OrderedDict([('name', 'Tanzania'), ('cc', 'tz'), ('cc3', 'tza')]),\n",
       " OrderedDict([('name', 'Monaco'), ('cc', 'mc'), ('cc3', 'mco')]),\n",
       " OrderedDict([('name', 'Svalbard'), ('cc', 'sj'), ('cc3', 'sjm')]),\n",
       " OrderedDict([('name', 'Tajikistan'), ('cc', 'tj'), ('cc3', 'tjk')]),\n",
       " OrderedDict([('name', 'Turkey'), ('cc', 'tr'), ('cc3', 'tur')]),\n",
       " OrderedDict([('name', 'Afghanistan'), ('cc', 'af'), ('cc3', 'afg')]),\n",
       " OrderedDict([('name', 'France'), ('cc', 'fr'), ('cc3', 'fra')]),\n",
       " OrderedDict([('name', 'Slovakia'), ('cc', 'sk'), ('cc3', 'svk')]),\n",
       " OrderedDict([('name', 'Reunion'), ('cc', 're'), ('cc3', 'reu')]),\n",
       " OrderedDict([('name', 'Norway'), ('cc', 'no'), ('cc3', 'nor')]),\n",
       " OrderedDict([('name', 'Malawi'), ('cc', 'mw'), ('cc3', 'mwi')]),\n",
       " OrderedDict([('name', 'South_Africa'), ('cc', 'za'), ('cc3', 'zaf')]),\n",
       " OrderedDict([('name', 'Montenegro'), ('cc', 'xk'), ('cc3', 'mne')]),\n",
       " OrderedDict([('name', 'United_States'), ('cc', 'us'), ('cc3', 'usa')]),\n",
       " OrderedDict([('name', 'Bahrain'), ('cc', 'bh'), ('cc3', 'bhr')]),\n",
       " OrderedDict([('name', 'French_Guiana'), ('cc', 'gf'), ('cc3', 'guf')]),\n",
       " OrderedDict([('name', 'Libya'), ('cc', 'ly'), ('cc3', 'lby')]),\n",
       " OrderedDict([('name', 'Finland'), ('cc', 'fi'), ('cc3', 'fin')]),\n",
       " OrderedDict([('name', 'Papua'), ('cc', 'pg'), ('cc3', 'png')]),\n",
       " OrderedDict([('name', 'Portugal'), ('cc', 'pt'), ('cc3', 'prt')]),\n",
       " OrderedDict([('name', 'Cyprus'), ('cc', 'cy'), ('cc3', 'cyp')]),\n",
       " OrderedDict([('name', 'Malaysia'), ('cc', 'my'), ('cc3', 'mys')]),\n",
       " OrderedDict([('name', 'Dominican_Republic'), ('cc', 'do'), ('cc3', 'dom')]),\n",
       " OrderedDict([('name', 'Kuwait'), ('cc', 'kw'), ('cc3', 'kwt')]),\n",
       " OrderedDict([('name', 'Panama'), ('cc', 'pa'), ('cc3', 'pan')]),\n",
       " OrderedDict([('name', 'Madagascar'), ('cc', 'mg'), ('cc3', 'mdg')]),\n",
       " OrderedDict([('name', 'Luxembourg'), ('cc', 'lu'), ('cc3', 'lux')]),\n",
       " OrderedDict([('name', 'Bahamas'), ('cc', 'bs'), ('cc3', 'bhs')]),\n",
       " OrderedDict([('name', 'Ireland'), ('cc', 'ie'), ('cc3', 'irl')]),\n",
       " OrderedDict([('name', 'Nigeria'), ('cc', 'ng'), ('cc3', 'nga')]),\n",
       " OrderedDict([('name', 'Ecuador'), ('cc', 'ec'), ('cc3', 'ecu')]),\n",
       " OrderedDict([('name', 'Australia'), ('cc', 'au'), ('cc3', 'aus')]),\n",
       " OrderedDict([('name', 'Thailand'), ('cc', 'th'), ('cc3', 'tha')]),\n",
       " OrderedDict([('name', 'Belize'), ('cc', 'bz'), ('cc3', 'blz')]),\n",
       " OrderedDict([('name', 'Georgia'), ('cc', 'ge'), ('cc3', 'geo')]),\n",
       " OrderedDict([('name', 'Denmark'), ('cc', 'dk'), ('cc3', 'dnk')]),\n",
       " OrderedDict([('name', 'Philippines'), ('cc', 'ph'), ('cc3', 'phl')]),\n",
       " OrderedDict([('name', 'Moldova'), ('cc', 'md'), ('cc3', 'mda')]),\n",
       " OrderedDict([('name', 'Morocco'), ('cc', 'ma'), ('cc3', 'mar')]),\n",
       " OrderedDict([('name', 'Sierra_Leone'), ('cc', 'sl'), ('cc3', 'sle')]),\n",
       " OrderedDict([('name', 'Estonia'), ('cc', 'ee'), ('cc3', 'est')]),\n",
       " OrderedDict([('name', 'Kosovo'), ('cc', 'xk'), ('cc3', 'mne')]),\n",
       " OrderedDict([('name', 'Lebanon'), ('cc', 'lb'), ('cc3', 'lbn')]),\n",
       " OrderedDict([('name', 'Uzbekistan'), ('cc', 'uz'), ('cc3', 'uzb')]),\n",
       " OrderedDict([('name', 'Colombia'), ('cc', 'co'), ('cc3', 'col')]),\n",
       " OrderedDict([('name', 'Taiwan'), ('cc', 'tw'), ('cc3', 'twn')]),\n",
       " OrderedDict([('name', 'Fiji'), ('cc', 'fj'), ('cc3', 'fji')]),\n",
       " OrderedDict([('name', 'Barbados'), ('cc', 'bb'), ('cc3', 'brb')]),\n",
       " OrderedDict([('name', 'Qatar'), ('cc', 'qa'), ('cc3', 'qat')]),\n",
       " OrderedDict([('name', 'Italy'), ('cc', 'it'), ('cc3', 'ita')]),\n",
       " OrderedDict([('name', 'Sudan'), ('cc', 'sd'), ('cc3', 'sdn')]),\n",
       " OrderedDict([('name', 'Nepal'), ('cc', 'np'), ('cc3', 'npl')]),\n",
       " OrderedDict([('name', 'Maldives'), ('cc', 'mv'), ('cc3', 'mdv')]),\n",
       " OrderedDict([('name', 'Suriname'), ('cc', 'sr'), ('cc3', 'sur')]),\n",
       " OrderedDict([('name', 'Israel'), ('cc', 'il'), ('cc3', 'isr')]),\n",
       " OrderedDict([('name', 'Burkina_Faso'), ('cc', 'bf'), ('cc3', 'bfa')]),\n",
       " OrderedDict([('name', 'Austria'), ('cc', 'at'), ('cc3', 'aut')]),\n",
       " OrderedDict([('name', 'El_Salvador'), ('cc', 'sv'), ('cc3', 'slv')]),\n",
       " OrderedDict([('name', 'Zimbabwe'), ('cc', 'zw'), ('cc3', 'zwe')]),\n",
       " OrderedDict([('name', 'Jordan'), ('cc', 'jo'), ('cc3', 'jor')]),\n",
       " OrderedDict([('name', 'Eritrea'), ('cc', 'er'), ('cc3', 'eri')]),\n",
       " OrderedDict([('name', 'Bosnia'), ('cc', 'ba'), ('cc3', 'bih')]),\n",
       " OrderedDict([('name', 'Latvia'), ('cc', 'lv'), ('cc3', 'lva')]),\n",
       " OrderedDict([('name', 'Japan'), ('cc', 'jp'), ('cc3', 'jpn')]),\n",
       " OrderedDict([('name', 'Syria'), ('cc', 'sy'), ('cc3', 'syr')]),\n",
       " OrderedDict([('name', 'Mexico'), ('cc', 'mx'), ('cc3', 'mex')]),\n",
       " OrderedDict([('name', 'Serbia'), ('cc', 'rs'), ('cc3', 'srb')]),\n",
       " OrderedDict([('name', 'Congo'), ('cc', 'cd'), ('cc3', 'cod')]),\n",
       " OrderedDict([('name', 'Greece'), ('cc', 'gr'), ('cc3', 'grc')]),\n",
       " OrderedDict([('name', 'Paraguay'), ('cc', 'py'), ('cc3', 'pry')]),\n",
       " OrderedDict([('name', 'Botswana'), ('cc', 'bw'), ('cc3', 'bwa')]),\n",
       " OrderedDict([('name', 'Cayman_Islands'), ('cc', 'ky'), ('cc3', 'cym')]),\n",
       " OrderedDict([('name', 'Lithuania'), ('cc', 'lt'), ('cc3', 'ltu')]),\n",
       " OrderedDict([('name', 'Cambodia'), ('cc', 'kh'), ('cc3', 'khm')]),\n",
       " OrderedDict([('name', 'Aruba'), ('cc', 'aw'), ('cc3', 'abw')]),\n",
       " OrderedDict([('name', 'Argentina'), ('cc', 'ar'), ('cc3', 'arg')]),\n",
       " OrderedDict([('name', 'Bolivia'), ('cc', 'bo'), ('cc3', 'bol')]),\n",
       " OrderedDict([('name', 'Ghana'), ('cc', 'gh'), ('cc3', 'gha')]),\n",
       " OrderedDict([('name', 'Slovenia'), ('cc', 'si'), ('cc3', 'svn')]),\n",
       " OrderedDict([('name', 'Guatemala'), ('cc', 'gt'), ('cc3', 'gtm')]),\n",
       " OrderedDict([('name', 'Guinea'), ('cc', 'gn'), ('cc3', 'gin')]),\n",
       " OrderedDict([('name', 'Spain'), ('cc', 'es'), ('cc3', 'esp')]),\n",
       " OrderedDict([('name', 'Pakistan'), ('cc', 'pk'), ('cc3', 'pak')]),\n",
       " OrderedDict([('name', 'Oman'), ('cc', 'om'), ('cc3', 'omn')]),\n",
       " OrderedDict([('name', 'North_Korea'), ('cc', 'kp'), ('cc3', 'prk')]),\n",
       " OrderedDict([('name', 'Albania'), ('cc', 'al'), ('cc3', 'alb')]),\n",
       " OrderedDict([('name', 'Gabon'), ('cc', 'ga'), ('cc3', 'gab')]),\n",
       " OrderedDict([('name', 'Vatican'), ('cc', 'va'), ('cc3', 'vat')]),\n",
       " OrderedDict([('name', 'Samoa'), ('cc', 'ws'), ('cc3', 'wsm')]),\n",
       " OrderedDict([('name', 'Yemen'), ('cc', 'ye'), ('cc3', 'yem')]),\n",
       " OrderedDict([('name', 'Jamaica'), ('cc', 'jm'), ('cc3', 'jam')]),\n",
       " OrderedDict([('name', 'Greenland'), ('cc', 'gl'), ('cc3', 'grl')]),\n",
       " OrderedDict([('name', 'England'), ('cc', 'gb'), ('cc3', 'gbr')]),\n",
       " OrderedDict([('name', 'Ivory_Coast'), ('cc', 'ci'), ('cc3', 'civ')]),\n",
       " OrderedDict([('name', 'Guam'), ('cc', 'gu'), ('cc3', 'gum')]),\n",
       " OrderedDict([('name', 'India'), ('cc', 'in'), ('cc3', 'ind')]),\n",
       " OrderedDict([('name', 'Azerbaijan'), ('cc', 'az'), ('cc3', 'aze')]),\n",
       " OrderedDict([('name', 'Lesotho'), ('cc', 'ls'), ('cc3', 'lso')]),\n",
       " OrderedDict([('name', 'Kenya'), ('cc', 'ke'), ('cc3', 'ken')]),\n",
       " OrderedDict([('name', 'Bangladesh'), ('cc', 'bd'), ('cc3', 'bgd')]),\n",
       " OrderedDict([('name', 'Mauritania'), ('cc', 'mr'), ('cc3', 'mrt')]),\n",
       " OrderedDict([('name', 'Mongolia'), ('cc', 'mn'), ('cc3', 'mng')]),\n",
       " OrderedDict([('name', 'Rwanda'), ('cc', 'rw'), ('cc3', 'rwa')]),\n",
       " OrderedDict([('name', 'Somalia'), ('cc', 'so'), ('cc3', 'som')]),\n",
       " OrderedDict([('name', 'Virgin_Islands'), ('cc', 'vi'), ('cc3', 'vir')]),\n",
       " OrderedDict([('name', 'Laos'), ('cc', 'la'), ('cc3', 'lao')]),\n",
       " OrderedDict([('name', 'Benin'), ('cc', 'bj'), ('cc3', 'ben')]),\n",
       " OrderedDict([('name', 'Solomon_Islands'), ('cc', 'sb'), ('cc3', 'slb')]),\n",
       " OrderedDict([('name', 'Togo'), ('cc', 'tg'), ('cc3', 'tgo')]),\n",
       " OrderedDict([('name', 'China'), ('cc', 'cn'), ('cc3', 'chn')]),\n",
       " OrderedDict([('name', 'Armenia'), ('cc', 'am'), ('cc3', 'arm')]),\n",
       " OrderedDict([('name', 'Ukraine'), ('cc', 'ua'), ('cc3', 'ukr')]),\n",
       " OrderedDict([('name', 'Tonga'), ('cc', 'to'), ('cc3', 'ton')]),\n",
       " OrderedDict([('name', 'Indonesia'), ('cc', 'id'), ('cc3', 'idn')]),\n",
       " OrderedDict([('name', 'Mauritius'), ('cc', 'mu'), ('cc3', 'mus')]),\n",
       " OrderedDict([('name', 'Sweden'), ('cc', 'se'), ('cc3', 'swe')]),\n",
       " OrderedDict([('name', 'Vietnam'), ('cc', 'vn'), ('cc3', 'vnm')]),\n",
       " OrderedDict([('name', 'Equatorial_Guinea'), ('cc', 'gq'), ('cc3', 'gnq')]),\n",
       " OrderedDict([('name', 'Mali'), ('cc', 'ml'), ('cc3', 'mli')]),\n",
       " OrderedDict([('name', 'Russia'), ('cc', 'ru'), ('cc3', 'rus')]),\n",
       " OrderedDict([('name', 'Bulgaria'), ('cc', 'bg'), ('cc3', 'bgr')]),\n",
       " OrderedDict([('name', 'Romania'), ('cc', 'ro'), ('cc3', 'rou')]),\n",
       " OrderedDict([('name', 'Angola'), ('cc', 'ao'), ('cc3', 'ago')]),\n",
       " OrderedDict([('name', 'Chad'), ('cc', 'td'), ('cc3', 'tcd')]),\n",
       " OrderedDict([('name', 'Puerto_Rico'), ('cc', 'pr'), ('cc3', 'pri')]),\n",
       " OrderedDict([('name', 'Senegal'), ('cc', 'sn'), ('cc3', 'sen')]),\n",
       " OrderedDict([('name', 'Mozambique'), ('cc', 'mz'), ('cc3', 'moz')]),\n",
       " OrderedDict([('name', 'Uganda'), ('cc', 'ug'), ('cc3', 'uga')]),\n",
       " OrderedDict([('name', 'Hungary'), ('cc', 'hu'), ('cc3', 'hun')]),\n",
       " OrderedDict([('name', 'Niger'), ('cc', 'ne'), ('cc3', 'ner')]),\n",
       " OrderedDict([('name', 'Brazil'), ('cc', 'br'), ('cc3', 'bra')]),\n",
       " OrderedDict([('name', 'Brunei'), ('cc', 'bn'), ('cc3', 'brn')]),\n",
       " OrderedDict([('name', 'Belarus'), ('cc', 'by'), ('cc3', 'blr')]),\n",
       " OrderedDict([('name', 'Iran'), ('cc', 'ir'), ('cc3', 'irn')]),\n",
       " OrderedDict([('name', 'Algeria'), ('cc', 'dz'), ('cc3', 'dza')]),\n",
       " OrderedDict([('name', 'Chile'), ('cc', 'cl'), ('cc3', 'chl')]),\n",
       " OrderedDict([('name', 'Belgium'), ('cc', 'be'), ('cc3', 'bel')]),\n",
       " OrderedDict([('name', 'Haiti'), ('cc', 'ht'), ('cc3', 'hti')]),\n",
       " OrderedDict([('name', 'Iraq'), ('cc', 'iq'), ('cc3', 'irq')]),\n",
       " OrderedDict([('name', 'Gambia'), ('cc', 'gm'), ('cc3', 'gmb')]),\n",
       " OrderedDict([('name', 'Croatia'), ('cc', 'hr'), ('cc3', 'hrv')]),\n",
       " OrderedDict([('name', 'Switzerland'), ('cc', 'ch'), ('cc3', 'che')]),\n",
       " OrderedDict([('name', 'Uruguay'), ('cc', 'uy'), ('cc3', 'ury')]),\n",
       " OrderedDict([('name', 'Western_Sahara'), ('cc', 'eh'), ('cc3', 'esh')]),\n",
       " OrderedDict([('name', 'Djibouti'), ('cc', 'dj'), ('cc3', 'dji')]),\n",
       " OrderedDict([('name', 'Bermuda'), ('cc', 'bm'), ('cc3', 'bmu')]),\n",
       " OrderedDict([('name', 'Saudi_Arabia'), ('cc', 'sa'), ('cc3', 'sau')]),\n",
       " OrderedDict([('name', 'Burundi'), ('cc', 'bi'), ('cc3', 'bdi')]),\n",
       " OrderedDict([('name', 'Sri_Lanka'), ('cc', 'lk'), ('cc3', 'lka')]),\n",
       " OrderedDict([('name', 'Nicaragua'), ('cc', 'ni'), ('cc3', 'nic')]),\n",
       " OrderedDict([('name', 'Peru'), ('cc', 'pe'), ('cc3', 'per')]),\n",
       " OrderedDict([('name', 'Bhutan'), ('cc', 'bt'), ('cc3', 'btn')]),\n",
       " OrderedDict([('name', 'New_Zealand'), ('cc', 'nz'), ('cc3', 'nzl')]),\n",
       " OrderedDict([('name', 'Singapore'), ('cc', 'sg'), ('cc3', 'sgp')]),\n",
       " OrderedDict([('name', 'Malta'), ('cc', 'mt'), ('cc3', 'mlt')]),\n",
       " OrderedDict([('name', 'Venezuela'), ('cc', 've'), ('cc3', 'ven')]),\n",
       " OrderedDict([('name', 'South_Korea'), ('cc', 'kr'), ('cc3', 'kor')]),\n",
       " OrderedDict([('name', 'Iceland'), ('cc', 'is'), ('cc3', 'isl')]),\n",
       " OrderedDict([('name', 'Zambia'), ('cc', 'zm'), ('cc3', 'zmb')]),\n",
       " OrderedDict([('name', 'Germany'), ('cc', 'de'), ('cc3', 'deu')]),\n",
       " OrderedDict([('name', 'Kazakhstan'), ('cc', 'kz'), ('cc3', 'kaz')]),\n",
       " OrderedDict([('name', 'Poland'), ('cc', 'pl'), ('cc3', 'pol')]),\n",
       " OrderedDict([('name', 'Kyrgyzstan'), ('cc', 'kg'), ('cc3', 'kgz')]),\n",
       " OrderedDict([('name', 'Macedonia'), ('cc', 'mk'), ('cc3', 'mkd')]),\n",
       " OrderedDict([('name', 'Egypt'), ('cc', 'eg'), ('cc3', 'egy')]),\n",
       " OrderedDict([('name', 'Guyana'), ('cc', 'gy'), ('cc3', 'guy')]),\n",
       " OrderedDict([('name', 'Gaza_Strip'), ('cc', 'ps'), ('cc3', 'pse')]),\n",
       " OrderedDict([('name', 'Honduras'), ('cc', 'hn'), ('cc3', 'hnd')]),\n",
       " OrderedDict([('name', 'Myanmar'), ('cc', 'mm'), ('cc3', 'mmr')]),\n",
       " OrderedDict([('name', 'Tunisia'), ('cc', 'tn'), ('cc3', 'tun')]),\n",
       " OrderedDict([('name', 'Cuba'), ('cc', 'cu'), ('cc3', 'cub')]),\n",
       " OrderedDict([('name', 'Namibia'), ('cc', 'na'), ('cc3', 'nam')]),\n",
       " OrderedDict([('name', 'Costa_Rica'), ('cc', 'cr'), ('cc3', 'cri')]),\n",
       " OrderedDict([('name', 'Comoros'), ('cc', 'km'), ('cc3', 'com')])]"
      ]
     },
     "execution_count": 22,
     "metadata": {},
     "output_type": "execute_result"
    }
   ],
   "source": [
    "countries"
   ]
  },
  {
   "cell_type": "code",
   "execution_count": 5,
   "metadata": {
    "scrolled": false
   },
   "outputs": [
    {
     "data": {
      "text/plain": [
       "[OrderedDict([('name', 'Canada'), ('cc', 'ca'), ('cc3', 'can')]),\n",
       " OrderedDict([('name', 'Turkmenistan'), ('cc', 'tm'), ('cc3', 'tkm')]),\n",
       " OrderedDict([('name', 'Ethiopia'), ('cc', 'et'), ('cc3', 'eth')]),\n",
       " OrderedDict([('name', 'Swaziland'), ('cc', 'sz'), ('cc3', 'swz')]),\n",
       " OrderedDict([('name', 'Czech_Republic'), ('cc', 'cz'), ('cc3', 'cze')]),\n",
       " OrderedDict([('name', 'Cameroon'), ('cc', 'cm'), ('cc3', 'cmr')]),\n",
       " OrderedDict([('name', 'UAE'), ('cc', 'ae'), ('cc3', 'are')]),\n",
       " OrderedDict([('name', 'Liberia'), ('cc', 'lr'), ('cc3', 'lbr')]),\n",
       " OrderedDict([('name', 'Netherlands'), ('cc', 'nl'), ('cc3', 'nld')]),\n",
       " OrderedDict([('name', 'East_Timor'), ('cc', 'tl'), ('cc3', 'tls')])]"
      ]
     },
     "execution_count": 5,
     "metadata": {},
     "output_type": "execute_result"
    }
   ],
   "source": [
    "countries = list(csv.DictReader(open('data/countries.csv')))\n",
    "countries[:10]"
   ]
  },
  {
   "cell_type": "code",
   "execution_count": 6,
   "metadata": {},
   "outputs": [
    {
     "data": {
      "text/plain": [
       "['Tajikistan',\n",
       " 'England',\n",
       " 'Luxembourg',\n",
       " 'Ukraine',\n",
       " 'Oman',\n",
       " 'Romania',\n",
       " 'Western_Sahara',\n",
       " 'Afghanistan',\n",
       " 'Uzbekistan',\n",
       " 'Bhutan',\n",
       " 'Argentina',\n",
       " 'Mauritius',\n",
       " 'Austria',\n",
       " 'Niger',\n",
       " 'Mongolia',\n",
       " 'Kyrgyzstan',\n",
       " 'France',\n",
       " 'Denmark',\n",
       " 'North_Korea',\n",
       " 'Russia',\n",
       " 'Taiwan',\n",
       " 'Norway',\n",
       " 'Gabon',\n",
       " 'Eritrea',\n",
       " 'Thailand',\n",
       " 'Brazil',\n",
       " 'El_Salvador',\n",
       " 'Togo',\n",
       " 'Solomon_Islands',\n",
       " 'Philippines',\n",
       " 'Zambia',\n",
       " 'Chile',\n",
       " 'Slovenia',\n",
       " 'Lesotho',\n",
       " 'Colombia',\n",
       " 'Macedonia',\n",
       " 'Senegal',\n",
       " 'Burundi',\n",
       " 'Bahamas',\n",
       " 'Congo']"
      ]
     },
     "execution_count": 6,
     "metadata": {},
     "output_type": "execute_result"
    }
   ],
   "source": [
    "positive = [x['name'] for x in random.sample(countries, 40)]\n",
    "positive"
   ]
  },
  {
   "cell_type": "code",
   "execution_count": 7,
   "metadata": {},
   "outputs": [
    {
     "data": {
      "text/plain": [
       "['Taking_suo_motu_cognizance',\n",
       " 'Aryaloka_Buddhist_Center',\n",
       " 'RUSSELL_CONTRERAS',\n",
       " 'Cinnamon_Sticks']"
      ]
     },
     "execution_count": 7,
     "metadata": {},
     "output_type": "execute_result"
    }
   ],
   "source": [
    "negative = random.sample(model.vocab.keys(), 5000)\n",
    "negative[:4]"
   ]
  },
  {
   "cell_type": "code",
   "execution_count": 8,
   "metadata": {},
   "outputs": [
    {
     "data": {
      "text/plain": [
       "((5040, 300), (5040,))"
      ]
     },
     "execution_count": 8,
     "metadata": {},
     "output_type": "execute_result"
    }
   ],
   "source": [
    "labelled = [(p, 1) for p in positive] + [(n, 0) for n in negative]\n",
    "random.shuffle(labelled)\n",
    "x = np.asarray([model[w] for w, l in labelled])\n",
    "y = np.asarray([l for w, l in labelled])\n",
    "x.shape, y.shape"
   ]
  },
  {
   "cell_type": "code",
   "execution_count": 9,
   "metadata": {},
   "outputs": [
    {
     "data": {
      "text/plain": [
       "SVC(C=1.0, cache_size=200, class_weight=None, coef0=0.0,\n",
       "  decision_function_shape='ovr', degree=3, gamma='auto_deprecated',\n",
       "  kernel='linear', max_iter=-1, probability=False, random_state=None,\n",
       "  shrinking=True, tol=0.001, verbose=False)"
      ]
     },
     "execution_count": 9,
     "metadata": {},
     "output_type": "execute_result"
    }
   ],
   "source": [
    "TRAINING_FRACTION = 0.7\n",
    "cut_off = int(TRAINING_FRACTION * len(labelled))\n",
    "clf = svm.SVC(kernel='linear')\n",
    "clf.fit(x[:cut_off], y[:cut_off]) "
   ]
  },
  {
   "cell_type": "markdown",
   "metadata": {},
   "source": [
    "We did alright, 99.9% accuracy:"
   ]
  },
  {
   "cell_type": "code",
   "execution_count": 10,
   "metadata": {},
   "outputs": [
    {
     "data": {
      "text/plain": [
       "(99.86772486772487, [('Western_Sahara', 1), ('Afghanistan', 1)])"
      ]
     },
     "execution_count": 10,
     "metadata": {},
     "output_type": "execute_result"
    }
   ],
   "source": [
    "res = clf.predict(x[cut_off:])\n",
    "\n",
    "missed = [country for (pred, truth, country) in \n",
    " zip(res, y[cut_off:], labelled[cut_off:]) if pred != truth]\n",
    "\n",
    "100 - 100 * float(len(missed)) / len(res), missed"
   ]
  },
  {
   "cell_type": "code",
   "execution_count": 11,
   "metadata": {},
   "outputs": [
    {
     "name": "stderr",
     "output_type": "stream",
     "text": [
      "/home/mitsuhisa.ohta/.pyenv/versions/3.6.7/envs/deep_learning_cookbook/lib/python3.6/site-packages/ipykernel_launcher.py:1: DeprecationWarning: Call to deprecated `syn0` (Attribute will be removed in 4.0.0, use self.wv.vectors instead).\n",
      "  \"\"\"Entry point for launching an IPython kernel.\n"
     ]
    }
   ],
   "source": [
    "all_predictions = clf.predict(model.syn0)"
   ]
  },
  {
   "cell_type": "code",
   "execution_count": 28,
   "metadata": {
    "scrolled": true
   },
   "outputs": [
    {
     "data": {
      "text/plain": [
       "['Cambodia',\n",
       " 'Turkmenistan',\n",
       " 'St._Kitts_Nevis',\n",
       " 'Singapore',\n",
       " 'Grenadines',\n",
       " 'Tokelau',\n",
       " 'Uruguayans',\n",
       " 'ex_Soviet',\n",
       " 'Unites_States',\n",
       " 'Azores']"
      ]
     },
     "execution_count": 28,
     "metadata": {},
     "output_type": "execute_result"
    }
   ],
   "source": [
    "res = []\n",
    "for word, pred in zip(model.index2word, all_predictions):\n",
    "    if pred:\n",
    "        res.append(word)\n",
    "random.sample(res, 10)"
   ]
  },
  {
   "cell_type": "code",
   "execution_count": 34,
   "metadata": {
    "scrolled": true
   },
   "outputs": [
    {
     "name": "stderr",
     "output_type": "stream",
     "text": [
      "/home/mitsuhisa.ohta/.pyenv/versions/3.6.7/envs/deep_learning_cookbook/lib/python3.6/site-packages/gensim/matutils.py:737: FutureWarning: Conversion of the second argument of issubdtype from `int` to `np.signedinteger` is deprecated. In future, it will be treated as `np.int64 == np.dtype(int).type`.\n",
      "  if np.issubdtype(vec.dtype, np.int):\n"
     ]
    },
    {
     "name": "stdout",
     "output_type": "stream",
     "text": [
      "Austria [1]\n",
      "German [0]\n",
      "Germans [0]\n",
      "Switzerland [1]\n",
      "Hungary [1]\n",
      "Germnay [0]\n",
      "Netherlands [1]\n",
      "Cologne [0]\n",
      "symbol_RSTI [0]\n",
      "Annita_Kirsten [0]\n"
     ]
    }
   ],
   "source": [
    "# そもそもの目的だった、 Germany と近い「国」だけを抽出できるかを確認するために追加\n",
    "# German や Germnay（Typo）、Cologne（ケルン、都市名）symbol_RSTI などを排除できている\n",
    "for candidate, similarity in model.most_similar(positive=['Germany']):\n",
    "    print(candidate, clf.predict([model[candidate]]))"
   ]
  },
  {
   "cell_type": "code",
   "execution_count": 13,
   "metadata": {},
   "outputs": [
    {
     "data": {
      "text/plain": [
       "(184, 300)"
      ]
     },
     "execution_count": 13,
     "metadata": {},
     "output_type": "execute_result"
    }
   ],
   "source": [
    "country_to_idx = {country['name']: idx for idx, country in enumerate(countries)}\n",
    "country_vecs = np.asarray([model[c['name']] for c in countries])\n",
    "country_vecs.shape"
   ]
  },
  {
   "cell_type": "markdown",
   "metadata": {},
   "source": [
    "Quick sanity check to see what is similar to Canada:"
   ]
  },
  {
   "cell_type": "code",
   "execution_count": 14,
   "metadata": {
    "scrolled": false
   },
   "outputs": [
    {
     "name": "stdout",
     "output_type": "stream",
     "text": [
      "Canada 7.5440235\n",
      "New_Zealand 3.9619699\n",
      "Finland 3.9392405\n",
      "Puerto_Rico 3.8381448\n",
      "Jamaica 3.8102937\n",
      "Sweden 3.8042784\n",
      "Slovakia 3.7038736\n",
      "Australia 3.6711009\n",
      "Bahamas 3.624042\n",
      "United_States 3.5374334\n"
     ]
    }
   ],
   "source": [
    "dists = np.dot(country_vecs, country_vecs[country_to_idx['Canada']])\n",
    "for idx in reversed(np.argsort(dists)[-10:]):\n",
    "    print(countries[idx]['name'], dists[idx])"
   ]
  },
  {
   "cell_type": "code",
   "execution_count": 39,
   "metadata": {},
   "outputs": [],
   "source": [
    "country_names = [c['name'] for c in countries]"
   ]
  },
  {
   "cell_type": "code",
   "execution_count": 36,
   "metadata": {},
   "outputs": [
    {
     "name": "stderr",
     "output_type": "stream",
     "text": [
      "/home/mitsuhisa.ohta/.pyenv/versions/3.6.7/envs/deep_learning_cookbook/lib/python3.6/site-packages/gensim/matutils.py:737: FutureWarning: Conversion of the second argument of issubdtype from `int` to `np.signedinteger` is deprecated. In future, it will be treated as `np.int64 == np.dtype(int).type`.\n",
      "  if np.issubdtype(vec.dtype, np.int):\n"
     ]
    },
    {
     "data": {
      "text/plain": [
       "0.947881106287241"
      ]
     },
     "execution_count": 36,
     "metadata": {},
     "output_type": "execute_result"
    }
   ],
   "source": [
    "def rank_countries(term, topn=10, field='name'):\n",
    "    if not term in model:\n",
    "        return []\n",
    "    dists = model.distances()\n",
    "    dists = np.dot(country_vecs, vec)\n",
    "    return [(countries[idx][field], float(dists[idx])) \n",
    "            for idx in reversed(np.argsort(dists)[-topn:])]"
   ]
  },
  {
   "cell_type": "code",
   "execution_count": 44,
   "metadata": {},
   "outputs": [
    {
     "data": {
      "text/plain": [
       "[(0.51869583, 'Sri_Lanka'),\n",
       " (0.56798124, 'Bangladesh'),\n",
       " (0.5698657, 'Pakistan'),\n",
       " (0.5983279, 'Zimbabwe'),\n",
       " (0.61838317, 'India'),\n",
       " (0.6440878, 'South_Africa'),\n",
       " (0.65266395, 'England'),\n",
       " (0.6678935, 'New_Zealand'),\n",
       " (0.6698092, 'Guyana'),\n",
       " (0.6729771, 'Barbados'),\n",
       " (0.6830441, 'Australia'),\n",
       " (0.73723435, 'Fiji'),\n",
       " (0.7526635, 'Jamaica'),\n",
       " (0.75346446, 'Nepal'),\n",
       " (0.7737006, 'Kenya'),\n",
       " (0.77988577, 'Bhutan'),\n",
       " (0.78259397, 'Bermuda'),\n",
       " (0.7887111, 'Maldives'),\n",
       " (0.794703, 'Solomon_Islands'),\n",
       " (0.7971963, 'Mauritius'),\n",
       " (0.80042017, 'Malawi'),\n",
       " (0.8027637, 'Zambia'),\n",
       " (0.807386, 'Namibia'),\n",
       " (0.8078234, 'Uganda'),\n",
       " (0.80827963, 'Tonga'),\n",
       " (0.80912477, 'Ireland'),\n",
       " (0.81172353, 'Lesotho'),\n",
       " (0.8138555, 'East_Timor'),\n",
       " (0.81550896, 'Samoa'),\n",
       " (0.81688166, 'Botswana'),\n",
       " (0.82261443, 'Togo'),\n",
       " (0.82720786, 'Papua'),\n",
       " (0.8273457, 'UAE'),\n",
       " (0.8297128, 'Malaysia'),\n",
       " (0.83715844, 'Oman'),\n",
       " (0.8411744, 'Afghanistan'),\n",
       " (0.84248984, 'Swaziland'),\n",
       " (0.84317446, 'Bahrain'),\n",
       " (0.8458435, 'Nigeria'),\n",
       " (0.84609187, 'Sierra_Leone'),\n",
       " (0.8509372, 'Tanzania'),\n",
       " (0.85723436, 'Brunei'),\n",
       " (0.8584206, 'Paraguay'),\n",
       " (0.8606329, 'Myanmar'),\n",
       " (0.8616092, 'Gambia'),\n",
       " (0.86965764, 'Sudan'),\n",
       " (0.8698175, 'Kyrgyzstan'),\n",
       " (0.87305766, 'Liberia'),\n",
       " (0.87328863, 'Ghana'),\n",
       " (0.8734684, 'Burundi'),\n",
       " (0.87566745, 'North_Korea'),\n",
       " (0.87636846, 'Ivory_Coast'),\n",
       " (0.8780184, 'Uruguay'),\n",
       " (0.87852323, 'Portugal'),\n",
       " (0.8815135, 'Guinea'),\n",
       " (0.8816451, 'Mali'),\n",
       " (0.8825432, 'Thailand'),\n",
       " (0.8869984, 'Cayman_Islands'),\n",
       " (0.88703674, 'Mozambique'),\n",
       " (0.8874083, 'Belize'),\n",
       " (0.889388, 'Indonesia'),\n",
       " (0.8907139, 'Suriname'),\n",
       " (0.89108706, 'Algeria'),\n",
       " (0.8919494, 'Comoros'),\n",
       " (0.89453495, 'Turkmenistan'),\n",
       " (0.8950033, 'Tunisia'),\n",
       " (0.89526254, 'Qatar'),\n",
       " (0.8987263, 'French_Guiana'),\n",
       " (0.89879185, 'Cambodia'),\n",
       " (0.9001336, 'Argentina'),\n",
       " (0.9004598, 'Somalia'),\n",
       " (0.9023169, 'Eritrea'),\n",
       " (0.9031722, 'Singapore'),\n",
       " (0.904176, 'Bolivia'),\n",
       " (0.9048302, 'Iran'),\n",
       " (0.9056534, 'Gaza_Strip'),\n",
       " (0.9059605, 'Angola'),\n",
       " (0.9065913, 'Gabon'),\n",
       " (0.91045177, 'Mauritania'),\n",
       " (0.9114911, 'Equatorial_Guinea'),\n",
       " (0.9116174, 'Saudi_Arabia'),\n",
       " (0.91166055, 'Egypt'),\n",
       " (0.9128848, 'Lebanon'),\n",
       " (0.91324675, 'Virgin_Islands'),\n",
       " (0.9149585, 'Vatican'),\n",
       " (0.9151828, 'Greece'),\n",
       " (0.9152421, 'Libya'),\n",
       " (0.916016, 'Bahamas'),\n",
       " (0.91735137, 'China'),\n",
       " (0.91754186, 'Taiwan'),\n",
       " (0.91874003, 'Mongolia'),\n",
       " (0.91896486, 'Yemen'),\n",
       " (0.9191977, 'Rwanda'),\n",
       " (0.91956323, 'Uzbekistan'),\n",
       " (0.9214823, 'Spain'),\n",
       " (0.92299604, 'Madagascar'),\n",
       " (0.92355466, 'Tajikistan'),\n",
       " (0.9245566, 'Cameroon'),\n",
       " (0.92669386, 'Croatia'),\n",
       " (0.9282706, 'Azerbaijan'),\n",
       " (0.9294628, 'Cyprus'),\n",
       " (0.9297293, 'Honduras'),\n",
       " (0.93241775, 'Cuba'),\n",
       " (0.9325129, 'Haiti'),\n",
       " (0.93367857, 'Djibouti'),\n",
       " (0.93374306, 'Netherlands'),\n",
       " (0.9340844, 'Syria'),\n",
       " (0.9347861, 'Brazil'),\n",
       " (0.9347977, 'Malta'),\n",
       " (0.9350205, 'Iceland'),\n",
       " (0.93503344, 'Israel'),\n",
       " (0.93608236, 'Kazakhstan'),\n",
       " (0.9386206, 'Burkina_Faso'),\n",
       " (0.9430439, 'Chile'),\n",
       " (0.943445, 'Iraq'),\n",
       " (0.9436095, 'Benin'),\n",
       " (0.94435924, 'Armenia'),\n",
       " (0.9467, 'Ethiopia'),\n",
       " (0.9478811, 'Canada'),\n",
       " (0.9489907, 'Laos'),\n",
       " (0.94948834, 'Dominican_Republic'),\n",
       " (0.9566705, 'Serbia'),\n",
       " (0.95815945, 'Switzerland'),\n",
       " (0.95904344, 'Philippines'),\n",
       " (0.9592259, 'Guam'),\n",
       " (0.95934844, 'Russia'),\n",
       " (0.9605135, 'Belgium'),\n",
       " (0.9608222, 'Aruba'),\n",
       " (0.9608464, 'Moldova'),\n",
       " (0.9616645, 'Venezuela'),\n",
       " (0.96200085, 'Greenland'),\n",
       " (0.96213496, 'Ecuador'),\n",
       " (0.96326524, 'Slovenia'),\n",
       " (0.96399796, 'Senegal'),\n",
       " (0.9658731, 'France'),\n",
       " (0.9661622, 'Slovakia'),\n",
       " (0.9681972, 'El_Salvador'),\n",
       " (0.969794, 'Italy'),\n",
       " (0.9699447, 'Japan'),\n",
       " (0.97058254, 'Western_Sahara'),\n",
       " (0.9718078, 'Kuwait'),\n",
       " (0.97379833, 'Denmark'),\n",
       " (0.97462535, 'Ukraine'),\n",
       " (0.97647005, 'Belarus'),\n",
       " (0.9765057, 'United_States'),\n",
       " (0.9765335, 'Kosovo'),\n",
       " (0.97743237, 'South_Korea'),\n",
       " (0.97889423, 'Mexico'),\n",
       " (0.97952384, 'Morocco'),\n",
       " (0.9829345, 'Turkey'),\n",
       " (0.9831396, 'Germany'),\n",
       " (0.98393434, 'Hungary'),\n",
       " (0.9843145, 'Guatemala'),\n",
       " (0.98447204, 'Colombia'),\n",
       " (0.9845654, 'Niger'),\n",
       " (0.98495483, 'Albania'),\n",
       " (0.986197, 'Congo'),\n",
       " (0.98744965, 'Peru'),\n",
       " (0.98748, 'Sweden'),\n",
       " (0.98788345, 'Montenegro'),\n",
       " (0.9898857, 'Costa_Rica'),\n",
       " (0.99196327, 'Svalbard'),\n",
       " (0.9920751, 'Vietnam'),\n",
       " (0.9944129, 'Austria'),\n",
       " (0.9946957, 'Estonia'),\n",
       " (0.9961906, 'Nicaragua'),\n",
       " (0.99663883, 'Romania'),\n",
       " (0.9967626, 'Latvia'),\n",
       " (0.9984101, 'Norway'),\n",
       " (1.0002338, 'Monaco'),\n",
       " (1.0009673, 'Macedonia'),\n",
       " (1.0016857, 'Puerto_Rico'),\n",
       " (1.0022167, 'Jordan'),\n",
       " (1.00373, 'Bosnia'),\n",
       " (1.0070299, 'Reunion'),\n",
       " (1.007855, 'Poland'),\n",
       " (1.010746, 'Luxembourg'),\n",
       " (1.0117459, 'Lithuania'),\n",
       " (1.0196834, 'Finland'),\n",
       " (1.0201526, 'Panama'),\n",
       " (1.0324886, 'Czech_Republic'),\n",
       " (1.0340863, 'Georgia'),\n",
       " (1.0342475, 'Bulgaria'),\n",
       " (1.0458918, 'Chad')]"
      ]
     },
     "execution_count": 44,
     "metadata": {},
     "output_type": "execute_result"
    }
   ],
   "source": [
    "sorted(zip(model.distances('cricket', country_names), country_names))"
   ]
  },
  {
   "cell_type": "markdown",
   "metadata": {},
   "source": [
    "Ranking countries for a specific term:"
   ]
  },
  {
   "cell_type": "code",
   "execution_count": 15,
   "metadata": {},
   "outputs": [],
   "source": [
    "def rank_countries(term, topn=10, field='name'):\n",
    "    if not term in model:\n",
    "        return []\n",
    "    vec = model[term]\n",
    "    dists = np.dot(country_vecs, vec)\n",
    "    return [(countries[idx][field], float(dists[idx])) \n",
    "            for idx in reversed(np.argsort(dists)[-topn:])]"
   ]
  },
  {
   "cell_type": "code",
   "execution_count": 16,
   "metadata": {},
   "outputs": [
    {
     "data": {
      "text/plain": [
       "[('Sri_Lanka', 5.92276668548584),\n",
       " ('Zimbabwe', 5.336524963378906),\n",
       " ('Bangladesh', 5.1924896240234375),\n",
       " ('Pakistan', 4.948408126831055),\n",
       " ('Guyana', 3.9162840843200684),\n",
       " ('Barbados', 3.7579941749572754),\n",
       " ('India', 3.7504396438598633),\n",
       " ('South_Africa', 3.6561503410339355),\n",
       " ('New_Zealand', 3.642028570175171),\n",
       " ('Fiji', 3.608567714691162)]"
      ]
     },
     "execution_count": 16,
     "metadata": {},
     "output_type": "execute_result"
    }
   ],
   "source": [
    "rank_countries('cricket')"
   ]
  },
  {
   "cell_type": "markdown",
   "metadata": {},
   "source": [
    "Now let's visualize this on a world map:"
   ]
  },
  {
   "cell_type": "code",
   "execution_count": 17,
   "metadata": {},
   "outputs": [
    {
     "data": {
      "text/html": [
       "<div>\n",
       "<style scoped>\n",
       "    .dataframe tbody tr th:only-of-type {\n",
       "        vertical-align: middle;\n",
       "    }\n",
       "\n",
       "    .dataframe tbody tr th {\n",
       "        vertical-align: top;\n",
       "    }\n",
       "\n",
       "    .dataframe thead th {\n",
       "        text-align: right;\n",
       "    }\n",
       "</style>\n",
       "<table border=\"1\" class=\"dataframe\">\n",
       "  <thead>\n",
       "    <tr style=\"text-align: right;\">\n",
       "      <th></th>\n",
       "      <th>pop_est</th>\n",
       "      <th>continent</th>\n",
       "      <th>name</th>\n",
       "      <th>iso_a3</th>\n",
       "      <th>gdp_md_est</th>\n",
       "      <th>geometry</th>\n",
       "    </tr>\n",
       "  </thead>\n",
       "  <tbody>\n",
       "    <tr>\n",
       "      <th>0</th>\n",
       "      <td>28400000.0</td>\n",
       "      <td>Asia</td>\n",
       "      <td>Afghanistan</td>\n",
       "      <td>AFG</td>\n",
       "      <td>22270.0</td>\n",
       "      <td>POLYGON ((61.21081709172574 35.65007233330923,...</td>\n",
       "    </tr>\n",
       "    <tr>\n",
       "      <th>1</th>\n",
       "      <td>12799293.0</td>\n",
       "      <td>Africa</td>\n",
       "      <td>Angola</td>\n",
       "      <td>AGO</td>\n",
       "      <td>110300.0</td>\n",
       "      <td>(POLYGON ((16.32652835456705 -5.87747039146621...</td>\n",
       "    </tr>\n",
       "    <tr>\n",
       "      <th>2</th>\n",
       "      <td>3639453.0</td>\n",
       "      <td>Europe</td>\n",
       "      <td>Albania</td>\n",
       "      <td>ALB</td>\n",
       "      <td>21810.0</td>\n",
       "      <td>POLYGON ((20.59024743010491 41.85540416113361,...</td>\n",
       "    </tr>\n",
       "    <tr>\n",
       "      <th>3</th>\n",
       "      <td>4798491.0</td>\n",
       "      <td>Asia</td>\n",
       "      <td>United Arab Emirates</td>\n",
       "      <td>ARE</td>\n",
       "      <td>184300.0</td>\n",
       "      <td>POLYGON ((51.57951867046327 24.24549713795111,...</td>\n",
       "    </tr>\n",
       "    <tr>\n",
       "      <th>4</th>\n",
       "      <td>40913584.0</td>\n",
       "      <td>South America</td>\n",
       "      <td>Argentina</td>\n",
       "      <td>ARG</td>\n",
       "      <td>573900.0</td>\n",
       "      <td>(POLYGON ((-65.50000000000003 -55.199999999999...</td>\n",
       "    </tr>\n",
       "  </tbody>\n",
       "</table>\n",
       "</div>"
      ],
      "text/plain": [
       "      pop_est      continent                  name iso_a3  gdp_md_est  \\\n",
       "0  28400000.0           Asia           Afghanistan    AFG     22270.0   \n",
       "1  12799293.0         Africa                Angola    AGO    110300.0   \n",
       "2   3639453.0         Europe               Albania    ALB     21810.0   \n",
       "3   4798491.0           Asia  United Arab Emirates    ARE    184300.0   \n",
       "4  40913584.0  South America             Argentina    ARG    573900.0   \n",
       "\n",
       "                                            geometry  \n",
       "0  POLYGON ((61.21081709172574 35.65007233330923,...  \n",
       "1  (POLYGON ((16.32652835456705 -5.87747039146621...  \n",
       "2  POLYGON ((20.59024743010491 41.85540416113361,...  \n",
       "3  POLYGON ((51.57951867046327 24.24549713795111,...  \n",
       "4  (POLYGON ((-65.50000000000003 -55.199999999999...  "
      ]
     },
     "execution_count": 17,
     "metadata": {},
     "output_type": "execute_result"
    }
   ],
   "source": [
    "world = gpd.read_file(gpd.datasets.get_path('naturalearth_lowres'))\n",
    "world.head()"
   ]
  },
  {
   "cell_type": "markdown",
   "metadata": {},
   "source": [
    "We can now plot some maps!"
   ]
  },
  {
   "cell_type": "code",
   "execution_count": 18,
   "metadata": {
    "scrolled": true
   },
   "outputs": [
    {
     "data": {
      "image/png": "[encoded data removed]",
      "text/plain": [
       "<Figure size 432x288 with 1 Axes>"
      ]
     },
     "metadata": {
      "needs_background": "light"
     },
     "output_type": "display_data"
    }
   ],
   "source": [
    "def map_term(term):\n",
    "    d = {k.upper(): v for k, v in rank_countries(term, topn=0, field='cc3')}\n",
    "    world[term] = world['iso_a3'].map(d)\n",
    "    world[term] /= world[term].max()\n",
    "    world.dropna().plot(term, cmap='OrRd')\n",
    "\n",
    "map_term('coffee')"
   ]
  },
  {
   "cell_type": "code",
   "execution_count": null,
   "metadata": {},
   "outputs": [],
   "source": []
  }
 ],
 "metadata": {
  "kernelspec": {
   "display_name": "Python 3",
   "language": "python",
   "name": "python3"
  },
  "language_info": {
   "codemirror_mode": {
    "name": "ipython",
    "version": 3
   },
   "file_extension": ".py",
   "mimetype": "text/x-python",
   "name": "python",
   "nbconvert_exporter": "python",
   "pygments_lexer": "ipython3",
   "version": "3.6.7"
  }
 },
 "nbformat": 4,
 "nbformat_minor": 1
}
