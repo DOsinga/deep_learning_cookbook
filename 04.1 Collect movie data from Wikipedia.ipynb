{
 "cells": [
  {
   "cell_type": "code",
   "execution_count": 1,
   "metadata": {},
   "outputs": [
    {
     "name": "stderr",
     "output_type": "stream",
     "text": [
      "Using TensorFlow backend.\n"
     ]
    }
   ],
   "source": [
    "import os\n",
    "import re\n",
    "import requests\n",
    "from bs4 import BeautifulSoup\n",
    "import os\n",
    "import time\n",
    "from keras.utils import get_file\n",
    "try:\n",
    "    from urllib.request import urlretrieve\n",
    "except ImportError:\n",
    "    from urllib import urlretrieve\n",
    "import xml.sax\n",
    "\n",
    "import subprocess\n",
    "import mwparserfromhell\n",
    "import json"
   ]
  },
  {
   "cell_type": "code",
   "execution_count": 2,
   "metadata": {},
   "outputs": [],
   "source": [
    "index = requests.get('https://dumps.wikimedia.org/enwiki/').text"
   ]
  },
  {
   "cell_type": "code",
   "execution_count": 3,
   "metadata": {},
   "outputs": [],
   "source": [
    "soup_index = BeautifulSoup(index, 'html.parser')"
   ]
  },
  {
   "cell_type": "code",
   "execution_count": 4,
   "metadata": {},
   "outputs": [
    {
     "data": {
      "text/plain": [
       "['20181101/',\n",
       " '20181120/',\n",
       " '20181201/',\n",
       " '20181220/',\n",
       " '20190101/',\n",
       " '20190120/',\n",
       " '20190201/']"
      ]
     },
     "execution_count": 4,
     "metadata": {},
     "output_type": "execute_result"
    }
   ],
   "source": [
    "dumps = [a['href'] for a in soup_index.find_all('a') \n",
    "             if a.has_attr('href') and a.text[:-1].isdigit()]\n",
    "dumps"
   ]
  },
  {
   "cell_type": "code",
   "execution_count": 5,
   "metadata": {},
   "outputs": [
    {
     "name": "stdout",
     "output_type": "stream",
     "text": [
      "20190201/\n"
     ]
    }
   ],
   "source": [
    "for dump_url in sorted(dumps, reverse=True):\n",
    "    print(dump_url)\n",
    "    dump_html = index = requests.get('https://dumps.wikimedia.org/enwiki/' + dump_url).text\n",
    "    soup_dump = BeautifulSoup(dump_html, 'html.parser')\n",
    "    pages_xml = [a['href'] for a in soup_dump.find_all('a') \n",
    "                 if a.has_attr('href') and a['href'].endswith('-pages-articles.xml.bz2')]\n",
    "    if pages_xml:\n",
    "        break\n",
    "    time.sleep(0.8)"
   ]
  },
  {
   "cell_type": "code",
   "execution_count": 6,
   "metadata": {},
   "outputs": [
    {
     "data": {
      "text/plain": [
       "'/home/mitsuhisa.ohta/.keras/datasets/enwiki-20190201-pages-articles.xml.bz2'"
      ]
     },
     "execution_count": 6,
     "metadata": {},
     "output_type": "execute_result"
    }
   ],
   "source": [
    "wikipedia_dump = pages_xml[0].rsplit('/')[-1]\n",
    "url = url = 'https://dumps.wikimedia.org/' + pages_xml[0] \n",
    "path = get_file(wikipedia_dump, url)\n",
    "path"
   ]
  },
  {
   "cell_type": "code",
   "execution_count": 7,
   "metadata": {},
   "outputs": [],
   "source": [
    "def process_article(title, text):\n",
    "    rotten = [(re.findall('\\d\\d?\\d?%', p), re.findall('\\d\\.\\d\\/\\d+|$', p), p.lower().find('rotten tomatoes')) for p in text.split('\\n\\n')]\n",
    "    rating = next(((perc[0], rating[0]) for perc, rating, idx in rotten if len(perc) == 1 and idx > -1), (None, None))\n",
    "    wikicode = mwparserfromhell.parse(text)\n",
    "    film = next((template for template in wikicode.filter_templates() \n",
    "                 if template.name.strip().lower() == 'infobox film'), None)\n",
    "    if film:\n",
    "        properties = {param.name.strip_code().strip(): param.value.strip_code().strip() \n",
    "                      for param in film.params\n",
    "                      if param.value.strip_code().strip()\n",
    "                     }\n",
    "        links = [x.title.strip_code().strip() for x in wikicode.filter_wikilinks()]\n",
    "        return (title, properties, links) + rating"
   ]
  },
  {
   "cell_type": "code",
   "execution_count": null,
   "metadata": {},
   "outputs": [],
   "source": [
    "import bz2\n",
    "\n",
    "class WikiXmlHandler(xml.sax.handler.ContentHandler):\n",
    "    def __init__(self, fout):\n",
    "        xml.sax.handler.ContentHandler.__init__(self)\n",
    "        self._buffer = None\n",
    "        self._values = {}\n",
    "        self.fout = fout\n",
    "        self._curent_tag = None\n",
    "\n",
    "    def characters(self, content):\n",
    "        if self._curent_tag:\n",
    "            self._buffer.append(content)\n",
    "\n",
    "    def startElement(self, name, attrs):\n",
    "        if name in ('title', 'text'):\n",
    "            self._curent_tag = name\n",
    "            self._buffer = []\n",
    "\n",
    "    def endElement(self, name):\n",
    "        if name == self._curent_tag:\n",
    "            self._values[name] = ' '.join(self._buffer)\n",
    "\n",
    "        if name == 'page':\n",
    "            movie = process_article(**self._values)\n",
    "            if movie:\n",
    "                print(json.dumps(movie), file=self.fout)\n",
    "            self._values = {}\n",
    "\n",
    "            \n",
    "parser = xml.sax.make_parser()\n",
    "os.makedirs('generated', exist_ok=True)\n",
    "with open('generated/wp_movies.ndjson', 'wt') as fout:\n",
    "    handler = WikiXmlHandler(fout)\n",
    "    parser.setContentHandler(handler)\n",
    "    with bz2.BZ2File(path) as fin:\n",
    "        parser.parse(fin)"
   ]
  }
 ],
 "metadata": {
  "kernelspec": {
   "display_name": "Python 3",
   "language": "python",
   "name": "python3"
  },
  "language_info": {
   "codemirror_mode": {
    "name": "ipython",
    "version": 3
   },
   "file_extension": ".py",
   "mimetype": "text/x-python",
   "name": "python",
   "nbconvert_exporter": "python",
   "pygments_lexer": "ipython3",
   "version": "3.6.0"
  }
 },
 "nbformat": 4,
 "nbformat_minor": 1
}
